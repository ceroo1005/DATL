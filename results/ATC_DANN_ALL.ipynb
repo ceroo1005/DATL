{
 "cells": [
  {
   "cell_type": "code",
   "execution_count": null,
   "metadata": {
    "colab": {
     "base_uri": "https://localhost:8080/"
    },
    "id": "Z1eK0IHM6MeU",
    "outputId": "6cb3480d-2fc3-49e6-a61d-65432b506988"
   },
   "outputs": [
    {
     "name": "stdout",
     "output_type": "stream",
     "text": [
      "--2021-08-03 10:30:28--  https://github.com/syorami/DDC-transfer-learning/raw/master/data/Office31.tar\n",
      "Resolving github.com (github.com)... 52.192.72.89\n",
      "Connecting to github.com (github.com)|52.192.72.89|:443... connected.\n",
      "HTTP request sent, awaiting response... 302 Found\n",
      "Location: https://raw.githubusercontent.com/syorami/DDC-transfer-learning/master/data/Office31.tar [following]\n",
      "--2021-08-03 10:30:29--  https://raw.githubusercontent.com/syorami/DDC-transfer-learning/master/data/Office31.tar\n",
      "Resolving raw.githubusercontent.com (raw.githubusercontent.com)... 185.199.108.133, 185.199.109.133, 185.199.110.133, ...\n",
      "Connecting to raw.githubusercontent.com (raw.githubusercontent.com)|185.199.108.133|:443... connected.\n",
      "HTTP request sent, awaiting response... 200 OK\n",
      "Length: 85760000 (82M) [application/octet-stream]\n",
      "Saving to: ‘Office31.tar’\n",
      "\n",
      "Office31.tar        100%[===================>]  81.79M   103MB/s    in 0.8s    \n",
      "\n",
      "2021-08-03 10:30:34 (103 MB/s) - ‘Office31.tar’ saved [85760000/85760000]\n",
      "\n"
     ]
    }
   ],
   "source": [
    "!mkdir models\n",
    "!wget https://github.com/syorami/DDC-transfer-learning/raw/master/data/Office31.tar\n",
    "\n",
    "!mkdir Office31\n",
    "!tar xf Office31.tar -C Office31"
   ]
  },
  {
   "cell_type": "code",
   "execution_count": null,
   "metadata": {
    "id": "845vRFzjkI0S"
   },
   "outputs": [],
   "source": []
  },
  {
   "cell_type": "code",
   "execution_count": null,
   "metadata": {
    "id": "JTeolAHnkIwH"
   },
   "outputs": [],
   "source": []
  },
  {
   "cell_type": "code",
   "execution_count": null,
   "metadata": {
    "colab": {
     "base_uri": "https://localhost:8080/"
    },
    "id": "69W5NiETkHCe",
    "outputId": "681d29b8-6c68-4e2d-ec9e-2ffb39862f70"
   },
   "outputs": [
    {
     "name": "stdout",
     "output_type": "stream",
     "text": [
      "Downloading: \"https://download.pytorch.org/models/resnet50-19c8e357.pth\" to /root/.cache/torch/hub/checkpoints/resnet50-19c8e357.pth\n",
      "100% 97.8M/97.8M [00:00<00:00, 178MB/s]\n",
      "/content/utils.py:49: VisibleDeprecationWarning: Creating an ndarray from ragged nested sequences (which is a list-or-tuple of lists-or-tuples-or ndarrays with different lengths or shapes) is deprecated. If you meant to do this, you must specify 'dtype=object' when creating the ndarray\n",
      "  self.img = np.array(self.img)\n",
      "Number: 57\t Source Domain Category: {0, 1, 2}\n",
      "Number: 235\t Target Domain Category: {0, 1, 2, 3, 4, 5, 6, 7, 8, 9}\n",
      "Linear(in_features=2048, out_features=3, bias=True) \n",
      "\n",
      "\n",
      "Transfer learning train 1:   0% 0/10 [00:00<?, ?it/s]/usr/local/lib/python3.7/dist-packages/torch/nn/functional.py:718: UserWarning: Named tensors and all their associated APIs are an experimental feature and subject to change. Please do not use them for anything important until they are released as stable. (Triggered internally at  /pytorch/c10/core/TensorImpl.h:1156.)\n",
      "  return torch.max_pool2d(input, kernel_size, stride, padding, dilation, ceil_mode)\n",
      "Transfer learning train 10: 100% 10/10 [00:28<00:00,  2.82s/it, AllAccuracy=33.2, MAXSeenAccuracy=100]\n",
      "FineTrain 60: 100% 60/60 [01:36<00:00,  1.61s/it, accuracy=100, loss=0.000484, minloss=0.000738]\n",
      "DANN\tDANN\tDANN\tDANN\tDANN\tDANN\tDANN\tDANN\tDANN\tDANN\tDANN\tDANN\tDANN\tDANN\tDANN\tDANN\tDANN\tDANN\tDANN\tDANN\tDANN\tDANN\tDANN\tDANN\tDANN\tDANN\tDANN\tDANN\tDANN\tDANN\tFinished Training\n",
      "<Figure size 640x480 with 1 Axes>\n",
      " 20% 2/10 [00:00<00:01,  7.97it/s]\n",
      "There are 0 cluster class centers labeled as 3, sampled separately according to [4] and each sample with label [3, 3, 3, 3]\n",
      "There are 1 cluster class centers labeled as 4, sampled separately according to [4] and each sample with label [4, 4, 4, 4]\n",
      "There are 1 cluster class centers labeled as 5, sampled separately according to [4] and each sample with label [5, 5, 5, 5]\n",
      "There are 1 cluster class centers labeled as 6, sampled separately according to [4] and each sample with label [6, 6, 6, 6]\n",
      "There are 1 cluster class centers labeled as 9, sampled separately according to [4] and each sample with label [9, 9, 8, 8]\n",
      "_raw_DANN.py:253: VisibleDeprecationWarning: Creating an ndarray from ragged nested sequences (which is a list-or-tuple of lists-or-tuples-or ndarrays with different lengths or shapes) is deprecated. If you meant to do this, you must specify 'dtype=object' when creating the ndarray\n",
      "  np.array(list(self.Sub.keys()))[[_==x for _ in list(self.Sub.values())]]], set(self.Sub.values())))).T.tolist()\n",
      "<Figure size 1800x600 with 2 Axes>\n",
      "/content/utils.py:49: VisibleDeprecationWarning: Creating an ndarray from ragged nested sequences (which is a list-or-tuple of lists-or-tuples-or ndarrays with different lengths or shapes) is deprecated. If you meant to do this, you must specify 'dtype=object' when creating the ndarray\n",
      "  self.img = np.array(self.img)\n",
      "Number: 77\t Target Domain Category: {0, 1, 2, 3, 4, 5, 6, 9}\n",
      "Linear(in_features=2048, out_features=8, bias=True) \n",
      "\n",
      "\n",
      "Transfer learning train 50: 100% 50/50 [02:12<00:00,  2.65s/it, AllAccuracy=83, MAXSeenAccuracy=99.5]\n",
      "FineTrain 60: 100% 60/60 [01:38<00:00,  1.63s/it, accuracy=83.1, loss=0.000483, minloss=0.000389]\n",
      "DANN\tDANN\tDANN\tDANN\tDANN\tDANN\tDANN\tDANN\tDANN\tDANN\tDANN\tDANN\tDANN\tDANN\tDANN\tDANN\tDANN\tDANN\tDANN\tDANN\tDANN\tDANN\tDANN\tDANN\tDANN\tDANN\tDANN\tDANN\tDANN\tDANN\tDANN\tDANN\tDANN\tDANN\tDANN\tDANN\tDANN\tDANN\tDANN\tDANN\tDANN\tDANN\tDANN\tDANN\tDANN\tDANN\tDANN\tDANN\tDANN\tDANN\tDANN\tDANN\tDANN\tDANN\tDANN\tDANN\tDANN\tDANN\tDANN\tDANN\tDANN\tDANN\tDANN\tDANN\tDANN\tDANN\tDANN\tDANN\tDANN\tDANN\tDANN\tDANN\tDANN\tDANN\tDANN\tDANN\tDANN\tDANN\tDANN\tDANN\tDANN\tDANN\tDANN\tDANN\tDANN\tDANN\tDANN\tDANN\tDANN\tDANN\tDANN\tDANN\tDANN\tDANN\tDANN\tDANN\tDANN\tDANN\tDANN\tDANN\tDANN\tDANN\tDANN\tDANN\tDANN\tDANN\tDANN\tDANN\tDANN\tDANN\tDANN\tDANN\tDANN\tDANN\tDANN\tDANN\tDANN\tDANN\tDANN\tDANN\tDANN\tDANN\tDANN\tDANN\tDANN\tDANN\tDANN\tDANN\tDANN\tDANN\tDANN\tDANN\tDANN\tDANN\tDANN\tDANN\tDANN\tDANN\tDANN\tDANN\tDANN\tDANN\tDANN\tDANN\tDANN\tDANN\tDANN\tDANN\tDANN\tDANN\tFinished Training\n",
      "<Figure size 640x480 with 1 Axes>\n",
      " 40% 4/10 [00:00<00:00, 28.04it/s]\n",
      "There are 1 cluster class centers labeled as 8, sampled separately according to [4] and each sample with label [8, 8, 8, 8]\n",
      "_raw_DANN.py:253: VisibleDeprecationWarning: Creating an ndarray from ragged nested sequences (which is a list-or-tuple of lists-or-tuples-or ndarrays with different lengths or shapes) is deprecated. If you meant to do this, you must specify 'dtype=object' when creating the ndarray\n",
      "  np.array(list(self.Sub.keys()))[[_==x for _ in list(self.Sub.values())]]], set(self.Sub.values())))).T.tolist()\n",
      "<Figure size 1800x600 with 2 Axes>\n",
      "/content/utils.py:49: VisibleDeprecationWarning: Creating an ndarray from ragged nested sequences (which is a list-or-tuple of lists-or-tuples-or ndarrays with different lengths or shapes) is deprecated. If you meant to do this, you must specify 'dtype=object' when creating the ndarray\n",
      "  self.img = np.array(self.img)\n",
      "Number: 84\t Target Domain Category: {0, 1, 2, 3, 4, 5, 6, 8, 9}\n",
      "Linear(in_features=2048, out_features=9, bias=True) \n",
      "\n",
      "\n",
      "Transfer learning train 50: 100% 50/50 [02:26<00:00,  2.92s/it, AllAccuracy=91.9, MAXSeenAccuracy=99.5]\n",
      "FineTrain 60: 100% 60/60 [01:50<00:00,  1.84s/it, accuracy=95.2, loss=0.00103, minloss=0.000439]\n",
      "DANN\tDANN\tDANN\tDANN\tDANN\tDANN\tDANN\tDANN\tDANN\tDANN\tDANN\tDANN\tDANN\tDANN\tDANN\tDANN\tDANN\tDANN\tDANN\tDANN\tDANN\tDANN\tDANN\tDANN\tDANN\tDANN\tDANN\tDANN\tDANN\tDANN\tDANN\tDANN\tDANN\tDANN\tDANN\tDANN\tDANN\tDANN\tDANN\tDANN\tDANN\tDANN\tDANN\tDANN\tDANN\tDANN\tDANN\tDANN\tDANN\tDANN\tDANN\tDANN\tDANN\tDANN\tDANN\tDANN\tDANN\tDANN\tDANN\tDANN\tDANN\tDANN\tDANN\tDANN\tDANN\tDANN\tDANN\tDANN\tDANN\tDANN\tDANN\tDANN\tDANN\tDANN\tDANN\tDANN\tDANN\tDANN\tDANN\tDANN\tDANN\tDANN\tDANN\tDANN\tDANN\tDANN\tDANN\tDANN\tDANN\tDANN\tDANN\tDANN\tDANN\tDANN\tDANN\tDANN\tDANN\tDANN\tDANN\tDANN\tDANN\tDANN\tDANN\tDANN\tDANN\tDANN\tDANN\tDANN\tDANN\tDANN\tDANN\tDANN\tDANN\tDANN\tDANN\tDANN\tDANN\tDANN\tDANN\tDANN\tDANN\tDANN\tDANN\tDANN\tDANN\tDANN\tDANN\tDANN\tDANN\tDANN\tDANN\tDANN\tDANN\tDANN\tDANN\tDANN\tDANN\tDANN\tDANN\tDANN\tDANN\tDANN\tDANN\tDANN\tDANN\tDANN\tDANN\tDANN\tDANN\tDANN\tDANN\tDANN\tDANN\tDANN\tDANN\tDANN\tDANN\tDANN\tDANN\tDANN\tDANN\tDANN\tDANN\tDANN\tDANN\tDANN\tDANN\tDANN\tDANN\tDANN\tDANN\tDANN\tDANN\tDANN\tDANN\tDANN\tDANN\tDANN\tDANN\tDANN\tDANN\tDANN\tDANN\tDANN\tDANN\tDANN\tDANN\tDANN\tDANN\tDANN\tDANN\tDANN\tDANN\tDANN\tDANN\tDANN\tDANN\tDANN\tDANN\tDANN\tFinished Training\n",
      "<Figure size 640x480 with 1 Axes>\n",
      "  0% 0/10 [00:00<?, ?it/s]\n",
      "There are 1 cluster class centers labeled as 7, sampled separately according to [4] and each sample with label [7, 7, 7, 7]\n",
      "_raw_DANN.py:253: VisibleDeprecationWarning: Creating an ndarray from ragged nested sequences (which is a list-or-tuple of lists-or-tuples-or ndarrays with different lengths or shapes) is deprecated. If you meant to do this, you must specify 'dtype=object' when creating the ndarray\n",
      "  np.array(list(self.Sub.keys()))[[_==x for _ in list(self.Sub.values())]]], set(self.Sub.values())))).T.tolist()\n",
      "<Figure size 1800x600 with 2 Axes>\n",
      "/content/utils.py:49: VisibleDeprecationWarning: Creating an ndarray from ragged nested sequences (which is a list-or-tuple of lists-or-tuples-or ndarrays with different lengths or shapes) is deprecated. If you meant to do this, you must specify 'dtype=object' when creating the ndarray\n",
      "  self.img = np.array(self.img)\n",
      "Number: 88\t Target Domain Category: {0, 1, 2, 3, 4, 5, 6, 7, 8, 9}\n",
      "Linear(in_features=2048, out_features=10, bias=True) \n",
      "\n",
      "\n",
      "Transfer learning train 50: 100% 50/50 [02:25<00:00,  2.91s/it, AllAccuracy=100, MAXSeenAccuracy=100]\n",
      "FineTrain 60: 100% 60/60 [01:50<00:00,  1.85s/it, accuracy=90.9, loss=0.000232, minloss=0.000586]\n",
      "DANN\tDANN\tDANN\tDANN\tDANN\tDANN\tDANN\tDANN\tDANN\tDANN\tDANN\tDANN\tDANN\tDANN\tDANN\tDANN\tDANN\tDANN\tDANN\tDANN\tDANN\tDANN\tDANN\tDANN\tDANN\tDANN\tDANN\tDANN\tDANN\tDANN\tDANN\tDANN\tDANN\tDANN\tDANN\tDANN\tDANN\tDANN\tDANN\tDANN\tDANN\tDANN\tDANN\tDANN\tDANN\tDANN\tDANN\tDANN\tDANN\tDANN\tDANN\tDANN\tDANN\tDANN\tDANN\tDANN\tDANN\tDANN\tDANN\tDANN\tDANN\tDANN\tDANN\tDANN\tDANN\tDANN\tDANN\tDANN\tDANN\tDANN\tDANN\tDANN\tDANN\tDANN\tDANN\tDANN\tDANN\tDANN\tDANN\tDANN\tDANN\tDANN\tDANN\tDANN\tDANN\tDANN\tDANN\tDANN\tDANN\tDANN\tDANN\tDANN\tDANN\tDANN\tDANN\tDANN\tDANN\tDANN\tDANN\tDANN\tDANN\tDANN\tDANN\tDANN\tDANN\tDANN\tDANN\tDANN\tDANN\tDANN\tDANN\tDANN\tDANN\tDANN\tDANN\tDANN\tDANN\tDANN\tDANN\tDANN\tDANN\tDANN\tDANN\tDANN\tDANN\tDANN\tDANN\tDANN\tDANN\tDANN\tDANN\tDANN\tDANN\tDANN\tDANN\tDANN\tDANN\tDANN\tDANN\tDANN\tDANN\tDANN\tDANN\tDANN\tDANN\tDANN\tDANN\tDANN\tDANN\tDANN\tDANN\tDANN\tDANN\tDANN\tDANN\tDANN\tDANN\tDANN\tDANN\tDANN\tDANN\tDANN\tDANN\tDANN\tDANN\tDANN\tDANN\tDANN\tDANN\tDANN\tDANN\tDANN\tDANN\tDANN\tDANN\tDANN\tDANN\tDANN\tDANN\tDANN\tDANN\tDANN\tDANN\tDANN\tDANN\tDANN\tDANN\tDANN\tDANN\tDANN\tDANN\tDANN\tDANN\tDANN\tDANN\tDANN\tDANN\tDANN\tDANN\tDANN\tFinished Training\n",
      "/usr/local/lib/python3.7/dist-packages/numpy/lib/histograms.py:905: RuntimeWarning: invalid value encountered in true_divide\n",
      "  return n/db/n.sum(), bin_edges\n",
      "<Figure size 640x480 with 1 Axes>\n",
      "  0% 0/10 [00:00<?, ?it/s]/content/clusters.py:143: RuntimeWarning: divide by zero encountered in true_divide\n",
      "  center_vec = self.feature_vector / len(list(self.members.keys()))\n",
      "/content/clusters.py:143: RuntimeWarning: invalid value encountered in true_divide\n",
      "  center_vec = self.feature_vector / len(list(self.members.keys()))\n",
      "  0% 0/10 [00:00<?, ?it/s]\n",
      "Number: 101\t Target Domain Category: {0, 1, 2, 3, 4, 5, 6, 7, 8, 9}\n",
      "Linear(in_features=2048, out_features=10, bias=True) \n",
      "\n",
      "\n",
      "Transfer learning train 50: 100% 50/50 [02:37<00:00,  3.15s/it, AllAccuracy=100, MAXSeenAccuracy=100]\n",
      "DANN\tDANN\tDANN\tDANN\tDANN\tDANN\tDANN\tDANN\tDANN\tDANN\tDANN\tDANN\tDANN\tDANN\tDANN\tDANN\tDANN\tDANN\tDANN\tDANN\tDANN\tDANN\tDANN\tDANN\tDANN\tDANN\tDANN\tDANN\tDANN\tDANN\tDANN\tDANN\tDANN\tDANN\tDANN\tDANN\tDANN\tDANN\tDANN\tDANN\tDANN\tDANN\tDANN\tDANN\tDANN\tDANN\tDANN\tDANN\tDANN\tDANN\tDANN\tDANN\tDANN\tDANN\tDANN\tDANN\tDANN\tDANN\tDANN\tDANN\tDANN\tDANN\tDANN\tDANN\tDANN\tDANN\tDANN\tDANN\tDANN\tDANN\tDANN\tDANN\tDANN\tDANN\tDANN\tDANN\tDANN\tDANN\tDANN\tDANN\tDANN\tDANN\tDANN\tDANN\tDANN\tDANN\tDANN\tDANN\tDANN\tDANN\tDANN\tDANN\tDANN\tDANN\tDANN\tDANN\tDANN\tDANN\tDANN\tDANN\tDANN\tDANN\tDANN\tDANN\tDANN\tDANN\tDANN\tDANN\tDANN\tDANN\tDANN\tDANN\tDANN\tDANN\tDANN\tDANN\tDANN\tDANN\tDANN\tDANN\tDANN\tDANN\tDANN\tDANN\tDANN\tDANN\tDANN\tDANN\tDANN\tDANN\tDANN\tDANN\tDANN\tDANN\tDANN\tDANN\tDANN\tDANN\tDANN\tDANN\tDANN\tDANN\tDANN\tDANN\tDANN\tDANN\tDANN\tDANN\tDANN\tDANN\tDANN\tDANN\tDANN\tDANN\tDANN\tDANN\tDANN\tDANN\tDANN\tDANN\tDANN\tDANN\tDANN\tDANN\tDANN\tDANN\tDANN\tDANN\tDANN\tDANN\tDANN\tDANN\tDANN\tDANN\tDANN\tDANN\tDANN\tDANN\tDANN\tDANN\tDANN\tDANN\tDANN\tDANN\tDANN\tDANN\tDANN\tDANN\tDANN\tDANN\tDANN\tDANN\tDANN\tDANN\tDANN\tDANN\tDANN\tDANN\tDANN\tDANN\tDANN\tDANN\tDANN\tDANN\tDANN\tDANN\tDANN\tDANN\tDANN\tDANN\tDANN\tDANN\tDANN\tDANN\tDANN\tDANN\tDANN\tDANN\tDANN\tDANN\tDANN\tDANN\tDANN\tDANN\tDANN\tDANN\tDANN\tDANN\tDANN\tDANN\tDANN\tDANN\tDANN\tDANN\tDANN\tDANN\tDANN\tDANN\tDANN\tDANN\tDANN\tDANN\tDANN\tDANN\tDANN\tDANN\tDANN\tDANN\tDANN\tDANN\t[3, 0.0, 1.0, 0.33191489361702126]\n",
      "[8, 0.0851063829787234, 0.9948979591836735, 0.8297872340425532]\n",
      "[9, 0.1148936170212766, 0.9953917050691244, 0.9191489361702128]\n",
      "[10, 0.13191489361702127, 1.0, 1.0]\n",
      "[10, 0.18723404255319148, 1.0, 1.0]\n"
     ]
    }
   ],
   "source": [
    "!python _raw_DANN.py --source 'dslr' --target 'webcam'"
   ]
  },
  {
   "cell_type": "code",
   "execution_count": null,
   "metadata": {
    "colab": {
     "base_uri": "https://localhost:8080/"
    },
    "id": "4dyke_GJkLVC",
    "outputId": "f691c14a-2560-43ef-c39b-6b42c02767ad"
   },
   "outputs": [
    {
     "name": "stdout",
     "output_type": "stream",
     "text": [
      "/content/utils.py:49: VisibleDeprecationWarning: Creating an ndarray from ragged nested sequences (which is a list-or-tuple of lists-or-tuples-or ndarrays with different lengths or shapes) is deprecated. If you meant to do this, you must specify 'dtype=object' when creating the ndarray\n",
      "  self.img = np.array(self.img)\n",
      "Number: 57\t Source Domain Category: {0, 1, 2}\n",
      "Number: 824\t Target Domain Category: {0, 1, 2, 3, 4, 5, 6, 7, 8, 9}\n",
      "Linear(in_features=2048, out_features=3, bias=True) \n",
      "\n",
      "\n",
      "Transfer learning train 1:   0% 0/10 [00:00<?, ?it/s]/usr/local/lib/python3.7/dist-packages/torch/nn/functional.py:718: UserWarning: Named tensors and all their associated APIs are an experimental feature and subject to change. Please do not use them for anything important until they are released as stable. (Triggered internally at  /pytorch/c10/core/TensorImpl.h:1156.)\n",
      "  return torch.max_pool2d(input, kernel_size, stride, padding, dilation, ceil_mode)\n",
      "Transfer learning train 10: 100% 10/10 [00:47<00:00,  4.77s/it, AllAccuracy=29.5, MAXSeenAccuracy=98.8]\n",
      "FineTrain 60: 100% 60/60 [01:38<00:00,  1.64s/it, accuracy=100, loss=0.00311, minloss=0.00314]\n",
      "DANN\tDANN\tDANN\tDANN\tDANN\tDANN\tDANN\tDANN\tDANN\tDANN\tDANN\tDANN\tDANN\tDANN\tDANN\tDANN\tDANN\tDANN\tDANN\tDANN\tDANN\tDANN\tDANN\tDANN\tDANN\tDANN\tDANN\tDANN\tDANN\tDANN\tFinished Training\n",
      "<Figure size 640x480 with 1 Axes>\n",
      " 30% 3/10 [00:00<00:01,  3.84it/s]\n",
      "There are 0 cluster class centers labeled as 3, sampled separately according to [4] and each sample with label [9, 3, 3, 3]\n",
      "There are 1 cluster class centers labeled as 5, sampled separately according to [4] and each sample with label [5, 5, 5, 5]\n",
      "There are 1 cluster class centers labeled as 6, sampled separately according to [4] and each sample with label [6, 6, 6, 6]\n",
      "There are 0 cluster class centers labeled as 8, sampled separately according to [4] and each sample with label [8, 7, 9, 8]\n",
      "There are 1 cluster class centers labeled as 9, sampled separately according to [4] and each sample with label [9, 3, 9, 9]\n",
      "_raw_DANN.py:253: VisibleDeprecationWarning: Creating an ndarray from ragged nested sequences (which is a list-or-tuple of lists-or-tuples-or ndarrays with different lengths or shapes) is deprecated. If you meant to do this, you must specify 'dtype=object' when creating the ndarray\n",
      "  np.array(list(self.Sub.keys()))[[_==x for _ in list(self.Sub.values())]]], set(self.Sub.values())))).T.tolist()\n",
      "<Figure size 1800x600 with 2 Axes>\n",
      "/content/utils.py:49: VisibleDeprecationWarning: Creating an ndarray from ragged nested sequences (which is a list-or-tuple of lists-or-tuples-or ndarrays with different lengths or shapes) is deprecated. If you meant to do this, you must specify 'dtype=object' when creating the ndarray\n",
      "  self.img = np.array(self.img)\n",
      "Number: 77\t Target Domain Category: {0, 1, 2, 3, 5, 6, 8, 9}\n",
      "Linear(in_features=2048, out_features=8, bias=True) \n",
      "\n",
      "\n",
      "Transfer learning train 50: 100% 50/50 [03:52<00:00,  4.65s/it, AllAccuracy=75.8, MAXSeenAccuracy=90.4]\n",
      "FineTrain 60: 100% 60/60 [01:36<00:00,  1.61s/it, accuracy=83.1, loss=0.0076, minloss=0.00284]\n",
      "DANN\tDANN\tDANN\tDANN\tDANN\tDANN\tDANN\tDANN\tDANN\tDANN\tDANN\tDANN\tDANN\tDANN\tDANN\tDANN\tDANN\tDANN\tDANN\tDANN\tDANN\tDANN\tDANN\tDANN\tDANN\tDANN\tDANN\tDANN\tDANN\tDANN\tDANN\tDANN\tDANN\tDANN\tDANN\tDANN\tDANN\tDANN\tDANN\tDANN\tDANN\tDANN\tDANN\tDANN\tDANN\tDANN\tDANN\tDANN\tDANN\tDANN\tDANN\tDANN\tDANN\tDANN\tDANN\tDANN\tDANN\tDANN\tDANN\tDANN\tDANN\tDANN\tDANN\tDANN\tDANN\tDANN\tDANN\tDANN\tDANN\tDANN\tDANN\tDANN\tDANN\tDANN\tDANN\tDANN\tDANN\tDANN\tDANN\tDANN\tDANN\tDANN\tDANN\tDANN\tDANN\tDANN\tDANN\tDANN\tDANN\tDANN\tDANN\tDANN\tDANN\tDANN\tDANN\tDANN\tDANN\tDANN\tDANN\tDANN\tDANN\tDANN\tDANN\tDANN\tDANN\tDANN\tDANN\tDANN\tDANN\tDANN\tDANN\tDANN\tDANN\tDANN\tDANN\tDANN\tDANN\tDANN\tDANN\tDANN\tDANN\tDANN\tDANN\tDANN\tDANN\tDANN\tDANN\tDANN\tDANN\tDANN\tDANN\tDANN\tDANN\tDANN\tDANN\tDANN\tDANN\tDANN\tDANN\tDANN\tDANN\tDANN\tDANN\tDANN\tDANN\tDANN\tDANN\tDANN\tDANN\tDANN\tFinished Training\n",
      "<Figure size 640x480 with 1 Axes>\n",
      " 60% 6/10 [00:00<00:00, 12.88it/s]\n",
      "There are 1 cluster class centers labeled as 4, sampled separately according to [4] and each sample with label [4, 4, 4, 4]\n",
      "There are 1 cluster class centers labeled as 7, sampled separately according to [4] and each sample with label [7, 7, 7, 7]\n",
      "_raw_DANN.py:253: VisibleDeprecationWarning: Creating an ndarray from ragged nested sequences (which is a list-or-tuple of lists-or-tuples-or ndarrays with different lengths or shapes) is deprecated. If you meant to do this, you must specify 'dtype=object' when creating the ndarray\n",
      "  np.array(list(self.Sub.keys()))[[_==x for _ in list(self.Sub.values())]]], set(self.Sub.values())))).T.tolist()\n",
      "<Figure size 1800x600 with 2 Axes>\n",
      "/content/utils.py:49: VisibleDeprecationWarning: Creating an ndarray from ragged nested sequences (which is a list-or-tuple of lists-or-tuples-or ndarrays with different lengths or shapes) is deprecated. If you meant to do this, you must specify 'dtype=object' when creating the ndarray\n",
      "  self.img = np.array(self.img)\n",
      "Number: 86\t Target Domain Category: {0, 1, 2, 3, 4, 5, 6, 7, 8, 9}\n",
      "Linear(in_features=2048, out_features=10, bias=True) \n",
      "\n",
      "\n",
      "Transfer learning train 50: 100% 50/50 [04:04<00:00,  4.88s/it, AllAccuracy=85.3, MAXSeenAccuracy=85.3]\n",
      "FineTrain 60: 100% 60/60 [01:48<00:00,  1.80s/it, accuracy=93, loss=0.00143, minloss=0.00171]\n",
      "DANN\tDANN\tDANN\tDANN\tDANN\tDANN\tDANN\tDANN\tDANN\tDANN\tDANN\tDANN\tDANN\tDANN\tDANN\tDANN\tDANN\tDANN\tDANN\tDANN\tDANN\tDANN\tDANN\tDANN\tDANN\tDANN\tDANN\tDANN\tDANN\tDANN\tDANN\tDANN\tDANN\tDANN\tDANN\tDANN\tDANN\tDANN\tDANN\tDANN\tDANN\tDANN\tDANN\tDANN\tDANN\tDANN\tDANN\tDANN\tDANN\tDANN\tDANN\tDANN\tDANN\tDANN\tDANN\tDANN\tDANN\tDANN\tDANN\tDANN\tDANN\tDANN\tDANN\tDANN\tDANN\tDANN\tDANN\tDANN\tDANN\tDANN\tDANN\tDANN\tDANN\tDANN\tDANN\tDANN\tDANN\tDANN\tDANN\tDANN\tDANN\tDANN\tDANN\tDANN\tDANN\tDANN\tDANN\tDANN\tDANN\tDANN\tDANN\tDANN\tDANN\tDANN\tDANN\tDANN\tDANN\tDANN\tDANN\tDANN\tDANN\tDANN\tDANN\tDANN\tDANN\tDANN\tDANN\tDANN\tDANN\tDANN\tDANN\tDANN\tDANN\tDANN\tDANN\tDANN\tDANN\tDANN\tDANN\tDANN\tDANN\tDANN\tDANN\tDANN\tDANN\tDANN\tDANN\tDANN\tDANN\tDANN\tDANN\tDANN\tDANN\tDANN\tDANN\tDANN\tDANN\tDANN\tDANN\tDANN\tDANN\tDANN\tDANN\tDANN\tDANN\tDANN\tDANN\tDANN\tDANN\tDANN\tDANN\tDANN\tDANN\tDANN\tDANN\tDANN\tDANN\tDANN\tDANN\tDANN\tDANN\tDANN\tDANN\tDANN\tDANN\tDANN\tDANN\tDANN\tDANN\tDANN\tDANN\tDANN\tDANN\tDANN\tDANN\tDANN\tDANN\tDANN\tDANN\tDANN\tDANN\tDANN\tDANN\tDANN\tDANN\tDANN\tDANN\tDANN\tDANN\tDANN\tDANN\tDANN\tDANN\tDANN\tDANN\tDANN\tDANN\tDANN\tDANN\tDANN\tFinished Training\n",
      "/usr/local/lib/python3.7/dist-packages/numpy/lib/histograms.py:905: RuntimeWarning: invalid value encountered in true_divide\n",
      "  return n/db/n.sum(), bin_edges\n",
      "<Figure size 640x480 with 1 Axes>\n",
      " 40% 4/10 [00:00<00:00,  9.78it/s]\n",
      "Number: 94\t Target Domain Category: {0, 1, 2, 3, 4, 5, 6, 7, 8, 9}\n",
      "Linear(in_features=2048, out_features=10, bias=True) \n",
      "\n",
      "\n",
      "Transfer learning train 50: 100% 50/50 [04:03<00:00,  4.86s/it, AllAccuracy=89, MAXSeenAccuracy=89]\n",
      "DANN\tDANN\tDANN\tDANN\tDANN\tDANN\tDANN\tDANN\tDANN\tDANN\tDANN\tDANN\tDANN\tDANN\tDANN\tDANN\tDANN\tDANN\tDANN\tDANN\tDANN\tDANN\tDANN\tDANN\tDANN\tDANN\tDANN\tDANN\tDANN\tDANN\tDANN\tDANN\tDANN\tDANN\tDANN\tDANN\tDANN\tDANN\tDANN\tDANN\tDANN\tDANN\tDANN\tDANN\tDANN\tDANN\tDANN\tDANN\tDANN\tDANN\tDANN\tDANN\tDANN\tDANN\tDANN\tDANN\tDANN\tDANN\tDANN\tDANN\tDANN\tDANN\tDANN\tDANN\tDANN\tDANN\tDANN\tDANN\tDANN\tDANN\tDANN\tDANN\tDANN\tDANN\tDANN\tDANN\tDANN\tDANN\tDANN\tDANN\tDANN\tDANN\tDANN\tDANN\tDANN\tDANN\tDANN\tDANN\tDANN\tDANN\tDANN\tDANN\tDANN\tDANN\tDANN\tDANN\tDANN\tDANN\tDANN\tDANN\tDANN\tDANN\tDANN\tDANN\tDANN\tDANN\tDANN\tDANN\tDANN\tDANN\tDANN\tDANN\tDANN\tDANN\tDANN\tDANN\tDANN\tDANN\tDANN\tDANN\tDANN\tDANN\tDANN\tDANN\tDANN\tDANN\tDANN\tDANN\tDANN\tDANN\tDANN\tDANN\tDANN\tDANN\tDANN\tDANN\tDANN\tDANN\tDANN\tDANN\tDANN\tDANN\tDANN\tDANN\tDANN\tDANN\tDANN\tDANN\tDANN\tDANN\tDANN\tDANN\tDANN\tDANN\tDANN\tDANN\tDANN\tDANN\tDANN\tDANN\tDANN\tDANN\tDANN\tDANN\tDANN\tDANN\tDANN\tDANN\tDANN\tDANN\tDANN\tDANN\tDANN\tDANN\tDANN\tDANN\tDANN\tDANN\tDANN\tDANN\tDANN\tDANN\tDANN\tDANN\tDANN\tDANN\tDANN\tDANN\tDANN\tDANN\tDANN\tDANN\tDANN\tDANN\tDANN\tDANN\tDANN\tDANN\tDANN\tDANN\t[3, 0.0, 0.9878048780487805, 0.2949029126213592]\n",
      "[8, 0.024271844660194174, 0.9044862518089725, 0.758495145631068]\n",
      "[10, 0.03519417475728155, 0.8531553398058253, 0.8531553398058253]\n",
      "[10, 0.044902912621359224, 0.8895631067961165, 0.8895631067961165]\n"
     ]
    }
   ],
   "source": [
    "!python _raw_DANN.py --source 'dslr' --target 'amazon'"
   ]
  },
  {
   "cell_type": "code",
   "execution_count": null,
   "metadata": {
    "colab": {
     "base_uri": "https://localhost:8080/"
    },
    "id": "W7jXkYMilOpv",
    "outputId": "f2705a73-1467-494b-e184-233b0a676f9e"
   },
   "outputs": [
    {
     "name": "stdout",
     "output_type": "stream",
     "text": [
      "/content/utils.py:49: VisibleDeprecationWarning: Creating an ndarray from ragged nested sequences (which is a list-or-tuple of lists-or-tuples-or ndarrays with different lengths or shapes) is deprecated. If you meant to do this, you must specify 'dtype=object' when creating the ndarray\n",
      "  self.img = np.array(self.img)\n",
      "Number: 246\t Source Domain Category: {0, 1, 2}\n",
      "Number: 235\t Target Domain Category: {0, 1, 2, 3, 4, 5, 6, 7, 8, 9}\n",
      "Linear(in_features=2048, out_features=3, bias=True) \n",
      "\n",
      "\n",
      "\r",
      "  0% 0/10 [00:00<?, ?it/s]\r",
      "Transfer learning train 1:   0% 0/10 [00:00<?, ?it/s]/usr/local/lib/python3.7/dist-packages/torch/nn/functional.py:718: UserWarning: Named tensors and all their associated APIs are an experimental feature and subject to change. Please do not use them for anything important until they are released as stable. (Triggered internally at  /pytorch/c10/core/TensorImpl.h:1156.)\n",
      "  return torch.max_pool2d(input, kernel_size, stride, padding, dilation, ceil_mode)\n",
      "Transfer learning train 10: 100% 10/10 [00:53<00:00,  5.33s/it, AllAccuracy=33.2, MAXSeenAccuracy=100]\n",
      "FineTrain 60: 100% 60/60 [02:55<00:00,  2.92s/it, accuracy=100, loss=9.91e-5, minloss=0.000179]\n",
      "DANN\tDANN\tDANN\tDANN\tDANN\tDANN\tDANN\tDANN\tDANN\tDANN\tDANN\tDANN\tDANN\tDANN\tDANN\tDANN\tDANN\tDANN\tDANN\tDANN\tDANN\tDANN\tDANN\tDANN\tDANN\tDANN\tDANN\tDANN\tDANN\tDANN\tDANN\tDANN\tDANN\tDANN\tDANN\tDANN\tDANN\tDANN\tDANN\tDANN\tDANN\tDANN\tDANN\tDANN\tDANN\tDANN\tDANN\tDANN\tDANN\tDANN\tDANN\tDANN\tDANN\tDANN\tDANN\tDANN\tDANN\tDANN\tDANN\tDANN\tDANN\tDANN\tDANN\tDANN\tDANN\tDANN\tDANN\tDANN\tDANN\tDANN\tDANN\tDANN\tDANN\tDANN\tDANN\tDANN\tDANN\tDANN\tDANN\tDANN\tDANN\tDANN\tDANN\tDANN\tDANN\tDANN\tDANN\tDANN\tDANN\tDANN\tDANN\tDANN\tDANN\tDANN\tDANN\tDANN\tDANN\tDANN\tDANN\tDANN\tDANN\tDANN\tDANN\tDANN\tDANN\tDANN\tDANN\tDANN\tDANN\tDANN\tDANN\tDANN\tDANN\tDANN\tDANN\tDANN\tDANN\tDANN\tDANN\tDANN\tDANN\tDANN\tDANN\tDANN\tDANN\tDANN\tDANN\tDANN\tDANN\tDANN\tDANN\tDANN\tDANN\tDANN\tDANN\tDANN\tDANN\tDANN\tDANN\tDANN\tDANN\tDANN\tDANN\tDANN\tDANN\tDANN\tDANN\tDANN\tDANN\tDANN\tFinished Training\n",
      "<Figure size 640x480 with 1 Axes>\n",
      "  0% 0/10 [00:00<?, ?it/s]\n",
      "There are 1 cluster class centers labeled as 3, sampled separately according to [4] and each sample with label [3, 3, 9, 8]\n",
      "There are 1 cluster class centers labeled as 4, sampled separately according to [4] and each sample with label [4, 4, 4, 4]\n",
      "There are 1 cluster class centers labeled as 5, sampled separately according to [4] and each sample with label [5, 5, 5, 5]\n",
      "There are 1 cluster class centers labeled as 6, sampled separately according to [4] and each sample with label [6, 6, 6, 6]\n",
      "There are 0 cluster class centers labeled as 7, sampled separately according to [4] and each sample with label [9, 8, 3, 7]\n",
      "_raw_DANN.py:253: VisibleDeprecationWarning: Creating an ndarray from ragged nested sequences (which is a list-or-tuple of lists-or-tuples-or ndarrays with different lengths or shapes) is deprecated. If you meant to do this, you must specify 'dtype=object' when creating the ndarray\n",
      "  np.array(list(self.Sub.keys()))[[_==x for _ in list(self.Sub.values())]]], set(self.Sub.values())))).T.tolist()\n",
      "<Figure size 1800x600 with 2 Axes>\n",
      "/content/utils.py:49: VisibleDeprecationWarning: Creating an ndarray from ragged nested sequences (which is a list-or-tuple of lists-or-tuples-or ndarrays with different lengths or shapes) is deprecated. If you meant to do this, you must specify 'dtype=object' when creating the ndarray\n",
      "  self.img = np.array(self.img)\n",
      "Number: 264\t Target Domain Category: {0, 1, 2, 3, 4, 5, 6, 7}\n",
      "Linear(in_features=2048, out_features=8, bias=True) \n",
      "\n",
      "\n",
      "Transfer learning train 50: 100% 50/50 [04:18<00:00,  5.17s/it, AllAccuracy=74, MAXSeenAccuracy=89.2]\n",
      "FineTrain 60: 100% 60/60 [02:59<00:00,  2.99s/it, accuracy=97, loss=0.0682, minloss=0.00057]\n",
      "DANN\tDANN\tDANN\tDANN\tDANN\tDANN\tDANN\tDANN\tDANN\tDANN\tDANN\tDANN\tDANN\tDANN\tDANN\tDANN\tDANN\tDANN\tDANN\tDANN\tDANN\tDANN\tDANN\tDANN\tDANN\tDANN\tDANN\tDANN\tDANN\tDANN\tDANN\tDANN\tDANN\tDANN\tDANN\tDANN\tDANN\tDANN\tDANN\tDANN\tDANN\tDANN\tDANN\tDANN\tDANN\tDANN\tDANN\tDANN\tDANN\tDANN\tDANN\tDANN\tDANN\tDANN\tDANN\tDANN\tDANN\tDANN\tDANN\tDANN\tDANN\tDANN\tDANN\tDANN\tDANN\tDANN\tDANN\tDANN\tDANN\tDANN\tDANN\tDANN\tDANN\tDANN\tDANN\tDANN\tDANN\tDANN\tDANN\tDANN\tDANN\tDANN\tDANN\tDANN\tDANN\tDANN\tDANN\tDANN\tDANN\tDANN\tDANN\tDANN\tDANN\tDANN\tDANN\tDANN\tDANN\tDANN\tDANN\tDANN\tDANN\tDANN\tDANN\tDANN\tDANN\tDANN\tDANN\tDANN\tDANN\tDANN\tDANN\tDANN\tDANN\tDANN\tDANN\tDANN\tDANN\tDANN\tDANN\tDANN\tDANN\tDANN\tDANN\tDANN\tDANN\tDANN\tDANN\tDANN\tDANN\tDANN\tDANN\tDANN\tDANN\tDANN\tDANN\tDANN\tDANN\tDANN\tDANN\tDANN\tDANN\tDANN\tDANN\tDANN\tDANN\tDANN\tDANN\tDANN\tDANN\tDANN\tDANN\tDANN\tDANN\tDANN\tDANN\tDANN\tDANN\tDANN\tDANN\tDANN\tDANN\tDANN\tDANN\tDANN\tDANN\tDANN\tDANN\tDANN\tDANN\tDANN\tDANN\tDANN\tDANN\tDANN\tDANN\tDANN\tDANN\tDANN\tDANN\tDANN\tDANN\tDANN\tDANN\tDANN\tDANN\tDANN\tDANN\tDANN\tDANN\tDANN\tDANN\tDANN\tDANN\tDANN\tDANN\tDANN\tDANN\tDANN\tDANN\tDANN\tDANN\tDANN\tDANN\tDANN\tDANN\tDANN\tDANN\tDANN\tDANN\tDANN\tDANN\tDANN\tDANN\tDANN\tDANN\tDANN\tDANN\tDANN\tDANN\tDANN\tDANN\tDANN\tDANN\tDANN\tDANN\tDANN\tDANN\tDANN\tDANN\tDANN\tDANN\tDANN\tDANN\tDANN\tDANN\tDANN\tDANN\tDANN\tDANN\tDANN\tDANN\tDANN\tDANN\tDANN\tDANN\tDANN\tDANN\tDANN\tDANN\tDANN\tDANN\tDANN\tDANN\tDANN\tDANN\tDANN\tDANN\tDANN\tDANN\tDANN\tDANN\tDANN\tDANN\tDANN\tDANN\tDANN\tDANN\tDANN\tDANN\tDANN\tDANN\tDANN\tDANN\tDANN\tDANN\tDANN\tDANN\tDANN\tDANN\tDANN\tDANN\tDANN\tDANN\tDANN\tDANN\tDANN\tDANN\tDANN\tDANN\tDANN\tDANN\tDANN\tDANN\tDANN\tDANN\tDANN\tDANN\tDANN\tDANN\tDANN\tDANN\tDANN\tDANN\tDANN\tDANN\tDANN\tDANN\tDANN\tDANN\tDANN\tDANN\tDANN\tDANN\tDANN\tDANN\tDANN\tDANN\tDANN\tDANN\tDANN\tDANN\tDANN\tDANN\tDANN\tDANN\tDANN\tDANN\tDANN\tDANN\tDANN\tDANN\tDANN\tDANN\tDANN\tDANN\tDANN\tDANN\tDANN\tDANN\tDANN\tDANN\tDANN\tDANN\tDANN\tDANN\tDANN\tDANN\tDANN\tDANN\tDANN\tDANN\tDANN\tDANN\tDANN\tDANN\tDANN\tDANN\tDANN\tDANN\tDANN\tDANN\tDANN\tDANN\tDANN\tDANN\tDANN\tDANN\tDANN\tDANN\tDANN\tDANN\tDANN\tDANN\tDANN\tDANN\tDANN\tDANN\tDANN\tDANN\tDANN\tDANN\tDANN\tDANN\tDANN\tDANN\tDANN\tDANN\tDANN\tDANN\tDANN\tDANN\tDANN\tDANN\tDANN\tDANN\tDANN\tDANN\tDANN\tDANN\tDANN\tDANN\tDANN\tDANN\tDANN\tDANN\tDANN\tDANN\tDANN\tDANN\tDANN\tDANN\tDANN\tDANN\tDANN\tDANN\tDANN\tDANN\tDANN\tDANN\tDANN\tDANN\tDANN\tDANN\tDANN\tDANN\tDANN\tDANN\tDANN\tDANN\tDANN\tDANN\tDANN\tDANN\tDANN\tDANN\tDANN\tDANN\tDANN\tDANN\tDANN\tDANN\tDANN\tDANN\tDANN\tDANN\tDANN\tDANN\tDANN\tDANN\tDANN\tDANN\tDANN\tDANN\tDANN\tDANN\tDANN\tDANN\tDANN\tDANN\tDANN\tDANN\tDANN\tDANN\tDANN\tDANN\tDANN\tDANN\tDANN\tDANN\tDANN\tDANN\tDANN\tDANN\tDANN\tDANN\tDANN\tDANN\tDANN\tDANN\tDANN\tDANN\tDANN\tDANN\tDANN\tDANN\tDANN\tDANN\tDANN\tDANN\tDANN\tDANN\tDANN\tDANN\tDANN\tDANN\tDANN\tDANN\tDANN\tDANN\tDANN\tDANN\tDANN\tDANN\tDANN\tDANN\tDANN\tDANN\tDANN\tDANN\tDANN\tDANN\tDANN\tDANN\tDANN\tDANN\tDANN\tDANN\tDANN\tDANN\tDANN\tDANN\tDANN\tDANN\tDANN\tDANN\tDANN\tDANN\tDANN\tDANN\tDANN\tDANN\tDANN\tDANN\tDANN\tDANN\tDANN\tDANN\tDANN\tDANN\tDANN\tDANN\tDANN\tDANN\tDANN\tDANN\tDANN\tDANN\tDANN\tDANN\tDANN\tDANN\tDANN\tDANN\tDANN\tDANN\tDANN\tDANN\tDANN\tDANN\tDANN\tDANN\tDANN\tDANN\tDANN\tDANN\tDANN\tDANN\tDANN\tDANN\tDANN\tDANN\tDANN\tDANN\tDANN\tDANN\tDANN\tDANN\tDANN\tDANN\tDANN\tDANN\tDANN\tDANN\tDANN\tDANN\tDANN\tDANN\tDANN\tDANN\tDANN\tDANN\tDANN\tDANN\tDANN\tDANN\tDANN\tDANN\tDANN\tDANN\tDANN\tDANN\tDANN\tDANN\tDANN\tDANN\tDANN\tDANN\tDANN\tDANN\tDANN\tDANN\tDANN\tDANN\tDANN\tDANN\tDANN\tDANN\tDANN\tDANN\tDANN\tDANN\tDANN\tDANN\tDANN\tDANN\tDANN\tDANN\tDANN\tDANN\tDANN\tDANN\tDANN\tDANN\tDANN\tDANN\tDANN\tDANN\tDANN\tDANN\tDANN\tDANN\tDANN\tDANN\tDANN\tDANN\tDANN\tDANN\tDANN\tDANN\tDANN\tDANN\tDANN\tDANN\tDANN\tDANN\tDANN\tDANN\tDANN\tDANN\tDANN\tDANN\tDANN\tDANN\tDANN\tDANN\tDANN\tDANN\tDANN\tDANN\tDANN\tDANN\tDANN\tDANN\tDANN\tDANN\tDANN\tDANN\tDANN\tDANN\tDANN\tDANN\tDANN\tDANN\tDANN\tDANN\tDANN\tDANN\tDANN\tDANN\tDANN\tDANN\tDANN\tDANN\tDANN\tDANN\tDANN\tDANN\tDANN\tDANN\tDANN\tDANN\tDANN\tDANN\tDANN\tDANN\tDANN\tDANN\tDANN\tDANN\tDANN\tDANN\tDANN\tDANN\tDANN\tDANN\tDANN\tDANN\tDANN\tDANN\tDANN\tDANN\tDANN\tDANN\tDANN\tDANN\tDANN\tDANN\tDANN\tDANN\tDANN\tDANN\tDANN\tDANN\tDANN\tDANN\tDANN\tDANN\tDANN\tDANN\tDANN\tDANN\tDANN\tDANN\tDANN\tDANN\tDANN\tDANN\tDANN\tDANN\tDANN\tFinished Training\n",
      "<Figure size 640x480 with 1 Axes>\n",
      "  0% 0/10 [00:00<?, ?it/s]\n",
      "There are 1 cluster class centers labeled as 8, sampled separately according to [4] and each sample with label [8, 8, 8, 8]\n",
      "There are 1 cluster class centers labeled as 9, sampled separately according to [4] and each sample with label [9, 9, 9, 9]\n",
      "_raw_DANN.py:253: VisibleDeprecationWarning: Creating an ndarray from ragged nested sequences (which is a list-or-tuple of lists-or-tuples-or ndarrays with different lengths or shapes) is deprecated. If you meant to do this, you must specify 'dtype=object' when creating the ndarray\n",
      "  np.array(list(self.Sub.keys()))[[_==x for _ in list(self.Sub.values())]]], set(self.Sub.values())))).T.tolist()\n",
      "<Figure size 1800x600 with 2 Axes>\n",
      "/content/utils.py:49: VisibleDeprecationWarning: Creating an ndarray from ragged nested sequences (which is a list-or-tuple of lists-or-tuples-or ndarrays with different lengths or shapes) is deprecated. If you meant to do this, you must specify 'dtype=object' when creating the ndarray\n",
      "  self.img = np.array(self.img)\n",
      "Number: 277\t Target Domain Category: {0, 1, 2, 3, 4, 5, 6, 7, 8, 9}\n",
      "Linear(in_features=2048, out_features=10, bias=True) \n",
      "\n",
      "\n",
      "Transfer learning train 50: 100% 50/50 [04:31<00:00,  5.43s/it, AllAccuracy=90.6, MAXSeenAccuracy=90.6]\n",
      "FineTrain 60: 100% 60/60 [03:12<00:00,  3.20s/it, accuracy=98.2, loss=0.00173, minloss=0.00162]\n",
      "DANN\tDANN\tDANN\tDANN\tDANN\tDANN\tDANN\tDANN\tDANN\tDANN\tDANN\tDANN\tDANN\tDANN\tDANN\tDANN\tDANN\tDANN\tDANN\tDANN\tDANN\tDANN\tDANN\tDANN\tDANN\tDANN\tDANN\tDANN\tDANN\tDANN\tDANN\tDANN\tDANN\tDANN\tDANN\tDANN\tDANN\tDANN\tDANN\tDANN\tDANN\tDANN\tDANN\tDANN\tDANN\tDANN\tDANN\tDANN\tDANN\tDANN\tDANN\tDANN\tDANN\tDANN\tDANN\tDANN\tDANN\tDANN\tDANN\tDANN\tDANN\tDANN\tDANN\tDANN\tDANN\tDANN\tDANN\tDANN\tDANN\tDANN\tDANN\tDANN\tDANN\tDANN\tDANN\tDANN\tDANN\tDANN\tDANN\tDANN\tDANN\tDANN\tDANN\tDANN\tDANN\tDANN\tDANN\tDANN\tDANN\tDANN\tDANN\tDANN\tDANN\tDANN\tDANN\tDANN\tDANN\tDANN\tDANN\tDANN\tDANN\tDANN\tDANN\tDANN\tDANN\tDANN\tDANN\tDANN\tDANN\tDANN\tDANN\tDANN\tDANN\tDANN\tDANN\tDANN\tDANN\tDANN\tDANN\tDANN\tDANN\tDANN\tDANN\tDANN\tDANN\tDANN\tDANN\tDANN\tDANN\tDANN\tDANN\tDANN\tDANN\tDANN\tDANN\tDANN\tDANN\tDANN\tDANN\tDANN\tDANN\tDANN\tDANN\tDANN\tDANN\tDANN\tDANN\tDANN\tDANN\tDANN\tDANN\tDANN\tDANN\tDANN\tDANN\tDANN\tDANN\tDANN\tDANN\tDANN\tDANN\tDANN\tDANN\tDANN\tDANN\tDANN\tDANN\tDANN\tDANN\tDANN\tDANN\tDANN\tDANN\tDANN\tDANN\tDANN\tDANN\tDANN\tDANN\tDANN\tDANN\tDANN\tDANN\tDANN\tDANN\tDANN\tDANN\tDANN\tDANN\tDANN\tDANN\tDANN\tDANN\tDANN\tDANN\tDANN\tDANN\tDANN\tDANN\tDANN\tDANN\tDANN\tDANN\tDANN\tDANN\tDANN\tDANN\tDANN\tDANN\tDANN\tDANN\tDANN\tDANN\tDANN\tDANN\tDANN\tDANN\tDANN\tDANN\tDANN\tDANN\tDANN\tDANN\tDANN\tDANN\tDANN\tDANN\tDANN\tDANN\tDANN\tDANN\tDANN\tDANN\tDANN\tDANN\tDANN\tDANN\tDANN\tDANN\tDANN\tDANN\tDANN\tDANN\tDANN\tDANN\tDANN\tDANN\tDANN\tDANN\tDANN\tDANN\tDANN\tDANN\tDANN\tDANN\tDANN\tDANN\tDANN\tDANN\tDANN\tDANN\tDANN\tDANN\tDANN\tDANN\tDANN\tDANN\tDANN\tDANN\tDANN\tDANN\tDANN\tDANN\tDANN\tDANN\tDANN\tDANN\tDANN\tDANN\tDANN\tDANN\tDANN\tDANN\tDANN\tDANN\tDANN\tDANN\tDANN\tDANN\tDANN\tDANN\tDANN\tDANN\tDANN\tDANN\tDANN\tDANN\tDANN\tDANN\tDANN\tDANN\tDANN\tDANN\tDANN\tDANN\tDANN\tDANN\tDANN\tDANN\tDANN\tDANN\tDANN\tDANN\tDANN\tDANN\tDANN\tDANN\tDANN\tDANN\tDANN\tDANN\tDANN\tDANN\tDANN\tDANN\tDANN\tDANN\tDANN\tDANN\tDANN\tDANN\tDANN\tDANN\tDANN\tDANN\tDANN\tDANN\tDANN\tDANN\tDANN\tDANN\tDANN\tDANN\tDANN\tDANN\tDANN\tDANN\tDANN\tDANN\tDANN\tDANN\tDANN\tDANN\tDANN\tDANN\tDANN\tDANN\tDANN\tDANN\tDANN\tDANN\tDANN\tDANN\tDANN\tDANN\tDANN\tDANN\tDANN\tDANN\tDANN\tDANN\tDANN\tDANN\tDANN\tDANN\tDANN\tDANN\tDANN\tDANN\tDANN\tDANN\tDANN\tDANN\tDANN\tDANN\tDANN\tDANN\tDANN\tDANN\tDANN\tDANN\tDANN\tDANN\tDANN\tDANN\tDANN\tDANN\tDANN\tDANN\tDANN\tDANN\tDANN\tDANN\tDANN\tDANN\tDANN\tDANN\tDANN\tDANN\tDANN\tDANN\tDANN\tDANN\tDANN\tDANN\tDANN\tDANN\tDANN\tDANN\tDANN\tDANN\tDANN\tDANN\tDANN\tDANN\tDANN\tDANN\tDANN\tDANN\tDANN\tDANN\tDANN\tDANN\tDANN\tDANN\tDANN\tDANN\tDANN\tDANN\tDANN\tDANN\tDANN\tDANN\tDANN\tDANN\tDANN\tDANN\tDANN\tDANN\tDANN\tDANN\tDANN\tDANN\tDANN\tDANN\tDANN\tDANN\tDANN\tDANN\tDANN\tDANN\tDANN\tDANN\tDANN\tDANN\tDANN\tDANN\tDANN\tDANN\tDANN\tDANN\tDANN\tDANN\tDANN\tDANN\tDANN\tDANN\tDANN\tDANN\tDANN\tDANN\tDANN\tDANN\tDANN\tDANN\tDANN\tDANN\tDANN\tDANN\tDANN\tDANN\tDANN\tDANN\tDANN\tDANN\tDANN\tDANN\tDANN\tDANN\tDANN\tDANN\tDANN\tDANN\tDANN\tDANN\tDANN\tDANN\tDANN\tDANN\tDANN\tDANN\tDANN\tDANN\tDANN\tDANN\tDANN\tDANN\tDANN\tDANN\tDANN\tDANN\tDANN\tDANN\tDANN\tDANN\tDANN\tDANN\tDANN\tDANN\tDANN\tDANN\tDANN\tDANN\tDANN\tDANN\tDANN\tDANN\tDANN\tDANN\tDANN\tDANN\tDANN\tDANN\tDANN\tDANN\tDANN\tDANN\tDANN\tDANN\tDANN\tDANN\tDANN\tDANN\tDANN\tDANN\tDANN\tDANN\tDANN\tDANN\tDANN\tDANN\tDANN\tDANN\tDANN\tDANN\tDANN\tDANN\tDANN\tDANN\tDANN\tDANN\tDANN\tDANN\tDANN\tDANN\tDANN\tDANN\tDANN\tDANN\tDANN\tDANN\tDANN\tDANN\tDANN\tDANN\tDANN\tDANN\tDANN\tDANN\tDANN\tDANN\tDANN\tDANN\tDANN\tDANN\tDANN\tDANN\tDANN\tDANN\tDANN\tDANN\tDANN\tDANN\tDANN\tDANN\tDANN\tDANN\tDANN\tDANN\tDANN\tDANN\tDANN\tDANN\tDANN\tDANN\tDANN\tDANN\tDANN\tDANN\tDANN\tDANN\tDANN\tDANN\tDANN\tDANN\tDANN\tDANN\tDANN\tDANN\tDANN\tDANN\tDANN\tDANN\tDANN\tDANN\tDANN\tDANN\tDANN\tDANN\tDANN\tDANN\tDANN\tDANN\tDANN\tDANN\tDANN\tDANN\tDANN\tDANN\tDANN\tDANN\tDANN\tDANN\tDANN\tDANN\tDANN\tDANN\tDANN\tDANN\tDANN\tDANN\tDANN\tDANN\tDANN\tDANN\tDANN\tDANN\tDANN\tDANN\tDANN\tDANN\tDANN\tDANN\tDANN\tDANN\tDANN\tDANN\tDANN\tDANN\tDANN\tDANN\tDANN\tDANN\tDANN\tDANN\tDANN\tDANN\tDANN\tDANN\tDANN\tDANN\tDANN\tDANN\tDANN\tDANN\tDANN\tDANN\tDANN\tDANN\tDANN\tDANN\tDANN\tDANN\tDANN\tDANN\tDANN\tDANN\tDANN\tDANN\tDANN\tDANN\tDANN\tDANN\tDANN\tDANN\tDANN\tDANN\tDANN\tDANN\tDANN\tDANN\tDANN\tDANN\tDANN\tDANN\tDANN\tDANN\tDANN\tDANN\tDANN\tDANN\tDANN\tDANN\tDANN\tDANN\tDANN\tDANN\tDANN\tDANN\tDANN\tDANN\tDANN\tDANN\tDANN\tDANN\tDANN\tDANN\tDANN\tDANN\tDANN\tDANN\tDANN\tDANN\tDANN\tDANN\tDANN\tDANN\tDANN\tDANN\tDANN\tDANN\tDANN\tDANN\tDANN\tDANN\tDANN\tDANN\tDANN\tDANN\tDANN\tDANN\tDANN\tDANN\tDANN\tDANN\tDANN\tDANN\tDANN\tDANN\tDANN\tDANN\tDANN\tDANN\tDANN\tDANN\tDANN\tDANN\tDANN\tDANN\tDANN\tDANN\tDANN\tDANN\tDANN\tDANN\tDANN\tDANN\tDANN\tDANN\tDANN\tFinished Training\n",
      "/usr/local/lib/python3.7/dist-packages/numpy/lib/histograms.py:905: RuntimeWarning: invalid value encountered in true_divide\n",
      "  return n/db/n.sum(), bin_edges\n",
      "<Figure size 640x480 with 1 Axes>\n",
      "  0% 0/10 [00:00<?, ?it/s]\n",
      "Number: 282\t Target Domain Category: {0, 1, 2, 3, 4, 5, 6, 7, 8, 9}\n",
      "Linear(in_features=2048, out_features=10, bias=True) \n",
      "\n",
      "\n",
      "Transfer learning train 50: 100% 50/50 [04:30<00:00,  5.41s/it, AllAccuracy=99.6, MAXSeenAccuracy=99.6]\n",
      "DANN\tDANN\tDANN\tDANN\tDANN\tDANN\tDANN\tDANN\tDANN\tDANN\tDANN\tDANN\tDANN\tDANN\tDANN\tDANN\tDANN\tDANN\tDANN\tDANN\tDANN\tDANN\tDANN\tDANN\tDANN\tDANN\tDANN\tDANN\tDANN\tDANN\tDANN\tDANN\tDANN\tDANN\tDANN\tDANN\tDANN\tDANN\tDANN\tDANN\tDANN\tDANN\tDANN\tDANN\tDANN\tDANN\tDANN\tDANN\tDANN\tDANN\tDANN\tDANN\tDANN\tDANN\tDANN\tDANN\tDANN\tDANN\tDANN\tDANN\tDANN\tDANN\tDANN\tDANN\tDANN\tDANN\tDANN\tDANN\tDANN\tDANN\tDANN\tDANN\tDANN\tDANN\tDANN\tDANN\tDANN\tDANN\tDANN\tDANN\tDANN\tDANN\tDANN\tDANN\tDANN\tDANN\tDANN\tDANN\tDANN\tDANN\tDANN\tDANN\tDANN\tDANN\tDANN\tDANN\tDANN\tDANN\tDANN\tDANN\tDANN\tDANN\tDANN\tDANN\tDANN\tDANN\tDANN\tDANN\tDANN\tDANN\tDANN\tDANN\tDANN\tDANN\tDANN\tDANN\tDANN\tDANN\tDANN\tDANN\tDANN\tDANN\tDANN\tDANN\tDANN\tDANN\tDANN\tDANN\tDANN\tDANN\tDANN\tDANN\tDANN\tDANN\tDANN\tDANN\tDANN\tDANN\tDANN\tDANN\tDANN\tDANN\tDANN\tDANN\tDANN\tDANN\tDANN\tDANN\tDANN\tDANN\tDANN\tDANN\tDANN\tDANN\tDANN\tDANN\tDANN\tDANN\tDANN\tDANN\tDANN\tDANN\tDANN\tDANN\tDANN\tDANN\tDANN\tDANN\tDANN\tDANN\tDANN\tDANN\tDANN\tDANN\tDANN\tDANN\tDANN\tDANN\tDANN\tDANN\tDANN\tDANN\tDANN\tDANN\tDANN\tDANN\tDANN\tDANN\tDANN\tDANN\tDANN\tDANN\tDANN\tDANN\tDANN\tDANN\tDANN\tDANN\tDANN\tDANN\tDANN\tDANN\tDANN\tDANN\tDANN\tDANN\tDANN\tDANN\tDANN\tDANN\tDANN\tDANN\tDANN\tDANN\tDANN\tDANN\tDANN\tDANN\tDANN\tDANN\tDANN\tDANN\tDANN\tDANN\tDANN\tDANN\tDANN\tDANN\tDANN\tDANN\tDANN\tDANN\tDANN\tDANN\tDANN\tDANN\tDANN\tDANN\tDANN\tDANN\tDANN\tDANN\tDANN\tDANN\tDANN\tDANN\tDANN\tDANN\tDANN\tDANN\tDANN\tDANN\tDANN\tDANN\tDANN\tDANN\tDANN\tDANN\tDANN\tDANN\tDANN\tDANN\tDANN\tDANN\tDANN\tDANN\tDANN\tDANN\tDANN\tDANN\tDANN\tDANN\tDANN\tDANN\tDANN\tDANN\tDANN\tDANN\tDANN\tDANN\tDANN\tDANN\tDANN\tDANN\tDANN\tDANN\tDANN\tDANN\tDANN\tDANN\tDANN\tDANN\tDANN\tDANN\tDANN\tDANN\tDANN\tDANN\tDANN\tDANN\tDANN\tDANN\tDANN\tDANN\tDANN\tDANN\tDANN\tDANN\tDANN\tDANN\tDANN\tDANN\tDANN\tDANN\tDANN\tDANN\tDANN\tDANN\tDANN\tDANN\tDANN\tDANN\tDANN\tDANN\tDANN\tDANN\tDANN\tDANN\tDANN\tDANN\tDANN\tDANN\tDANN\tDANN\tDANN\tDANN\tDANN\tDANN\tDANN\tDANN\tDANN\tDANN\tDANN\tDANN\tDANN\tDANN\tDANN\tDANN\tDANN\tDANN\tDANN\tDANN\tDANN\tDANN\tDANN\tDANN\tDANN\tDANN\tDANN\tDANN\tDANN\tDANN\tDANN\tDANN\tDANN\tDANN\tDANN\tDANN\tDANN\tDANN\tDANN\tDANN\tDANN\tDANN\tDANN\tDANN\tDANN\tDANN\tDANN\tDANN\tDANN\tDANN\tDANN\tDANN\tDANN\tDANN\tDANN\tDANN\tDANN\tDANN\tDANN\tDANN\tDANN\tDANN\tDANN\tDANN\tDANN\tDANN\tDANN\tDANN\tDANN\tDANN\tDANN\tDANN\tDANN\tDANN\tDANN\tDANN\tDANN\tDANN\tDANN\tDANN\tDANN\tDANN\tDANN\tDANN\tDANN\tDANN\tDANN\tDANN\tDANN\tDANN\tDANN\tDANN\tDANN\tDANN\tDANN\tDANN\tDANN\tDANN\tDANN\tDANN\tDANN\tDANN\tDANN\tDANN\tDANN\tDANN\tDANN\tDANN\tDANN\tDANN\tDANN\tDANN\tDANN\tDANN\tDANN\tDANN\tDANN\tDANN\tDANN\tDANN\tDANN\tDANN\tDANN\tDANN\tDANN\tDANN\tDANN\tDANN\tDANN\tDANN\tDANN\tDANN\tDANN\tDANN\tDANN\tDANN\tDANN\tDANN\tDANN\tDANN\tDANN\tDANN\tDANN\tDANN\tDANN\tDANN\tDANN\tDANN\tDANN\tDANN\tDANN\tDANN\tDANN\tDANN\tDANN\tDANN\tDANN\tDANN\tDANN\tDANN\tDANN\tDANN\tDANN\tDANN\tDANN\tDANN\tDANN\tDANN\tDANN\tDANN\tDANN\tDANN\tDANN\tDANN\tDANN\tDANN\tDANN\tDANN\tDANN\tDANN\tDANN\tDANN\tDANN\tDANN\tDANN\tDANN\tDANN\tDANN\tDANN\tDANN\tDANN\tDANN\tDANN\tDANN\tDANN\tDANN\tDANN\tDANN\tDANN\tDANN\tDANN\tDANN\tDANN\tDANN\tDANN\tDANN\tDANN\tDANN\tDANN\tDANN\tDANN\tDANN\tDANN\tDANN\tDANN\tDANN\tDANN\tDANN\tDANN\tDANN\tDANN\tDANN\tDANN\tDANN\tDANN\tDANN\tDANN\tDANN\tDANN\tDANN\tDANN\tDANN\tDANN\tDANN\tDANN\tDANN\tDANN\tDANN\tDANN\tDANN\tDANN\tDANN\tDANN\tDANN\tDANN\tDANN\tDANN\tDANN\tDANN\tDANN\tDANN\tDANN\tDANN\tDANN\tDANN\tDANN\tDANN\tDANN\tDANN\tDANN\tDANN\tDANN\tDANN\tDANN\tDANN\tDANN\tDANN\tDANN\tDANN\tDANN\tDANN\tDANN\tDANN\tDANN\tDANN\tDANN\tDANN\tDANN\tDANN\tDANN\tDANN\tDANN\tDANN\tDANN\tDANN\tDANN\tDANN\tDANN\tDANN\tDANN\tDANN\tDANN\tDANN\tDANN\tDANN\tDANN\tDANN\tDANN\tDANN\tDANN\tDANN\tDANN\tDANN\tDANN\tDANN\tDANN\tDANN\tDANN\tDANN\tDANN\tDANN\tDANN\tDANN\tDANN\tDANN\tDANN\tDANN\tDANN\tDANN\tDANN\tDANN\tDANN\tDANN\tDANN\tDANN\tDANN\tDANN\tDANN\tDANN\tDANN\tDANN\tDANN\tDANN\tDANN\tDANN\tDANN\tDANN\tDANN\tDANN\tDANN\tDANN\tDANN\tDANN\tDANN\tDANN\tDANN\tDANN\tDANN\tDANN\tDANN\tDANN\tDANN\tDANN\tDANN\tDANN\tDANN\tDANN\tDANN\tDANN\tDANN\tDANN\tDANN\tDANN\tDANN\tDANN\tDANN\tDANN\tDANN\tDANN\tDANN\tDANN\tDANN\tDANN\tDANN\tDANN\tDANN\tDANN\tDANN\tDANN\tDANN\tDANN\tDANN\tDANN\tDANN\tDANN\tDANN\tDANN\tDANN\tDANN\tDANN\tDANN\tDANN\tDANN\tDANN\tDANN\tDANN\tDANN\tDANN\tDANN\tDANN\tDANN\tDANN\tDANN\tDANN\tDANN\tDANN\tDANN\tDANN\tDANN\tDANN\tDANN\tDANN\tDANN\tDANN\tDANN\tDANN\tDANN\tDANN\tDANN\tDANN\tDANN\tDANN\tDANN\tDANN\tDANN\tDANN\tDANN\tDANN\tDANN\tDANN\tDANN\tDANN\tDANN\tDANN\tDANN\tDANN\tDANN\tDANN\tDANN\tDANN\tDANN\tDANN\tDANN\tDANN\tDANN\tDANN\tDANN\tDANN\tDANN\tDANN\tDANN\tDANN\tDANN\tDANN\tDANN\tDANN\tDANN\tDANN\tDANN\tDANN\tDANN\tDANN\tDANN\tDANN\tDANN\tDANN\tDANN\tDANN\t[3, 0.0, 1.0, 0.33191489361702126]\n",
      "[8, 0.07659574468085106, 0.8923076923076924, 0.7404255319148936]\n",
      "[10, 0.13191489361702127, 0.9063829787234042, 0.9063829787234042]\n",
      "[10, 0.15319148936170213, 0.9957446808510638, 0.9957446808510638]\n"
     ]
    }
   ],
   "source": [
    "!python _raw_DANN.py --source 'amazon' --target 'webcam'"
   ]
  },
  {
   "cell_type": "code",
   "execution_count": null,
   "metadata": {
    "colab": {
     "base_uri": "https://localhost:8080/"
    },
    "id": "L8D1rT3_oDMw",
    "outputId": "bcae17af-9557-4357-aad1-72a534429a85"
   },
   "outputs": [
    {
     "name": "stdout",
     "output_type": "stream",
     "text": [
      "/content/utils.py:49: VisibleDeprecationWarning: Creating an ndarray from ragged nested sequences (which is a list-or-tuple of lists-or-tuples-or ndarrays with different lengths or shapes) is deprecated. If you meant to do this, you must specify 'dtype=object' when creating the ndarray\n",
      "  self.img = np.array(self.img)\n",
      "Number: 246\t Source Domain Category: {0, 1, 2}\n",
      "Number: 154\t Target Domain Category: {0, 1, 2, 3, 4, 5, 6, 7, 8, 9}\n",
      "Linear(in_features=2048, out_features=3, bias=True) \n",
      "\n",
      "\n",
      "\r",
      "  0% 0/10 [00:00<?, ?it/s]\r",
      "Transfer learning train 1:   0% 0/10 [00:00<?, ?it/s]/usr/local/lib/python3.7/dist-packages/torch/nn/functional.py:718: UserWarning: Named tensors and all their associated APIs are an experimental feature and subject to change. Please do not use them for anything important until they are released as stable. (Triggered internally at  /pytorch/c10/core/TensorImpl.h:1156.)\n",
      "  return torch.max_pool2d(input, kernel_size, stride, padding, dilation, ceil_mode)\n",
      "Transfer learning train 10: 100% 10/10 [01:05<00:00,  6.53s/it, AllAccuracy=37, MAXSeenAccuracy=100]\n",
      "FineTrain 60: 100% 60/60 [02:54<00:00,  2.92s/it, accuracy=100, loss=0.0403, minloss=0.000136]\n",
      "DANN\tDANN\tDANN\tDANN\tDANN\tDANN\tDANN\tDANN\tDANN\tDANN\tDANN\tDANN\tDANN\tDANN\tDANN\tDANN\tDANN\tDANN\tDANN\tDANN\tDANN\tDANN\tDANN\tDANN\tDANN\tDANN\tDANN\tDANN\tDANN\tDANN\tDANN\tDANN\tDANN\tDANN\tDANN\tDANN\tDANN\tDANN\tDANN\tDANN\tDANN\tDANN\tDANN\tDANN\tDANN\tDANN\tDANN\tDANN\tDANN\tDANN\tDANN\tDANN\tDANN\tDANN\tDANN\tDANN\tDANN\tDANN\tDANN\tDANN\tDANN\tDANN\tDANN\tDANN\tDANN\tDANN\tDANN\tDANN\tDANN\tDANN\tDANN\tDANN\tDANN\tDANN\tDANN\tDANN\tDANN\tDANN\tDANN\tDANN\tDANN\tDANN\tDANN\tDANN\tDANN\tDANN\tDANN\tDANN\tDANN\tDANN\tDANN\tDANN\tDANN\tDANN\tDANN\tDANN\tDANN\tDANN\tDANN\tDANN\tDANN\tDANN\tDANN\tDANN\tDANN\tDANN\tDANN\tDANN\tDANN\tDANN\tDANN\tDANN\tDANN\tDANN\tDANN\tDANN\tDANN\tDANN\tDANN\tDANN\tDANN\tDANN\tDANN\tDANN\tDANN\tDANN\tDANN\tDANN\tDANN\tDANN\tDANN\tDANN\tDANN\tDANN\tDANN\tDANN\tDANN\tDANN\tDANN\tDANN\tDANN\tDANN\tDANN\tDANN\tDANN\tDANN\tDANN\tDANN\tDANN\tDANN\tFinished Training\n",
      "<Figure size 640x480 with 1 Axes>\n",
      "  0% 0/10 [00:00<?, ?it/s]\n",
      "There are 0 cluster class centers labeled as 3, sampled separately according to [2, 2] and each sample with label [5, 3, 3, 3]\n",
      "There are 1 cluster class centers labeled as 4, sampled separately according to [4] and each sample with label [4, 4, 4, 4]\n",
      "There are 1 cluster class centers labeled as 6, sampled separately according to [4] and each sample with label [6, 6, 6, 6]\n",
      "There are 1 cluster class centers labeled as 7, sampled separately according to [4] and each sample with label [7, 7, 7, 7]\n",
      "There are 1 cluster class centers labeled as 9, sampled separately according to [4] and each sample with label [9, 8, 8, 9]\n",
      "_raw_DANN.py:253: VisibleDeprecationWarning: Creating an ndarray from ragged nested sequences (which is a list-or-tuple of lists-or-tuples-or ndarrays with different lengths or shapes) is deprecated. If you meant to do this, you must specify 'dtype=object' when creating the ndarray\n",
      "  np.array(list(self.Sub.keys()))[[_==x for _ in list(self.Sub.values())]]], set(self.Sub.values())))).T.tolist()\n",
      "<Figure size 1800x600 with 2 Axes>\n",
      "/content/utils.py:49: VisibleDeprecationWarning: Creating an ndarray from ragged nested sequences (which is a list-or-tuple of lists-or-tuples-or ndarrays with different lengths or shapes) is deprecated. If you meant to do this, you must specify 'dtype=object' when creating the ndarray\n",
      "  self.img = np.array(self.img)\n",
      "Number: 264\t Target Domain Category: {0, 1, 2, 3, 4, 6, 7, 9}\n",
      "Linear(in_features=2048, out_features=8, bias=True) \n",
      "\n",
      "\n",
      "Transfer learning train 50: 100% 50/50 [05:21<00:00,  6.43s/it, AllAccuracy=80.5, MAXSeenAccuracy=97.6]\n",
      "FineTrain 60: 100% 60/60 [03:05<00:00,  3.09s/it, accuracy=97, loss=0.00089, minloss=0.000409]\n",
      "DANN\tDANN\tDANN\tDANN\tDANN\tDANN\tDANN\tDANN\tDANN\tDANN\tDANN\tDANN\tDANN\tDANN\tDANN\tDANN\tDANN\tDANN\tDANN\tDANN\tDANN\tDANN\tDANN\tDANN\tDANN\tDANN\tDANN\tDANN\tDANN\tDANN\tDANN\tDANN\tDANN\tDANN\tDANN\tDANN\tDANN\tDANN\tDANN\tDANN\tDANN\tDANN\tDANN\tDANN\tDANN\tDANN\tDANN\tDANN\tDANN\tDANN\tDANN\tDANN\tDANN\tDANN\tDANN\tDANN\tDANN\tDANN\tDANN\tDANN\tDANN\tDANN\tDANN\tDANN\tDANN\tDANN\tDANN\tDANN\tDANN\tDANN\tDANN\tDANN\tDANN\tDANN\tDANN\tDANN\tDANN\tDANN\tDANN\tDANN\tDANN\tDANN\tDANN\tDANN\tDANN\tDANN\tDANN\tDANN\tDANN\tDANN\tDANN\tDANN\tDANN\tDANN\tDANN\tDANN\tDANN\tDANN\tDANN\tDANN\tDANN\tDANN\tDANN\tDANN\tDANN\tDANN\tDANN\tDANN\tDANN\tDANN\tDANN\tDANN\tDANN\tDANN\tDANN\tDANN\tDANN\tDANN\tDANN\tDANN\tDANN\tDANN\tDANN\tDANN\tDANN\tDANN\tDANN\tDANN\tDANN\tDANN\tDANN\tDANN\tDANN\tDANN\tDANN\tDANN\tDANN\tDANN\tDANN\tDANN\tDANN\tDANN\tDANN\tDANN\tDANN\tDANN\tDANN\tDANN\tDANN\tDANN\tDANN\tDANN\tDANN\tDANN\tDANN\tDANN\tDANN\tDANN\tDANN\tDANN\tDANN\tDANN\tDANN\tDANN\tDANN\tDANN\tDANN\tDANN\tDANN\tDANN\tDANN\tDANN\tDANN\tDANN\tDANN\tDANN\tDANN\tDANN\tDANN\tDANN\tDANN\tDANN\tDANN\tDANN\tDANN\tDANN\tDANN\tDANN\tDANN\tDANN\tDANN\tDANN\tDANN\tDANN\tDANN\tDANN\tDANN\tDANN\tDANN\tDANN\tDANN\tDANN\tDANN\tDANN\tDANN\tDANN\tDANN\tDANN\tDANN\tDANN\tDANN\tDANN\tDANN\tDANN\tDANN\tDANN\tDANN\tDANN\tDANN\tDANN\tDANN\tDANN\tDANN\tDANN\tDANN\tDANN\tDANN\tDANN\tDANN\tDANN\tDANN\tDANN\tDANN\tDANN\tDANN\tDANN\tDANN\tDANN\tDANN\tDANN\tDANN\tDANN\tDANN\tDANN\tDANN\tDANN\tDANN\tDANN\tDANN\tDANN\tDANN\tDANN\tDANN\tDANN\tDANN\tDANN\tDANN\tDANN\tDANN\tDANN\tDANN\tDANN\tDANN\tDANN\tDANN\tDANN\tDANN\tDANN\tDANN\tDANN\tDANN\tDANN\tDANN\tDANN\tDANN\tDANN\tDANN\tDANN\tDANN\tDANN\tDANN\tDANN\tDANN\tDANN\tDANN\tDANN\tDANN\tDANN\tDANN\tDANN\tDANN\tDANN\tDANN\tDANN\tDANN\tDANN\tDANN\tDANN\tDANN\tDANN\tDANN\tDANN\tDANN\tDANN\tDANN\tDANN\tDANN\tDANN\tDANN\tDANN\tDANN\tDANN\tDANN\tDANN\tDANN\tDANN\tDANN\tDANN\tDANN\tDANN\tDANN\tDANN\tDANN\tDANN\tDANN\tDANN\tDANN\tDANN\tDANN\tDANN\tDANN\tDANN\tDANN\tDANN\tDANN\tDANN\tDANN\tDANN\tDANN\tDANN\tDANN\tDANN\tDANN\tDANN\tDANN\tDANN\tDANN\tDANN\tDANN\tDANN\tDANN\tDANN\tDANN\tDANN\tDANN\tDANN\tDANN\tDANN\tDANN\tDANN\tDANN\tDANN\tDANN\tDANN\tDANN\tDANN\tDANN\tDANN\tDANN\tDANN\tDANN\tDANN\tDANN\tDANN\tDANN\tDANN\tDANN\tDANN\tDANN\tDANN\tDANN\tDANN\tDANN\tDANN\tDANN\tDANN\tDANN\tDANN\tDANN\tDANN\tDANN\tDANN\tDANN\tDANN\tDANN\tDANN\tDANN\tDANN\tDANN\tDANN\tDANN\tDANN\tDANN\tDANN\tDANN\tDANN\tDANN\tDANN\tDANN\tDANN\tDANN\tDANN\tDANN\tDANN\tDANN\tDANN\tDANN\tDANN\tDANN\tDANN\tDANN\tDANN\tDANN\tDANN\tDANN\tDANN\tDANN\tDANN\tDANN\tDANN\tDANN\tDANN\tDANN\tDANN\tDANN\tDANN\tDANN\tDANN\tDANN\tDANN\tDANN\tDANN\tDANN\tDANN\tDANN\tDANN\tDANN\tDANN\tDANN\tDANN\tDANN\tDANN\tDANN\tDANN\tDANN\tDANN\tDANN\tDANN\tDANN\tDANN\tDANN\tDANN\tDANN\tDANN\tDANN\tDANN\tDANN\tDANN\tDANN\tDANN\tDANN\tDANN\tDANN\tDANN\tDANN\tDANN\tDANN\tDANN\tDANN\tDANN\tDANN\tDANN\tDANN\tDANN\tDANN\tDANN\tDANN\tDANN\tDANN\tDANN\tDANN\tDANN\tDANN\tDANN\tDANN\tDANN\tDANN\tDANN\tDANN\tDANN\tDANN\tDANN\tDANN\tDANN\tDANN\tDANN\tDANN\tDANN\tDANN\tDANN\tDANN\tDANN\tDANN\tDANN\tDANN\tDANN\tDANN\tDANN\tDANN\tDANN\tDANN\tDANN\tDANN\tDANN\tDANN\tDANN\tDANN\tDANN\tDANN\tDANN\tDANN\tDANN\tDANN\tDANN\tDANN\tDANN\tDANN\tDANN\tDANN\tDANN\tDANN\tDANN\tDANN\tDANN\tDANN\tDANN\tDANN\tDANN\tDANN\tDANN\tDANN\tDANN\tDANN\tDANN\tDANN\tDANN\tDANN\tDANN\tDANN\tDANN\tDANN\tDANN\tDANN\tDANN\tDANN\tDANN\tDANN\tDANN\tDANN\tDANN\tDANN\tDANN\tDANN\tDANN\tDANN\tDANN\tDANN\tDANN\tDANN\tDANN\tDANN\tDANN\tDANN\tDANN\tDANN\tDANN\tDANN\tDANN\tDANN\tDANN\tDANN\tDANN\tDANN\tDANN\tDANN\tDANN\tDANN\tDANN\tDANN\tDANN\tDANN\tDANN\tDANN\tDANN\tDANN\tDANN\tDANN\tDANN\tDANN\tDANN\tDANN\tDANN\tDANN\tDANN\tDANN\tDANN\tDANN\tDANN\tDANN\tDANN\tDANN\tDANN\tDANN\tDANN\tDANN\tDANN\tDANN\tDANN\tDANN\tDANN\tDANN\tDANN\tDANN\tDANN\tDANN\tDANN\tDANN\tDANN\tDANN\tDANN\tDANN\tDANN\tDANN\tDANN\tDANN\tDANN\tDANN\tDANN\tDANN\tDANN\tDANN\tDANN\tDANN\tDANN\tDANN\tDANN\tDANN\tDANN\tDANN\tDANN\tDANN\tDANN\tDANN\tDANN\tDANN\tDANN\tDANN\tDANN\tDANN\tDANN\tDANN\tDANN\tDANN\tDANN\tDANN\tDANN\tDANN\tDANN\tDANN\tDANN\tDANN\tDANN\tDANN\tDANN\tDANN\tDANN\tDANN\tDANN\tDANN\tDANN\tDANN\tDANN\tDANN\tDANN\tDANN\tDANN\tDANN\tDANN\tDANN\tDANN\tDANN\tDANN\tDANN\tDANN\tDANN\tDANN\tDANN\tDANN\tDANN\tDANN\tDANN\tDANN\tDANN\tDANN\tDANN\tDANN\tDANN\tDANN\tDANN\tDANN\tDANN\tDANN\tDANN\tDANN\tDANN\tDANN\tDANN\tDANN\tDANN\tDANN\tDANN\tDANN\tDANN\tDANN\tDANN\tDANN\tDANN\tDANN\tDANN\tDANN\tDANN\tDANN\tDANN\tDANN\tDANN\tDANN\tDANN\tDANN\tDANN\tDANN\tFinished Training\n",
      "<Figure size 640x480 with 1 Axes>\n",
      "  0% 0/10 [00:00<?, ?it/s]\n",
      "There are 1 cluster class centers labeled as 8, sampled separately according to [4] and each sample with label [8, 8, 8, 8]\n",
      "There are 1 cluster class centers labeled as 5, sampled separately according to [4] and each sample with label [5, 5, 5, 5]\n",
      "_raw_DANN.py:253: VisibleDeprecationWarning: Creating an ndarray from ragged nested sequences (which is a list-or-tuple of lists-or-tuples-or ndarrays with different lengths or shapes) is deprecated. If you meant to do this, you must specify 'dtype=object' when creating the ndarray\n",
      "  np.array(list(self.Sub.keys()))[[_==x for _ in list(self.Sub.values())]]], set(self.Sub.values())))).T.tolist()\n",
      "<Figure size 1800x600 with 2 Axes>\n",
      "/content/utils.py:49: VisibleDeprecationWarning: Creating an ndarray from ragged nested sequences (which is a list-or-tuple of lists-or-tuples-or ndarrays with different lengths or shapes) is deprecated. If you meant to do this, you must specify 'dtype=object' when creating the ndarray\n",
      "  self.img = np.array(self.img)\n",
      "Number: 276\t Target Domain Category: {0, 1, 2, 3, 4, 5, 6, 7, 8, 9}\n",
      "Linear(in_features=2048, out_features=10, bias=True) \n",
      "\n",
      "\n",
      "Transfer learning train 50: 100% 50/50 [05:40<00:00,  6.82s/it, AllAccuracy=98.1, MAXSeenAccuracy=98.1]\n",
      "FineTrain 60: 100% 60/60 [03:18<00:00,  3.31s/it, accuracy=98.6, loss=0.000763, minloss=0.000535]\n",
      "DANN\tDANN\tDANN\tDANN\tDANN\tDANN\tDANN\tDANN\tDANN\tDANN\tDANN\tDANN\tDANN\tDANN\tDANN\tDANN\tDANN\tDANN\tDANN\tDANN\tDANN\tDANN\tDANN\tDANN\tDANN\tDANN\tDANN\tDANN\tDANN\tDANN\tDANN\tDANN\tDANN\tDANN\tDANN\tDANN\tDANN\tDANN\tDANN\tDANN\tDANN\tDANN\tDANN\tDANN\tDANN\tDANN\tDANN\tDANN\tDANN\tDANN\tDANN\tDANN\tDANN\tDANN\tDANN\tDANN\tDANN\tDANN\tDANN\tDANN\tDANN\tDANN\tDANN\tDANN\tDANN\tDANN\tDANN\tDANN\tDANN\tDANN\tDANN\tDANN\tDANN\tDANN\tDANN\tDANN\tDANN\tDANN\tDANN\tDANN\tDANN\tDANN\tDANN\tDANN\tDANN\tDANN\tDANN\tDANN\tDANN\tDANN\tDANN\tDANN\tDANN\tDANN\tDANN\tDANN\tDANN\tDANN\tDANN\tDANN\tDANN\tDANN\tDANN\tDANN\tDANN\tDANN\tDANN\tDANN\tDANN\tDANN\tDANN\tDANN\tDANN\tDANN\tDANN\tDANN\tDANN\tDANN\tDANN\tDANN\tDANN\tDANN\tDANN\tDANN\tDANN\tDANN\tDANN\tDANN\tDANN\tDANN\tDANN\tDANN\tDANN\tDANN\tDANN\tDANN\tDANN\tDANN\tDANN\tDANN\tDANN\tDANN\tDANN\tDANN\tDANN\tDANN\tDANN\tDANN\tDANN\tDANN\tDANN\tDANN\tDANN\tDANN\tDANN\tDANN\tDANN\tDANN\tDANN\tDANN\tDANN\tDANN\tDANN\tDANN\tDANN\tDANN\tDANN\tDANN\tDANN\tDANN\tDANN\tDANN\tDANN\tDANN\tDANN\tDANN\tDANN\tDANN\tDANN\tDANN\tDANN\tDANN\tDANN\tDANN\tDANN\tDANN\tDANN\tDANN\tDANN\tDANN\tDANN\tDANN\tDANN\tDANN\tDANN\tDANN\tDANN\tDANN\tDANN\tDANN\tDANN\tDANN\tDANN\tDANN\tDANN\tDANN\tDANN\tDANN\tDANN\tDANN\tDANN\tDANN\tDANN\tDANN\tDANN\tDANN\tDANN\tDANN\tDANN\tDANN\tDANN\tDANN\tDANN\tDANN\tDANN\tDANN\tDANN\tDANN\tDANN\tDANN\tDANN\tDANN\tDANN\tDANN\tDANN\tDANN\tDANN\tDANN\tDANN\tDANN\tDANN\tDANN\tDANN\tDANN\tDANN\tDANN\tDANN\tDANN\tDANN\tDANN\tDANN\tDANN\tDANN\tDANN\tDANN\tDANN\tDANN\tDANN\tDANN\tDANN\tDANN\tDANN\tDANN\tDANN\tDANN\tDANN\tDANN\tDANN\tDANN\tDANN\tDANN\tDANN\tDANN\tDANN\tDANN\tDANN\tDANN\tDANN\tDANN\tDANN\tDANN\tDANN\tDANN\tDANN\tDANN\tDANN\tDANN\tDANN\tDANN\tDANN\tDANN\tDANN\tDANN\tDANN\tDANN\tDANN\tDANN\tDANN\tDANN\tDANN\tDANN\tDANN\tDANN\tDANN\tDANN\tDANN\tDANN\tDANN\tDANN\tDANN\tDANN\tDANN\tDANN\tDANN\tDANN\tDANN\tDANN\tDANN\tDANN\tDANN\tDANN\tDANN\tDANN\tDANN\tDANN\tDANN\tDANN\tDANN\tDANN\tDANN\tDANN\tDANN\tDANN\tDANN\tDANN\tDANN\tDANN\tDANN\tDANN\tDANN\tDANN\tDANN\tDANN\tDANN\tDANN\tDANN\tDANN\tDANN\tDANN\tDANN\tDANN\tDANN\tDANN\tDANN\tDANN\tDANN\tDANN\tDANN\tDANN\tDANN\tDANN\tDANN\tDANN\tDANN\tDANN\tDANN\tDANN\tDANN\tDANN\tDANN\tDANN\tDANN\tDANN\tDANN\tDANN\tDANN\tDANN\tDANN\tDANN\tDANN\tDANN\tDANN\tDANN\tDANN\tDANN\tDANN\tDANN\tDANN\tDANN\tDANN\tDANN\tDANN\tDANN\tDANN\tDANN\tDANN\tDANN\tDANN\tDANN\tDANN\tDANN\tDANN\tDANN\tDANN\tDANN\tDANN\tDANN\tDANN\tDANN\tDANN\tDANN\tDANN\tDANN\tDANN\tDANN\tDANN\tDANN\tDANN\tDANN\tDANN\tDANN\tDANN\tDANN\tDANN\tDANN\tDANN\tDANN\tDANN\tDANN\tDANN\tDANN\tDANN\tDANN\tDANN\tDANN\tDANN\tDANN\tDANN\tDANN\tDANN\tDANN\tDANN\tDANN\tDANN\tDANN\tDANN\tDANN\tDANN\tDANN\tDANN\tDANN\tDANN\tDANN\tDANN\tDANN\tDANN\tDANN\tDANN\tDANN\tDANN\tDANN\tDANN\tDANN\tDANN\tDANN\tDANN\tDANN\tDANN\tDANN\tDANN\tDANN\tDANN\tDANN\tDANN\tDANN\tDANN\tDANN\tDANN\tDANN\tDANN\tDANN\tDANN\tDANN\tDANN\tDANN\tDANN\tDANN\tDANN\tDANN\tDANN\tDANN\tDANN\tDANN\tDANN\tDANN\tDANN\tDANN\tDANN\tDANN\tDANN\tDANN\tDANN\tDANN\tDANN\tDANN\tDANN\tDANN\tDANN\tDANN\tDANN\tDANN\tDANN\tDANN\tDANN\tDANN\tDANN\tDANN\tDANN\tDANN\tDANN\tDANN\tDANN\tDANN\tDANN\tDANN\tDANN\tDANN\tDANN\tDANN\tDANN\tDANN\tDANN\tDANN\tDANN\tDANN\tDANN\tDANN\tDANN\tDANN\tDANN\tDANN\tDANN\tDANN\tDANN\tDANN\tDANN\tDANN\tDANN\tDANN\tDANN\tDANN\tDANN\tDANN\tDANN\tDANN\tDANN\tDANN\tDANN\tDANN\tDANN\tDANN\tDANN\tDANN\tDANN\tDANN\tDANN\tDANN\tDANN\tDANN\tDANN\tDANN\tDANN\tDANN\tDANN\tDANN\tDANN\tDANN\tDANN\tDANN\tDANN\tDANN\tDANN\tDANN\tDANN\tDANN\tDANN\tDANN\tDANN\tDANN\tDANN\tDANN\tDANN\tDANN\tDANN\tDANN\tDANN\tDANN\tDANN\tDANN\tDANN\tDANN\tDANN\tDANN\tDANN\tDANN\tDANN\tDANN\tDANN\tDANN\tDANN\tDANN\tDANN\tDANN\tDANN\tDANN\tDANN\tDANN\tDANN\tDANN\tDANN\tDANN\tDANN\tDANN\tDANN\tDANN\tDANN\tDANN\tDANN\tDANN\tDANN\tDANN\tDANN\tDANN\tDANN\tDANN\tDANN\tDANN\tDANN\tDANN\tDANN\tDANN\tDANN\tDANN\tDANN\tDANN\tDANN\tDANN\tDANN\tDANN\tDANN\tDANN\tDANN\tDANN\tDANN\tDANN\tDANN\tDANN\tDANN\tDANN\tDANN\tDANN\tDANN\tDANN\tDANN\tDANN\tDANN\tDANN\tDANN\tDANN\tDANN\tDANN\tDANN\tDANN\tDANN\tDANN\tDANN\tDANN\tDANN\tDANN\tDANN\tDANN\tDANN\tDANN\tDANN\tDANN\tDANN\tDANN\tDANN\tDANN\tDANN\tDANN\tDANN\tDANN\tDANN\tDANN\tDANN\tDANN\tDANN\tDANN\tDANN\tDANN\tDANN\tDANN\tDANN\tDANN\tDANN\tDANN\tDANN\tDANN\tDANN\tDANN\tDANN\tDANN\tDANN\tDANN\tDANN\tDANN\tDANN\tDANN\tDANN\tDANN\tDANN\tDANN\tDANN\tDANN\tDANN\tDANN\tDANN\tDANN\tDANN\tDANN\tDANN\tDANN\tDANN\tDANN\tDANN\tDANN\tDANN\tDANN\tDANN\tDANN\tDANN\tDANN\tDANN\tDANN\tDANN\tDANN\tDANN\tDANN\tDANN\tDANN\tDANN\tDANN\tDANN\tDANN\tDANN\tDANN\tDANN\tDANN\tDANN\tDANN\tDANN\tDANN\tDANN\tDANN\tDANN\tDANN\tDANN\tDANN\tDANN\tDANN\tDANN\tDANN\tDANN\tDANN\tDANN\tDANN\tDANN\tDANN\tDANN\tDANN\tDANN\tDANN\tDANN\tDANN\tDANN\tDANN\tDANN\tDANN\tDANN\tDANN\tDANN\tDANN\tDANN\tDANN\tDANN\tDANN\tDANN\tDANN\tDANN\tFinished Training\n",
      "/usr/local/lib/python3.7/dist-packages/numpy/lib/histograms.py:905: RuntimeWarning: invalid value encountered in true_divide\n",
      "  return n/db/n.sum(), bin_edges\n",
      "<Figure size 640x480 with 1 Axes>\n",
      "  0% 0/10 [00:00<?, ?it/s]\n",
      "Number: 282\t Target Domain Category: {0, 1, 2, 3, 4, 5, 6, 7, 8, 9}\n",
      "Linear(in_features=2048, out_features=10, bias=True) \n",
      "\n",
      "\n",
      "Transfer learning train 50: 100% 50/50 [05:37<00:00,  6.75s/it, AllAccuracy=98.7, MAXSeenAccuracy=98.7]\n",
      "DANN\tDANN\tDANN\tDANN\tDANN\tDANN\tDANN\tDANN\tDANN\tDANN\tDANN\tDANN\tDANN\tDANN\tDANN\tDANN\tDANN\tDANN\tDANN\tDANN\tDANN\tDANN\tDANN\tDANN\tDANN\tDANN\tDANN\tDANN\tDANN\tDANN\tDANN\tDANN\tDANN\tDANN\tDANN\tDANN\tDANN\tDANN\tDANN\tDANN\tDANN\tDANN\tDANN\tDANN\tDANN\tDANN\tDANN\tDANN\tDANN\tDANN\tDANN\tDANN\tDANN\tDANN\tDANN\tDANN\tDANN\tDANN\tDANN\tDANN\tDANN\tDANN\tDANN\tDANN\tDANN\tDANN\tDANN\tDANN\tDANN\tDANN\tDANN\tDANN\tDANN\tDANN\tDANN\tDANN\tDANN\tDANN\tDANN\tDANN\tDANN\tDANN\tDANN\tDANN\tDANN\tDANN\tDANN\tDANN\tDANN\tDANN\tDANN\tDANN\tDANN\tDANN\tDANN\tDANN\tDANN\tDANN\tDANN\tDANN\tDANN\tDANN\tDANN\tDANN\tDANN\tDANN\tDANN\tDANN\tDANN\tDANN\tDANN\tDANN\tDANN\tDANN\tDANN\tDANN\tDANN\tDANN\tDANN\tDANN\tDANN\tDANN\tDANN\tDANN\tDANN\tDANN\tDANN\tDANN\tDANN\tDANN\tDANN\tDANN\tDANN\tDANN\tDANN\tDANN\tDANN\tDANN\tDANN\tDANN\tDANN\tDANN\tDANN\tDANN\tDANN\tDANN\tDANN\tDANN\tDANN\tDANN\tDANN\tDANN\tDANN\tDANN\tDANN\tDANN\tDANN\tDANN\tDANN\tDANN\tDANN\tDANN\tDANN\tDANN\tDANN\tDANN\tDANN\tDANN\tDANN\tDANN\tDANN\tDANN\tDANN\tDANN\tDANN\tDANN\tDANN\tDANN\tDANN\tDANN\tDANN\tDANN\tDANN\tDANN\tDANN\tDANN\tDANN\tDANN\tDANN\tDANN\tDANN\tDANN\tDANN\tDANN\tDANN\tDANN\tDANN\tDANN\tDANN\tDANN\tDANN\tDANN\tDANN\tDANN\tDANN\tDANN\tDANN\tDANN\tDANN\tDANN\tDANN\tDANN\tDANN\tDANN\tDANN\tDANN\tDANN\tDANN\tDANN\tDANN\tDANN\tDANN\tDANN\tDANN\tDANN\tDANN\tDANN\tDANN\tDANN\tDANN\tDANN\tDANN\tDANN\tDANN\tDANN\tDANN\tDANN\tDANN\tDANN\tDANN\tDANN\tDANN\tDANN\tDANN\tDANN\tDANN\tDANN\tDANN\tDANN\tDANN\tDANN\tDANN\tDANN\tDANN\tDANN\tDANN\tDANN\tDANN\tDANN\tDANN\tDANN\tDANN\tDANN\tDANN\tDANN\tDANN\tDANN\tDANN\tDANN\tDANN\tDANN\tDANN\tDANN\tDANN\tDANN\tDANN\tDANN\tDANN\tDANN\tDANN\tDANN\tDANN\tDANN\tDANN\tDANN\tDANN\tDANN\tDANN\tDANN\tDANN\tDANN\tDANN\tDANN\tDANN\tDANN\tDANN\tDANN\tDANN\tDANN\tDANN\tDANN\tDANN\tDANN\tDANN\tDANN\tDANN\tDANN\tDANN\tDANN\tDANN\tDANN\tDANN\tDANN\tDANN\tDANN\tDANN\tDANN\tDANN\tDANN\tDANN\tDANN\tDANN\tDANN\tDANN\tDANN\tDANN\tDANN\tDANN\tDANN\tDANN\tDANN\tDANN\tDANN\tDANN\tDANN\tDANN\tDANN\tDANN\tDANN\tDANN\tDANN\tDANN\tDANN\tDANN\tDANN\tDANN\tDANN\tDANN\tDANN\tDANN\tDANN\tDANN\tDANN\tDANN\tDANN\tDANN\tDANN\tDANN\tDANN\tDANN\tDANN\tDANN\tDANN\tDANN\tDANN\tDANN\tDANN\tDANN\tDANN\tDANN\tDANN\tDANN\tDANN\tDANN\tDANN\tDANN\tDANN\tDANN\tDANN\tDANN\tDANN\tDANN\tDANN\tDANN\tDANN\tDANN\tDANN\tDANN\tDANN\tDANN\tDANN\tDANN\tDANN\tDANN\tDANN\tDANN\tDANN\tDANN\tDANN\tDANN\tDANN\tDANN\tDANN\tDANN\tDANN\tDANN\tDANN\tDANN\tDANN\tDANN\tDANN\tDANN\tDANN\tDANN\tDANN\tDANN\tDANN\tDANN\tDANN\tDANN\tDANN\tDANN\tDANN\tDANN\tDANN\tDANN\tDANN\tDANN\tDANN\tDANN\tDANN\tDANN\tDANN\tDANN\tDANN\tDANN\tDANN\tDANN\tDANN\tDANN\tDANN\tDANN\tDANN\tDANN\tDANN\tDANN\tDANN\tDANN\tDANN\tDANN\tDANN\tDANN\tDANN\tDANN\tDANN\tDANN\tDANN\tDANN\tDANN\tDANN\tDANN\tDANN\tDANN\tDANN\tDANN\tDANN\tDANN\tDANN\tDANN\tDANN\tDANN\tDANN\tDANN\tDANN\tDANN\tDANN\tDANN\tDANN\tDANN\tDANN\tDANN\tDANN\tDANN\tDANN\tDANN\tDANN\tDANN\tDANN\tDANN\tDANN\tDANN\tDANN\tDANN\tDANN\tDANN\tDANN\tDANN\tDANN\tDANN\tDANN\tDANN\tDANN\tDANN\tDANN\tDANN\tDANN\tDANN\tDANN\tDANN\tDANN\tDANN\tDANN\tDANN\tDANN\tDANN\tDANN\tDANN\tDANN\tDANN\tDANN\tDANN\tDANN\tDANN\tDANN\tDANN\tDANN\tDANN\tDANN\tDANN\tDANN\tDANN\tDANN\tDANN\tDANN\tDANN\tDANN\tDANN\tDANN\tDANN\tDANN\tDANN\tDANN\tDANN\tDANN\tDANN\tDANN\tDANN\tDANN\tDANN\tDANN\tDANN\tDANN\tDANN\tDANN\tDANN\tDANN\tDANN\tDANN\tDANN\tDANN\tDANN\tDANN\tDANN\tDANN\tDANN\tDANN\tDANN\tDANN\tDANN\tDANN\tDANN\tDANN\tDANN\tDANN\tDANN\tDANN\tDANN\tDANN\tDANN\tDANN\tDANN\tDANN\tDANN\tDANN\tDANN\tDANN\tDANN\tDANN\tDANN\tDANN\tDANN\tDANN\tDANN\tDANN\tDANN\tDANN\tDANN\tDANN\tDANN\tDANN\tDANN\tDANN\tDANN\tDANN\tDANN\tDANN\tDANN\tDANN\tDANN\tDANN\tDANN\tDANN\tDANN\tDANN\tDANN\tDANN\tDANN\tDANN\tDANN\tDANN\tDANN\tDANN\tDANN\tDANN\tDANN\tDANN\tDANN\tDANN\tDANN\tDANN\tDANN\tDANN\tDANN\tDANN\tDANN\tDANN\tDANN\tDANN\tDANN\tDANN\tDANN\tDANN\tDANN\tDANN\tDANN\tDANN\tDANN\tDANN\tDANN\tDANN\tDANN\tDANN\tDANN\tDANN\tDANN\tDANN\tDANN\tDANN\tDANN\tDANN\tDANN\tDANN\tDANN\tDANN\tDANN\tDANN\tDANN\tDANN\tDANN\tDANN\tDANN\tDANN\tDANN\tDANN\tDANN\tDANN\tDANN\tDANN\tDANN\tDANN\tDANN\tDANN\tDANN\tDANN\tDANN\tDANN\tDANN\tDANN\tDANN\tDANN\tDANN\tDANN\tDANN\tDANN\tDANN\tDANN\tDANN\tDANN\tDANN\tDANN\tDANN\tDANN\tDANN\tDANN\tDANN\tDANN\tDANN\tDANN\tDANN\tDANN\tDANN\tDANN\tDANN\tDANN\tDANN\tDANN\tDANN\tDANN\tDANN\tDANN\tDANN\tDANN\tDANN\tDANN\tDANN\tDANN\tDANN\tDANN\tDANN\tDANN\tDANN\tDANN\tDANN\tDANN\tDANN\tDANN\tDANN\tDANN\tDANN\tDANN\tDANN\tDANN\tDANN\tDANN\tDANN\tDANN\tDANN\tDANN\tDANN\tDANN\tDANN\tDANN\tDANN\tDANN\tDANN\tDANN\tDANN\tDANN\tDANN\tDANN\tDANN\tDANN\tDANN\tDANN\tDANN\tDANN\tDANN\tDANN\tDANN\tDANN\tDANN\tDANN\tDANN\tDANN\tDANN\tDANN\tDANN\tDANN\tDANN\tDANN\tDANN\tDANN\tDANN\tDANN\tDANN\tDANN\tDANN\tDANN\tDANN\tDANN\tDANN\tDANN\tDANN\tDANN\tDANN\tDANN\tDANN\tDANN\tDANN\tDANN\t[3, 0.0, 1.0, 0.37012987012987014]\n",
      "[8, 0.11688311688311688, 0.9763779527559056, 0.8051948051948052]\n",
      "[10, 0.19480519480519481, 0.9805194805194806, 0.9805194805194806]\n",
      "[10, 0.23376623376623376, 0.987012987012987, 0.987012987012987]\n"
     ]
    }
   ],
   "source": [
    "!python _raw_DANN.py --source 'amazon' --target 'dslr'"
   ]
  },
  {
   "cell_type": "code",
   "execution_count": null,
   "metadata": {
    "colab": {
     "background_save": true,
     "base_uri": "https://localhost:8080/"
    },
    "id": "RX4naFufoDSj",
    "outputId": "78960c4b-5689-4518-9461-256eac442c96"
   },
   "outputs": [
    {
     "name": "stdout",
     "output_type": "stream",
     "text": [
      "/content/utils.py:49: VisibleDeprecationWarning: Creating an ndarray from ragged nested sequences (which is a list-or-tuple of lists-or-tuples-or ndarrays with different lengths or shapes) is deprecated. If you meant to do this, you must specify 'dtype=object' when creating the ndarray\n",
      "  self.img = np.array(self.img)\n",
      "Number: 78\t Source Domain Category: {0, 1, 2}\n",
      "Number: 824\t Target Domain Category: {0, 1, 2, 3, 4, 5, 6, 7, 8, 9}\n",
      "Linear(in_features=2048, out_features=3, bias=True) \n",
      "\n",
      "\n",
      "Transfer learning train 1:   0% 0/10 [00:00<?, ?it/s]/usr/local/lib/python3.7/dist-packages/torch/nn/functional.py:718: UserWarning: Named tensors and all their associated APIs are an experimental feature and subject to change. Please do not use them for anything important until they are released as stable. (Triggered internally at  /pytorch/c10/core/TensorImpl.h:1156.)\n",
      "  return torch.max_pool2d(input, kernel_size, stride, padding, dilation, ceil_mode)\n",
      "Transfer learning train 10: 100% 10/10 [00:47<00:00,  4.77s/it, AllAccuracy=29.6, MAXSeenAccuracy=99.2]\n",
      "FineTrain 60: 100% 60/60 [01:23<00:00,  1.40s/it, accuracy=100, loss=0.000398, minloss=0.000527]\n",
      "DANN\tDANN\tDANN\tDANN\tDANN\tDANN\tDANN\tDANN\tDANN\tDANN\tDANN\tDANN\tDANN\tDANN\tDANN\tDANN\tDANN\tDANN\tDANN\tDANN\tDANN\tDANN\tDANN\tDANN\tDANN\tDANN\tDANN\tDANN\tDANN\tDANN\tDANN\tDANN\tDANN\tDANN\tDANN\tDANN\tDANN\tDANN\tDANN\tDANN\tFinished Training\n",
      "<Figure size 640x480 with 1 Axes>\n",
      " 40% 4/10 [00:00<00:01,  5.24it/s]\n",
      "There are 0 cluster class centers labeled as 3, sampled separately according to [4] and each sample with label [9, 3, 3, 3]\n",
      "There are 1 cluster class centers labeled as 4, sampled separately according to [4] and each sample with label [4, 0, 7, 0]\n",
      "There are 1 cluster class centers labeled as 5, sampled separately according to [4] and each sample with label [5, 5, 5, 5]\n",
      "There are 1 cluster class centers labeled as 6, sampled separately according to [4] and each sample with label [6, 6, 6, 6]\n",
      "There are 0 cluster class centers labeled as 8, sampled separately according to [4] and each sample with label [8, 8, 8, 8]\n",
      "There are 1 cluster class centers labeled as 9, sampled separately according to [4] and each sample with label [9, 9, 9, 9]\n",
      "_raw_DANN.py:253: VisibleDeprecationWarning: Creating an ndarray from ragged nested sequences (which is a list-or-tuple of lists-or-tuples-or ndarrays with different lengths or shapes) is deprecated. If you meant to do this, you must specify 'dtype=object' when creating the ndarray\n",
      "  np.array(list(self.Sub.keys()))[[_==x for _ in list(self.Sub.values())]]], set(self.Sub.values())))).T.tolist()\n",
      "<Figure size 1800x600 with 2 Axes>\n",
      "/content/utils.py:49: VisibleDeprecationWarning: Creating an ndarray from ragged nested sequences (which is a list-or-tuple of lists-or-tuples-or ndarrays with different lengths or shapes) is deprecated. If you meant to do this, you must specify 'dtype=object' when creating the ndarray\n",
      "  self.img = np.array(self.img)\n",
      "Number: 101\t Target Domain Category: {0, 1, 2, 3, 4, 5, 6, 8, 9}\n",
      "Linear(in_features=2048, out_features=9, bias=True) \n",
      "\n",
      "\n",
      "Transfer learning train 50: 100% 50/50 [04:07<00:00,  4.96s/it, AllAccuracy=80.6, MAXSeenAccuracy=91.3]\n",
      "FineTrain 60: 100% 60/60 [01:36<00:00,  1.61s/it, accuracy=95, loss=0.000117, minloss=0.000407]\n",
      "DANN\tDANN\tDANN\tDANN\tDANN\tDANN\tDANN\tDANN\tDANN\tDANN\tDANN\tDANN\tDANN\tDANN\tDANN\tDANN\tDANN\tDANN\tDANN\tDANN\tDANN\tDANN\tDANN\tDANN\tDANN\tDANN\tDANN\tDANN\tDANN\tDANN\tDANN\tDANN\tDANN\tDANN\tDANN\tDANN\tDANN\tDANN\tDANN\tDANN\tDANN\tDANN\tDANN\tDANN\tDANN\tDANN\tDANN\tDANN\tDANN\tDANN\tDANN\tDANN\tDANN\tDANN\tDANN\tDANN\tDANN\tDANN\tDANN\tDANN\tDANN\tDANN\tDANN\tDANN\tDANN\tDANN\tDANN\tDANN\tDANN\tDANN\tDANN\tDANN\tDANN\tDANN\tDANN\tDANN\tDANN\tDANN\tDANN\tDANN\tDANN\tDANN\tDANN\tDANN\tDANN\tDANN\tDANN\tDANN\tDANN\tDANN\tDANN\tDANN\tDANN\tDANN\tDANN\tDANN\tDANN\tDANN\tDANN\tDANN\tDANN\tDANN\tDANN\tDANN\tDANN\tDANN\tDANN\tDANN\tDANN\tDANN\tDANN\tDANN\tDANN\tDANN\tDANN\tDANN\tDANN\tDANN\tDANN\tDANN\tDANN\tDANN\tDANN\tDANN\tDANN\tDANN\tDANN\tDANN\tDANN\tDANN\tDANN\tDANN\tDANN\tDANN\tDANN\tDANN\tDANN\tDANN\tDANN\tDANN\tDANN\tDANN\tDANN\tDANN\tDANN\tDANN\tDANN\tDANN\tDANN\tDANN\tDANN\tDANN\tDANN\tDANN\tDANN\tDANN\tDANN\tDANN\tDANN\tDANN\tDANN\tDANN\tDANN\tDANN\tDANN\tDANN\tDANN\tDANN\tDANN\tDANN\tDANN\tDANN\tDANN\tDANN\tDANN\tDANN\tDANN\tDANN\tDANN\tDANN\tDANN\tDANN\tDANN\tDANN\tDANN\tDANN\tDANN\tDANN\tDANN\tDANN\tDANN\tDANN\tDANN\tDANN\tDANN\tDANN\tDANN\tDANN\tDANN\tDANN\tDANN\tDANN\tDANN\tDANN\tDANN\tDANN\tDANN\tDANN\tDANN\tDANN\tDANN\tDANN\tDANN\tDANN\tDANN\tDANN\tDANN\tDANN\tDANN\tDANN\tDANN\tDANN\tDANN\tDANN\tDANN\tDANN\tDANN\tDANN\tDANN\tDANN\tDANN\tDANN\tDANN\tDANN\tDANN\tDANN\tDANN\tDANN\tDANN\tDANN\tDANN\tDANN\tDANN\tDANN\tDANN\tDANN\tDANN\tDANN\tDANN\tDANN\tFinished Training\n",
      "<Figure size 640x480 with 1 Axes>\n",
      " 40% 4/10 [00:00<00:00, 11.77it/s]\n",
      "There are 1 cluster class centers labeled as 7, sampled separately according to [4] and each sample with label [7, 7, 7, 7]\n",
      "_raw_DANN.py:253: VisibleDeprecationWarning: Creating an ndarray from ragged nested sequences (which is a list-or-tuple of lists-or-tuples-or ndarrays with different lengths or shapes) is deprecated. If you meant to do this, you must specify 'dtype=object' when creating the ndarray\n",
      "  np.array(list(self.Sub.keys()))[[_==x for _ in list(self.Sub.values())]]], set(self.Sub.values())))).T.tolist()\n",
      "<Figure size 1800x600 with 2 Axes>\n",
      "/content/utils.py:49: VisibleDeprecationWarning: Creating an ndarray from ragged nested sequences (which is a list-or-tuple of lists-or-tuples-or ndarrays with different lengths or shapes) is deprecated. If you meant to do this, you must specify 'dtype=object' when creating the ndarray\n",
      "  self.img = np.array(self.img)\n",
      "Number: 107\t Target Domain Category: {0, 1, 2, 3, 4, 5, 6, 7, 8, 9}\n",
      "Linear(in_features=2048, out_features=10, bias=True) \n",
      "\n",
      "\n",
      "Transfer learning train 50: 100% 50/50 [04:07<00:00,  4.95s/it, AllAccuracy=88.5, MAXSeenAccuracy=88.5]\n",
      "FineTrain 60: 100% 60/60 [01:33<00:00,  1.56s/it, accuracy=89.7, loss=0.000165, minloss=0.000367]\n",
      "DANN\tDANN\tDANN\tDANN\tDANN\tDANN\tDANN\tDANN\tDANN\tDANN\tDANN\tDANN\tDANN\tDANN\tDANN\tDANN\tDANN\tDANN\tDANN\tDANN\tDANN\tDANN\tDANN\tDANN\tDANN\tDANN\tDANN\tDANN\tDANN\tDANN\tDANN\tDANN\tDANN\tDANN\tDANN\tDANN\tDANN\tDANN\tDANN\tDANN\tDANN\tDANN\tDANN\tDANN\tDANN\tDANN\tDANN\tDANN\tDANN\tDANN\tDANN\tDANN\tDANN\tDANN\tDANN\tDANN\tDANN\tDANN\tDANN\tDANN\tDANN\tDANN\tDANN\tDANN\tDANN\tDANN\tDANN\tDANN\tDANN\tDANN\tDANN\tDANN\tDANN\tDANN\tDANN\tDANN\tDANN\tDANN\tDANN\tDANN\tDANN\tDANN\tDANN\tDANN\tDANN\tDANN\tDANN\tDANN\tDANN\tDANN\tDANN\tDANN\tDANN\tDANN\tDANN\tDANN\tDANN\tDANN\tDANN\tDANN\tDANN\tDANN\tDANN\tDANN\tDANN\tDANN\tDANN\tDANN\tDANN\tDANN\tDANN\tDANN\tDANN\tDANN\tDANN\tDANN\tDANN\tDANN\tDANN\tDANN\tDANN\tDANN\tDANN\tDANN\tDANN\tDANN\tDANN\tDANN\tDANN\tDANN\tDANN\tDANN\tDANN\tDANN\tDANN\tDANN\tDANN\tDANN\tDANN\tDANN\tDANN\tDANN\tDANN\tDANN\tDANN\tDANN\tDANN\tDANN\tDANN\tDANN\tDANN\tDANN\tDANN\tDANN\tDANN\tDANN\tDANN\tDANN\tDANN\tDANN\tDANN\tDANN\tDANN\tDANN\tDANN\tDANN\tDANN\tDANN\tDANN\tDANN\tDANN\tDANN\tDANN\tDANN\tDANN\tDANN\tDANN\tDANN\tDANN\tDANN\tDANN\tDANN\tDANN\tDANN\tDANN\tDANN\tDANN\tDANN\tDANN\tDANN\tDANN\tDANN\tDANN\tDANN\tDANN\tDANN\tDANN\tDANN\tDANN\tDANN\tDANN\tDANN\tDANN\tDANN\tDANN\tDANN\tDANN\tDANN\tDANN\tDANN\tDANN\tDANN\tDANN\tDANN\tDANN\tDANN\tDANN\tDANN\tDANN\tDANN\tDANN\tDANN\tDANN\tDANN\tDANN\tDANN\tDANN\tDANN\tDANN\tDANN\tDANN\tDANN\tDANN\tDANN\tDANN\tDANN\tDANN\tDANN\tDANN\tDANN\tDANN\tDANN\tDANN\tDANN\tDANN\tDANN\tDANN\tDANN\tDANN\tDANN\tFinished Training\n",
      "/usr/local/lib/python3.7/dist-packages/numpy/lib/histograms.py:905: RuntimeWarning: invalid value encountered in true_divide\n",
      "  return n/db/n.sum(), bin_edges\n",
      "<Figure size 640x480 with 1 Axes>\n",
      " 40% 4/10 [00:00<00:00,  7.78it/s]\n",
      "Number: 115\t Target Domain Category: {0, 1, 2, 3, 4, 5, 6, 7, 8, 9}\n",
      "Linear(in_features=2048, out_features=10, bias=True) \n",
      "\n",
      "\n",
      "Transfer learning train 50: 100% 50/50 [04:15<00:00,  5.11s/it, AllAccuracy=87.7, MAXSeenAccuracy=87.7]\n",
      "DANN\tDANN\tDANN\tDANN\tDANN\tDANN\tDANN\tDANN\tDANN\tDANN\tDANN\tDANN\tDANN\tDANN\tDANN\tDANN\tDANN\tDANN\tDANN\tDANN\tDANN\tDANN\tDANN\tDANN\tDANN\tDANN\tDANN\tDANN\tDANN\tDANN\tDANN\tDANN\tDANN\tDANN\tDANN\tDANN\tDANN\tDANN\tDANN\tDANN\tDANN\tDANN\tDANN\tDANN\tDANN\tDANN\tDANN\tDANN\tDANN\tDANN\tDANN\tDANN\tDANN\tDANN\tDANN\tDANN\tDANN\tDANN\tDANN\tDANN\tDANN\tDANN\tDANN\tDANN\tDANN\tDANN\tDANN\tDANN\tDANN\tDANN\tDANN\tDANN\tDANN\tDANN\tDANN\tDANN\tDANN\tDANN\tDANN\tDANN\tDANN\tDANN\tDANN\tDANN\tDANN\tDANN\tDANN\tDANN\tDANN\tDANN\tDANN\tDANN\tDANN\tDANN\tDANN\tDANN\tDANN\tDANN\tDANN\tDANN\tDANN\tDANN\tDANN\tDANN\tDANN\tDANN\tDANN\tDANN\tDANN\tDANN\tDANN\tDANN\tDANN\tDANN\tDANN\tDANN\tDANN\tDANN\tDANN\tDANN\tDANN\tDANN\tDANN\tDANN\tDANN\tDANN\tDANN\tDANN\tDANN\tDANN\tDANN\tDANN\tDANN\tDANN\tDANN\tDANN\tDANN\tDANN\tDANN\tDANN\tDANN\tDANN\tDANN\tDANN\tDANN\tDANN\tDANN\tDANN\tDANN\tDANN\tDANN\tDANN\tDANN\tDANN\tDANN\tDANN\tDANN\tDANN\tDANN\tDANN\tDANN\tDANN\tDANN\tDANN\tDANN\tDANN\tDANN\tDANN\tDANN\tDANN\tDANN\tDANN\tDANN\tDANN\tDANN\tDANN\tDANN\tDANN\tDANN\tDANN\tDANN\tDANN\tDANN\tDANN\tDANN\tDANN\tDANN\tDANN\tDANN\tDANN\tDANN\tDANN\tDANN\tDANN\tDANN\tDANN\tDANN\tDANN\tDANN\tDANN\tDANN\tDANN\tDANN\tDANN\tDANN\tDANN\tDANN\tDANN\tDANN\tDANN\tDANN\tDANN\tDANN\tDANN\tDANN\tDANN\tDANN\tDANN\tDANN\tDANN\tDANN\tDANN\tDANN\tDANN\tDANN\tDANN\tDANN\tDANN\tDANN\tDANN\tDANN\tDANN\tDANN\tDANN\tDANN\tDANN\tDANN\tDANN\tDANN\tDANN\tDANN\tDANN\tDANN\tDANN\tDANN\tDANN\tDANN\tDANN\tDANN\tDANN\tDANN\tDANN\tDANN\tDANN\tDANN\tDANN\tDANN\tDANN\tDANN\tDANN\tDANN\tDANN\tDANN\tDANN\tDANN\tDANN\tDANN\tDANN\tDANN\tDANN\tDANN\tDANN\tDANN\tDANN\tDANN\tDANN\tDANN\tDANN\tDANN\tDANN\tDANN\tDANN\tDANN\tDANN\tDANN\tDANN\tDANN\tDANN\tDANN\tDANN\tDANN\tDANN\tDANN\tDANN\tDANN\tDANN\tDANN\tDANN\tDANN\tDANN\t[3, 0.0, 0.991869918699187, 0.2961165048543689]\n",
      "[9, 0.027912621359223302, 0.9133425034387895, 0.8058252427184466]\n",
      "[10, 0.03519417475728155, 0.8847087378640777, 0.8847087378640777]\n",
      "[10, 0.044902912621359224, 0.8774271844660194, 0.8774271844660194]\n"
     ]
    }
   ],
   "source": [
    "!python _raw_DANN.py --source 'webcam' --target 'amazon'"
   ]
  },
  {
   "cell_type": "code",
   "execution_count": 10,
   "metadata": {
    "colab": {
     "base_uri": "https://localhost:8080/"
    },
    "id": "ZWmrNDrMoDX2",
    "outputId": "dee38737-165b-49c9-ea2e-9145090472ee"
   },
   "outputs": [
    {
     "name": "stdout",
     "output_type": "stream",
     "text": [
      "/content/utils.py:49: VisibleDeprecationWarning: Creating an ndarray from ragged nested sequences (which is a list-or-tuple of lists-or-tuples-or ndarrays with different lengths or shapes) is deprecated. If you meant to do this, you must specify 'dtype=object' when creating the ndarray\n",
      "  self.img = np.array(self.img)\n",
      "Number: 78\t Source Domain Category: {0, 1, 2}\n",
      "Number: 154\t Target Domain Category: {0, 1, 2, 3, 4, 5, 6, 7, 8, 9}\n",
      "Linear(in_features=2048, out_features=3, bias=True) \n",
      "\n",
      "\n",
      "Transfer learning train 1:   0% 0/10 [00:00<?, ?it/s]/usr/local/lib/python3.7/dist-packages/torch/nn/functional.py:718: UserWarning: Named tensors and all their associated APIs are an experimental feature and subject to change. Please do not use them for anything important until they are released as stable. (Triggered internally at  /pytorch/c10/core/TensorImpl.h:1156.)\n",
      "  return torch.max_pool2d(input, kernel_size, stride, padding, dilation, ceil_mode)\n",
      "Transfer learning train 10: 100% 10/10 [00:33<00:00,  3.33s/it, AllAccuracy=37, MAXSeenAccuracy=100]\n",
      "FineTrain 60: 100% 60/60 [01:23<00:00,  1.40s/it, accuracy=100, loss=0.000453, minloss=0.000329]\n",
      "DANN\tDANN\tDANN\tDANN\tDANN\tDANN\tDANN\tDANN\tDANN\tDANN\tDANN\tDANN\tDANN\tDANN\tDANN\tDANN\tDANN\tDANN\tDANN\tDANN\tDANN\tDANN\tDANN\tDANN\tDANN\tDANN\tDANN\tDANN\tDANN\tDANN\tDANN\tDANN\tDANN\tDANN\tDANN\tDANN\tDANN\tDANN\tDANN\tDANN\tFinished Training\n",
      "<Figure size 640x480 with 1 Axes>\n",
      " 40% 4/10 [00:00<00:00, 24.65it/s]\n",
      "There are 0 cluster class centers labeled as 3, sampled separately according to [4] and each sample with label [3, 8, 3, 3]\n",
      "There are 1 cluster class centers labeled as 4, sampled separately according to [4] and each sample with label [4, 4, 4, 4]\n",
      "There are 1 cluster class centers labeled as 5, sampled separately according to [4] and each sample with label [5, 5, 5, 5]\n",
      "There are 1 cluster class centers labeled as 6, sampled separately according to [4] and each sample with label [6, 6, 6, 7]\n",
      "There are 1 cluster class centers labeled as 9, sampled separately according to [4] and each sample with label [9, 8, 9, 8]\n",
      "_raw_DANN.py:253: VisibleDeprecationWarning: Creating an ndarray from ragged nested sequences (which is a list-or-tuple of lists-or-tuples-or ndarrays with different lengths or shapes) is deprecated. If you meant to do this, you must specify 'dtype=object' when creating the ndarray\n",
      "  np.array(list(self.Sub.keys()))[[_==x for _ in list(self.Sub.values())]]], set(self.Sub.values())))).T.tolist()\n",
      "<Figure size 1800x600 with 2 Axes>\n",
      "/content/utils.py:49: VisibleDeprecationWarning: Creating an ndarray from ragged nested sequences (which is a list-or-tuple of lists-or-tuples-or ndarrays with different lengths or shapes) is deprecated. If you meant to do this, you must specify 'dtype=object' when creating the ndarray\n",
      "  self.img = np.array(self.img)\n",
      "Number: 96\t Target Domain Category: {0, 1, 2, 3, 4, 5, 6, 9}\n",
      "Linear(in_features=2048, out_features=8, bias=True) \n",
      "\n",
      "\n",
      "Transfer learning train 50: 100% 50/50 [02:58<00:00,  3.57s/it, AllAccuracy=80.5, MAXSeenAccuracy=99.2]\n",
      "FineTrain 60: 100% 60/60 [01:46<00:00,  1.77s/it, accuracy=100, loss=0.000468, minloss=0.000271]\n",
      "DANN\tDANN\tDANN\tDANN\tDANN\tDANN\tDANN\tDANN\tDANN\tDANN\tDANN\tDANN\tDANN\tDANN\tDANN\tDANN\tDANN\tDANN\tDANN\tDANN\tDANN\tDANN\tDANN\tDANN\tDANN\tDANN\tDANN\tDANN\tDANN\tDANN\tDANN\tDANN\tDANN\tDANN\tDANN\tDANN\tDANN\tDANN\tDANN\tDANN\tDANN\tDANN\tDANN\tDANN\tDANN\tDANN\tDANN\tDANN\tDANN\tDANN\tDANN\tDANN\tDANN\tDANN\tDANN\tDANN\tDANN\tDANN\tDANN\tDANN\tDANN\tDANN\tDANN\tDANN\tDANN\tDANN\tDANN\tDANN\tDANN\tDANN\tDANN\tDANN\tDANN\tDANN\tDANN\tDANN\tDANN\tDANN\tDANN\tDANN\tDANN\tDANN\tDANN\tDANN\tDANN\tDANN\tDANN\tDANN\tDANN\tDANN\tDANN\tDANN\tDANN\tDANN\tDANN\tDANN\tDANN\tDANN\tDANN\tDANN\tDANN\tDANN\tDANN\tDANN\tDANN\tDANN\tDANN\tDANN\tDANN\tDANN\tDANN\tDANN\tDANN\tDANN\tDANN\tDANN\tDANN\tDANN\tDANN\tDANN\tDANN\tDANN\tDANN\tDANN\tDANN\tDANN\tDANN\tDANN\tDANN\tDANN\tDANN\tDANN\tDANN\tDANN\tDANN\tDANN\tDANN\tDANN\tDANN\tDANN\tDANN\tDANN\tDANN\tDANN\tDANN\tDANN\tDANN\tDANN\tDANN\tDANN\tDANN\tDANN\tDANN\tDANN\tDANN\tDANN\tDANN\tDANN\tDANN\tDANN\tDANN\tDANN\tDANN\tDANN\tDANN\tDANN\tDANN\tDANN\tDANN\tDANN\tDANN\tDANN\tDANN\tDANN\tDANN\tDANN\tDANN\tDANN\tDANN\tDANN\tDANN\tDANN\tDANN\tDANN\tDANN\tDANN\tDANN\tDANN\tDANN\tDANN\tDANN\tDANN\tDANN\tDANN\tDANN\tDANN\tDANN\tDANN\tDANN\tDANN\tDANN\tDANN\tDANN\tDANN\tDANN\tDANN\tDANN\tDANN\tDANN\tDANN\tDANN\tDANN\tDANN\tDANN\tDANN\tDANN\tDANN\tDANN\tDANN\tDANN\tDANN\tDANN\tDANN\tDANN\tDANN\tDANN\tDANN\tDANN\tDANN\tDANN\tDANN\tDANN\tDANN\tDANN\tDANN\tDANN\tDANN\tDANN\tDANN\tDANN\tDANN\tDANN\tDANN\tDANN\tDANN\tDANN\tDANN\tDANN\tDANN\tDANN\tFinished Training\n",
      "<Figure size 640x480 with 1 Axes>\n",
      "  0% 0/10 [00:00<?, ?it/s]\n",
      "There are 1 cluster class centers labeled as 8, sampled separately according to [4] and each sample with label [8, 8, 8, 8]\n",
      "There are 1 cluster class centers labeled as 7, sampled separately according to [4] and each sample with label [7, 7, 7, 7]\n",
      "_raw_DANN.py:253: VisibleDeprecationWarning: Creating an ndarray from ragged nested sequences (which is a list-or-tuple of lists-or-tuples-or ndarrays with different lengths or shapes) is deprecated. If you meant to do this, you must specify 'dtype=object' when creating the ndarray\n",
      "  np.array(list(self.Sub.keys()))[[_==x for _ in list(self.Sub.values())]]], set(self.Sub.values())))).T.tolist()\n",
      "<Figure size 1800x600 with 2 Axes>\n",
      "/content/utils.py:49: VisibleDeprecationWarning: Creating an ndarray from ragged nested sequences (which is a list-or-tuple of lists-or-tuples-or ndarrays with different lengths or shapes) is deprecated. If you meant to do this, you must specify 'dtype=object' when creating the ndarray\n",
      "  self.img = np.array(self.img)\n",
      "Number: 107\t Target Domain Category: {0, 1, 2, 3, 4, 5, 6, 7, 8, 9}\n",
      "Linear(in_features=2048, out_features=10, bias=True) \n",
      "\n",
      "\n",
      "Transfer learning train 50: 100% 50/50 [03:05<00:00,  3.70s/it, AllAccuracy=95.5, MAXSeenAccuracy=95.5]\n",
      "FineTrain 60: 100% 60/60 [01:49<00:00,  1.83s/it, accuracy=89.7, loss=0.000264, minloss=0.000403]\n",
      "DANN\tDANN\tDANN\tDANN\tDANN\tDANN\tDANN\tDANN\tDANN\tDANN\tDANN\tDANN\tDANN\tDANN\tDANN\tDANN\tDANN\tDANN\tDANN\tDANN\tDANN\tDANN\tDANN\tDANN\tDANN\tDANN\tDANN\tDANN\tDANN\tDANN\tDANN\tDANN\tDANN\tDANN\tDANN\tDANN\tDANN\tDANN\tDANN\tDANN\tDANN\tDANN\tDANN\tDANN\tDANN\tDANN\tDANN\tDANN\tDANN\tDANN\tDANN\tDANN\tDANN\tDANN\tDANN\tDANN\tDANN\tDANN\tDANN\tDANN\tDANN\tDANN\tDANN\tDANN\tDANN\tDANN\tDANN\tDANN\tDANN\tDANN\tDANN\tDANN\tDANN\tDANN\tDANN\tDANN\tDANN\tDANN\tDANN\tDANN\tDANN\tDANN\tDANN\tDANN\tDANN\tDANN\tDANN\tDANN\tDANN\tDANN\tDANN\tDANN\tDANN\tDANN\tDANN\tDANN\tDANN\tDANN\tDANN\tDANN\tDANN\tDANN\tDANN\tDANN\tDANN\tDANN\tDANN\tDANN\tDANN\tDANN\tDANN\tDANN\tDANN\tDANN\tDANN\tDANN\tDANN\tDANN\tDANN\tDANN\tDANN\tDANN\tDANN\tDANN\tDANN\tDANN\tDANN\tDANN\tDANN\tDANN\tDANN\tDANN\tDANN\tDANN\tDANN\tDANN\tDANN\tDANN\tDANN\tDANN\tDANN\tDANN\tDANN\tDANN\tDANN\tDANN\tDANN\tDANN\tDANN\tDANN\tDANN\tDANN\tDANN\tDANN\tDANN\tDANN\tDANN\tDANN\tDANN\tDANN\tDANN\tDANN\tDANN\tDANN\tDANN\tDANN\tDANN\tDANN\tDANN\tDANN\tDANN\tDANN\tDANN\tDANN\tDANN\tDANN\tDANN\tDANN\tDANN\tDANN\tDANN\tDANN\tDANN\tDANN\tDANN\tDANN\tDANN\tDANN\tDANN\tDANN\tDANN\tDANN\tDANN\tDANN\tDANN\tDANN\tDANN\tDANN\tDANN\tDANN\tDANN\tDANN\tDANN\tDANN\tDANN\tDANN\tDANN\tDANN\tDANN\tDANN\tDANN\tDANN\tDANN\tDANN\tDANN\tDANN\tDANN\tDANN\tDANN\tDANN\tDANN\tDANN\tDANN\tDANN\tDANN\tDANN\tDANN\tDANN\tDANN\tDANN\tDANN\tDANN\tDANN\tDANN\tDANN\tDANN\tDANN\tDANN\tDANN\tDANN\tDANN\tDANN\tDANN\tDANN\tDANN\tDANN\tDANN\tDANN\tDANN\tDANN\tFinished Training\n",
      "/usr/local/lib/python3.7/dist-packages/numpy/lib/histograms.py:905: RuntimeWarning: invalid value encountered in true_divide\n",
      "  return n/db/n.sum(), bin_edges\n",
      "<Figure size 640x480 with 1 Axes>\n",
      "  0% 0/10 [00:00<?, ?it/s]\n",
      "Number: 113\t Target Domain Category: {0, 1, 2, 3, 4, 5, 6, 7, 8, 9}\n",
      "Linear(in_features=2048, out_features=10, bias=True) \n",
      "\n",
      "\n",
      "Transfer learning train 50: 100% 50/50 [03:22<00:00,  4.05s/it, AllAccuracy=100, MAXSeenAccuracy=100]\n",
      "DANN\tDANN\tDANN\tDANN\tDANN\tDANN\tDANN\tDANN\tDANN\tDANN\tDANN\tDANN\tDANN\tDANN\tDANN\tDANN\tDANN\tDANN\tDANN\tDANN\tDANN\tDANN\tDANN\tDANN\tDANN\tDANN\tDANN\tDANN\tDANN\tDANN\tDANN\tDANN\tDANN\tDANN\tDANN\tDANN\tDANN\tDANN\tDANN\tDANN\tDANN\tDANN\tDANN\tDANN\tDANN\tDANN\tDANN\tDANN\tDANN\tDANN\tDANN\tDANN\tDANN\tDANN\tDANN\tDANN\tDANN\tDANN\tDANN\tDANN\tDANN\tDANN\tDANN\tDANN\tDANN\tDANN\tDANN\tDANN\tDANN\tDANN\tDANN\tDANN\tDANN\tDANN\tDANN\tDANN\tDANN\tDANN\tDANN\tDANN\tDANN\tDANN\tDANN\tDANN\tDANN\tDANN\tDANN\tDANN\tDANN\tDANN\tDANN\tDANN\tDANN\tDANN\tDANN\tDANN\tDANN\tDANN\tDANN\tDANN\tDANN\tDANN\tDANN\tDANN\tDANN\tDANN\tDANN\tDANN\tDANN\tDANN\tDANN\tDANN\tDANN\tDANN\tDANN\tDANN\tDANN\tDANN\tDANN\tDANN\tDANN\tDANN\tDANN\tDANN\tDANN\tDANN\tDANN\tDANN\tDANN\tDANN\tDANN\tDANN\tDANN\tDANN\tDANN\tDANN\tDANN\tDANN\tDANN\tDANN\tDANN\tDANN\tDANN\tDANN\tDANN\tDANN\tDANN\tDANN\tDANN\tDANN\tDANN\tDANN\tDANN\tDANN\tDANN\tDANN\tDANN\tDANN\tDANN\tDANN\tDANN\tDANN\tDANN\tDANN\tDANN\tDANN\tDANN\tDANN\tDANN\tDANN\tDANN\tDANN\tDANN\tDANN\tDANN\tDANN\tDANN\tDANN\tDANN\tDANN\tDANN\tDANN\tDANN\tDANN\tDANN\tDANN\tDANN\tDANN\tDANN\tDANN\tDANN\tDANN\tDANN\tDANN\tDANN\tDANN\tDANN\tDANN\tDANN\tDANN\tDANN\tDANN\tDANN\tDANN\tDANN\tDANN\tDANN\tDANN\tDANN\tDANN\tDANN\tDANN\tDANN\tDANN\tDANN\tDANN\tDANN\tDANN\tDANN\tDANN\tDANN\tDANN\tDANN\tDANN\tDANN\tDANN\tDANN\tDANN\tDANN\tDANN\tDANN\tDANN\tDANN\tDANN\tDANN\tDANN\tDANN\tDANN\tDANN\tDANN\tDANN\tDANN\tDANN\tDANN\tDANN\tDANN\tDANN\tDANN\tDANN\tDANN\tDANN\tDANN\tDANN\tDANN\tDANN\tDANN\tDANN\tDANN\tDANN\tDANN\tDANN\tDANN\tDANN\tDANN\tDANN\tDANN\tDANN\tDANN\tDANN\tDANN\tDANN\tDANN\tDANN\tDANN\tDANN\tDANN\tDANN\tDANN\tDANN\tDANN\tDANN\tDANN\tDANN\tDANN\tDANN\tDANN\tDANN\tDANN\tDANN\tDANN\tDANN\tDANN\tDANN\tDANN\tDANN\tDANN\tDANN\tDANN\tDANN\tDANN\t[3, 0.0, 1.0, 0.37012987012987014]\n",
      "[8, 0.11688311688311688, 0.992, 0.8051948051948052]\n",
      "[10, 0.18831168831168832, 0.9545454545454546, 0.9545454545454546]\n",
      "[10, 0.22727272727272727, 1.0, 1.0]\n"
     ]
    }
   ],
   "source": [
    "!python _raw_DANN.py --source 'webcam' --target 'dslr'"
   ]
  },
  {
   "cell_type": "code",
   "execution_count": null,
   "metadata": {
    "id": "1dJWCyeGpN2v"
   },
   "outputs": [],
   "source": []
  }
 ],
 "metadata": {
  "accelerator": "GPU",
  "colab": {
   "collapsed_sections": [],
   "name": "ATC DANN ALL",
   "provenance": []
  },
  "kernelspec": {
   "display_name": "Python 3",
   "language": "python",
   "name": "python3"
  },
  "language_info": {
   "codemirror_mode": {
    "name": "ipython",
    "version": 3
   },
   "file_extension": ".py",
   "mimetype": "text/x-python",
   "name": "python",
   "nbconvert_exporter": "python",
   "pygments_lexer": "ipython3",
   "version": "3.8.5"
  }
 },
 "nbformat": 4,
 "nbformat_minor": 1
}
