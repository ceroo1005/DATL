{
  "nbformat": 4,
  "nbformat_minor": 0,
  "metadata": {
    "accelerator": "GPU",
    "colab": {
      "name": "RU",
      "provenance": [],
      "collapsed_sections": []
    },
    "kernelspec": {
      "display_name": "Python 3",
      "name": "python3"
    },
    "language_info": {
      "name": "python"
    }
  },
  "cells": [
    {
      "cell_type": "code",
      "metadata": {
        "colab": {
          "base_uri": "https://localhost:8080/"
        },
        "id": "UGTbnPt5j2IC",
        "outputId": "08117405-5b76-4033-b710-fd447b0b079a"
      },
      "source": [
        "!mkdir models\n",
        "!wget https://github.com/syorami/DDC-transfer-learning/raw/master/data/Office31.tar\n",
        "\n",
        "!mkdir Office31\n",
        "!tar xf Office31.tar -C Office31"
      ],
      "execution_count": null,
      "outputs": [
        {
          "output_type": "stream",
          "text": [
            "--2021-08-05 14:41:49--  https://github.com/syorami/DDC-transfer-learning/raw/master/data/Office31.tar\n",
            "Resolving github.com (github.com)... 192.30.255.112\n",
            "Connecting to github.com (github.com)|192.30.255.112|:443... connected.\n",
            "HTTP request sent, awaiting response... 302 Found\n",
            "Location: https://raw.githubusercontent.com/syorami/DDC-transfer-learning/master/data/Office31.tar [following]\n",
            "--2021-08-05 14:41:49--  https://raw.githubusercontent.com/syorami/DDC-transfer-learning/master/data/Office31.tar\n",
            "Resolving raw.githubusercontent.com (raw.githubusercontent.com)... 185.199.109.133, 185.199.108.133, 185.199.110.133, ...\n",
            "Connecting to raw.githubusercontent.com (raw.githubusercontent.com)|185.199.109.133|:443... connected.\n",
            "HTTP request sent, awaiting response... 200 OK\n",
            "Length: 85760000 (82M) [application/octet-stream]\n",
            "Saving to: ‘Office31.tar’\n",
            "\n",
            "Office31.tar        100%[===================>]  81.79M   146MB/s    in 0.6s    \n",
            "\n",
            "2021-08-05 14:41:52 (146 MB/s) - ‘Office31.tar’ saved [85760000/85760000]\n",
            "\n"
          ],
          "name": "stdout"
        }
      ]
    },
    {
      "cell_type": "code",
      "metadata": {
        "id": "lVJScPjcj4zQ"
      },
      "source": [
        ""
      ],
      "execution_count": null,
      "outputs": []
    },
    {
      "cell_type": "code",
      "metadata": {
        "id": "pkZGisT_j6aw"
      },
      "source": [
        ""
      ],
      "execution_count": null,
      "outputs": []
    },
    {
      "cell_type": "code",
      "metadata": {
        "colab": {
          "base_uri": "https://localhost:8080/"
        },
        "id": "VMd7Re1ej6eQ",
        "outputId": "b716e0af-7da0-4d9a-a4b1-28991906612c"
      },
      "source": [
        "!python _RU.py --source 'dslr' --target 'webcam' --r 0.145"
      ],
      "execution_count": null,
      "outputs": [
        {
          "output_type": "stream",
          "text": [
            "/content/utils.py:49: VisibleDeprecationWarning: Creating an ndarray from ragged nested sequences (which is a list-or-tuple of lists-or-tuples-or ndarrays with different lengths or shapes) is deprecated. If you meant to do this, you must specify 'dtype=object' when creating the ndarray\n",
            "  self.img = np.array(self.img)\n",
            "FineTrain 1:   0% 0/50 [00:00<?, ?it/s]/usr/local/lib/python3.7/dist-packages/torch/nn/functional.py:718: UserWarning: Named tensors and all their associated APIs are an experimental feature and subject to change. Please do not use them for anything important until they are released as stable. (Triggered internally at  /pytorch/c10/core/TensorImpl.h:1156.)\n",
            "  return torch.max_pool2d(input, kernel_size, stride, padding, dilation, ceil_mode)\n",
            "FineTrain 50: 100% 50/50 [01:07<00:00,  1.36s/it, loss=0.106, minloss=0.106]\n",
            "Finished Training\n",
            "{0, 1, 2, 3, 4, 5, 6, 7, 8, 9}\n",
            "Transfer learning train 50: 100% 50/50 [02:11<00:00,  2.62s/it, AllAccuracy=tensor(95.7447)]\n",
            "DSAN\tDSAN\tDSAN\tDSAN\tDSAN\tDSAN\tDSAN\tDSAN\tDSAN\tDSAN\tDSAN\tDSAN\tDSAN\tDSAN\tDSAN\tDSAN\tDSAN\tDSAN\tDSAN\tDSAN\tDSAN\tDSAN\tDSAN\tDSAN\tDSAN\tDSAN\tDSAN\tDSAN\tDSAN\tDSAN\tDSAN\tDSAN\tDSAN\tDSAN\tDSAN\tDSAN\tDSAN\tDSAN\tDSAN\tDSAN\tDSAN\tDSAN\tDSAN\tDSAN\tDSAN\tDSAN\tDSAN\tDSAN\tDSAN\tDSAN\tDSAN\tDSAN\tDSAN\tDSAN\tDSAN\tDSAN\tDSAN\tDSAN\tDSAN\tDSAN\tDSAN\tDSAN\tDSAN\tDSAN\tDSAN\tDSAN\tDSAN\tDSAN\tDSAN\tDSAN\tDSAN\tDSAN\tDSAN\tDSAN\tDSAN\tDSAN\tDSAN\tDSAN\tDSAN\tDSAN\tDSAN\tDSAN\tDSAN\tDSAN\tDSAN\tDSAN\tDSAN\tDSAN\tDSAN\tDSAN\tDSAN\tDSAN\tDSAN\tDSAN\tDSAN\tDSAN\tDSAN\tDSAN\tDSAN\tDSAN\tDSAN\tDSAN\tDSAN\tDSAN\tDSAN\tDSAN\tDSAN\tDSAN\tDSAN\tDSAN\tDSAN\tDSAN\tDSAN\tDSAN\tDSAN\tDSAN\tDSAN\tDSAN\tDSAN\tDSAN\tDSAN\tDSAN\tDSAN\tDSAN\tDSAN\tDSAN\tDSAN\tDSAN\tDSAN\tDSAN\tDSAN\tDSAN\tDSAN\tDSAN\tDSAN\tDSAN\tDSAN\tDSAN\tDSAN\tDSAN\tDSAN\tDSAN\tDSAN\tDSAN\tDSAN\tDSAN\tDSAN\tDSAN\tDSAN\tDSAN\tDSAN\tDSAN\tDSAN\tDSAN\tDSAN\tDSAN\tDSAN\tDSAN\tDSAN\tDSAN\tDSAN\tDSAN\tDSAN\tDSAN\tDSAN\tDSAN\tDSAN\tDSAN\tDSAN\tDSAN\tDSAN\tDSAN\tDSAN\tDSAN\tDSAN\tDSAN\tDSAN\tDSAN\tDSAN\tDSAN\tDSAN\tDSAN\tDSAN\tDSAN\tDSAN\tDSAN\tDSAN\tDSAN\tDSAN\tDSAN\tDSAN\tDSAN\tDSAN\tDSAN\tDSAN\tDSAN\tDSAN\tDSAN\tDSAN\tDSAN\tDSAN\tDSAN\tDSAN\tDSAN\tDSAN\tDSAN\tDSAN\tDSAN\tDSAN\tDSAN\tDSAN\tDSAN\tDSAN\tDSAN\tDSAN\tDSAN\tDSAN\tDSAN\tDSAN\tDSAN\tDSAN\tDSAN\tDSAN\tDSAN\tDSAN\tDSAN\tDSAN\tDSAN\tDSAN\tDSAN\tDSAN\tDSAN\tDSAN\tDSAN\tDSAN\tDSAN\tDSAN\tDSAN\tDSAN\tDSAN\tDSAN\tDSAN\tDSAN\tDSAN\tDSAN\tDSAN\tDSAN\tDSAN\tDSAN\tDSAN\t"
          ],
          "name": "stdout"
        }
      ]
    },
    {
      "cell_type": "code",
      "metadata": {
        "colab": {
          "base_uri": "https://localhost:8080/"
        },
        "id": "bnB8zicGj6ib",
        "outputId": "e5ba7717-9737-4ec4-fcaa-e1d86a513e46"
      },
      "source": [
        "!python _RU.py --source 'dslr' --target 'amazon' --r 0.045"
      ],
      "execution_count": null,
      "outputs": [
        {
          "output_type": "stream",
          "text": [
            "/content/utils.py:49: VisibleDeprecationWarning: Creating an ndarray from ragged nested sequences (which is a list-or-tuple of lists-or-tuples-or ndarrays with different lengths or shapes) is deprecated. If you meant to do this, you must specify 'dtype=object' when creating the ndarray\n",
            "  self.img = np.array(self.img)\n",
            "Downloading: \"https://download.pytorch.org/models/resnet50-19c8e357.pth\" to /root/.cache/torch/hub/checkpoints/resnet50-19c8e357.pth\n",
            "100% 97.8M/97.8M [00:00<00:00, 160MB/s]\n",
            "FineTrain 1:   0% 0/50 [00:00<?, ?it/s]/usr/local/lib/python3.7/dist-packages/torch/nn/functional.py:718: UserWarning: Named tensors and all their associated APIs are an experimental feature and subject to change. Please do not use them for anything important until they are released as stable. (Triggered internally at  /pytorch/c10/core/TensorImpl.h:1156.)\n",
            "  return torch.max_pool2d(input, kernel_size, stride, padding, dilation, ceil_mode)\n",
            "FineTrain 50: 100% 50/50 [01:09<00:00,  1.38s/it, loss=0.109, minloss=0.109]\n",
            "Finished Training\n",
            "{0, 1, 2, 3, 4, 5, 6, 7, 8, 9}\n",
            "Transfer learning train 50: 100% 50/50 [03:41<00:00,  4.44s/it, AllAccuracy=tensor(77.7913)]\n",
            "DSAN\tDSAN\tDSAN\tDSAN\tDSAN\tDSAN\tDSAN\tDSAN\tDSAN\tDSAN\tDSAN\tDSAN\tDSAN\tDSAN\tDSAN\tDSAN\tDSAN\tDSAN\tDSAN\tDSAN\tDSAN\tDSAN\tDSAN\tDSAN\tDSAN\tDSAN\tDSAN\tDSAN\tDSAN\tDSAN\tDSAN\tDSAN\tDSAN\tDSAN\tDSAN\tDSAN\tDSAN\tDSAN\tDSAN\tDSAN\tDSAN\tDSAN\tDSAN\tDSAN\tDSAN\tDSAN\tDSAN\tDSAN\tDSAN\tDSAN\tDSAN\tDSAN\tDSAN\tDSAN\tDSAN\tDSAN\tDSAN\tDSAN\tDSAN\tDSAN\tDSAN\tDSAN\tDSAN\tDSAN\tDSAN\tDSAN\tDSAN\tDSAN\tDSAN\tDSAN\tDSAN\tDSAN\tDSAN\tDSAN\tDSAN\tDSAN\tDSAN\tDSAN\tDSAN\tDSAN\tDSAN\tDSAN\tDSAN\tDSAN\tDSAN\tDSAN\tDSAN\tDSAN\tDSAN\tDSAN\tDSAN\tDSAN\tDSAN\tDSAN\tDSAN\tDSAN\tDSAN\tDSAN\tDSAN\tDSAN\tDSAN\tDSAN\tDSAN\tDSAN\tDSAN\tDSAN\tDSAN\tDSAN\tDSAN\tDSAN\tDSAN\tDSAN\tDSAN\tDSAN\tDSAN\tDSAN\tDSAN\tDSAN\tDSAN\tDSAN\tDSAN\tDSAN\tDSAN\tDSAN\tDSAN\tDSAN\tDSAN\tDSAN\tDSAN\tDSAN\tDSAN\tDSAN\tDSAN\tDSAN\tDSAN\tDSAN\tDSAN\tDSAN\tDSAN\tDSAN\tDSAN\tDSAN\tDSAN\tDSAN\tDSAN\tDSAN\tDSAN\tDSAN\tDSAN\tDSAN\tDSAN\tDSAN\tDSAN\tDSAN\tDSAN\tDSAN\tDSAN\tDSAN\tDSAN\tDSAN\tDSAN\tDSAN\tDSAN\tDSAN\tDSAN\tDSAN\tDSAN\tDSAN\tDSAN\tDSAN\tDSAN\tDSAN\tDSAN\tDSAN\tDSAN\tDSAN\tDSAN\tDSAN\tDSAN\tDSAN\tDSAN\tDSAN\tDSAN\tDSAN\tDSAN\tDSAN\tDSAN\tDSAN\tDSAN\tDSAN\tDSAN\tDSAN\tDSAN\tDSAN\tDSAN\tDSAN\tDSAN\tDSAN\tDSAN\tDSAN\tDSAN\tDSAN\tDSAN\tDSAN\tDSAN\tDSAN\tDSAN\tDSAN\tDSAN\tDSAN\tDSAN\tDSAN\tDSAN\tDSAN\tDSAN\tDSAN\tDSAN\tDSAN\tDSAN\tDSAN\tDSAN\tDSAN\tDSAN\tDSAN\tDSAN\tDSAN\tDSAN\tDSAN\tDSAN\tDSAN\tDSAN\tDSAN\tDSAN\tDSAN\tDSAN\tDSAN\tDSAN\tDSAN\tDSAN\tDSAN\tDSAN\tDSAN\tDSAN\tDSAN\tDSAN\tDSAN\tDSAN\tDSAN\tDSAN\tDSAN\t"
          ],
          "name": "stdout"
        }
      ]
    },
    {
      "cell_type": "code",
      "metadata": {
        "colab": {
          "base_uri": "https://localhost:8080/"
        },
        "id": "kH9fIvnHj6mB",
        "outputId": "085e9051-f72c-4648-9f5d-028e3e1738b7"
      },
      "source": [
        "!python _RU.py --source 'amazon' --target 'webcam' --r 0.183"
      ],
      "execution_count": null,
      "outputs": [
        {
          "output_type": "stream",
          "text": [
            "/content/utils.py:49: VisibleDeprecationWarning: Creating an ndarray from ragged nested sequences (which is a list-or-tuple of lists-or-tuples-or ndarrays with different lengths or shapes) is deprecated. If you meant to do this, you must specify 'dtype=object' when creating the ndarray\n",
            "  self.img = np.array(self.img)\n",
            "FineTrain 1:   0% 0/50 [00:00<?, ?it/s]/usr/local/lib/python3.7/dist-packages/torch/nn/functional.py:718: UserWarning: Named tensors and all their associated APIs are an experimental feature and subject to change. Please do not use them for anything important until they are released as stable. (Triggered internally at  /pytorch/c10/core/TensorImpl.h:1156.)\n",
            "  return torch.max_pool2d(input, kernel_size, stride, padding, dilation, ceil_mode)\n",
            "FineTrain 50: 100% 50/50 [01:47<00:00,  2.16s/it, loss=0.029, minloss=0.028]\n",
            "Finished Training\n",
            "{0, 1, 2, 3, 4, 5, 6, 7, 8, 9}\n",
            "Transfer learning train 50: 100% 50/50 [04:29<00:00,  5.39s/it, AllAccuracy=tensor(83.4043)]\n",
            "DSAN\tDSAN\tDSAN\tDSAN\tDSAN\tDSAN\tDSAN\tDSAN\tDSAN\tDSAN\tDSAN\tDSAN\tDSAN\tDSAN\tDSAN\tDSAN\tDSAN\tDSAN\tDSAN\tDSAN\tDSAN\tDSAN\tDSAN\tDSAN\tDSAN\tDSAN\tDSAN\tDSAN\tDSAN\tDSAN\tDSAN\tDSAN\tDSAN\tDSAN\tDSAN\tDSAN\tDSAN\tDSAN\tDSAN\tDSAN\tDSAN\tDSAN\tDSAN\tDSAN\tDSAN\tDSAN\tDSAN\tDSAN\tDSAN\tDSAN\tDSAN\tDSAN\tDSAN\tDSAN\tDSAN\tDSAN\tDSAN\tDSAN\tDSAN\tDSAN\tDSAN\tDSAN\tDSAN\tDSAN\tDSAN\tDSAN\tDSAN\tDSAN\tDSAN\tDSAN\tDSAN\tDSAN\tDSAN\tDSAN\tDSAN\tDSAN\tDSAN\tDSAN\tDSAN\tDSAN\tDSAN\tDSAN\tDSAN\tDSAN\tDSAN\tDSAN\tDSAN\tDSAN\tDSAN\tDSAN\tDSAN\tDSAN\tDSAN\tDSAN\tDSAN\tDSAN\tDSAN\tDSAN\tDSAN\tDSAN\tDSAN\tDSAN\tDSAN\tDSAN\tDSAN\tDSAN\tDSAN\tDSAN\tDSAN\tDSAN\tDSAN\tDSAN\tDSAN\tDSAN\tDSAN\tDSAN\tDSAN\tDSAN\tDSAN\tDSAN\tDSAN\tDSAN\tDSAN\tDSAN\tDSAN\tDSAN\tDSAN\tDSAN\tDSAN\tDSAN\tDSAN\tDSAN\tDSAN\tDSAN\tDSAN\tDSAN\tDSAN\tDSAN\tDSAN\tDSAN\tDSAN\tDSAN\tDSAN\tDSAN\tDSAN\tDSAN\tDSAN\tDSAN\tDSAN\tDSAN\tDSAN\tDSAN\tDSAN\tDSAN\tDSAN\tDSAN\tDSAN\tDSAN\tDSAN\tDSAN\tDSAN\tDSAN\tDSAN\tDSAN\tDSAN\tDSAN\tDSAN\tDSAN\tDSAN\tDSAN\tDSAN\tDSAN\tDSAN\tDSAN\tDSAN\tDSAN\tDSAN\tDSAN\tDSAN\tDSAN\tDSAN\tDSAN\tDSAN\tDSAN\tDSAN\tDSAN\tDSAN\tDSAN\tDSAN\tDSAN\tDSAN\tDSAN\tDSAN\tDSAN\tDSAN\tDSAN\tDSAN\tDSAN\tDSAN\tDSAN\tDSAN\tDSAN\tDSAN\tDSAN\tDSAN\tDSAN\tDSAN\tDSAN\tDSAN\tDSAN\tDSAN\tDSAN\tDSAN\tDSAN\tDSAN\tDSAN\tDSAN\tDSAN\tDSAN\tDSAN\tDSAN\tDSAN\tDSAN\tDSAN\tDSAN\tDSAN\tDSAN\tDSAN\tDSAN\tDSAN\tDSAN\tDSAN\tDSAN\tDSAN\tDSAN\tDSAN\tDSAN\tDSAN\tDSAN\tDSAN\tDSAN\tDSAN\tDSAN\tDSAN\tDSAN\tDSAN\tDSAN\tDSAN\tDSAN\tDSAN\tDSAN\tDSAN\tDSAN\tDSAN\tDSAN\tDSAN\tDSAN\tDSAN\tDSAN\tDSAN\tDSAN\tDSAN\tDSAN\tDSAN\tDSAN\tDSAN\tDSAN\tDSAN\tDSAN\tDSAN\tDSAN\tDSAN\tDSAN\tDSAN\tDSAN\tDSAN\tDSAN\tDSAN\tDSAN\tDSAN\tDSAN\tDSAN\tDSAN\tDSAN\tDSAN\tDSAN\tDSAN\tDSAN\tDSAN\tDSAN\tDSAN\tDSAN\tDSAN\tDSAN\tDSAN\tDSAN\tDSAN\tDSAN\tDSAN\tDSAN\tDSAN\tDSAN\tDSAN\tDSAN\tDSAN\tDSAN\tDSAN\tDSAN\tDSAN\tDSAN\tDSAN\tDSAN\tDSAN\tDSAN\tDSAN\tDSAN\tDSAN\tDSAN\tDSAN\tDSAN\tDSAN\tDSAN\tDSAN\tDSAN\tDSAN\tDSAN\tDSAN\tDSAN\tDSAN\tDSAN\tDSAN\tDSAN\tDSAN\tDSAN\tDSAN\tDSAN\tDSAN\tDSAN\tDSAN\tDSAN\tDSAN\tDSAN\tDSAN\tDSAN\tDSAN\tDSAN\tDSAN\tDSAN\tDSAN\tDSAN\tDSAN\tDSAN\tDSAN\tDSAN\tDSAN\tDSAN\tDSAN\tDSAN\tDSAN\tDSAN\tDSAN\tDSAN\tDSAN\tDSAN\tDSAN\tDSAN\tDSAN\tDSAN\tDSAN\tDSAN\tDSAN\tDSAN\tDSAN\tDSAN\tDSAN\tDSAN\tDSAN\tDSAN\tDSAN\tDSAN\tDSAN\tDSAN\tDSAN\tDSAN\tDSAN\tDSAN\tDSAN\tDSAN\tDSAN\tDSAN\tDSAN\tDSAN\tDSAN\tDSAN\tDSAN\tDSAN\tDSAN\tDSAN\tDSAN\tDSAN\tDSAN\tDSAN\tDSAN\tDSAN\tDSAN\tDSAN\tDSAN\tDSAN\tDSAN\tDSAN\tDSAN\tDSAN\tDSAN\tDSAN\tDSAN\tDSAN\tDSAN\tDSAN\tDSAN\tDSAN\tDSAN\tDSAN\tDSAN\tDSAN\tDSAN\tDSAN\tDSAN\tDSAN\tDSAN\tDSAN\tDSAN\tDSAN\tDSAN\tDSAN\tDSAN\tDSAN\tDSAN\tDSAN\tDSAN\tDSAN\tDSAN\tDSAN\tDSAN\tDSAN\tDSAN\tDSAN\tDSAN\tDSAN\tDSAN\tDSAN\tDSAN\tDSAN\tDSAN\tDSAN\tDSAN\tDSAN\tDSAN\tDSAN\tDSAN\tDSAN\tDSAN\tDSAN\tDSAN\tDSAN\tDSAN\tDSAN\tDSAN\tDSAN\tDSAN\tDSAN\tDSAN\tDSAN\tDSAN\tDSAN\tDSAN\tDSAN\tDSAN\tDSAN\tDSAN\tDSAN\tDSAN\tDSAN\tDSAN\tDSAN\tDSAN\tDSAN\tDSAN\tDSAN\tDSAN\tDSAN\tDSAN\tDSAN\tDSAN\tDSAN\tDSAN\tDSAN\tDSAN\tDSAN\tDSAN\tDSAN\tDSAN\tDSAN\tDSAN\tDSAN\tDSAN\tDSAN\tDSAN\tDSAN\tDSAN\tDSAN\tDSAN\tDSAN\tDSAN\tDSAN\tDSAN\tDSAN\tDSAN\tDSAN\tDSAN\tDSAN\tDSAN\tDSAN\tDSAN\tDSAN\tDSAN\tDSAN\tDSAN\tDSAN\tDSAN\tDSAN\tDSAN\tDSAN\tDSAN\tDSAN\tDSAN\tDSAN\tDSAN\tDSAN\tDSAN\tDSAN\tDSAN\tDSAN\tDSAN\tDSAN\tDSAN\tDSAN\tDSAN\tDSAN\tDSAN\tDSAN\tDSAN\tDSAN\tDSAN\tDSAN\tDSAN\tDSAN\tDSAN\tDSAN\tDSAN\tDSAN\tDSAN\tDSAN\tDSAN\tDSAN\tDSAN\tDSAN\tDSAN\tDSAN\tDSAN\tDSAN\tDSAN\tDSAN\tDSAN\tDSAN\tDSAN\tDSAN\tDSAN\tDSAN\tDSAN\tDSAN\tDSAN\tDSAN\tDSAN\tDSAN\tDSAN\tDSAN\tDSAN\tDSAN\tDSAN\tDSAN\tDSAN\tDSAN\tDSAN\tDSAN\tDSAN\tDSAN\tDSAN\tDSAN\tDSAN\tDSAN\tDSAN\tDSAN\tDSAN\tDSAN\tDSAN\tDSAN\tDSAN\tDSAN\tDSAN\tDSAN\tDSAN\tDSAN\tDSAN\tDSAN\tDSAN\tDSAN\tDSAN\tDSAN\tDSAN\tDSAN\tDSAN\tDSAN\tDSAN\tDSAN\tDSAN\tDSAN\tDSAN\tDSAN\tDSAN\tDSAN\tDSAN\tDSAN\tDSAN\tDSAN\tDSAN\tDSAN\tDSAN\tDSAN\tDSAN\tDSAN\tDSAN\tDSAN\tDSAN\tDSAN\tDSAN\tDSAN\tDSAN\tDSAN\tDSAN\tDSAN\tDSAN\tDSAN\tDSAN\tDSAN\tDSAN\tDSAN\tDSAN\tDSAN\tDSAN\tDSAN\tDSAN\tDSAN\tDSAN\tDSAN\tDSAN\tDSAN\tDSAN\tDSAN\tDSAN\tDSAN\tDSAN\tDSAN\tDSAN\tDSAN\tDSAN\tDSAN\tDSAN\tDSAN\tDSAN\tDSAN\tDSAN\tDSAN\tDSAN\tDSAN\tDSAN\tDSAN\tDSAN\tDSAN\tDSAN\tDSAN\tDSAN\tDSAN\tDSAN\tDSAN\tDSAN\tDSAN\tDSAN\tDSAN\tDSAN\tDSAN\tDSAN\tDSAN\tDSAN\tDSAN\tDSAN\tDSAN\tDSAN\tDSAN\tDSAN\tDSAN\tDSAN\tDSAN\tDSAN\tDSAN\tDSAN\tDSAN\tDSAN\tDSAN\tDSAN\tDSAN\tDSAN\tDSAN\tDSAN\tDSAN\tDSAN\tDSAN\tDSAN\tDSAN\tDSAN\tDSAN\tDSAN\tDSAN\tDSAN\tDSAN\tDSAN\tDSAN\tDSAN\tDSAN\tDSAN\tDSAN\tDSAN\tDSAN\tDSAN\tDSAN\tDSAN\tDSAN\tDSAN\tDSAN\tDSAN\tDSAN\tDSAN\tDSAN\tDSAN\tDSAN\tDSAN\tDSAN\tDSAN\tDSAN\tDSAN\tDSAN\tDSAN\tDSAN\tDSAN\tDSAN\tDSAN\tDSAN\tDSAN\tDSAN\tDSAN\tDSAN\tDSAN\tDSAN\tDSAN\tDSAN\tDSAN\tDSAN\tDSAN\tDSAN\tDSAN\tDSAN\tDSAN\tDSAN\tDSAN\tDSAN\tDSAN\tDSAN\tDSAN\tDSAN\tDSAN\tDSAN\tDSAN\tDSAN\tDSAN\tDSAN\tDSAN\tDSAN\tDSAN\tDSAN\tDSAN\tDSAN\tDSAN\tDSAN\tDSAN\tDSAN\tDSAN\tDSAN\tDSAN\tDSAN\tDSAN\tDSAN\tDSAN\tDSAN\tDSAN\tDSAN\tDSAN\tDSAN\tDSAN\tDSAN\tDSAN\tDSAN\tDSAN\tDSAN\tDSAN\tDSAN\tDSAN\tDSAN\tDSAN\tDSAN\tDSAN\tDSAN\tDSAN\tDSAN\tDSAN\tDSAN\tDSAN\tDSAN\tDSAN\tDSAN\tDSAN\tDSAN\tDSAN\tDSAN\tDSAN\tDSAN\tDSAN\tDSAN\tDSAN\tDSAN\tDSAN\tDSAN\tDSAN\tDSAN\tDSAN\tDSAN\tDSAN\tDSAN\tDSAN\tDSAN\tDSAN\tDSAN\tDSAN\tDSAN\tDSAN\tDSAN\tDSAN\tDSAN\tDSAN\tDSAN\tDSAN\tDSAN\tDSAN\tDSAN\tDSAN\tDSAN\tDSAN\tDSAN\tDSAN\tDSAN\tDSAN\tDSAN\tDSAN\tDSAN\tDSAN\tDSAN\tDSAN\tDSAN\tDSAN\tDSAN\tDSAN\tDSAN\tDSAN\tDSAN\tDSAN\tDSAN\tDSAN\tDSAN\tDSAN\tDSAN\tDSAN\tDSAN\t"
          ],
          "name": "stdout"
        }
      ]
    },
    {
      "cell_type": "code",
      "metadata": {
        "colab": {
          "base_uri": "https://localhost:8080/"
        },
        "id": "bgqie44Tl1n8",
        "outputId": "1ed9c95d-15c2-43a9-b0ef-23f4c64d2417"
      },
      "source": [
        "!python _RU.py --source 'amazon' --target 'dslr' --r 0.273"
      ],
      "execution_count": null,
      "outputs": [
        {
          "output_type": "stream",
          "text": [
            "/content/utils.py:49: VisibleDeprecationWarning: Creating an ndarray from ragged nested sequences (which is a list-or-tuple of lists-or-tuples-or ndarrays with different lengths or shapes) is deprecated. If you meant to do this, you must specify 'dtype=object' when creating the ndarray\n",
            "  self.img = np.array(self.img)\n",
            "FineTrain 1:   0% 0/50 [00:00<?, ?it/s]/usr/local/lib/python3.7/dist-packages/torch/nn/functional.py:718: UserWarning: Named tensors and all their associated APIs are an experimental feature and subject to change. Please do not use them for anything important until they are released as stable. (Triggered internally at  /pytorch/c10/core/TensorImpl.h:1156.)\n",
            "  return torch.max_pool2d(input, kernel_size, stride, padding, dilation, ceil_mode)\n",
            "FineTrain 50: 100% 50/50 [01:48<00:00,  2.16s/it, loss=0.0284, minloss=0.0284]\n",
            "Finished Training\n",
            "{0, 1, 2, 3, 4, 5, 6, 7, 8, 9}\n",
            "Transfer learning train 50: 100% 50/50 [05:33<00:00,  6.67s/it, AllAccuracy=tensor(87.0130)]\n",
            "DSAN\tDSAN\tDSAN\tDSAN\tDSAN\tDSAN\tDSAN\tDSAN\tDSAN\tDSAN\tDSAN\tDSAN\tDSAN\tDSAN\tDSAN\tDSAN\tDSAN\tDSAN\tDSAN\tDSAN\tDSAN\tDSAN\tDSAN\tDSAN\tDSAN\tDSAN\tDSAN\tDSAN\tDSAN\tDSAN\tDSAN\tDSAN\tDSAN\tDSAN\tDSAN\tDSAN\tDSAN\tDSAN\tDSAN\tDSAN\tDSAN\tDSAN\tDSAN\tDSAN\tDSAN\tDSAN\tDSAN\tDSAN\tDSAN\tDSAN\tDSAN\tDSAN\tDSAN\tDSAN\tDSAN\tDSAN\tDSAN\tDSAN\tDSAN\tDSAN\tDSAN\tDSAN\tDSAN\tDSAN\tDSAN\tDSAN\tDSAN\tDSAN\tDSAN\tDSAN\tDSAN\tDSAN\tDSAN\tDSAN\tDSAN\tDSAN\tDSAN\tDSAN\tDSAN\tDSAN\tDSAN\tDSAN\tDSAN\tDSAN\tDSAN\tDSAN\tDSAN\tDSAN\tDSAN\tDSAN\tDSAN\tDSAN\tDSAN\tDSAN\tDSAN\tDSAN\tDSAN\tDSAN\tDSAN\tDSAN\tDSAN\tDSAN\tDSAN\tDSAN\tDSAN\tDSAN\tDSAN\tDSAN\tDSAN\tDSAN\tDSAN\tDSAN\tDSAN\tDSAN\tDSAN\tDSAN\tDSAN\tDSAN\tDSAN\tDSAN\tDSAN\tDSAN\tDSAN\tDSAN\tDSAN\tDSAN\tDSAN\tDSAN\tDSAN\tDSAN\tDSAN\tDSAN\tDSAN\tDSAN\tDSAN\tDSAN\tDSAN\tDSAN\tDSAN\tDSAN\tDSAN\tDSAN\tDSAN\tDSAN\tDSAN\tDSAN\tDSAN\tDSAN\tDSAN\tDSAN\tDSAN\tDSAN\tDSAN\tDSAN\tDSAN\tDSAN\tDSAN\tDSAN\tDSAN\tDSAN\tDSAN\tDSAN\tDSAN\tDSAN\tDSAN\tDSAN\tDSAN\tDSAN\tDSAN\tDSAN\tDSAN\tDSAN\tDSAN\tDSAN\tDSAN\tDSAN\tDSAN\tDSAN\tDSAN\tDSAN\tDSAN\tDSAN\tDSAN\tDSAN\tDSAN\tDSAN\tDSAN\tDSAN\tDSAN\tDSAN\tDSAN\tDSAN\tDSAN\tDSAN\tDSAN\tDSAN\tDSAN\tDSAN\tDSAN\tDSAN\tDSAN\tDSAN\tDSAN\tDSAN\tDSAN\tDSAN\tDSAN\tDSAN\tDSAN\tDSAN\tDSAN\tDSAN\tDSAN\tDSAN\tDSAN\tDSAN\tDSAN\tDSAN\tDSAN\tDSAN\tDSAN\tDSAN\tDSAN\tDSAN\tDSAN\tDSAN\tDSAN\tDSAN\tDSAN\tDSAN\tDSAN\tDSAN\tDSAN\tDSAN\tDSAN\tDSAN\tDSAN\tDSAN\tDSAN\tDSAN\tDSAN\tDSAN\tDSAN\tDSAN\tDSAN\tDSAN\tDSAN\tDSAN\tDSAN\tDSAN\tDSAN\tDSAN\tDSAN\tDSAN\tDSAN\tDSAN\tDSAN\tDSAN\tDSAN\tDSAN\tDSAN\tDSAN\tDSAN\tDSAN\tDSAN\tDSAN\tDSAN\tDSAN\tDSAN\tDSAN\tDSAN\tDSAN\tDSAN\tDSAN\tDSAN\tDSAN\tDSAN\tDSAN\tDSAN\tDSAN\tDSAN\tDSAN\tDSAN\tDSAN\tDSAN\tDSAN\tDSAN\tDSAN\tDSAN\tDSAN\tDSAN\tDSAN\tDSAN\tDSAN\tDSAN\tDSAN\tDSAN\tDSAN\tDSAN\tDSAN\tDSAN\tDSAN\tDSAN\tDSAN\tDSAN\tDSAN\tDSAN\tDSAN\tDSAN\tDSAN\tDSAN\tDSAN\tDSAN\tDSAN\tDSAN\tDSAN\tDSAN\tDSAN\tDSAN\tDSAN\tDSAN\tDSAN\tDSAN\tDSAN\tDSAN\tDSAN\tDSAN\tDSAN\tDSAN\tDSAN\tDSAN\tDSAN\tDSAN\tDSAN\tDSAN\tDSAN\tDSAN\tDSAN\tDSAN\tDSAN\tDSAN\tDSAN\tDSAN\tDSAN\tDSAN\tDSAN\tDSAN\tDSAN\tDSAN\tDSAN\tDSAN\tDSAN\tDSAN\tDSAN\tDSAN\tDSAN\tDSAN\tDSAN\tDSAN\tDSAN\tDSAN\tDSAN\tDSAN\tDSAN\tDSAN\tDSAN\tDSAN\tDSAN\tDSAN\tDSAN\tDSAN\tDSAN\tDSAN\tDSAN\tDSAN\tDSAN\tDSAN\tDSAN\tDSAN\tDSAN\tDSAN\tDSAN\tDSAN\tDSAN\tDSAN\tDSAN\tDSAN\tDSAN\tDSAN\tDSAN\tDSAN\tDSAN\tDSAN\tDSAN\tDSAN\tDSAN\tDSAN\tDSAN\tDSAN\tDSAN\tDSAN\tDSAN\tDSAN\tDSAN\tDSAN\tDSAN\tDSAN\tDSAN\tDSAN\tDSAN\tDSAN\tDSAN\tDSAN\tDSAN\tDSAN\tDSAN\tDSAN\tDSAN\tDSAN\tDSAN\tDSAN\tDSAN\tDSAN\tDSAN\tDSAN\tDSAN\tDSAN\tDSAN\tDSAN\tDSAN\tDSAN\tDSAN\tDSAN\tDSAN\tDSAN\tDSAN\tDSAN\tDSAN\tDSAN\tDSAN\tDSAN\tDSAN\tDSAN\tDSAN\tDSAN\tDSAN\tDSAN\tDSAN\tDSAN\tDSAN\tDSAN\tDSAN\tDSAN\tDSAN\tDSAN\tDSAN\tDSAN\tDSAN\tDSAN\tDSAN\tDSAN\tDSAN\tDSAN\tDSAN\tDSAN\tDSAN\tDSAN\tDSAN\tDSAN\tDSAN\tDSAN\tDSAN\tDSAN\tDSAN\tDSAN\tDSAN\tDSAN\tDSAN\tDSAN\tDSAN\tDSAN\tDSAN\tDSAN\tDSAN\tDSAN\tDSAN\tDSAN\tDSAN\tDSAN\tDSAN\tDSAN\tDSAN\tDSAN\tDSAN\tDSAN\tDSAN\tDSAN\tDSAN\tDSAN\tDSAN\tDSAN\tDSAN\tDSAN\tDSAN\tDSAN\tDSAN\tDSAN\tDSAN\tDSAN\tDSAN\tDSAN\tDSAN\tDSAN\tDSAN\tDSAN\tDSAN\tDSAN\tDSAN\tDSAN\tDSAN\tDSAN\tDSAN\tDSAN\tDSAN\tDSAN\tDSAN\tDSAN\tDSAN\tDSAN\tDSAN\tDSAN\tDSAN\tDSAN\tDSAN\tDSAN\tDSAN\tDSAN\tDSAN\tDSAN\tDSAN\tDSAN\tDSAN\tDSAN\tDSAN\tDSAN\tDSAN\tDSAN\tDSAN\tDSAN\tDSAN\tDSAN\tDSAN\tDSAN\tDSAN\tDSAN\tDSAN\tDSAN\tDSAN\tDSAN\tDSAN\tDSAN\tDSAN\tDSAN\tDSAN\tDSAN\tDSAN\tDSAN\tDSAN\tDSAN\tDSAN\tDSAN\tDSAN\tDSAN\tDSAN\tDSAN\tDSAN\tDSAN\tDSAN\tDSAN\tDSAN\tDSAN\tDSAN\tDSAN\tDSAN\tDSAN\tDSAN\tDSAN\tDSAN\tDSAN\tDSAN\tDSAN\tDSAN\tDSAN\tDSAN\tDSAN\tDSAN\tDSAN\tDSAN\tDSAN\tDSAN\tDSAN\tDSAN\tDSAN\tDSAN\tDSAN\tDSAN\tDSAN\tDSAN\tDSAN\tDSAN\tDSAN\tDSAN\tDSAN\tDSAN\tDSAN\tDSAN\tDSAN\tDSAN\tDSAN\tDSAN\tDSAN\tDSAN\tDSAN\tDSAN\tDSAN\tDSAN\tDSAN\tDSAN\tDSAN\tDSAN\tDSAN\tDSAN\tDSAN\tDSAN\tDSAN\tDSAN\tDSAN\tDSAN\tDSAN\tDSAN\tDSAN\tDSAN\tDSAN\tDSAN\tDSAN\tDSAN\tDSAN\tDSAN\tDSAN\tDSAN\tDSAN\tDSAN\tDSAN\tDSAN\tDSAN\tDSAN\tDSAN\tDSAN\tDSAN\tDSAN\tDSAN\tDSAN\tDSAN\tDSAN\tDSAN\tDSAN\tDSAN\tDSAN\tDSAN\tDSAN\tDSAN\tDSAN\tDSAN\tDSAN\tDSAN\tDSAN\tDSAN\tDSAN\tDSAN\tDSAN\tDSAN\tDSAN\tDSAN\tDSAN\tDSAN\tDSAN\tDSAN\tDSAN\tDSAN\tDSAN\tDSAN\tDSAN\tDSAN\tDSAN\tDSAN\tDSAN\tDSAN\tDSAN\tDSAN\tDSAN\tDSAN\tDSAN\tDSAN\tDSAN\tDSAN\tDSAN\tDSAN\tDSAN\tDSAN\tDSAN\tDSAN\tDSAN\tDSAN\tDSAN\tDSAN\tDSAN\tDSAN\tDSAN\tDSAN\tDSAN\tDSAN\tDSAN\tDSAN\tDSAN\tDSAN\tDSAN\tDSAN\tDSAN\tDSAN\tDSAN\tDSAN\tDSAN\tDSAN\tDSAN\tDSAN\tDSAN\tDSAN\tDSAN\tDSAN\tDSAN\tDSAN\tDSAN\tDSAN\tDSAN\tDSAN\tDSAN\tDSAN\tDSAN\tDSAN\tDSAN\tDSAN\tDSAN\tDSAN\tDSAN\tDSAN\tDSAN\tDSAN\tDSAN\tDSAN\tDSAN\tDSAN\tDSAN\tDSAN\tDSAN\tDSAN\tDSAN\tDSAN\tDSAN\tDSAN\tDSAN\tDSAN\tDSAN\tDSAN\tDSAN\tDSAN\tDSAN\tDSAN\tDSAN\tDSAN\tDSAN\tDSAN\tDSAN\tDSAN\tDSAN\tDSAN\tDSAN\tDSAN\tDSAN\tDSAN\tDSAN\tDSAN\tDSAN\tDSAN\tDSAN\tDSAN\tDSAN\tDSAN\tDSAN\tDSAN\tDSAN\tDSAN\tDSAN\tDSAN\tDSAN\tDSAN\tDSAN\tDSAN\tDSAN\tDSAN\tDSAN\tDSAN\tDSAN\tDSAN\tDSAN\tDSAN\tDSAN\tDSAN\tDSAN\tDSAN\tDSAN\tDSAN\tDSAN\tDSAN\tDSAN\tDSAN\tDSAN\tDSAN\tDSAN\tDSAN\tDSAN\tDSAN\tDSAN\tDSAN\tDSAN\tDSAN\tDSAN\tDSAN\tDSAN\tDSAN\tDSAN\tDSAN\tDSAN\tDSAN\tDSAN\tDSAN\tDSAN\tDSAN\tDSAN\tDSAN\tDSAN\t"
          ],
          "name": "stdout"
        }
      ]
    },
    {
      "cell_type": "code",
      "metadata": {
        "colab": {
          "background_save": true,
          "base_uri": "https://localhost:8080/"
        },
        "id": "90ZwDeu8l1rv",
        "outputId": "a89cb6ba-116d-4e90-b5bf-d3cf47209d97"
      },
      "source": [
        "!python _RU.py --source 'webcam' --target 'amazon' --r 0.042"
      ],
      "execution_count": null,
      "outputs": [
        {
          "output_type": "stream",
          "text": [
            "/content/utils.py:49: VisibleDeprecationWarning: Creating an ndarray from ragged nested sequences (which is a list-or-tuple of lists-or-tuples-or ndarrays with different lengths or shapes) is deprecated. If you meant to do this, you must specify 'dtype=object' when creating the ndarray\n",
            "  self.img = np.array(self.img)\n",
            "FineTrain 1:   0% 0/50 [00:00<?, ?it/s]/usr/local/lib/python3.7/dist-packages/torch/nn/functional.py:718: UserWarning: Named tensors and all their associated APIs are an experimental feature and subject to change. Please do not use them for anything important until they are released as stable. (Triggered internally at  /pytorch/c10/core/TensorImpl.h:1156.)\n",
            "  return torch.max_pool2d(input, kernel_size, stride, padding, dilation, ceil_mode)\n",
            "FineTrain 50: 100% 50/50 [01:05<00:00,  1.30s/it, loss=0.0912, minloss=0.0904]\n",
            "Finished Training\n",
            "{0, 1, 2, 3, 4, 5, 6, 7, 8, 9}\n",
            "Transfer learning train 50: 100% 50/50 [03:46<00:00,  4.53s/it, AllAccuracy=tensor(82.6456)]\n",
            "DSAN\tDSAN\tDSAN\tDSAN\tDSAN\tDSAN\tDSAN\tDSAN\tDSAN\tDSAN\tDSAN\tDSAN\tDSAN\tDSAN\tDSAN\tDSAN\tDSAN\tDSAN\tDSAN\tDSAN\tDSAN\tDSAN\tDSAN\tDSAN\tDSAN\tDSAN\tDSAN\tDSAN\tDSAN\tDSAN\tDSAN\tDSAN\tDSAN\tDSAN\tDSAN\tDSAN\tDSAN\tDSAN\tDSAN\tDSAN\tDSAN\tDSAN\tDSAN\tDSAN\tDSAN\tDSAN\tDSAN\tDSAN\tDSAN\tDSAN\tDSAN\tDSAN\tDSAN\tDSAN\tDSAN\tDSAN\tDSAN\tDSAN\tDSAN\tDSAN\tDSAN\tDSAN\tDSAN\tDSAN\tDSAN\tDSAN\tDSAN\tDSAN\tDSAN\tDSAN\tDSAN\tDSAN\tDSAN\tDSAN\tDSAN\tDSAN\tDSAN\tDSAN\tDSAN\tDSAN\tDSAN\tDSAN\tDSAN\tDSAN\tDSAN\tDSAN\tDSAN\tDSAN\tDSAN\tDSAN\tDSAN\tDSAN\tDSAN\tDSAN\tDSAN\tDSAN\tDSAN\tDSAN\tDSAN\tDSAN\tDSAN\tDSAN\tDSAN\tDSAN\tDSAN\tDSAN\tDSAN\tDSAN\tDSAN\tDSAN\tDSAN\tDSAN\tDSAN\tDSAN\tDSAN\tDSAN\tDSAN\tDSAN\tDSAN\tDSAN\tDSAN\tDSAN\tDSAN\tDSAN\tDSAN\tDSAN\tDSAN\tDSAN\tDSAN\tDSAN\tDSAN\tDSAN\tDSAN\tDSAN\tDSAN\tDSAN\tDSAN\tDSAN\tDSAN\tDSAN\tDSAN\tDSAN\tDSAN\tDSAN\tDSAN\tDSAN\tDSAN\tDSAN\tDSAN\tDSAN\tDSAN\tDSAN\tDSAN\tDSAN\tDSAN\tDSAN\tDSAN\tDSAN\tDSAN\tDSAN\tDSAN\tDSAN\tDSAN\tDSAN\tDSAN\tDSAN\tDSAN\tDSAN\tDSAN\tDSAN\tDSAN\tDSAN\tDSAN\tDSAN\tDSAN\tDSAN\tDSAN\tDSAN\tDSAN\tDSAN\tDSAN\tDSAN\tDSAN\tDSAN\tDSAN\tDSAN\tDSAN\tDSAN\tDSAN\tDSAN\tDSAN\tDSAN\tDSAN\tDSAN\tDSAN\tDSAN\tDSAN\tDSAN\tDSAN\tDSAN\tDSAN\tDSAN\tDSAN\tDSAN\tDSAN\tDSAN\tDSAN\tDSAN\tDSAN\tDSAN\tDSAN\tDSAN\tDSAN\tDSAN\tDSAN\tDSAN\tDSAN\tDSAN\tDSAN\tDSAN\tDSAN\tDSAN\tDSAN\tDSAN\tDSAN\tDSAN\tDSAN\tDSAN\tDSAN\tDSAN\tDSAN\tDSAN\tDSAN\tDSAN\tDSAN\tDSAN\tDSAN\tDSAN\tDSAN\tDSAN\tDSAN\tDSAN\tDSAN\tDSAN\tDSAN\tDSAN\tDSAN\tDSAN\tDSAN\tDSAN\tDSAN\tDSAN\tDSAN\tDSAN\tDSAN\tDSAN\tDSAN\tDSAN\tDSAN\tDSAN\tDSAN\tDSAN\tDSAN\tDSAN\tDSAN\tDSAN\tDSAN\tDSAN\tDSAN\tDSAN\tDSAN\tDSAN\tDSAN\tDSAN\tDSAN\tDSAN\tDSAN\tDSAN\tDSAN\tDSAN\tDSAN\tDSAN\tDSAN\tDSAN\tDSAN\tDSAN\tDSAN\tDSAN\tDSAN\tDSAN\tDSAN\tDSAN\tDSAN\tDSAN\tDSAN\tDSAN\tDSAN\tDSAN\tDSAN\tDSAN\t"
          ],
          "name": "stdout"
        }
      ]
    },
    {
      "cell_type": "code",
      "metadata": {
        "id": "2Bh9NcP8l1vH",
        "colab": {
          "base_uri": "https://localhost:8080/"
        },
        "outputId": "19c59981-d5d6-450a-cbc0-03d0690b64af"
      },
      "source": [
        "!python _RU.py --source 'webcam' --target 'dslr' --r 0.227"
      ],
      "execution_count": null,
      "outputs": [
        {
          "output_type": "stream",
          "text": [
            "/content/utils.py:49: VisibleDeprecationWarning: Creating an ndarray from ragged nested sequences (which is a list-or-tuple of lists-or-tuples-or ndarrays with different lengths or shapes) is deprecated. If you meant to do this, you must specify 'dtype=object' when creating the ndarray\n",
            "  self.img = np.array(self.img)\n",
            "FineTrain 1:   0% 0/50 [00:00<?, ?it/s]/usr/local/lib/python3.7/dist-packages/torch/nn/functional.py:718: UserWarning: Named tensors and all their associated APIs are an experimental feature and subject to change. Please do not use them for anything important until they are released as stable. (Triggered internally at  /pytorch/c10/core/TensorImpl.h:1156.)\n",
            "  return torch.max_pool2d(input, kernel_size, stride, padding, dilation, ceil_mode)\n",
            "FineTrain 50: 100% 50/50 [01:05<00:00,  1.31s/it, loss=0.0956, minloss=0.0956]\n",
            "Finished Training\n",
            "{0, 1, 2, 3, 4, 5, 6, 7, 8, 9}\n",
            "Transfer learning train 50: 100% 50/50 [02:51<00:00,  3.43s/it, AllAccuracy=tensor(94.1558)]\n",
            "DSAN\tDSAN\tDSAN\tDSAN\tDSAN\tDSAN\tDSAN\tDSAN\tDSAN\tDSAN\tDSAN\tDSAN\tDSAN\tDSAN\tDSAN\tDSAN\tDSAN\tDSAN\tDSAN\tDSAN\tDSAN\tDSAN\tDSAN\tDSAN\tDSAN\tDSAN\tDSAN\tDSAN\tDSAN\tDSAN\tDSAN\tDSAN\tDSAN\tDSAN\tDSAN\tDSAN\tDSAN\tDSAN\tDSAN\tDSAN\tDSAN\tDSAN\tDSAN\tDSAN\tDSAN\tDSAN\tDSAN\tDSAN\tDSAN\tDSAN\tDSAN\tDSAN\tDSAN\tDSAN\tDSAN\tDSAN\tDSAN\tDSAN\tDSAN\tDSAN\tDSAN\tDSAN\tDSAN\tDSAN\tDSAN\tDSAN\tDSAN\tDSAN\tDSAN\tDSAN\tDSAN\tDSAN\tDSAN\tDSAN\tDSAN\tDSAN\tDSAN\tDSAN\tDSAN\tDSAN\tDSAN\tDSAN\tDSAN\tDSAN\tDSAN\tDSAN\tDSAN\tDSAN\tDSAN\tDSAN\tDSAN\tDSAN\tDSAN\tDSAN\tDSAN\tDSAN\tDSAN\tDSAN\tDSAN\tDSAN\tDSAN\tDSAN\tDSAN\tDSAN\tDSAN\tDSAN\tDSAN\tDSAN\tDSAN\tDSAN\tDSAN\tDSAN\tDSAN\tDSAN\tDSAN\tDSAN\tDSAN\tDSAN\tDSAN\tDSAN\tDSAN\tDSAN\tDSAN\tDSAN\tDSAN\tDSAN\tDSAN\tDSAN\tDSAN\tDSAN\tDSAN\tDSAN\tDSAN\tDSAN\tDSAN\tDSAN\tDSAN\tDSAN\tDSAN\tDSAN\tDSAN\tDSAN\tDSAN\tDSAN\tDSAN\tDSAN\tDSAN\tDSAN\tDSAN\tDSAN\tDSAN\tDSAN\tDSAN\tDSAN\tDSAN\tDSAN\tDSAN\tDSAN\tDSAN\tDSAN\tDSAN\tDSAN\tDSAN\tDSAN\tDSAN\tDSAN\tDSAN\tDSAN\tDSAN\tDSAN\tDSAN\tDSAN\tDSAN\tDSAN\tDSAN\tDSAN\tDSAN\tDSAN\tDSAN\tDSAN\tDSAN\tDSAN\tDSAN\tDSAN\tDSAN\tDSAN\tDSAN\tDSAN\tDSAN\tDSAN\tDSAN\tDSAN\tDSAN\tDSAN\tDSAN\tDSAN\tDSAN\tDSAN\tDSAN\tDSAN\tDSAN\tDSAN\tDSAN\tDSAN\tDSAN\tDSAN\tDSAN\tDSAN\tDSAN\tDSAN\tDSAN\tDSAN\tDSAN\tDSAN\tDSAN\tDSAN\tDSAN\tDSAN\tDSAN\tDSAN\tDSAN\tDSAN\tDSAN\tDSAN\tDSAN\tDSAN\tDSAN\tDSAN\tDSAN\tDSAN\tDSAN\tDSAN\tDSAN\tDSAN\tDSAN\tDSAN\tDSAN\tDSAN\tDSAN\tDSAN\tDSAN\tDSAN\tDSAN\tDSAN\tDSAN\tDSAN\tDSAN\tDSAN\tDSAN\tDSAN\tDSAN\tDSAN\tDSAN\tDSAN\tDSAN\tDSAN\tDSAN\tDSAN\tDSAN\tDSAN\tDSAN\tDSAN\tDSAN\tDSAN\tDSAN\tDSAN\tDSAN\tDSAN\tDSAN\tDSAN\tDSAN\tDSAN\tDSAN\tDSAN\tDSAN\tDSAN\tDSAN\tDSAN\tDSAN\tDSAN\tDSAN\tDSAN\tDSAN\tDSAN\tDSAN\tDSAN\tDSAN\tDSAN\tDSAN\tDSAN\tDSAN\tDSAN\tDSAN\tDSAN\tDSAN\tDSAN\tDSAN\tDSAN\tDSAN\tDSAN\t"
          ],
          "name": "stdout"
        }
      ]
    },
    {
      "cell_type": "code",
      "metadata": {
        "colab": {
          "background_save": true
        },
        "id": "lup5-17_l1y5"
      },
      "source": [
        ""
      ],
      "execution_count": null,
      "outputs": []
    },
    {
      "cell_type": "code",
      "metadata": {
        "id": "_tVufibkqjPA"
      },
      "source": [
        ""
      ],
      "execution_count": null,
      "outputs": []
    },
    {
      "cell_type": "code",
      "metadata": {
        "id": "p112bBXFqjJL"
      },
      "source": [
        ""
      ],
      "execution_count": null,
      "outputs": []
    },
    {
      "cell_type": "code",
      "metadata": {
        "id": "Y0Gz9epoqjDM"
      },
      "source": [
        ""
      ],
      "execution_count": null,
      "outputs": []
    },
    {
      "cell_type": "code",
      "metadata": {
        "id": "WW_phPJsl12c",
        "colab": {
          "base_uri": "https://localhost:8080/"
        },
        "outputId": "8a4d4c53-1b45-4026-e4e6-e81044bef6f6"
      },
      "source": [
        "!python _RU_DANN.py --source 'dslr' --target 'webcam' --r 0.187"
      ],
      "execution_count": null,
      "outputs": [
        {
          "output_type": "stream",
          "text": [
            "/content/utils.py:49: VisibleDeprecationWarning: Creating an ndarray from ragged nested sequences (which is a list-or-tuple of lists-or-tuples-or ndarrays with different lengths or shapes) is deprecated. If you meant to do this, you must specify 'dtype=object' when creating the ndarray\n",
            "  self.img = np.array(self.img)\n",
            "FineTrain 1:   0% 0/50 [00:00<?, ?it/s]/usr/local/lib/python3.7/dist-packages/torch/nn/functional.py:718: UserWarning: Named tensors and all their associated APIs are an experimental feature and subject to change. Please do not use them for anything important until they are released as stable. (Triggered internally at  /pytorch/c10/core/TensorImpl.h:1156.)\n",
            "  return torch.max_pool2d(input, kernel_size, stride, padding, dilation, ceil_mode)\n",
            "FineTrain 50: 100% 50/50 [01:06<00:00,  1.34s/it, loss=0.0472, minloss=0.0467]\n",
            "Finished Training\n",
            "{0, 1, 2, 3, 4, 5, 6, 7, 8, 9}\n",
            "Transfer learning train 50: 100% 50/50 [02:25<00:00,  2.91s/it, AllAccuracy=tensor(99.5745)]\n",
            "DANN\tDANN\tDANN\tDANN\tDANN\tDANN\tDANN\tDANN\tDANN\tDANN\tDANN\tDANN\tDANN\tDANN\tDANN\tDANN\tDANN\tDANN\tDANN\tDANN\tDANN\tDANN\tDANN\tDANN\tDANN\tDANN\tDANN\tDANN\tDANN\tDANN\tDANN\tDANN\tDANN\tDANN\tDANN\tDANN\tDANN\tDANN\tDANN\tDANN\tDANN\tDANN\tDANN\tDANN\tDANN\tDANN\tDANN\tDANN\tDANN\tDANN\tDANN\tDANN\tDANN\tDANN\tDANN\tDANN\tDANN\tDANN\tDANN\tDANN\tDANN\tDANN\tDANN\tDANN\tDANN\tDANN\tDANN\tDANN\tDANN\tDANN\tDANN\tDANN\tDANN\tDANN\tDANN\tDANN\tDANN\tDANN\tDANN\tDANN\tDANN\tDANN\tDANN\tDANN\tDANN\tDANN\tDANN\tDANN\tDANN\tDANN\tDANN\tDANN\tDANN\tDANN\tDANN\tDANN\tDANN\tDANN\tDANN\tDANN\tDANN\tDANN\tDANN\tDANN\tDANN\tDANN\tDANN\tDANN\tDANN\tDANN\tDANN\tDANN\tDANN\tDANN\tDANN\tDANN\tDANN\tDANN\tDANN\tDANN\tDANN\tDANN\tDANN\tDANN\tDANN\tDANN\tDANN\tDANN\tDANN\tDANN\tDANN\tDANN\tDANN\tDANN\tDANN\tDANN\tDANN\tDANN\tDANN\tDANN\tDANN\tDANN\tDANN\tDANN\tDANN\tDANN\tDANN\tDANN\tDANN\tDANN\tDANN\tDANN\tDANN\tDANN\tDANN\tDANN\tDANN\tDANN\tDANN\tDANN\tDANN\tDANN\tDANN\tDANN\tDANN\tDANN\tDANN\tDANN\tDANN\tDANN\tDANN\tDANN\tDANN\tDANN\tDANN\tDANN\tDANN\tDANN\tDANN\tDANN\tDANN\tDANN\tDANN\tDANN\tDANN\tDANN\tDANN\tDANN\tDANN\tDANN\tDANN\tDANN\tDANN\tDANN\tDANN\tDANN\tDANN\tDANN\tDANN\tDANN\tDANN\tDANN\tDANN\tDANN\tDANN\tDANN\tDANN\tDANN\tDANN\tDANN\tDANN\tDANN\tDANN\tDANN\tDANN\tDANN\tDANN\tDANN\tDANN\tDANN\tDANN\tDANN\tDANN\tDANN\tDANN\tDANN\tDANN\tDANN\tDANN\tDANN\tDANN\tDANN\tDANN\tDANN\tDANN\tDANN\tDANN\tDANN\tDANN\tDANN\tDANN\tDANN\tDANN\tDANN\tDANN\tDANN\tDANN\tDANN\tDANN\tDANN\tDANN\tDANN\tDANN\tDANN\tDANN\tDANN\tDANN\tDANN\tDANN\tDANN\tDANN\tDANN\tDANN\tDANN\tDANN\tDANN\tDANN\tDANN\tDANN\tDANN\tDANN\tDANN\tDANN\tDANN\tDANN\tDANN\tDANN\tDANN\tDANN\tDANN\tDANN\tDANN\tDANN\tDANN\tDANN\tDANN\tDANN\tDANN\tDANN\tDANN\tDANN\tDANN\tDANN\tDANN\tDANN\tDANN\tDANN\tDANN\tDANN\tDANN\t"
          ],
          "name": "stdout"
        }
      ]
    },
    {
      "cell_type": "code",
      "metadata": {
        "id": "OkSKcifAl161",
        "colab": {
          "base_uri": "https://localhost:8080/"
        },
        "outputId": "b568982c-7783-4bd1-dd0c-56f1da33d3e7"
      },
      "source": [
        "!python _RU_DANN.py --source 'dslr' --target 'amazon' --r 0.045"
      ],
      "execution_count": null,
      "outputs": [
        {
          "output_type": "stream",
          "text": [
            "/content/utils.py:49: VisibleDeprecationWarning: Creating an ndarray from ragged nested sequences (which is a list-or-tuple of lists-or-tuples-or ndarrays with different lengths or shapes) is deprecated. If you meant to do this, you must specify 'dtype=object' when creating the ndarray\n",
            "  self.img = np.array(self.img)\n",
            "FineTrain 1:   0% 0/50 [00:00<?, ?it/s]/usr/local/lib/python3.7/dist-packages/torch/nn/functional.py:718: UserWarning: Named tensors and all their associated APIs are an experimental feature and subject to change. Please do not use them for anything important until they are released as stable. (Triggered internally at  /pytorch/c10/core/TensorImpl.h:1156.)\n",
            "  return torch.max_pool2d(input, kernel_size, stride, padding, dilation, ceil_mode)\n",
            "FineTrain 50: 100% 50/50 [01:07<00:00,  1.35s/it, loss=0.0469, minloss=0.0469]\n",
            "Finished Training\n",
            "{0, 1, 2, 3, 4, 5, 6, 7, 8, 9}\n",
            "Transfer learning train 50: 100% 50/50 [03:42<00:00,  4.45s/it, AllAccuracy=tensor(87.7427)]\n",
            "DANN\tDANN\tDANN\tDANN\tDANN\tDANN\tDANN\tDANN\tDANN\tDANN\tDANN\tDANN\tDANN\tDANN\tDANN\tDANN\tDANN\tDANN\tDANN\tDANN\tDANN\tDANN\tDANN\tDANN\tDANN\tDANN\tDANN\tDANN\tDANN\tDANN\tDANN\tDANN\tDANN\tDANN\tDANN\tDANN\tDANN\tDANN\tDANN\tDANN\tDANN\tDANN\tDANN\tDANN\tDANN\tDANN\tDANN\tDANN\tDANN\tDANN\tDANN\tDANN\tDANN\tDANN\tDANN\tDANN\tDANN\tDANN\tDANN\tDANN\tDANN\tDANN\tDANN\tDANN\tDANN\tDANN\tDANN\tDANN\tDANN\tDANN\tDANN\tDANN\tDANN\tDANN\tDANN\tDANN\tDANN\tDANN\tDANN\tDANN\tDANN\tDANN\tDANN\tDANN\tDANN\tDANN\tDANN\tDANN\tDANN\tDANN\tDANN\tDANN\tDANN\tDANN\tDANN\tDANN\tDANN\tDANN\tDANN\tDANN\tDANN\tDANN\tDANN\tDANN\tDANN\tDANN\tDANN\tDANN\tDANN\tDANN\tDANN\tDANN\tDANN\tDANN\tDANN\tDANN\tDANN\tDANN\tDANN\tDANN\tDANN\tDANN\tDANN\tDANN\tDANN\tDANN\tDANN\tDANN\tDANN\tDANN\tDANN\tDANN\tDANN\tDANN\tDANN\tDANN\tDANN\tDANN\tDANN\tDANN\tDANN\tDANN\tDANN\tDANN\tDANN\tDANN\tDANN\tDANN\tDANN\tDANN\tDANN\tDANN\tDANN\tDANN\tDANN\tDANN\tDANN\tDANN\tDANN\tDANN\tDANN\tDANN\tDANN\tDANN\tDANN\tDANN\tDANN\tDANN\tDANN\tDANN\tDANN\tDANN\tDANN\tDANN\tDANN\tDANN\tDANN\tDANN\tDANN\tDANN\tDANN\tDANN\tDANN\tDANN\tDANN\tDANN\tDANN\tDANN\tDANN\tDANN\tDANN\tDANN\tDANN\tDANN\tDANN\tDANN\tDANN\tDANN\tDANN\tDANN\tDANN\tDANN\tDANN\tDANN\tDANN\tDANN\tDANN\tDANN\tDANN\tDANN\tDANN\tDANN\tDANN\tDANN\tDANN\tDANN\tDANN\tDANN\tDANN\tDANN\tDANN\tDANN\tDANN\tDANN\tDANN\tDANN\tDANN\tDANN\tDANN\tDANN\tDANN\tDANN\tDANN\tDANN\tDANN\tDANN\tDANN\tDANN\tDANN\tDANN\tDANN\tDANN\tDANN\tDANN\tDANN\tDANN\tDANN\tDANN\tDANN\tDANN\t"
          ],
          "name": "stdout"
        }
      ]
    },
    {
      "cell_type": "code",
      "metadata": {
        "id": "1rUyCCiDqmis",
        "colab": {
          "base_uri": "https://localhost:8080/"
        },
        "outputId": "24bde971-546f-469d-90de-f1f4283e0cf1"
      },
      "source": [
        "!python _RU_DANN.py --source 'amazon' --target 'webcam' --r 0.153"
      ],
      "execution_count": null,
      "outputs": [
        {
          "output_type": "stream",
          "text": [
            "/content/utils.py:49: VisibleDeprecationWarning: Creating an ndarray from ragged nested sequences (which is a list-or-tuple of lists-or-tuples-or ndarrays with different lengths or shapes) is deprecated. If you meant to do this, you must specify 'dtype=object' when creating the ndarray\n",
            "  self.img = np.array(self.img)\n",
            "FineTrain 1:   0% 0/50 [00:00<?, ?it/s]/usr/local/lib/python3.7/dist-packages/torch/nn/functional.py:718: UserWarning: Named tensors and all their associated APIs are an experimental feature and subject to change. Please do not use them for anything important until they are released as stable. (Triggered internally at  /pytorch/c10/core/TensorImpl.h:1156.)\n",
            "  return torch.max_pool2d(input, kernel_size, stride, padding, dilation, ceil_mode)\n",
            "FineTrain 50: 100% 50/50 [01:45<00:00,  2.11s/it, loss=0.0212, minloss=0.0142]\n",
            "Finished Training\n",
            "{0, 1, 2, 3, 4, 5, 6, 7, 8, 9}\n",
            "Transfer learning train 50: 100% 50/50 [04:14<00:00,  5.09s/it, AllAccuracy=tensor(97.8723)]\n",
            "DANN\tDANN\tDANN\tDANN\tDANN\tDANN\tDANN\tDANN\tDANN\tDANN\tDANN\tDANN\tDANN\tDANN\tDANN\tDANN\tDANN\tDANN\tDANN\tDANN\tDANN\tDANN\tDANN\tDANN\tDANN\tDANN\tDANN\tDANN\tDANN\tDANN\tDANN\tDANN\tDANN\tDANN\tDANN\tDANN\tDANN\tDANN\tDANN\tDANN\tDANN\tDANN\tDANN\tDANN\tDANN\tDANN\tDANN\tDANN\tDANN\tDANN\tDANN\tDANN\tDANN\tDANN\tDANN\tDANN\tDANN\tDANN\tDANN\tDANN\tDANN\tDANN\tDANN\tDANN\tDANN\tDANN\tDANN\tDANN\tDANN\tDANN\tDANN\tDANN\tDANN\tDANN\tDANN\tDANN\tDANN\tDANN\tDANN\tDANN\tDANN\tDANN\tDANN\tDANN\tDANN\tDANN\tDANN\tDANN\tDANN\tDANN\tDANN\tDANN\tDANN\tDANN\tDANN\tDANN\tDANN\tDANN\tDANN\tDANN\tDANN\tDANN\tDANN\tDANN\tDANN\tDANN\tDANN\tDANN\tDANN\tDANN\tDANN\tDANN\tDANN\tDANN\tDANN\tDANN\tDANN\tDANN\tDANN\tDANN\tDANN\tDANN\tDANN\tDANN\tDANN\tDANN\tDANN\tDANN\tDANN\tDANN\tDANN\tDANN\tDANN\tDANN\tDANN\tDANN\tDANN\tDANN\tDANN\tDANN\tDANN\tDANN\tDANN\tDANN\tDANN\tDANN\tDANN\tDANN\tDANN\tDANN\tDANN\tDANN\tDANN\tDANN\tDANN\tDANN\tDANN\tDANN\tDANN\tDANN\tDANN\tDANN\tDANN\tDANN\tDANN\tDANN\tDANN\tDANN\tDANN\tDANN\tDANN\tDANN\tDANN\tDANN\tDANN\tDANN\tDANN\tDANN\tDANN\tDANN\tDANN\tDANN\tDANN\tDANN\tDANN\tDANN\tDANN\tDANN\tDANN\tDANN\tDANN\tDANN\tDANN\tDANN\tDANN\tDANN\tDANN\tDANN\tDANN\tDANN\tDANN\tDANN\tDANN\tDANN\tDANN\tDANN\tDANN\tDANN\tDANN\tDANN\tDANN\tDANN\tDANN\tDANN\tDANN\tDANN\tDANN\tDANN\tDANN\tDANN\tDANN\tDANN\tDANN\tDANN\tDANN\tDANN\tDANN\tDANN\tDANN\tDANN\tDANN\tDANN\tDANN\tDANN\tDANN\tDANN\tDANN\tDANN\tDANN\tDANN\tDANN\tDANN\tDANN\tDANN\tDANN\tDANN\tDANN\tDANN\tDANN\tDANN\tDANN\tDANN\tDANN\tDANN\tDANN\tDANN\tDANN\tDANN\tDANN\tDANN\tDANN\tDANN\tDANN\tDANN\tDANN\tDANN\tDANN\tDANN\tDANN\tDANN\tDANN\tDANN\tDANN\tDANN\tDANN\tDANN\tDANN\tDANN\tDANN\tDANN\tDANN\tDANN\tDANN\tDANN\tDANN\tDANN\tDANN\tDANN\tDANN\tDANN\tDANN\tDANN\tDANN\tDANN\tDANN\tDANN\tDANN\tDANN\tDANN\tDANN\tDANN\tDANN\tDANN\tDANN\tDANN\tDANN\tDANN\tDANN\tDANN\tDANN\tDANN\tDANN\tDANN\tDANN\tDANN\tDANN\tDANN\tDANN\tDANN\tDANN\tDANN\tDANN\tDANN\tDANN\tDANN\tDANN\tDANN\tDANN\tDANN\tDANN\tDANN\tDANN\tDANN\tDANN\tDANN\tDANN\tDANN\tDANN\tDANN\tDANN\tDANN\tDANN\tDANN\tDANN\tDANN\tDANN\tDANN\tDANN\tDANN\tDANN\tDANN\tDANN\tDANN\tDANN\tDANN\tDANN\tDANN\tDANN\tDANN\tDANN\tDANN\tDANN\tDANN\tDANN\tDANN\tDANN\tDANN\tDANN\tDANN\tDANN\tDANN\tDANN\tDANN\tDANN\tDANN\tDANN\tDANN\tDANN\tDANN\tDANN\tDANN\tDANN\tDANN\tDANN\tDANN\tDANN\tDANN\tDANN\tDANN\tDANN\tDANN\tDANN\tDANN\tDANN\tDANN\tDANN\tDANN\tDANN\tDANN\tDANN\tDANN\tDANN\tDANN\tDANN\tDANN\tDANN\tDANN\tDANN\tDANN\tDANN\tDANN\tDANN\tDANN\tDANN\tDANN\tDANN\tDANN\tDANN\tDANN\tDANN\tDANN\tDANN\tDANN\tDANN\tDANN\tDANN\tDANN\tDANN\tDANN\tDANN\tDANN\tDANN\tDANN\tDANN\tDANN\tDANN\tDANN\tDANN\tDANN\tDANN\tDANN\tDANN\tDANN\tDANN\tDANN\tDANN\tDANN\tDANN\tDANN\tDANN\tDANN\tDANN\tDANN\tDANN\tDANN\tDANN\tDANN\tDANN\tDANN\tDANN\tDANN\tDANN\tDANN\tDANN\tDANN\tDANN\tDANN\tDANN\tDANN\tDANN\tDANN\tDANN\tDANN\tDANN\tDANN\tDANN\tDANN\tDANN\tDANN\tDANN\tDANN\tDANN\tDANN\tDANN\tDANN\tDANN\tDANN\tDANN\tDANN\tDANN\tDANN\tDANN\tDANN\tDANN\tDANN\tDANN\tDANN\tDANN\tDANN\tDANN\tDANN\tDANN\tDANN\tDANN\tDANN\tDANN\tDANN\tDANN\tDANN\tDANN\tDANN\tDANN\tDANN\tDANN\tDANN\tDANN\tDANN\tDANN\tDANN\tDANN\tDANN\tDANN\tDANN\tDANN\tDANN\tDANN\tDANN\tDANN\tDANN\tDANN\tDANN\tDANN\tDANN\tDANN\tDANN\tDANN\tDANN\tDANN\tDANN\tDANN\tDANN\tDANN\tDANN\tDANN\tDANN\tDANN\tDANN\tDANN\tDANN\tDANN\tDANN\tDANN\tDANN\tDANN\tDANN\tDANN\tDANN\tDANN\tDANN\tDANN\tDANN\tDANN\tDANN\tDANN\tDANN\tDANN\tDANN\tDANN\tDANN\tDANN\tDANN\tDANN\tDANN\tDANN\tDANN\tDANN\tDANN\tDANN\tDANN\tDANN\tDANN\tDANN\tDANN\tDANN\tDANN\tDANN\tDANN\tDANN\tDANN\tDANN\tDANN\tDANN\tDANN\tDANN\tDANN\tDANN\tDANN\tDANN\tDANN\tDANN\tDANN\tDANN\tDANN\tDANN\tDANN\tDANN\tDANN\tDANN\tDANN\tDANN\tDANN\tDANN\tDANN\tDANN\tDANN\tDANN\tDANN\tDANN\tDANN\tDANN\tDANN\tDANN\tDANN\tDANN\tDANN\tDANN\tDANN\tDANN\tDANN\tDANN\tDANN\tDANN\tDANN\tDANN\tDANN\tDANN\tDANN\tDANN\tDANN\tDANN\tDANN\tDANN\tDANN\tDANN\tDANN\tDANN\tDANN\tDANN\tDANN\tDANN\tDANN\tDANN\tDANN\tDANN\tDANN\tDANN\tDANN\tDANN\tDANN\tDANN\tDANN\tDANN\tDANN\tDANN\tDANN\tDANN\tDANN\tDANN\tDANN\tDANN\tDANN\tDANN\tDANN\tDANN\tDANN\tDANN\tDANN\tDANN\tDANN\tDANN\tDANN\tDANN\tDANN\tDANN\tDANN\tDANN\tDANN\tDANN\tDANN\tDANN\tDANN\tDANN\tDANN\tDANN\tDANN\tDANN\tDANN\tDANN\tDANN\tDANN\tDANN\tDANN\tDANN\tDANN\tDANN\tDANN\tDANN\tDANN\tDANN\tDANN\tDANN\tDANN\tDANN\tDANN\tDANN\tDANN\tDANN\tDANN\tDANN\tDANN\tDANN\tDANN\tDANN\tDANN\tDANN\tDANN\tDANN\tDANN\tDANN\tDANN\tDANN\tDANN\tDANN\tDANN\tDANN\tDANN\tDANN\tDANN\tDANN\tDANN\tDANN\tDANN\tDANN\tDANN\tDANN\tDANN\tDANN\tDANN\tDANN\tDANN\tDANN\tDANN\tDANN\tDANN\tDANN\tDANN\tDANN\tDANN\tDANN\tDANN\tDANN\tDANN\tDANN\tDANN\tDANN\tDANN\tDANN\tDANN\tDANN\tDANN\tDANN\tDANN\tDANN\tDANN\tDANN\tDANN\tDANN\tDANN\tDANN\tDANN\tDANN\tDANN\tDANN\tDANN\tDANN\tDANN\tDANN\tDANN\tDANN\tDANN\tDANN\tDANN\tDANN\tDANN\tDANN\tDANN\tDANN\tDANN\tDANN\tDANN\tDANN\tDANN\tDANN\tDANN\tDANN\tDANN\tDANN\tDANN\tDANN\tDANN\tDANN\tDANN\tDANN\tDANN\tDANN\tDANN\tDANN\tDANN\tDANN\tDANN\tDANN\tDANN\tDANN\tDANN\tDANN\tDANN\tDANN\tDANN\tDANN\tDANN\tDANN\tDANN\tDANN\tDANN\tDANN\tDANN\tDANN\tDANN\tDANN\tDANN\tDANN\tDANN\tDANN\tDANN\tDANN\tDANN\tDANN\tDANN\tDANN\tDANN\t"
          ],
          "name": "stdout"
        }
      ]
    },
    {
      "cell_type": "code",
      "metadata": {
        "id": "CfmNO1tIqn-e",
        "colab": {
          "base_uri": "https://localhost:8080/"
        },
        "outputId": "196d7056-a3f6-405d-e6b1-f426e3c230f8"
      },
      "source": [
        "!python _RU_DANN.py --source 'amazon' --target 'dslr' --r 0.233"
      ],
      "execution_count": null,
      "outputs": [
        {
          "output_type": "stream",
          "text": [
            "/content/utils.py:49: VisibleDeprecationWarning: Creating an ndarray from ragged nested sequences (which is a list-or-tuple of lists-or-tuples-or ndarrays with different lengths or shapes) is deprecated. If you meant to do this, you must specify 'dtype=object' when creating the ndarray\n",
            "  self.img = np.array(self.img)\n",
            "FineTrain 1:   0% 0/50 [00:00<?, ?it/s]/usr/local/lib/python3.7/dist-packages/torch/nn/functional.py:718: UserWarning: Named tensors and all their associated APIs are an experimental feature and subject to change. Please do not use them for anything important until they are released as stable. (Triggered internally at  /pytorch/c10/core/TensorImpl.h:1156.)\n",
            "  return torch.max_pool2d(input, kernel_size, stride, padding, dilation, ceil_mode)\n",
            "FineTrain 50: 100% 50/50 [01:45<00:00,  2.11s/it, loss=0.0146, minloss=0.0146]\n",
            "Finished Training\n",
            "{0, 1, 2, 3, 4, 5, 6, 7, 8, 9}\n",
            "Transfer learning train 50: 100% 50/50 [05:27<00:00,  6.55s/it, AllAccuracy=tensor(98.0519)]\n",
            "DANN\tDANN\tDANN\tDANN\tDANN\tDANN\tDANN\tDANN\tDANN\tDANN\tDANN\tDANN\tDANN\tDANN\tDANN\tDANN\tDANN\tDANN\tDANN\tDANN\tDANN\tDANN\tDANN\tDANN\tDANN\tDANN\tDANN\tDANN\tDANN\tDANN\tDANN\tDANN\tDANN\tDANN\tDANN\tDANN\tDANN\tDANN\tDANN\tDANN\tDANN\tDANN\tDANN\tDANN\tDANN\tDANN\tDANN\tDANN\tDANN\tDANN\tDANN\tDANN\tDANN\tDANN\tDANN\tDANN\tDANN\tDANN\tDANN\tDANN\tDANN\tDANN\tDANN\tDANN\tDANN\tDANN\tDANN\tDANN\tDANN\tDANN\tDANN\tDANN\tDANN\tDANN\tDANN\tDANN\tDANN\tDANN\tDANN\tDANN\tDANN\tDANN\tDANN\tDANN\tDANN\tDANN\tDANN\tDANN\tDANN\tDANN\tDANN\tDANN\tDANN\tDANN\tDANN\tDANN\tDANN\tDANN\tDANN\tDANN\tDANN\tDANN\tDANN\tDANN\tDANN\tDANN\tDANN\tDANN\tDANN\tDANN\tDANN\tDANN\tDANN\tDANN\tDANN\tDANN\tDANN\tDANN\tDANN\tDANN\tDANN\tDANN\tDANN\tDANN\tDANN\tDANN\tDANN\tDANN\tDANN\tDANN\tDANN\tDANN\tDANN\tDANN\tDANN\tDANN\tDANN\tDANN\tDANN\tDANN\tDANN\tDANN\tDANN\tDANN\tDANN\tDANN\tDANN\tDANN\tDANN\tDANN\tDANN\tDANN\tDANN\tDANN\tDANN\tDANN\tDANN\tDANN\tDANN\tDANN\tDANN\tDANN\tDANN\tDANN\tDANN\tDANN\tDANN\tDANN\tDANN\tDANN\tDANN\tDANN\tDANN\tDANN\tDANN\tDANN\tDANN\tDANN\tDANN\tDANN\tDANN\tDANN\tDANN\tDANN\tDANN\tDANN\tDANN\tDANN\tDANN\tDANN\tDANN\tDANN\tDANN\tDANN\tDANN\tDANN\tDANN\tDANN\tDANN\tDANN\tDANN\tDANN\tDANN\tDANN\tDANN\tDANN\tDANN\tDANN\tDANN\tDANN\tDANN\tDANN\tDANN\tDANN\tDANN\tDANN\tDANN\tDANN\tDANN\tDANN\tDANN\tDANN\tDANN\tDANN\tDANN\tDANN\tDANN\tDANN\tDANN\tDANN\tDANN\tDANN\tDANN\tDANN\tDANN\tDANN\tDANN\tDANN\tDANN\tDANN\tDANN\tDANN\tDANN\tDANN\tDANN\tDANN\tDANN\tDANN\tDANN\tDANN\tDANN\tDANN\tDANN\tDANN\tDANN\tDANN\tDANN\tDANN\tDANN\tDANN\tDANN\tDANN\tDANN\tDANN\tDANN\tDANN\tDANN\tDANN\tDANN\tDANN\tDANN\tDANN\tDANN\tDANN\tDANN\tDANN\tDANN\tDANN\tDANN\tDANN\tDANN\tDANN\tDANN\tDANN\tDANN\tDANN\tDANN\tDANN\tDANN\tDANN\tDANN\tDANN\tDANN\tDANN\tDANN\tDANN\tDANN\tDANN\tDANN\tDANN\tDANN\tDANN\tDANN\tDANN\tDANN\tDANN\tDANN\tDANN\tDANN\tDANN\tDANN\tDANN\tDANN\tDANN\tDANN\tDANN\tDANN\tDANN\tDANN\tDANN\tDANN\tDANN\tDANN\tDANN\tDANN\tDANN\tDANN\tDANN\tDANN\tDANN\tDANN\tDANN\tDANN\tDANN\tDANN\tDANN\tDANN\tDANN\tDANN\tDANN\tDANN\tDANN\tDANN\tDANN\tDANN\tDANN\tDANN\tDANN\tDANN\tDANN\tDANN\tDANN\tDANN\tDANN\tDANN\tDANN\tDANN\tDANN\tDANN\tDANN\tDANN\tDANN\tDANN\tDANN\tDANN\tDANN\tDANN\tDANN\tDANN\tDANN\tDANN\tDANN\tDANN\tDANN\tDANN\tDANN\tDANN\tDANN\tDANN\tDANN\tDANN\tDANN\tDANN\tDANN\tDANN\tDANN\tDANN\tDANN\tDANN\tDANN\tDANN\tDANN\tDANN\tDANN\tDANN\tDANN\tDANN\tDANN\tDANN\tDANN\tDANN\tDANN\tDANN\tDANN\tDANN\tDANN\tDANN\tDANN\tDANN\tDANN\tDANN\tDANN\tDANN\tDANN\tDANN\tDANN\tDANN\tDANN\tDANN\tDANN\tDANN\tDANN\tDANN\tDANN\tDANN\tDANN\tDANN\tDANN\tDANN\tDANN\tDANN\tDANN\tDANN\tDANN\tDANN\tDANN\tDANN\tDANN\tDANN\tDANN\tDANN\tDANN\tDANN\tDANN\tDANN\tDANN\tDANN\tDANN\tDANN\tDANN\tDANN\tDANN\tDANN\tDANN\tDANN\tDANN\tDANN\tDANN\tDANN\tDANN\tDANN\tDANN\tDANN\tDANN\tDANN\tDANN\tDANN\tDANN\tDANN\tDANN\tDANN\tDANN\tDANN\tDANN\tDANN\tDANN\tDANN\tDANN\tDANN\tDANN\tDANN\tDANN\tDANN\tDANN\tDANN\tDANN\tDANN\tDANN\tDANN\tDANN\tDANN\tDANN\tDANN\tDANN\tDANN\tDANN\tDANN\tDANN\tDANN\tDANN\tDANN\tDANN\tDANN\tDANN\tDANN\tDANN\tDANN\tDANN\tDANN\tDANN\tDANN\tDANN\tDANN\tDANN\tDANN\tDANN\tDANN\tDANN\tDANN\tDANN\tDANN\tDANN\tDANN\tDANN\tDANN\tDANN\tDANN\tDANN\tDANN\tDANN\tDANN\tDANN\tDANN\tDANN\tDANN\tDANN\tDANN\tDANN\tDANN\tDANN\tDANN\tDANN\tDANN\tDANN\tDANN\tDANN\tDANN\tDANN\tDANN\tDANN\tDANN\tDANN\tDANN\tDANN\tDANN\tDANN\tDANN\tDANN\tDANN\tDANN\tDANN\tDANN\tDANN\tDANN\tDANN\tDANN\tDANN\tDANN\tDANN\tDANN\tDANN\tDANN\tDANN\tDANN\tDANN\tDANN\tDANN\tDANN\tDANN\tDANN\tDANN\tDANN\tDANN\tDANN\tDANN\tDANN\tDANN\tDANN\tDANN\tDANN\tDANN\tDANN\tDANN\tDANN\tDANN\tDANN\tDANN\tDANN\tDANN\tDANN\tDANN\tDANN\tDANN\tDANN\tDANN\tDANN\tDANN\tDANN\tDANN\tDANN\tDANN\tDANN\tDANN\tDANN\tDANN\tDANN\tDANN\tDANN\tDANN\tDANN\tDANN\tDANN\tDANN\tDANN\tDANN\tDANN\tDANN\tDANN\tDANN\tDANN\tDANN\tDANN\tDANN\tDANN\tDANN\tDANN\tDANN\tDANN\tDANN\tDANN\tDANN\tDANN\tDANN\tDANN\tDANN\tDANN\tDANN\tDANN\tDANN\tDANN\tDANN\tDANN\tDANN\tDANN\tDANN\tDANN\tDANN\tDANN\tDANN\tDANN\tDANN\tDANN\tDANN\tDANN\tDANN\tDANN\tDANN\tDANN\tDANN\tDANN\tDANN\tDANN\tDANN\tDANN\tDANN\tDANN\tDANN\tDANN\tDANN\tDANN\tDANN\tDANN\tDANN\tDANN\tDANN\tDANN\tDANN\tDANN\tDANN\tDANN\tDANN\tDANN\tDANN\tDANN\tDANN\tDANN\tDANN\tDANN\tDANN\tDANN\tDANN\tDANN\tDANN\tDANN\tDANN\tDANN\tDANN\tDANN\tDANN\tDANN\tDANN\tDANN\tDANN\tDANN\tDANN\tDANN\tDANN\tDANN\tDANN\tDANN\tDANN\tDANN\tDANN\tDANN\tDANN\tDANN\tDANN\tDANN\tDANN\tDANN\tDANN\tDANN\tDANN\tDANN\tDANN\tDANN\tDANN\tDANN\tDANN\tDANN\tDANN\tDANN\tDANN\tDANN\tDANN\tDANN\tDANN\tDANN\tDANN\tDANN\tDANN\tDANN\tDANN\tDANN\tDANN\tDANN\tDANN\tDANN\tDANN\tDANN\tDANN\tDANN\tDANN\tDANN\tDANN\tDANN\tDANN\tDANN\tDANN\tDANN\tDANN\tDANN\tDANN\tDANN\tDANN\tDANN\tDANN\tDANN\tDANN\tDANN\tDANN\tDANN\tDANN\tDANN\tDANN\tDANN\tDANN\tDANN\tDANN\tDANN\tDANN\tDANN\tDANN\tDANN\tDANN\tDANN\tDANN\tDANN\tDANN\tDANN\tDANN\tDANN\tDANN\tDANN\tDANN\tDANN\tDANN\tDANN\tDANN\tDANN\tDANN\tDANN\tDANN\tDANN\tDANN\tDANN\tDANN\tDANN\tDANN\tDANN\tDANN\tDANN\tDANN\tDANN\tDANN\tDANN\tDANN\tDANN\tDANN\tDANN\tDANN\tDANN\tDANN\tDANN\tDANN\tDANN\tDANN\tDANN\tDANN\tDANN\tDANN\tDANN\tDANN\tDANN\tDANN\tDANN\tDANN\tDANN\tDANN\tDANN\t"
          ],
          "name": "stdout"
        }
      ]
    },
    {
      "cell_type": "code",
      "metadata": {
        "id": "gUUKsbOJqohB",
        "colab": {
          "base_uri": "https://localhost:8080/"
        },
        "outputId": "d9f2eb84-0bf8-4c11-8519-3b0fe8877549"
      },
      "source": [
        "!python _RU_DANN.py --source 'webcam' --target 'amazon' --r 0.045"
      ],
      "execution_count": null,
      "outputs": [
        {
          "output_type": "stream",
          "text": [
            "/content/utils.py:49: VisibleDeprecationWarning: Creating an ndarray from ragged nested sequences (which is a list-or-tuple of lists-or-tuples-or ndarrays with different lengths or shapes) is deprecated. If you meant to do this, you must specify 'dtype=object' when creating the ndarray\n",
            "  self.img = np.array(self.img)\n",
            "FineTrain 1:   0% 0/50 [00:00<?, ?it/s]/usr/local/lib/python3.7/dist-packages/torch/nn/functional.py:718: UserWarning: Named tensors and all their associated APIs are an experimental feature and subject to change. Please do not use them for anything important until they are released as stable. (Triggered internally at  /pytorch/c10/core/TensorImpl.h:1156.)\n",
            "  return torch.max_pool2d(input, kernel_size, stride, padding, dilation, ceil_mode)\n",
            "FineTrain 50: 100% 50/50 [01:04<00:00,  1.30s/it, loss=0.0387, minloss=0.0364]\n",
            "Finished Training\n",
            "{0, 1, 2, 3, 4, 5, 6, 7, 8, 9}\n",
            "Transfer learning train 50: 100% 50/50 [03:54<00:00,  4.68s/it, AllAccuracy=tensor(85.3155)]\n",
            "DANN\tDANN\tDANN\tDANN\tDANN\tDANN\tDANN\tDANN\tDANN\tDANN\tDANN\tDANN\tDANN\tDANN\tDANN\tDANN\tDANN\tDANN\tDANN\tDANN\tDANN\tDANN\tDANN\tDANN\tDANN\tDANN\tDANN\tDANN\tDANN\tDANN\tDANN\tDANN\tDANN\tDANN\tDANN\tDANN\tDANN\tDANN\tDANN\tDANN\tDANN\tDANN\tDANN\tDANN\tDANN\tDANN\tDANN\tDANN\tDANN\tDANN\tDANN\tDANN\tDANN\tDANN\tDANN\tDANN\tDANN\tDANN\tDANN\tDANN\tDANN\tDANN\tDANN\tDANN\tDANN\tDANN\tDANN\tDANN\tDANN\tDANN\tDANN\tDANN\tDANN\tDANN\tDANN\tDANN\tDANN\tDANN\tDANN\tDANN\tDANN\tDANN\tDANN\tDANN\tDANN\tDANN\tDANN\tDANN\tDANN\tDANN\tDANN\tDANN\tDANN\tDANN\tDANN\tDANN\tDANN\tDANN\tDANN\tDANN\tDANN\tDANN\tDANN\tDANN\tDANN\tDANN\tDANN\tDANN\tDANN\tDANN\tDANN\tDANN\tDANN\tDANN\tDANN\tDANN\tDANN\tDANN\tDANN\tDANN\tDANN\tDANN\tDANN\tDANN\tDANN\tDANN\tDANN\tDANN\tDANN\tDANN\tDANN\tDANN\tDANN\tDANN\tDANN\tDANN\tDANN\tDANN\tDANN\tDANN\tDANN\tDANN\tDANN\tDANN\tDANN\tDANN\tDANN\tDANN\tDANN\tDANN\tDANN\tDANN\tDANN\tDANN\tDANN\tDANN\tDANN\tDANN\tDANN\tDANN\tDANN\tDANN\tDANN\tDANN\tDANN\tDANN\tDANN\tDANN\tDANN\tDANN\tDANN\tDANN\tDANN\tDANN\tDANN\tDANN\tDANN\tDANN\tDANN\tDANN\tDANN\tDANN\tDANN\tDANN\tDANN\tDANN\tDANN\tDANN\tDANN\tDANN\tDANN\tDANN\tDANN\tDANN\tDANN\tDANN\tDANN\tDANN\tDANN\tDANN\tDANN\tDANN\tDANN\tDANN\tDANN\tDANN\tDANN\tDANN\tDANN\tDANN\tDANN\tDANN\tDANN\tDANN\tDANN\tDANN\tDANN\tDANN\tDANN\tDANN\tDANN\tDANN\tDANN\tDANN\tDANN\tDANN\tDANN\tDANN\tDANN\tDANN\tDANN\tDANN\tDANN\tDANN\tDANN\tDANN\tDANN\tDANN\tDANN\tDANN\tDANN\tDANN\tDANN\tDANN\tDANN\tDANN\tDANN\tDANN\tDANN\tDANN\tDANN\tDANN\tDANN\tDANN\tDANN\tDANN\tDANN\tDANN\tDANN\tDANN\tDANN\tDANN\tDANN\tDANN\tDANN\tDANN\tDANN\tDANN\tDANN\tDANN\tDANN\tDANN\tDANN\tDANN\tDANN\tDANN\tDANN\tDANN\tDANN\tDANN\tDANN\tDANN\tDANN\tDANN\tDANN\tDANN\tDANN\tDANN\tDANN\tDANN\tDANN\tDANN\tDANN\tDANN\tDANN\tDANN\tDANN\tDANN\tDANN\tDANN\tDANN\tDANN\tDANN\tDANN\tDANN\tDANN\tDANN\tDANN\tDANN\tDANN\tDANN\tDANN\tDANN\tDANN\tDANN\tDANN\tDANN\tDANN\tDANN\tDANN\tDANN\tDANN\tDANN\tDANN\tDANN\tDANN\tDANN\tDANN\tDANN\tDANN\tDANN\tDANN\tDANN\tDANN\tDANN\tDANN\tDANN\tDANN\tDANN\tDANN\tDANN\tDANN\tDANN\tDANN\tDANN\tDANN\tDANN\tDANN\tDANN\tDANN\t"
          ],
          "name": "stdout"
        }
      ]
    },
    {
      "cell_type": "code",
      "metadata": {
        "id": "9-oD-yAvqo17",
        "colab": {
          "base_uri": "https://localhost:8080/"
        },
        "outputId": "10faecfb-c819-458d-e138-3c44b6f30127"
      },
      "source": [
        "!python _RU_DANN.py --source 'webcam' --target 'dslr' --r 0.227"
      ],
      "execution_count": null,
      "outputs": [
        {
          "output_type": "stream",
          "text": [
            "/content/utils.py:49: VisibleDeprecationWarning: Creating an ndarray from ragged nested sequences (which is a list-or-tuple of lists-or-tuples-or ndarrays with different lengths or shapes) is deprecated. If you meant to do this, you must specify 'dtype=object' when creating the ndarray\n",
            "  self.img = np.array(self.img)\n",
            "FineTrain 1:   0% 0/50 [00:00<?, ?it/s]/usr/local/lib/python3.7/dist-packages/torch/nn/functional.py:718: UserWarning: Named tensors and all their associated APIs are an experimental feature and subject to change. Please do not use them for anything important until they are released as stable. (Triggered internally at  /pytorch/c10/core/TensorImpl.h:1156.)\n",
            "  return torch.max_pool2d(input, kernel_size, stride, padding, dilation, ceil_mode)\n",
            "FineTrain 50: 100% 50/50 [01:04<00:00,  1.28s/it, loss=0.0366, minloss=0.0366]\n",
            "Finished Training\n",
            "{0, 1, 2, 3, 4, 5, 6, 7, 8, 9}\n",
            "Transfer learning train 50: 100% 50/50 [02:48<00:00,  3.38s/it, AllAccuracy=tensor(95.4545)]\n",
            "DANN\tDANN\tDANN\tDANN\tDANN\tDANN\tDANN\tDANN\tDANN\tDANN\tDANN\tDANN\tDANN\tDANN\tDANN\tDANN\tDANN\tDANN\tDANN\tDANN\tDANN\tDANN\tDANN\tDANN\tDANN\tDANN\tDANN\tDANN\tDANN\tDANN\tDANN\tDANN\tDANN\tDANN\tDANN\tDANN\tDANN\tDANN\tDANN\tDANN\tDANN\tDANN\tDANN\tDANN\tDANN\tDANN\tDANN\tDANN\tDANN\tDANN\tDANN\tDANN\tDANN\tDANN\tDANN\tDANN\tDANN\tDANN\tDANN\tDANN\tDANN\tDANN\tDANN\tDANN\tDANN\tDANN\tDANN\tDANN\tDANN\tDANN\tDANN\tDANN\tDANN\tDANN\tDANN\tDANN\tDANN\tDANN\tDANN\tDANN\tDANN\tDANN\tDANN\tDANN\tDANN\tDANN\tDANN\tDANN\tDANN\tDANN\tDANN\tDANN\tDANN\tDANN\tDANN\tDANN\tDANN\tDANN\tDANN\tDANN\tDANN\tDANN\tDANN\tDANN\tDANN\tDANN\tDANN\tDANN\tDANN\tDANN\tDANN\tDANN\tDANN\tDANN\tDANN\tDANN\tDANN\tDANN\tDANN\tDANN\tDANN\tDANN\tDANN\tDANN\tDANN\tDANN\tDANN\tDANN\tDANN\tDANN\tDANN\tDANN\tDANN\tDANN\tDANN\tDANN\tDANN\tDANN\tDANN\tDANN\tDANN\tDANN\tDANN\tDANN\tDANN\tDANN\tDANN\tDANN\tDANN\tDANN\tDANN\tDANN\tDANN\tDANN\tDANN\tDANN\tDANN\tDANN\tDANN\tDANN\tDANN\tDANN\tDANN\tDANN\tDANN\tDANN\tDANN\tDANN\tDANN\tDANN\tDANN\tDANN\tDANN\tDANN\tDANN\tDANN\tDANN\tDANN\tDANN\tDANN\tDANN\tDANN\tDANN\tDANN\tDANN\tDANN\tDANN\tDANN\tDANN\tDANN\tDANN\tDANN\tDANN\tDANN\tDANN\tDANN\tDANN\tDANN\tDANN\tDANN\tDANN\tDANN\tDANN\tDANN\tDANN\tDANN\tDANN\tDANN\tDANN\tDANN\tDANN\tDANN\tDANN\tDANN\tDANN\tDANN\tDANN\tDANN\tDANN\tDANN\tDANN\tDANN\tDANN\tDANN\tDANN\tDANN\tDANN\tDANN\tDANN\tDANN\tDANN\tDANN\tDANN\tDANN\tDANN\tDANN\tDANN\tDANN\tDANN\tDANN\tDANN\tDANN\tDANN\tDANN\tDANN\tDANN\tDANN\tDANN\tDANN\tDANN\tDANN\tDANN\tDANN\tDANN\tDANN\tDANN\tDANN\tDANN\tDANN\tDANN\tDANN\tDANN\tDANN\tDANN\tDANN\tDANN\tDANN\tDANN\tDANN\tDANN\tDANN\tDANN\tDANN\tDANN\tDANN\tDANN\tDANN\tDANN\tDANN\tDANN\tDANN\tDANN\tDANN\tDANN\tDANN\tDANN\tDANN\tDANN\tDANN\tDANN\tDANN\tDANN\tDANN\tDANN\tDANN\tDANN\tDANN\tDANN\tDANN\tDANN\t"
          ],
          "name": "stdout"
        }
      ]
    },
    {
      "cell_type": "code",
      "metadata": {
        "id": "JS-aFBPkrBR_"
      },
      "source": [
        ""
      ],
      "execution_count": null,
      "outputs": []
    }
  ]
}