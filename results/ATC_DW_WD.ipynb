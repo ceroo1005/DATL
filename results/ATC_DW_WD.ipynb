{
  "nbformat": 4,
  "nbformat_minor": 0,
  "metadata": {
    "accelerator": "GPU",
    "colab": {
      "name": "ATC DW WD",
      "provenance": [],
      "collapsed_sections": [],
      "toc_visible": true
    },
    "kernelspec": {
      "display_name": "Python 3",
      "name": "python3"
    },
    "language_info": {
      "name": "python"
    }
  },
  "cells": [
    {
      "cell_type": "code",
      "metadata": {
        "colab": {
          "base_uri": "https://localhost:8080/"
        },
        "id": "bSMbzQz7A--5",
        "outputId": "8758e216-7d75-476e-986f-0cb09f0d6aff"
      },
      "source": [
        "!mkdir models\n",
        "!wget https://github.com/syorami/DDC-transfer-learning/raw/master/data/Office31.tar\n",
        "\n",
        "!mkdir Office31\n",
        "!tar xf Office31.tar -C Office31"
      ],
      "execution_count": null,
      "outputs": [
        {
          "output_type": "stream",
          "text": [
            "--2021-08-03 00:52:06--  https://github.com/syorami/DDC-transfer-learning/raw/master/data/Office31.tar\n",
            "Resolving github.com (github.com)... 140.82.121.3\n",
            "Connecting to github.com (github.com)|140.82.121.3|:443... connected.\n",
            "HTTP request sent, awaiting response... 302 Found\n",
            "Location: https://raw.githubusercontent.com/syorami/DDC-transfer-learning/master/data/Office31.tar [following]\n",
            "--2021-08-03 00:52:06--  https://raw.githubusercontent.com/syorami/DDC-transfer-learning/master/data/Office31.tar\n",
            "Resolving raw.githubusercontent.com (raw.githubusercontent.com)... 185.199.108.133, 185.199.109.133, 185.199.110.133, ...\n",
            "Connecting to raw.githubusercontent.com (raw.githubusercontent.com)|185.199.108.133|:443... connected.\n",
            "HTTP request sent, awaiting response... 200 OK\n",
            "Length: 85760000 (82M) [application/octet-stream]\n",
            "Saving to: ‘Office31.tar’\n",
            "\n",
            "Office31.tar        100%[===================>]  81.79M   181MB/s    in 0.5s    \n",
            "\n",
            "2021-08-03 00:52:10 (181 MB/s) - ‘Office31.tar’ saved [85760000/85760000]\n",
            "\n"
          ],
          "name": "stdout"
        }
      ]
    },
    {
      "cell_type": "code",
      "metadata": {
        "id": "oeZULVjnjqOz"
      },
      "source": [
        ""
      ],
      "execution_count": null,
      "outputs": []
    },
    {
      "cell_type": "code",
      "metadata": {
        "colab": {
          "base_uri": "https://localhost:8080/"
        },
        "id": "B3IZLJReuh9s",
        "outputId": "07fda3ba-a665-4513-ebb0-1fd82eed6a24"
      },
      "source": [
        "!python _raw.py --source 'dslr' --target 'webcam'"
      ],
      "execution_count": null,
      "outputs": [
        {
          "output_type": "stream",
          "text": [
            "/content/utils.py:49: VisibleDeprecationWarning: Creating an ndarray from ragged nested sequences (which is a list-or-tuple of lists-or-tuples-or ndarrays with different lengths or shapes) is deprecated. If you meant to do this, you must specify 'dtype=object' when creating the ndarray\n",
            "  self.img = np.array(self.img)\n",
            "Number: 57\t Source Domain Category: {0, 1, 2}\n",
            "Number: 235\t Target Domain Category: {0, 1, 2, 3, 4, 5, 6, 7, 8, 9}\n",
            "Linear(in_features=256, out_features=3, bias=True) \n",
            "\n",
            "\n",
            "Transfer learning train 1:   0% 0/10 [00:00<?, ?it/s]/usr/local/lib/python3.7/dist-packages/torch/nn/functional.py:718: UserWarning: Named tensors and all their associated APIs are an experimental feature and subject to change. Please do not use them for anything important until they are released as stable. (Triggered internally at  /pytorch/c10/core/TensorImpl.h:1156.)\n",
            "  return torch.max_pool2d(input, kernel_size, stride, padding, dilation, ceil_mode)\n",
            "Transfer learning train 10: 100% 10/10 [00:28<00:00,  2.90s/it, AllAccuracy=33.2, MAXSeenAccuracy=100]\n",
            "FineTrain 60: 100% 60/60 [01:38<00:00,  1.64s/it, accuracy=100, loss=0.0289, minloss=0.0101]\n",
            "DSAN\tDSAN\tDSAN\tDSAN\tDSAN\tDSAN\tDSAN\tDSAN\tDSAN\tDSAN\tDSAN\tDSAN\tDSAN\tDSAN\tDSAN\tDSAN\tDSAN\tDSAN\tDSAN\tDSAN\tDSAN\tDSAN\tDSAN\tDSAN\tDSAN\tDSAN\tDSAN\tDSAN\tDSAN\tDSAN\tFinished Training\n",
            "<Figure size 640x480 with 1 Axes>\n",
            " 30% 3/10 [00:00<00:00, 15.55it/s]\n",
            "There are 0 cluster class centers labeled as 3, sampled separately according to [4] and each sample with label [3, 3, 3, 3]\n",
            "There are 0 cluster class centers labeled as 4, sampled separately according to [2, 2] and each sample with label [4, 4, 1, 4]\n",
            "There are 1 cluster class centers labeled as 5, sampled separately according to [4] and each sample with label [5, 5, 5, 5]\n",
            "There are 1 cluster class centers labeled as 6, sampled separately according to [4] and each sample with label [6, 6, 6, 6]\n",
            "There are 1 cluster class centers labeled as 9, sampled separately according to [4] and each sample with label [9, 9, 9, 9]\n",
            "_raw.py:253: VisibleDeprecationWarning: Creating an ndarray from ragged nested sequences (which is a list-or-tuple of lists-or-tuples-or ndarrays with different lengths or shapes) is deprecated. If you meant to do this, you must specify 'dtype=object' when creating the ndarray\n",
            "  np.array(list(self.Sub.keys()))[[_==x for _ in list(self.Sub.values())]]], set(self.Sub.values())))).T.tolist()\n",
            "<Figure size 1800x600 with 2 Axes>\n",
            "/content/utils.py:49: VisibleDeprecationWarning: Creating an ndarray from ragged nested sequences (which is a list-or-tuple of lists-or-tuples-or ndarrays with different lengths or shapes) is deprecated. If you meant to do this, you must specify 'dtype=object' when creating the ndarray\n",
            "  self.img = np.array(self.img)\n",
            "Number: 76\t Target Domain Category: {0, 1, 2, 3, 4, 5, 6, 9}\n",
            "Linear(in_features=256, out_features=8, bias=True) \n",
            "\n",
            "\n",
            "Transfer learning train 50: 100% 50/50 [02:13<00:00,  2.68s/it, AllAccuracy=83, MAXSeenAccuracy=99.5]\n",
            "FineTrain 60: 100% 60/60 [01:38<00:00,  1.65s/it, accuracy=84.2, loss=0.00803, minloss=0.00896]\n",
            "DSAN\tDSAN\tDSAN\tDSAN\tDSAN\tDSAN\tDSAN\tDSAN\tDSAN\tDSAN\tDSAN\tDSAN\tDSAN\tDSAN\tDSAN\tDSAN\tDSAN\tDSAN\tDSAN\tDSAN\tDSAN\tDSAN\tDSAN\tDSAN\tDSAN\tDSAN\tDSAN\tDSAN\tDSAN\tDSAN\tDSAN\tDSAN\tDSAN\tDSAN\tDSAN\tDSAN\tDSAN\tDSAN\tDSAN\tDSAN\tDSAN\tDSAN\tDSAN\tDSAN\tDSAN\tDSAN\tDSAN\tDSAN\tDSAN\tDSAN\tDSAN\tDSAN\tDSAN\tDSAN\tDSAN\tDSAN\tDSAN\tDSAN\tDSAN\tDSAN\tDSAN\tDSAN\tDSAN\tDSAN\tDSAN\tDSAN\tDSAN\tDSAN\tDSAN\tDSAN\tDSAN\tDSAN\tDSAN\tDSAN\tDSAN\tDSAN\tDSAN\tDSAN\tDSAN\tDSAN\tDSAN\tDSAN\tDSAN\tDSAN\tDSAN\tDSAN\tDSAN\tDSAN\tDSAN\tDSAN\tDSAN\tDSAN\tDSAN\tDSAN\tDSAN\tDSAN\tDSAN\tDSAN\tDSAN\tDSAN\tDSAN\tDSAN\tDSAN\tDSAN\tDSAN\tDSAN\tDSAN\tDSAN\tDSAN\tDSAN\tDSAN\tDSAN\tDSAN\tDSAN\tDSAN\tDSAN\tDSAN\tDSAN\tDSAN\tDSAN\tDSAN\tDSAN\tDSAN\tDSAN\tDSAN\tDSAN\tDSAN\tDSAN\tDSAN\tDSAN\tDSAN\tDSAN\tDSAN\tDSAN\tDSAN\tDSAN\tDSAN\tDSAN\tDSAN\tDSAN\tDSAN\tDSAN\tDSAN\tDSAN\tDSAN\tDSAN\tDSAN\tDSAN\tDSAN\tDSAN\tFinished Training\n",
            "<Figure size 640x480 with 1 Axes>\n",
            "  0% 0/10 [00:00<?, ?it/s]\n",
            "There are 2 cluster class centers labeled as 8, sampled separately according to [2, 2] and each sample with label [8, 8, 8, 8]\n",
            "There are 1 cluster class centers labeled as 7, sampled separately according to [4] and each sample with label [7, 7, 7, 7]\n",
            "_raw.py:253: VisibleDeprecationWarning: Creating an ndarray from ragged nested sequences (which is a list-or-tuple of lists-or-tuples-or ndarrays with different lengths or shapes) is deprecated. If you meant to do this, you must specify 'dtype=object' when creating the ndarray\n",
            "  np.array(list(self.Sub.keys()))[[_==x for _ in list(self.Sub.values())]]], set(self.Sub.values())))).T.tolist()\n",
            "<Figure size 1800x600 with 2 Axes>\n",
            "/content/utils.py:49: VisibleDeprecationWarning: Creating an ndarray from ragged nested sequences (which is a list-or-tuple of lists-or-tuples-or ndarrays with different lengths or shapes) is deprecated. If you meant to do this, you must specify 'dtype=object' when creating the ndarray\n",
            "  self.img = np.array(self.img)\n",
            "Number: 84\t Target Domain Category: {0, 1, 2, 3, 4, 5, 6, 7, 8, 9}\n",
            "Linear(in_features=256, out_features=10, bias=True) \n",
            "\n",
            "\n",
            "Transfer learning train 50: 100% 50/50 [02:27<00:00,  2.95s/it, AllAccuracy=99.6, MAXSeenAccuracy=99.6]\n",
            "FineTrain 60: 100% 60/60 [01:53<00:00,  1.89s/it, accuracy=95.2, loss=0.0118, minloss=0.00693]\n",
            "DSAN\tDSAN\tDSAN\tDSAN\tDSAN\tDSAN\tDSAN\tDSAN\tDSAN\tDSAN\tDSAN\tDSAN\tDSAN\tDSAN\tDSAN\tDSAN\tDSAN\tDSAN\tDSAN\tDSAN\tDSAN\tDSAN\tDSAN\tDSAN\tDSAN\tDSAN\tDSAN\tDSAN\tDSAN\tDSAN\tDSAN\tDSAN\tDSAN\tDSAN\tDSAN\tDSAN\tDSAN\tDSAN\tDSAN\tDSAN\tDSAN\tDSAN\tDSAN\tDSAN\tDSAN\tDSAN\tDSAN\tDSAN\tDSAN\tDSAN\tDSAN\tDSAN\tDSAN\tDSAN\tDSAN\tDSAN\tDSAN\tDSAN\tDSAN\tDSAN\tDSAN\tDSAN\tDSAN\tDSAN\tDSAN\tDSAN\tDSAN\tDSAN\tDSAN\tDSAN\tDSAN\tDSAN\tDSAN\tDSAN\tDSAN\tDSAN\tDSAN\tDSAN\tDSAN\tDSAN\tDSAN\tDSAN\tDSAN\tDSAN\tDSAN\tDSAN\tDSAN\tDSAN\tDSAN\tDSAN\tDSAN\tDSAN\tDSAN\tDSAN\tDSAN\tDSAN\tDSAN\tDSAN\tDSAN\tDSAN\tDSAN\tDSAN\tDSAN\tDSAN\tDSAN\tDSAN\tDSAN\tDSAN\tDSAN\tDSAN\tDSAN\tDSAN\tDSAN\tDSAN\tDSAN\tDSAN\tDSAN\tDSAN\tDSAN\tDSAN\tDSAN\tDSAN\tDSAN\tDSAN\tDSAN\tDSAN\tDSAN\tDSAN\tDSAN\tDSAN\tDSAN\tDSAN\tDSAN\tDSAN\tDSAN\tDSAN\tDSAN\tDSAN\tDSAN\tDSAN\tDSAN\tDSAN\tDSAN\tDSAN\tDSAN\tDSAN\tDSAN\tDSAN\tDSAN\tDSAN\tDSAN\tDSAN\tDSAN\tDSAN\tDSAN\tDSAN\tDSAN\tDSAN\tDSAN\tDSAN\tDSAN\tDSAN\tDSAN\tDSAN\tDSAN\tDSAN\tDSAN\tDSAN\tDSAN\tDSAN\tDSAN\tDSAN\tDSAN\tDSAN\tDSAN\tDSAN\tDSAN\tDSAN\tDSAN\tDSAN\tDSAN\tDSAN\tDSAN\tDSAN\tDSAN\tDSAN\tDSAN\tDSAN\tDSAN\tDSAN\tDSAN\tDSAN\tDSAN\tDSAN\tDSAN\tDSAN\tDSAN\tDSAN\tDSAN\tDSAN\tFinished Training\n",
            "/usr/local/lib/python3.7/dist-packages/numpy/lib/histograms.py:905: RuntimeWarning: invalid value encountered in true_divide\n",
            "  return n/db/n.sum(), bin_edges\n",
            "<Figure size 640x480 with 1 Axes>\n",
            "  0% 0/10 [00:00<?, ?it/s]\n",
            "Number: 91\t Target Domain Category: {0, 1, 2, 3, 4, 5, 6, 7, 8, 9}\n",
            "Linear(in_features=256, out_features=10, bias=True) \n",
            "\n",
            "\n",
            "Transfer learning train 50: 100% 50/50 [02:26<00:00,  2.92s/it, AllAccuracy=98.7, MAXSeenAccuracy=98.7]\n",
            "DSAN\tDSAN\tDSAN\tDSAN\tDSAN\tDSAN\tDSAN\tDSAN\tDSAN\tDSAN\tDSAN\tDSAN\tDSAN\tDSAN\tDSAN\tDSAN\tDSAN\tDSAN\tDSAN\tDSAN\tDSAN\tDSAN\tDSAN\tDSAN\tDSAN\tDSAN\tDSAN\tDSAN\tDSAN\tDSAN\tDSAN\tDSAN\tDSAN\tDSAN\tDSAN\tDSAN\tDSAN\tDSAN\tDSAN\tDSAN\tDSAN\tDSAN\tDSAN\tDSAN\tDSAN\tDSAN\tDSAN\tDSAN\tDSAN\tDSAN\tDSAN\tDSAN\tDSAN\tDSAN\tDSAN\tDSAN\tDSAN\tDSAN\tDSAN\tDSAN\tDSAN\tDSAN\tDSAN\tDSAN\tDSAN\tDSAN\tDSAN\tDSAN\tDSAN\tDSAN\tDSAN\tDSAN\tDSAN\tDSAN\tDSAN\tDSAN\tDSAN\tDSAN\tDSAN\tDSAN\tDSAN\tDSAN\tDSAN\tDSAN\tDSAN\tDSAN\tDSAN\tDSAN\tDSAN\tDSAN\tDSAN\tDSAN\tDSAN\tDSAN\tDSAN\tDSAN\tDSAN\tDSAN\tDSAN\tDSAN\tDSAN\tDSAN\tDSAN\tDSAN\tDSAN\tDSAN\tDSAN\tDSAN\tDSAN\tDSAN\tDSAN\tDSAN\tDSAN\tDSAN\tDSAN\tDSAN\tDSAN\tDSAN\tDSAN\tDSAN\tDSAN\tDSAN\tDSAN\tDSAN\tDSAN\tDSAN\tDSAN\tDSAN\tDSAN\tDSAN\tDSAN\tDSAN\tDSAN\tDSAN\tDSAN\tDSAN\tDSAN\tDSAN\tDSAN\tDSAN\tDSAN\tDSAN\tDSAN\tDSAN\tDSAN\tDSAN\tDSAN\tDSAN\tDSAN\tDSAN\tDSAN\tDSAN\tDSAN\tDSAN\tDSAN\tDSAN\tDSAN\tDSAN\tDSAN\tDSAN\tDSAN\tDSAN\tDSAN\tDSAN\tDSAN\tDSAN\tDSAN\tDSAN\tDSAN\tDSAN\tDSAN\tDSAN\tDSAN\tDSAN\tDSAN\tDSAN\tDSAN\tDSAN\tDSAN\tDSAN\tDSAN\tDSAN\tDSAN\tDSAN\tDSAN\tDSAN\tDSAN\tDSAN\tDSAN\tDSAN\tDSAN\tDSAN\tDSAN\tDSAN\tDSAN\tDSAN\tDSAN\tDSAN\tDSAN\tDSAN\t[3, 0.0, 1.0, 0.33191489361702126]\n",
            "[8, 0.08085106382978724, 0.9948979591836735, 0.8297872340425532]\n",
            "[10, 0.1148936170212766, 0.9957446808510638, 0.9957446808510638]\n",
            "[10, 0.14468085106382977, 0.9872340425531915, 0.9872340425531915]\n"
          ],
          "name": "stdout"
        }
      ]
    },
    {
      "cell_type": "code",
      "metadata": {
        "colab": {
          "base_uri": "https://localhost:8080/"
        },
        "id": "7RgJYr0JHGwx",
        "outputId": "a72488c3-2a6e-40f9-b744-498deba42cef"
      },
      "source": [
        "!python _raw.py --source 'webcam' --target 'dslr'"
      ],
      "execution_count": null,
      "outputs": [
        {
          "output_type": "stream",
          "text": [
            "/content/utils.py:49: VisibleDeprecationWarning: Creating an ndarray from ragged nested sequences (which is a list-or-tuple of lists-or-tuples-or ndarrays with different lengths or shapes) is deprecated. If you meant to do this, you must specify 'dtype=object' when creating the ndarray\n",
            "  self.img = np.array(self.img)\n",
            "Number: 78\t Source Domain Category: {0, 1, 2}\n",
            "Number: 154\t Target Domain Category: {0, 1, 2, 3, 4, 5, 6, 7, 8, 9}\n",
            "Linear(in_features=256, out_features=3, bias=True) \n",
            "\n",
            "\n",
            "Transfer learning train 1:   0% 0/10 [00:00<?, ?it/s]/usr/local/lib/python3.7/dist-packages/torch/nn/functional.py:718: UserWarning: Named tensors and all their associated APIs are an experimental feature and subject to change. Please do not use them for anything important until they are released as stable. (Triggered internally at  /pytorch/c10/core/TensorImpl.h:1156.)\n",
            "  return torch.max_pool2d(input, kernel_size, stride, padding, dilation, ceil_mode)\n",
            "Transfer learning train 10: 100% 10/10 [00:31<00:00,  3.17s/it, AllAccuracy=37, MAXSeenAccuracy=100]\n",
            "FineTrain 60: 100% 60/60 [01:22<00:00,  1.38s/it, accuracy=100, loss=0.0064, minloss=0.00734]\n",
            "DSAN\tDSAN\tDSAN\tDSAN\tDSAN\tDSAN\tDSAN\tDSAN\tDSAN\tDSAN\tDSAN\tDSAN\tDSAN\tDSAN\tDSAN\tDSAN\tDSAN\tDSAN\tDSAN\tDSAN\tDSAN\tDSAN\tDSAN\tDSAN\tDSAN\tDSAN\tDSAN\tDSAN\tDSAN\tDSAN\tDSAN\tDSAN\tDSAN\tDSAN\tDSAN\tDSAN\tDSAN\tDSAN\tDSAN\tDSAN\tFinished Training\n",
            "<Figure size 640x480 with 1 Axes>\n",
            "  0% 0/10 [00:00<?, ?it/s]\n",
            "There are 1 cluster class centers labeled as 3, sampled separately according to [4] and each sample with label [3, 3, 3, 3]\n",
            "There are 1 cluster class centers labeled as 4, sampled separately according to [4] and each sample with label [4, 4, 4, 4]\n",
            "There are 0 cluster class centers labeled as 5, sampled separately according to [4] and each sample with label [5, 5, 5, 5]\n",
            "There are 1 cluster class centers labeled as 6, sampled separately according to [4] and each sample with label [6, 6, 7, 6]\n",
            "There are 0 cluster class centers labeled as 7, sampled separately according to [4] and each sample with label [6, 7, 7, 7]\n",
            "There are 1 cluster class centers labeled as 8, sampled separately according to [4] and each sample with label [8, 9, 9, 8]\n",
            "_raw.py:253: VisibleDeprecationWarning: Creating an ndarray from ragged nested sequences (which is a list-or-tuple of lists-or-tuples-or ndarrays with different lengths or shapes) is deprecated. If you meant to do this, you must specify 'dtype=object' when creating the ndarray\n",
            "  np.array(list(self.Sub.keys()))[[_==x for _ in list(self.Sub.values())]]], set(self.Sub.values())))).T.tolist()\n",
            "<Figure size 1800x600 with 2 Axes>\n",
            "/content/utils.py:49: VisibleDeprecationWarning: Creating an ndarray from ragged nested sequences (which is a list-or-tuple of lists-or-tuples-or ndarrays with different lengths or shapes) is deprecated. If you meant to do this, you must specify 'dtype=object' when creating the ndarray\n",
            "  self.img = np.array(self.img)\n",
            "Number: 102\t Target Domain Category: {0, 1, 2, 3, 4, 5, 6, 7, 8}\n",
            "Linear(in_features=256, out_features=9, bias=True) \n",
            "\n",
            "\n",
            "Transfer learning train 50: 100% 50/50 [02:48<00:00,  3.38s/it, AllAccuracy=85.7, MAXSeenAccuracy=95]\n",
            "FineTrain 60: 100% 60/60 [01:45<00:00,  1.75s/it, accuracy=94.1, loss=0.00719, minloss=0.00857]\n",
            "DSAN\tDSAN\tDSAN\tDSAN\tDSAN\tDSAN\tDSAN\tDSAN\tDSAN\tDSAN\tDSAN\tDSAN\tDSAN\tDSAN\tDSAN\tDSAN\tDSAN\tDSAN\tDSAN\tDSAN\tDSAN\tDSAN\tDSAN\tDSAN\tDSAN\tDSAN\tDSAN\tDSAN\tDSAN\tDSAN\tDSAN\tDSAN\tDSAN\tDSAN\tDSAN\tDSAN\tDSAN\tDSAN\tDSAN\tDSAN\tDSAN\tDSAN\tDSAN\tDSAN\tDSAN\tDSAN\tDSAN\tDSAN\tDSAN\tDSAN\tDSAN\tDSAN\tDSAN\tDSAN\tDSAN\tDSAN\tDSAN\tDSAN\tDSAN\tDSAN\tDSAN\tDSAN\tDSAN\tDSAN\tDSAN\tDSAN\tDSAN\tDSAN\tDSAN\tDSAN\tDSAN\tDSAN\tDSAN\tDSAN\tDSAN\tDSAN\tDSAN\tDSAN\tDSAN\tDSAN\tDSAN\tDSAN\tDSAN\tDSAN\tDSAN\tDSAN\tDSAN\tDSAN\tDSAN\tDSAN\tDSAN\tDSAN\tDSAN\tDSAN\tDSAN\tDSAN\tDSAN\tDSAN\tDSAN\tDSAN\tDSAN\tDSAN\tDSAN\tDSAN\tDSAN\tDSAN\tDSAN\tDSAN\tDSAN\tDSAN\tDSAN\tDSAN\tDSAN\tDSAN\tDSAN\tDSAN\tDSAN\tDSAN\tDSAN\tDSAN\tDSAN\tDSAN\tDSAN\tDSAN\tDSAN\tDSAN\tDSAN\tDSAN\tDSAN\tDSAN\tDSAN\tDSAN\tDSAN\tDSAN\tDSAN\tDSAN\tDSAN\tDSAN\tDSAN\tDSAN\tDSAN\tDSAN\tDSAN\tDSAN\tDSAN\tDSAN\tDSAN\tDSAN\tDSAN\tDSAN\tDSAN\tDSAN\tDSAN\tDSAN\tDSAN\tDSAN\tDSAN\tDSAN\tDSAN\tDSAN\tDSAN\tDSAN\tDSAN\tDSAN\tDSAN\tDSAN\tDSAN\tDSAN\tDSAN\tDSAN\tDSAN\tDSAN\tDSAN\tDSAN\tDSAN\tDSAN\tDSAN\tDSAN\tDSAN\tDSAN\tDSAN\tDSAN\tDSAN\tDSAN\tDSAN\tDSAN\tDSAN\tDSAN\tDSAN\tDSAN\tDSAN\tDSAN\tDSAN\tDSAN\tDSAN\tDSAN\tDSAN\tDSAN\tDSAN\tDSAN\tDSAN\tDSAN\tDSAN\tDSAN\tDSAN\tDSAN\tDSAN\tDSAN\tDSAN\tDSAN\tDSAN\tDSAN\tDSAN\tDSAN\tDSAN\tDSAN\tDSAN\tDSAN\tDSAN\tDSAN\tDSAN\tDSAN\tDSAN\tDSAN\tDSAN\tDSAN\tDSAN\tDSAN\tDSAN\tDSAN\tDSAN\tDSAN\tDSAN\tDSAN\tDSAN\tDSAN\tDSAN\tDSAN\tDSAN\tDSAN\tDSAN\tDSAN\tDSAN\tDSAN\tDSAN\tDSAN\tDSAN\tDSAN\tDSAN\tDSAN\tFinished Training\n",
            "<Figure size 640x480 with 1 Axes>\n",
            "  0% 0/10 [00:00<?, ?it/s]\n",
            "There are 1 cluster class centers labeled as 9, sampled separately according to [4] and each sample with label [9, 9, 9, 9]\n",
            "_raw.py:253: VisibleDeprecationWarning: Creating an ndarray from ragged nested sequences (which is a list-or-tuple of lists-or-tuples-or ndarrays with different lengths or shapes) is deprecated. If you meant to do this, you must specify 'dtype=object' when creating the ndarray\n",
            "  np.array(list(self.Sub.keys()))[[_==x for _ in list(self.Sub.values())]]], set(self.Sub.values())))).T.tolist()\n",
            "<Figure size 1800x600 with 2 Axes>\n",
            "/content/utils.py:49: VisibleDeprecationWarning: Creating an ndarray from ragged nested sequences (which is a list-or-tuple of lists-or-tuples-or ndarrays with different lengths or shapes) is deprecated. If you meant to do this, you must specify 'dtype=object' when creating the ndarray\n",
            "  self.img = np.array(self.img)\n",
            "Number: 111\t Target Domain Category: {0, 1, 2, 3, 4, 5, 6, 7, 8, 9}\n",
            "Linear(in_features=256, out_features=10, bias=True) \n",
            "\n",
            "\n",
            "Transfer learning train 50: 100% 50/50 [02:49<00:00,  3.39s/it, AllAccuracy=98.7, MAXSeenAccuracy=98.7]\n",
            "FineTrain 60: 100% 60/60 [01:48<00:00,  1.82s/it, accuracy=86.5, loss=0.0131, minloss=0.00891]\n",
            "DSAN\tDSAN\tDSAN\tDSAN\tDSAN\tDSAN\tDSAN\tDSAN\tDSAN\tDSAN\tDSAN\tDSAN\tDSAN\tDSAN\tDSAN\tDSAN\tDSAN\tDSAN\tDSAN\tDSAN\tDSAN\tDSAN\tDSAN\tDSAN\tDSAN\tDSAN\tDSAN\tDSAN\tDSAN\tDSAN\tDSAN\tDSAN\tDSAN\tDSAN\tDSAN\tDSAN\tDSAN\tDSAN\tDSAN\tDSAN\tDSAN\tDSAN\tDSAN\tDSAN\tDSAN\tDSAN\tDSAN\tDSAN\tDSAN\tDSAN\tDSAN\tDSAN\tDSAN\tDSAN\tDSAN\tDSAN\tDSAN\tDSAN\tDSAN\tDSAN\tDSAN\tDSAN\tDSAN\tDSAN\tDSAN\tDSAN\tDSAN\tDSAN\tDSAN\tDSAN\tDSAN\tDSAN\tDSAN\tDSAN\tDSAN\tDSAN\tDSAN\tDSAN\tDSAN\tDSAN\tDSAN\tDSAN\tDSAN\tDSAN\tDSAN\tDSAN\tDSAN\tDSAN\tDSAN\tDSAN\tDSAN\tDSAN\tDSAN\tDSAN\tDSAN\tDSAN\tDSAN\tDSAN\tDSAN\tDSAN\tDSAN\tDSAN\tDSAN\tDSAN\tDSAN\tDSAN\tDSAN\tDSAN\tDSAN\tDSAN\tDSAN\tDSAN\tDSAN\tDSAN\tDSAN\tDSAN\tDSAN\tDSAN\tDSAN\tDSAN\tDSAN\tDSAN\tDSAN\tDSAN\tDSAN\tDSAN\tDSAN\tDSAN\tDSAN\tDSAN\tDSAN\tDSAN\tDSAN\tDSAN\tDSAN\tDSAN\tDSAN\tDSAN\tDSAN\tDSAN\tDSAN\tDSAN\tDSAN\tDSAN\tDSAN\tDSAN\tDSAN\tDSAN\tDSAN\tDSAN\tDSAN\tDSAN\tDSAN\tDSAN\tDSAN\tDSAN\tDSAN\tDSAN\tDSAN\tDSAN\tDSAN\tDSAN\tDSAN\tDSAN\tDSAN\tDSAN\tDSAN\tDSAN\tDSAN\tDSAN\tDSAN\tDSAN\tDSAN\tDSAN\tDSAN\tDSAN\tDSAN\tDSAN\tDSAN\tDSAN\tDSAN\tDSAN\tDSAN\tDSAN\tDSAN\tDSAN\tDSAN\tDSAN\tDSAN\tDSAN\tDSAN\tDSAN\tDSAN\tDSAN\tDSAN\tDSAN\tDSAN\tDSAN\tDSAN\tDSAN\tDSAN\tDSAN\tDSAN\tDSAN\tDSAN\tDSAN\tDSAN\tDSAN\tDSAN\tDSAN\tDSAN\tDSAN\tDSAN\tDSAN\tDSAN\tDSAN\tDSAN\tDSAN\tDSAN\tDSAN\tDSAN\tDSAN\tDSAN\tDSAN\tDSAN\tDSAN\tDSAN\tDSAN\tDSAN\tDSAN\tDSAN\tDSAN\tDSAN\tDSAN\tDSAN\tDSAN\tDSAN\tDSAN\tDSAN\tDSAN\tDSAN\tDSAN\tDSAN\tDSAN\tDSAN\tDSAN\tDSAN\tDSAN\tDSAN\tDSAN\tFinished Training\n",
            "/usr/local/lib/python3.7/dist-packages/numpy/lib/histograms.py:905: RuntimeWarning: invalid value encountered in true_divide\n",
            "  return n/db/n.sum(), bin_edges\n",
            "<Figure size 640x480 with 1 Axes>\n",
            "  0% 0/10 [00:00<?, ?it/s]/content/clusters.py:143: RuntimeWarning: invalid value encountered in true_divide\n",
            "  center_vec = self.feature_vector / len(list(self.members.keys()))\n",
            "/content/clusters.py:143: RuntimeWarning: divide by zero encountered in true_divide\n",
            "  center_vec = self.feature_vector / len(list(self.members.keys()))\n",
            "  0% 0/10 [00:00<?, ?it/s]\n",
            "Number: 113\t Target Domain Category: {0, 1, 2, 3, 4, 5, 6, 7, 8, 9}\n",
            "Linear(in_features=256, out_features=10, bias=True) \n",
            "\n",
            "\n",
            "Transfer learning train 50: 100% 50/50 [03:02<00:00,  3.66s/it, AllAccuracy=97.4, MAXSeenAccuracy=97.4]\n",
            "DSAN\tDSAN\tDSAN\tDSAN\tDSAN\tDSAN\tDSAN\tDSAN\tDSAN\tDSAN\tDSAN\tDSAN\tDSAN\tDSAN\tDSAN\tDSAN\tDSAN\tDSAN\tDSAN\tDSAN\tDSAN\tDSAN\tDSAN\tDSAN\tDSAN\tDSAN\tDSAN\tDSAN\tDSAN\tDSAN\tDSAN\tDSAN\tDSAN\tDSAN\tDSAN\tDSAN\tDSAN\tDSAN\tDSAN\tDSAN\tDSAN\tDSAN\tDSAN\tDSAN\tDSAN\tDSAN\tDSAN\tDSAN\tDSAN\tDSAN\tDSAN\tDSAN\tDSAN\tDSAN\tDSAN\tDSAN\tDSAN\tDSAN\tDSAN\tDSAN\tDSAN\tDSAN\tDSAN\tDSAN\tDSAN\tDSAN\tDSAN\tDSAN\tDSAN\tDSAN\tDSAN\tDSAN\tDSAN\tDSAN\tDSAN\tDSAN\tDSAN\tDSAN\tDSAN\tDSAN\tDSAN\tDSAN\tDSAN\tDSAN\tDSAN\tDSAN\tDSAN\tDSAN\tDSAN\tDSAN\tDSAN\tDSAN\tDSAN\tDSAN\tDSAN\tDSAN\tDSAN\tDSAN\tDSAN\tDSAN\tDSAN\tDSAN\tDSAN\tDSAN\tDSAN\tDSAN\tDSAN\tDSAN\tDSAN\tDSAN\tDSAN\tDSAN\tDSAN\tDSAN\tDSAN\tDSAN\tDSAN\tDSAN\tDSAN\tDSAN\tDSAN\tDSAN\tDSAN\tDSAN\tDSAN\tDSAN\tDSAN\tDSAN\tDSAN\tDSAN\tDSAN\tDSAN\tDSAN\tDSAN\tDSAN\tDSAN\tDSAN\tDSAN\tDSAN\tDSAN\tDSAN\tDSAN\tDSAN\tDSAN\tDSAN\tDSAN\tDSAN\tDSAN\tDSAN\tDSAN\tDSAN\tDSAN\tDSAN\tDSAN\tDSAN\tDSAN\tDSAN\tDSAN\tDSAN\tDSAN\tDSAN\tDSAN\tDSAN\tDSAN\tDSAN\tDSAN\tDSAN\tDSAN\tDSAN\tDSAN\tDSAN\tDSAN\tDSAN\tDSAN\tDSAN\tDSAN\tDSAN\tDSAN\tDSAN\tDSAN\tDSAN\tDSAN\tDSAN\tDSAN\tDSAN\tDSAN\tDSAN\tDSAN\tDSAN\tDSAN\tDSAN\tDSAN\tDSAN\tDSAN\tDSAN\tDSAN\tDSAN\tDSAN\tDSAN\tDSAN\tDSAN\tDSAN\tDSAN\tDSAN\tDSAN\tDSAN\tDSAN\tDSAN\tDSAN\tDSAN\tDSAN\tDSAN\tDSAN\tDSAN\tDSAN\tDSAN\tDSAN\tDSAN\tDSAN\tDSAN\tDSAN\tDSAN\tDSAN\tDSAN\tDSAN\tDSAN\tDSAN\tDSAN\tDSAN\tDSAN\tDSAN\tDSAN\tDSAN\tDSAN\tDSAN\tDSAN\tDSAN\tDSAN\tDSAN\tDSAN\tDSAN\tDSAN\tDSAN\tDSAN\tDSAN\tDSAN\tDSAN\tDSAN\tDSAN\tDSAN\tDSAN\tDSAN\tDSAN\tDSAN\tDSAN\tDSAN\tDSAN\tDSAN\tDSAN\tDSAN\tDSAN\tDSAN\tDSAN\tDSAN\tDSAN\tDSAN\tDSAN\tDSAN\tDSAN\tDSAN\tDSAN\tDSAN\tDSAN\tDSAN\tDSAN\tDSAN\tDSAN\tDSAN\tDSAN\tDSAN\tDSAN\tDSAN\tDSAN\tDSAN\tDSAN\tDSAN\tDSAN\tDSAN\tDSAN\tDSAN\tDSAN\tDSAN\tDSAN\tDSAN\tDSAN\tDSAN\tDSAN\tDSAN\tDSAN\tDSAN\t[3, 0.0, 1.0, 0.37012987012987014]\n",
            "[9, 0.15584415584415584, 0.9496402877697842, 0.8571428571428571]\n",
            "[10, 0.21428571428571427, 0.987012987012987, 0.987012987012987]\n",
            "[10, 0.22727272727272727, 0.974025974025974, 0.974025974025974]\n"
          ],
          "name": "stdout"
        }
      ]
    },
    {
      "cell_type": "code",
      "metadata": {
        "id": "NZH-F0UUHHBJ"
      },
      "source": [
        ""
      ],
      "execution_count": null,
      "outputs": []
    },
    {
      "cell_type": "code",
      "metadata": {
        "id": "izbl_X4U6n2B"
      },
      "source": [
        ""
      ],
      "execution_count": null,
      "outputs": []
    }
  ]
}