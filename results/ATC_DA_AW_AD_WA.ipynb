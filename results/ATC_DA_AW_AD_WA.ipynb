{
  "nbformat": 4,
  "nbformat_minor": 0,
  "metadata": {
    "accelerator": "GPU",
    "colab": {
      "name": "ATC DA AW AD WA",
      "provenance": [],
      "collapsed_sections": []
    },
    "kernelspec": {
      "display_name": "Python 3",
      "name": "python3"
    },
    "language_info": {
      "name": "python"
    }
  },
  "cells": [
    {
      "cell_type": "code",
      "metadata": {
        "colab": {
          "base_uri": "https://localhost:8080/"
        },
        "id": "GqlxSyAf-9YI",
        "outputId": "8dfdb9fe-63f1-4dcd-a842-8bf22ffecd7a"
      },
      "source": [
        "!mkdir models\n",
        "!wget https://github.com/syorami/DDC-transfer-learning/raw/master/data/Office31.tar\n",
        "\n",
        "!mkdir Office31\n",
        "!tar xf Office31.tar -C Office31"
      ],
      "execution_count": null,
      "outputs": [
        {
          "output_type": "stream",
          "text": [
            "--2021-08-02 09:19:51--  https://github.com/syorami/DDC-transfer-learning/raw/master/data/Office31.tar\n",
            "Resolving github.com (github.com)... 192.30.255.112\n",
            "Connecting to github.com (github.com)|192.30.255.112|:443... connected.\n",
            "HTTP request sent, awaiting response... 302 Found\n",
            "Location: https://raw.githubusercontent.com/syorami/DDC-transfer-learning/master/data/Office31.tar [following]\n",
            "--2021-08-02 09:19:51--  https://raw.githubusercontent.com/syorami/DDC-transfer-learning/master/data/Office31.tar\n",
            "Resolving raw.githubusercontent.com (raw.githubusercontent.com)... 185.199.108.133, 185.199.109.133, 185.199.110.133, ...\n",
            "Connecting to raw.githubusercontent.com (raw.githubusercontent.com)|185.199.108.133|:443... connected.\n",
            "HTTP request sent, awaiting response... 200 OK\n",
            "Length: 85760000 (82M) [application/octet-stream]\n",
            "Saving to: ‘Office31.tar’\n",
            "\n",
            "Office31.tar        100%[===================>]  81.79M   115MB/s    in 0.7s    \n",
            "\n",
            "2021-08-02 09:19:52 (115 MB/s) - ‘Office31.tar’ saved [85760000/85760000]\n",
            "\n"
          ],
          "name": "stdout"
        }
      ]
    },
    {
      "cell_type": "code",
      "metadata": {
        "id": "BATI_7imPapu"
      },
      "source": [
        ""
      ],
      "execution_count": null,
      "outputs": []
    },
    {
      "cell_type": "code",
      "metadata": {
        "colab": {
          "background_save": true
        },
        "id": "KFzcq3t8GsuR",
        "outputId": "cc94eb92-9c70-4c2a-9aa5-3a00c57d38ab"
      },
      "source": [
        "!python _raw.py --source 'dslr' --target 'amazon'"
      ],
      "execution_count": null,
      "outputs": [
        {
          "output_type": "stream",
          "text": [
            "/content/utils.py:49: VisibleDeprecationWarning: Creating an ndarray from ragged nested sequences (which is a list-or-tuple of lists-or-tuples-or ndarrays with different lengths or shapes) is deprecated. If you meant to do this, you must specify 'dtype=object' when creating the ndarray\n",
            "  self.img = np.array(self.img)\n",
            "Number: 57\t Source Domain Category: {0, 1, 2}\n",
            "Number: 824\t Target Domain Category: {0, 1, 2, 3, 4, 5, 6, 7, 8, 9}\n",
            "Linear(in_features=256, out_features=3, bias=True) \n",
            "\n",
            "\n",
            "Transfer learning train 1:   0% 0/10 [00:00<?, ?it/s]/usr/local/lib/python3.7/dist-packages/torch/nn/functional.py:718: UserWarning: Named tensors and all their associated APIs are an experimental feature and subject to change. Please do not use them for anything important until they are released as stable. (Triggered internally at  /pytorch/c10/core/TensorImpl.h:1156.)\n",
            "  return torch.max_pool2d(input, kernel_size, stride, padding, dilation, ceil_mode)\n",
            "Transfer learning train 10: 100% 10/10 [00:52<00:00,  5.21s/it, AllAccuracy=29.6, MAXSeenAccuracy=99.2]\n",
            "FineTrain 60: 100% 60/60 [01:52<00:00,  1.87s/it, accuracy=100, loss=0.0174, minloss=0.0166]\n",
            "DSAN\tDSAN\tDSAN\tDSAN\tDSAN\tDSAN\tDSAN\tDSAN\tDSAN\tDSAN\tDSAN\tDSAN\tDSAN\tDSAN\tDSAN\tDSAN\tDSAN\tDSAN\tDSAN\tDSAN\tDSAN\tDSAN\tDSAN\tDSAN\tDSAN\tDSAN\tDSAN\tDSAN\tDSAN\tDSAN\tFinished Training\n",
            "<Figure size 640x480 with 1 Axes>\n",
            " 30% 3/10 [00:01<00:02,  2.47it/s]\n",
            "There are 0 cluster class centers labeled as 8, sampled separately according to [4] and each sample with label [7, 8, 3, 8]\n",
            "There are 1 cluster class centers labeled as 9, sampled separately according to [4] and each sample with label [9, 9, 9, 9]\n",
            "There are 1 cluster class centers labeled as 5, sampled separately according to [4] and each sample with label [5, 5, 5, 5]\n",
            "There are 1 cluster class centers labeled as 6, sampled separately according to [4] and each sample with label [6, 6, 6, 6]\n",
            "_raw.py:253: VisibleDeprecationWarning: Creating an ndarray from ragged nested sequences (which is a list-or-tuple of lists-or-tuples-or ndarrays with different lengths or shapes) is deprecated. If you meant to do this, you must specify 'dtype=object' when creating the ndarray\n",
            "  np.array(list(self.Sub.keys()))[[_==x for _ in list(self.Sub.values())]]], set(self.Sub.values())))).T.tolist()\n",
            "<Figure size 1800x600 with 2 Axes>\n",
            "/content/utils.py:49: VisibleDeprecationWarning: Creating an ndarray from ragged nested sequences (which is a list-or-tuple of lists-or-tuples-or ndarrays with different lengths or shapes) is deprecated. If you meant to do this, you must specify 'dtype=object' when creating the ndarray\n",
            "  self.img = np.array(self.img)\n",
            "Number: 73\t Target Domain Category: {0, 1, 2, 5, 6, 8, 9}\n",
            "Linear(in_features=256, out_features=7, bias=True) \n",
            "\n",
            "\n",
            "Transfer learning train 50: 100% 50/50 [04:17<00:00,  5.15s/it, AllAccuracy=60.3, MAXSeenAccuracy=81.6]\n",
            "FineTrain 60: 100% 60/60 [01:51<00:00,  1.86s/it, accuracy=87.7, loss=0.00825, minloss=0.00815]\n",
            "DSAN\tDSAN\tDSAN\tDSAN\tDSAN\tDSAN\tDSAN\tDSAN\tDSAN\tDSAN\tDSAN\tDSAN\tDSAN\tDSAN\tDSAN\tDSAN\tDSAN\tDSAN\tDSAN\tDSAN\tDSAN\tDSAN\tDSAN\tDSAN\tDSAN\tDSAN\tDSAN\tDSAN\tDSAN\tDSAN\tDSAN\tDSAN\tDSAN\tDSAN\tDSAN\tDSAN\tDSAN\tDSAN\tDSAN\tDSAN\tDSAN\tDSAN\tDSAN\tDSAN\tDSAN\tDSAN\tDSAN\tDSAN\tDSAN\tDSAN\tDSAN\tDSAN\tDSAN\tDSAN\tDSAN\tDSAN\tDSAN\tDSAN\tDSAN\tDSAN\tDSAN\tDSAN\tDSAN\tDSAN\tDSAN\tDSAN\tDSAN\tDSAN\tDSAN\tDSAN\tDSAN\tDSAN\tDSAN\tDSAN\tDSAN\tDSAN\tDSAN\tDSAN\tDSAN\tDSAN\tDSAN\tDSAN\tDSAN\tDSAN\tDSAN\tDSAN\tDSAN\tDSAN\tDSAN\tDSAN\tDSAN\tDSAN\tDSAN\tDSAN\tDSAN\tDSAN\tDSAN\tDSAN\tDSAN\tDSAN\tDSAN\tDSAN\tDSAN\tDSAN\tDSAN\tDSAN\tDSAN\tDSAN\tDSAN\tDSAN\tDSAN\tDSAN\tDSAN\tDSAN\tDSAN\tDSAN\tDSAN\tDSAN\tDSAN\tDSAN\tDSAN\tDSAN\tDSAN\tDSAN\tDSAN\tDSAN\tDSAN\tDSAN\tDSAN\tDSAN\tDSAN\tDSAN\tDSAN\tDSAN\tDSAN\tDSAN\tDSAN\tDSAN\tDSAN\tDSAN\tDSAN\tDSAN\tDSAN\tDSAN\tDSAN\tDSAN\tDSAN\tDSAN\tDSAN\tDSAN\tFinished Training\n",
            "<Figure size 640x480 with 1 Axes>\n",
            " 70% 7/10 [00:00<00:00,  7.91it/s]\n",
            "There are 0 cluster class centers labeled as 3, sampled separately according to [4] and each sample with label [6, 3, 7, 3]\n",
            "There are 1 cluster class centers labeled as 4, sampled separately according to [4] and each sample with label [4, 4, 7, 4]\n",
            "There are 1 cluster class centers labeled as 7, sampled separately according to [4] and each sample with label [7, 7, 7, 7]\n",
            "_raw.py:253: VisibleDeprecationWarning: Creating an ndarray from ragged nested sequences (which is a list-or-tuple of lists-or-tuples-or ndarrays with different lengths or shapes) is deprecated. If you meant to do this, you must specify 'dtype=object' when creating the ndarray\n",
            "  np.array(list(self.Sub.keys()))[[_==x for _ in list(self.Sub.values())]]], set(self.Sub.values())))).T.tolist()\n",
            "<Figure size 1800x600 with 2 Axes>\n",
            "/content/utils.py:49: VisibleDeprecationWarning: Creating an ndarray from ragged nested sequences (which is a list-or-tuple of lists-or-tuples-or ndarrays with different lengths or shapes) is deprecated. If you meant to do this, you must specify 'dtype=object' when creating the ndarray\n",
            "  self.img = np.array(self.img)\n",
            "Number: 86\t Target Domain Category: {0, 1, 2, 3, 4, 5, 6, 7, 8, 9}\n",
            "Linear(in_features=256, out_features=10, bias=True) \n",
            "\n",
            "\n",
            "Transfer learning train 50: 100% 50/50 [04:32<00:00,  5.44s/it, AllAccuracy=76.1, MAXSeenAccuracy=76.1]\n",
            "FineTrain 60: 100% 60/60 [02:04<00:00,  2.08s/it, accuracy=93, loss=0.00771, minloss=0.0137]\n",
            "DSAN\tDSAN\tDSAN\tDSAN\tDSAN\tDSAN\tDSAN\tDSAN\tDSAN\tDSAN\tDSAN\tDSAN\tDSAN\tDSAN\tDSAN\tDSAN\tDSAN\tDSAN\tDSAN\tDSAN\tDSAN\tDSAN\tDSAN\tDSAN\tDSAN\tDSAN\tDSAN\tDSAN\tDSAN\tDSAN\tDSAN\tDSAN\tDSAN\tDSAN\tDSAN\tDSAN\tDSAN\tDSAN\tDSAN\tDSAN\tDSAN\tDSAN\tDSAN\tDSAN\tDSAN\tDSAN\tDSAN\tDSAN\tDSAN\tDSAN\tDSAN\tDSAN\tDSAN\tDSAN\tDSAN\tDSAN\tDSAN\tDSAN\tDSAN\tDSAN\tDSAN\tDSAN\tDSAN\tDSAN\tDSAN\tDSAN\tDSAN\tDSAN\tDSAN\tDSAN\tDSAN\tDSAN\tDSAN\tDSAN\tDSAN\tDSAN\tDSAN\tDSAN\tDSAN\tDSAN\tDSAN\tDSAN\tDSAN\tDSAN\tDSAN\tDSAN\tDSAN\tDSAN\tDSAN\tDSAN\tDSAN\tDSAN\tDSAN\tDSAN\tDSAN\tDSAN\tDSAN\tDSAN\tDSAN\tDSAN\tDSAN\tDSAN\tDSAN\tDSAN\tDSAN\tDSAN\tDSAN\tDSAN\tDSAN\tDSAN\tDSAN\tDSAN\tDSAN\tDSAN\tDSAN\tDSAN\tDSAN\tDSAN\tDSAN\tDSAN\tDSAN\tDSAN\tDSAN\tDSAN\tDSAN\tDSAN\tDSAN\tDSAN\tDSAN\tDSAN\tDSAN\tDSAN\tDSAN\tDSAN\tDSAN\tDSAN\tDSAN\tDSAN\tDSAN\tDSAN\tDSAN\tDSAN\tDSAN\tDSAN\tDSAN\tDSAN\tDSAN\tDSAN\tDSAN\tDSAN\tDSAN\tDSAN\tDSAN\tDSAN\tDSAN\tDSAN\tDSAN\tDSAN\tDSAN\tDSAN\tDSAN\tDSAN\tDSAN\tDSAN\tDSAN\tDSAN\tDSAN\tDSAN\tDSAN\tDSAN\tDSAN\tDSAN\tDSAN\tDSAN\tDSAN\tDSAN\tDSAN\tDSAN\tDSAN\tDSAN\tDSAN\tDSAN\tDSAN\tDSAN\tDSAN\tDSAN\tDSAN\tDSAN\tDSAN\tDSAN\tDSAN\tDSAN\tDSAN\tDSAN\tDSAN\tDSAN\tDSAN\tDSAN\tDSAN\tDSAN\tFinished Training\n",
            "/usr/local/lib/python3.7/dist-packages/numpy/lib/histograms.py:905: RuntimeWarning: invalid value encountered in true_divide\n",
            "  return n/db/n.sum(), bin_edges\n",
            "<Figure size 640x480 with 1 Axes>\n",
            "  0% 0/10 [00:00<?, ?it/s]\n",
            "Number: 94\t Target Domain Category: {0, 1, 2, 3, 4, 5, 6, 7, 8, 9}\n",
            "Linear(in_features=256, out_features=10, bias=True) \n",
            "\n",
            "\n",
            "Transfer learning train 50: 100% 50/50 [04:30<00:00,  5.40s/it, AllAccuracy=83.9, MAXSeenAccuracy=83.9]\n",
            "DSAN\tDSAN\tDSAN\tDSAN\tDSAN\tDSAN\tDSAN\tDSAN\tDSAN\tDSAN\tDSAN\tDSAN\tDSAN\tDSAN\tDSAN\tDSAN\tDSAN\tDSAN\tDSAN\tDSAN\tDSAN\tDSAN\tDSAN\tDSAN\tDSAN\tDSAN\tDSAN\tDSAN\tDSAN\tDSAN\tDSAN\tDSAN\tDSAN\tDSAN\tDSAN\tDSAN\tDSAN\tDSAN\tDSAN\tDSAN\tDSAN\tDSAN\tDSAN\tDSAN\tDSAN\tDSAN\tDSAN\tDSAN\tDSAN\tDSAN\tDSAN\tDSAN\tDSAN\tDSAN\tDSAN\tDSAN\tDSAN\tDSAN\tDSAN\tDSAN\tDSAN\tDSAN\tDSAN\tDSAN\tDSAN\tDSAN\tDSAN\tDSAN\tDSAN\tDSAN\tDSAN\tDSAN\tDSAN\tDSAN\tDSAN\tDSAN\tDSAN\tDSAN\tDSAN\tDSAN\tDSAN\tDSAN\tDSAN\tDSAN\tDSAN\tDSAN\tDSAN\tDSAN\tDSAN\tDSAN\tDSAN\tDSAN\tDSAN\tDSAN\tDSAN\tDSAN\tDSAN\tDSAN\tDSAN\tDSAN\tDSAN\tDSAN\tDSAN\tDSAN\tDSAN\tDSAN\tDSAN\tDSAN\tDSAN\tDSAN\tDSAN\tDSAN\tDSAN\tDSAN\tDSAN\tDSAN\tDSAN\tDSAN\tDSAN\tDSAN\tDSAN\tDSAN\tDSAN\tDSAN\tDSAN\tDSAN\tDSAN\tDSAN\tDSAN\tDSAN\tDSAN\tDSAN\tDSAN\tDSAN\tDSAN\tDSAN\tDSAN\tDSAN\tDSAN\tDSAN\tDSAN\tDSAN\tDSAN\tDSAN\tDSAN\tDSAN\tDSAN\tDSAN\tDSAN\tDSAN\tDSAN\tDSAN\tDSAN\tDSAN\tDSAN\tDSAN\tDSAN\tDSAN\tDSAN\tDSAN\tDSAN\tDSAN\tDSAN\tDSAN\tDSAN\tDSAN\tDSAN\tDSAN\tDSAN\tDSAN\tDSAN\tDSAN\tDSAN\tDSAN\tDSAN\tDSAN\tDSAN\tDSAN\tDSAN\tDSAN\tDSAN\tDSAN\tDSAN\tDSAN\tDSAN\tDSAN\tDSAN\tDSAN\tDSAN\tDSAN\tDSAN\tDSAN\tDSAN\tDSAN\tDSAN\tDSAN\tDSAN\tDSAN\tDSAN\tDSAN\t[3, 0.0, 0.991869918699187, 0.2961165048543689]\n",
            "[7, 0.019417475728155338, 0.8160919540229885, 0.6031553398058253]\n",
            "[10, 0.03519417475728155, 0.7609223300970874, 0.7609223300970874]\n",
            "[10, 0.044902912621359224, 0.8385922330097088, 0.8385922330097088]\n"
          ],
          "name": "stdout"
        }
      ]
    },
    {
      "cell_type": "code",
      "metadata": {
        "colab": {
          "base_uri": "https://localhost:8080/"
        },
        "id": "5GEQ8Q6mGmSU",
        "outputId": "1bb6a7b3-c895-4507-d89a-96e68069d46b"
      },
      "source": [
        "!python _raw.py --source 'amazon' --target 'webcam'"
      ],
      "execution_count": null,
      "outputs": [
        {
          "output_type": "stream",
          "text": [
            "/content/utils.py:49: VisibleDeprecationWarning: Creating an ndarray from ragged nested sequences (which is a list-or-tuple of lists-or-tuples-or ndarrays with different lengths or shapes) is deprecated. If you meant to do this, you must specify 'dtype=object' when creating the ndarray\n",
            "  self.img = np.array(self.img)\n",
            "Number: 246\t Source Domain Category: {0, 1, 2}\n",
            "Number: 235\t Target Domain Category: {0, 1, 2, 3, 4, 5, 6, 7, 8, 9}\n",
            "Linear(in_features=256, out_features=3, bias=True) \n",
            "\n",
            "\n",
            "\r  0% 0/10 [00:00<?, ?it/s]\rTransfer learning train 1:   0% 0/10 [00:00<?, ?it/s]/usr/local/lib/python3.7/dist-packages/torch/nn/functional.py:718: UserWarning: Named tensors and all their associated APIs are an experimental feature and subject to change. Please do not use them for anything important until they are released as stable. (Triggered internally at  /pytorch/c10/core/TensorImpl.h:1156.)\n",
            "  return torch.max_pool2d(input, kernel_size, stride, padding, dilation, ceil_mode)\n",
            "Transfer learning train 10: 100% 10/10 [00:57<00:00,  5.78s/it, AllAccuracy=33.2, MAXSeenAccuracy=100]\n",
            "FineTrain 60: 100% 60/60 [03:02<00:00,  3.05s/it, accuracy=100, loss=0.000873, minloss=0.0016]\n",
            "DSAN\tDSAN\tDSAN\tDSAN\tDSAN\tDSAN\tDSAN\tDSAN\tDSAN\tDSAN\tDSAN\tDSAN\tDSAN\tDSAN\tDSAN\tDSAN\tDSAN\tDSAN\tDSAN\tDSAN\tDSAN\tDSAN\tDSAN\tDSAN\tDSAN\tDSAN\tDSAN\tDSAN\tDSAN\tDSAN\tDSAN\tDSAN\tDSAN\tDSAN\tDSAN\tDSAN\tDSAN\tDSAN\tDSAN\tDSAN\tDSAN\tDSAN\tDSAN\tDSAN\tDSAN\tDSAN\tDSAN\tDSAN\tDSAN\tDSAN\tDSAN\tDSAN\tDSAN\tDSAN\tDSAN\tDSAN\tDSAN\tDSAN\tDSAN\tDSAN\tDSAN\tDSAN\tDSAN\tDSAN\tDSAN\tDSAN\tDSAN\tDSAN\tDSAN\tDSAN\tDSAN\tDSAN\tDSAN\tDSAN\tDSAN\tDSAN\tDSAN\tDSAN\tDSAN\tDSAN\tDSAN\tDSAN\tDSAN\tDSAN\tDSAN\tDSAN\tDSAN\tDSAN\tDSAN\tDSAN\tDSAN\tDSAN\tDSAN\tDSAN\tDSAN\tDSAN\tDSAN\tDSAN\tDSAN\tDSAN\tDSAN\tDSAN\tDSAN\tDSAN\tDSAN\tDSAN\tDSAN\tDSAN\tDSAN\tDSAN\tDSAN\tDSAN\tDSAN\tDSAN\tDSAN\tDSAN\tDSAN\tDSAN\tDSAN\tDSAN\tDSAN\tDSAN\tDSAN\tDSAN\tDSAN\tDSAN\tDSAN\tDSAN\tDSAN\tDSAN\tDSAN\tDSAN\tDSAN\tDSAN\tDSAN\tDSAN\tDSAN\tDSAN\tDSAN\tDSAN\tDSAN\tDSAN\tDSAN\tDSAN\tDSAN\tDSAN\tDSAN\tDSAN\tDSAN\tDSAN\tFinished Training\n",
            "<Figure size 640x480 with 1 Axes>\n",
            "  0% 0/10 [00:00<?, ?it/s]\n",
            "There are 1 cluster class centers labeled as 3, sampled separately according to [4] and each sample with label [3, 3, 3, 3]\n",
            "There are 1 cluster class centers labeled as 4, sampled separately according to [4] and each sample with label [4, 4, 4, 4]\n",
            "There are 0 cluster class centers labeled as 5, sampled separately according to [2, 2] and each sample with label [5, 5, 4, 5]\n",
            "There are 1 cluster class centers labeled as 6, sampled separately according to [4] and each sample with label [6, 6, 6, 6]\n",
            "There are 1 cluster class centers labeled as 7, sampled separately according to [4] and each sample with label [7, 7, 7, 7]\n",
            "_raw.py:253: VisibleDeprecationWarning: Creating an ndarray from ragged nested sequences (which is a list-or-tuple of lists-or-tuples-or ndarrays with different lengths or shapes) is deprecated. If you meant to do this, you must specify 'dtype=object' when creating the ndarray\n",
            "  np.array(list(self.Sub.keys()))[[_==x for _ in list(self.Sub.values())]]], set(self.Sub.values())))).T.tolist()\n",
            "<Figure size 1800x600 with 2 Axes>\n",
            "/content/utils.py:49: VisibleDeprecationWarning: Creating an ndarray from ragged nested sequences (which is a list-or-tuple of lists-or-tuples-or ndarrays with different lengths or shapes) is deprecated. If you meant to do this, you must specify 'dtype=object' when creating the ndarray\n",
            "  self.img = np.array(self.img)\n",
            "Number: 267\t Target Domain Category: {0, 1, 2, 3, 4, 5, 6, 7}\n",
            "Linear(in_features=256, out_features=8, bias=True) \n",
            "\n",
            "\n",
            "Transfer learning train 50: 100% 50/50 [04:41<00:00,  5.63s/it, AllAccuracy=53.6, MAXSeenAccuracy=64.6]\n",
            "FineTrain 60: 100% 60/60 [03:09<00:00,  3.16s/it, accuracy=95.9, loss=0.00159, minloss=0.00276]\n",
            "DSAN\tDSAN\tDSAN\tDSAN\tDSAN\tDSAN\tDSAN\tDSAN\tDSAN\tDSAN\tDSAN\tDSAN\tDSAN\tDSAN\tDSAN\tDSAN\tDSAN\tDSAN\tDSAN\tDSAN\tDSAN\tDSAN\tDSAN\tDSAN\tDSAN\tDSAN\tDSAN\tDSAN\tDSAN\tDSAN\tDSAN\tDSAN\tDSAN\tDSAN\tDSAN\tDSAN\tDSAN\tDSAN\tDSAN\tDSAN\tDSAN\tDSAN\tDSAN\tDSAN\tDSAN\tDSAN\tDSAN\tDSAN\tDSAN\tDSAN\tDSAN\tDSAN\tDSAN\tDSAN\tDSAN\tDSAN\tDSAN\tDSAN\tDSAN\tDSAN\tDSAN\tDSAN\tDSAN\tDSAN\tDSAN\tDSAN\tDSAN\tDSAN\tDSAN\tDSAN\tDSAN\tDSAN\tDSAN\tDSAN\tDSAN\tDSAN\tDSAN\tDSAN\tDSAN\tDSAN\tDSAN\tDSAN\tDSAN\tDSAN\tDSAN\tDSAN\tDSAN\tDSAN\tDSAN\tDSAN\tDSAN\tDSAN\tDSAN\tDSAN\tDSAN\tDSAN\tDSAN\tDSAN\tDSAN\tDSAN\tDSAN\tDSAN\tDSAN\tDSAN\tDSAN\tDSAN\tDSAN\tDSAN\tDSAN\tDSAN\tDSAN\tDSAN\tDSAN\tDSAN\tDSAN\tDSAN\tDSAN\tDSAN\tDSAN\tDSAN\tDSAN\tDSAN\tDSAN\tDSAN\tDSAN\tDSAN\tDSAN\tDSAN\tDSAN\tDSAN\tDSAN\tDSAN\tDSAN\tDSAN\tDSAN\tDSAN\tDSAN\tDSAN\tDSAN\tDSAN\tDSAN\tDSAN\tDSAN\tDSAN\tDSAN\tDSAN\tDSAN\tDSAN\tDSAN\tDSAN\tDSAN\tDSAN\tDSAN\tDSAN\tDSAN\tDSAN\tDSAN\tDSAN\tDSAN\tDSAN\tDSAN\tDSAN\tDSAN\tDSAN\tDSAN\tDSAN\tDSAN\tDSAN\tDSAN\tDSAN\tDSAN\tDSAN\tDSAN\tDSAN\tDSAN\tDSAN\tDSAN\tDSAN\tDSAN\tDSAN\tDSAN\tDSAN\tDSAN\tDSAN\tDSAN\tDSAN\tDSAN\tDSAN\tDSAN\tDSAN\tDSAN\tDSAN\tDSAN\tDSAN\tDSAN\tDSAN\tDSAN\tDSAN\tDSAN\tDSAN\tDSAN\tDSAN\tDSAN\tDSAN\tDSAN\tDSAN\tDSAN\tDSAN\tDSAN\tDSAN\tDSAN\tDSAN\tDSAN\tDSAN\tDSAN\tDSAN\tDSAN\tDSAN\tDSAN\tDSAN\tDSAN\tDSAN\tDSAN\tDSAN\tDSAN\tDSAN\tDSAN\tDSAN\tDSAN\tDSAN\tDSAN\tDSAN\tDSAN\tDSAN\tDSAN\tDSAN\tDSAN\tDSAN\tDSAN\tDSAN\tDSAN\tDSAN\tDSAN\tDSAN\tDSAN\tDSAN\tDSAN\tDSAN\tDSAN\tDSAN\tDSAN\tDSAN\tDSAN\tDSAN\tDSAN\tDSAN\tDSAN\tDSAN\tDSAN\tDSAN\tDSAN\tDSAN\tDSAN\tDSAN\tDSAN\tDSAN\tDSAN\tDSAN\tDSAN\tDSAN\tDSAN\tDSAN\tDSAN\tDSAN\tDSAN\tDSAN\tDSAN\tDSAN\tDSAN\tDSAN\tDSAN\tDSAN\tDSAN\tDSAN\tDSAN\tDSAN\tDSAN\tDSAN\tDSAN\tDSAN\tDSAN\tDSAN\tDSAN\tDSAN\tDSAN\tDSAN\tDSAN\tDSAN\tDSAN\tDSAN\tDSAN\tDSAN\tDSAN\tDSAN\tDSAN\tDSAN\tDSAN\tDSAN\tDSAN\tDSAN\tDSAN\tDSAN\tDSAN\tDSAN\tDSAN\tDSAN\tDSAN\tDSAN\tDSAN\tDSAN\tDSAN\tDSAN\tDSAN\tDSAN\tDSAN\tDSAN\tDSAN\tDSAN\tDSAN\tDSAN\tDSAN\tDSAN\tDSAN\tDSAN\tDSAN\tDSAN\tDSAN\tDSAN\tDSAN\tDSAN\tDSAN\tDSAN\tDSAN\tDSAN\tDSAN\tDSAN\tDSAN\tDSAN\tDSAN\tDSAN\tDSAN\tDSAN\tDSAN\tDSAN\tDSAN\tDSAN\tDSAN\tDSAN\tDSAN\tDSAN\tDSAN\tDSAN\tDSAN\tDSAN\tDSAN\tDSAN\tDSAN\tDSAN\tDSAN\tDSAN\tDSAN\tDSAN\tDSAN\tDSAN\tDSAN\tDSAN\tDSAN\tDSAN\tDSAN\tDSAN\tDSAN\tDSAN\tDSAN\tDSAN\tDSAN\tDSAN\tDSAN\tDSAN\tDSAN\tDSAN\tDSAN\tDSAN\tDSAN\tDSAN\tDSAN\tDSAN\tDSAN\tDSAN\tDSAN\tDSAN\tDSAN\tDSAN\tDSAN\tDSAN\tDSAN\tDSAN\tDSAN\tDSAN\tDSAN\tDSAN\tDSAN\tDSAN\tDSAN\tDSAN\tDSAN\tDSAN\tDSAN\tDSAN\tDSAN\tDSAN\tDSAN\tDSAN\tDSAN\tDSAN\tDSAN\tDSAN\tDSAN\tDSAN\tDSAN\tDSAN\tDSAN\tDSAN\tDSAN\tDSAN\tDSAN\tDSAN\tDSAN\tDSAN\tDSAN\tDSAN\tDSAN\tDSAN\tDSAN\tDSAN\tDSAN\tDSAN\tDSAN\tDSAN\tDSAN\tDSAN\tDSAN\tDSAN\tDSAN\tDSAN\tDSAN\tDSAN\tDSAN\tDSAN\tDSAN\tDSAN\tDSAN\tDSAN\tDSAN\tDSAN\tDSAN\tDSAN\tDSAN\tDSAN\tDSAN\tDSAN\tDSAN\tDSAN\tDSAN\tDSAN\tDSAN\tDSAN\tDSAN\tDSAN\tDSAN\tDSAN\tDSAN\tDSAN\tDSAN\tDSAN\tDSAN\tDSAN\tDSAN\tDSAN\tDSAN\tDSAN\tDSAN\tDSAN\tDSAN\tDSAN\tDSAN\tDSAN\tDSAN\tDSAN\tDSAN\tDSAN\tDSAN\tDSAN\tDSAN\tDSAN\tDSAN\tDSAN\tDSAN\tDSAN\tDSAN\tDSAN\tDSAN\tDSAN\tDSAN\tDSAN\tDSAN\tDSAN\tDSAN\tDSAN\tDSAN\tDSAN\tDSAN\tDSAN\tDSAN\tDSAN\tDSAN\tDSAN\tDSAN\tDSAN\tDSAN\tDSAN\tDSAN\tDSAN\tDSAN\tDSAN\tDSAN\tDSAN\tDSAN\tDSAN\tDSAN\tDSAN\tDSAN\tDSAN\tDSAN\tDSAN\tDSAN\tDSAN\tDSAN\tDSAN\tDSAN\tDSAN\tDSAN\tDSAN\tDSAN\tDSAN\tDSAN\tDSAN\tDSAN\tDSAN\tDSAN\tDSAN\tDSAN\tDSAN\tDSAN\tDSAN\tDSAN\tDSAN\tDSAN\tDSAN\tDSAN\tDSAN\tDSAN\tDSAN\tDSAN\tDSAN\tDSAN\tDSAN\tDSAN\tDSAN\tDSAN\tDSAN\tDSAN\tDSAN\tDSAN\tDSAN\tDSAN\tDSAN\tDSAN\tDSAN\tDSAN\tDSAN\tDSAN\tDSAN\tDSAN\tDSAN\tDSAN\tDSAN\tDSAN\tDSAN\tDSAN\tDSAN\tDSAN\tDSAN\tDSAN\tDSAN\tDSAN\tDSAN\tDSAN\tDSAN\tDSAN\tDSAN\tDSAN\tDSAN\tDSAN\tDSAN\tDSAN\tDSAN\tDSAN\tDSAN\tDSAN\tDSAN\tDSAN\tDSAN\tDSAN\tDSAN\tDSAN\tDSAN\tDSAN\tDSAN\tDSAN\tDSAN\tDSAN\tDSAN\tDSAN\tDSAN\tDSAN\tDSAN\tDSAN\tDSAN\tDSAN\tDSAN\tDSAN\tDSAN\tDSAN\tDSAN\tDSAN\tDSAN\tDSAN\tDSAN\tDSAN\tDSAN\tDSAN\tDSAN\tDSAN\tDSAN\tDSAN\tDSAN\tDSAN\tDSAN\tDSAN\tDSAN\tDSAN\tDSAN\tDSAN\tDSAN\tDSAN\tDSAN\tDSAN\tDSAN\tDSAN\tDSAN\tDSAN\tDSAN\tDSAN\tDSAN\tDSAN\tDSAN\tDSAN\tDSAN\tDSAN\tDSAN\tDSAN\tDSAN\tDSAN\tDSAN\tDSAN\tDSAN\tDSAN\tDSAN\tDSAN\tDSAN\tDSAN\tDSAN\tDSAN\tDSAN\tDSAN\tDSAN\tDSAN\tDSAN\tDSAN\tDSAN\tDSAN\tDSAN\tDSAN\tDSAN\tDSAN\tDSAN\tDSAN\tDSAN\tDSAN\tDSAN\tDSAN\tDSAN\tDSAN\tDSAN\tDSAN\tDSAN\tDSAN\tDSAN\tDSAN\tDSAN\tDSAN\tDSAN\tDSAN\tDSAN\tDSAN\tDSAN\tDSAN\tDSAN\tDSAN\tDSAN\tDSAN\tDSAN\tDSAN\tDSAN\tDSAN\tDSAN\tDSAN\tDSAN\tDSAN\tDSAN\tDSAN\tDSAN\tDSAN\tDSAN\tDSAN\tDSAN\tDSAN\tDSAN\tDSAN\tDSAN\tFinished Training\n",
            "<Figure size 640x480 with 1 Axes>\n",
            " 40% 4/10 [00:00<00:00, 31.55it/s]\n",
            "There are 1 cluster class centers labeled as 8, sampled separately according to [4] and each sample with label [8, 8, 8, 8]\n",
            "_raw.py:253: VisibleDeprecationWarning: Creating an ndarray from ragged nested sequences (which is a list-or-tuple of lists-or-tuples-or ndarrays with different lengths or shapes) is deprecated. If you meant to do this, you must specify 'dtype=object' when creating the ndarray\n",
            "  np.array(list(self.Sub.keys()))[[_==x for _ in list(self.Sub.values())]]], set(self.Sub.values())))).T.tolist()\n",
            "<Figure size 1800x600 with 2 Axes>\n",
            "/content/utils.py:49: VisibleDeprecationWarning: Creating an ndarray from ragged nested sequences (which is a list-or-tuple of lists-or-tuples-or ndarrays with different lengths or shapes) is deprecated. If you meant to do this, you must specify 'dtype=object' when creating the ndarray\n",
            "  self.img = np.array(self.img)\n",
            "Number: 271\t Target Domain Category: {0, 1, 2, 3, 4, 5, 6, 7, 8}\n",
            "Linear(in_features=256, out_features=9, bias=True) \n",
            "\n",
            "\n",
            "Transfer learning train 50: 100% 50/50 [04:44<00:00,  5.69s/it, AllAccuracy=55.3, MAXSeenAccuracy=60.2]\n",
            "FineTrain 60: 100% 60/60 [03:11<00:00,  3.19s/it, accuracy=94.5, loss=0.00343, minloss=0.00278]\n",
            "DSAN\tDSAN\tDSAN\tDSAN\tDSAN\tDSAN\tDSAN\tDSAN\tDSAN\tDSAN\tDSAN\tDSAN\tDSAN\tDSAN\tDSAN\tDSAN\tDSAN\tDSAN\tDSAN\tDSAN\tDSAN\tDSAN\tDSAN\tDSAN\tDSAN\tDSAN\tDSAN\tDSAN\tDSAN\tDSAN\tDSAN\tDSAN\tDSAN\tDSAN\tDSAN\tDSAN\tDSAN\tDSAN\tDSAN\tDSAN\tDSAN\tDSAN\tDSAN\tDSAN\tDSAN\tDSAN\tDSAN\tDSAN\tDSAN\tDSAN\tDSAN\tDSAN\tDSAN\tDSAN\tDSAN\tDSAN\tDSAN\tDSAN\tDSAN\tDSAN\tDSAN\tDSAN\tDSAN\tDSAN\tDSAN\tDSAN\tDSAN\tDSAN\tDSAN\tDSAN\tDSAN\tDSAN\tDSAN\tDSAN\tDSAN\tDSAN\tDSAN\tDSAN\tDSAN\tDSAN\tDSAN\tDSAN\tDSAN\tDSAN\tDSAN\tDSAN\tDSAN\tDSAN\tDSAN\tDSAN\tDSAN\tDSAN\tDSAN\tDSAN\tDSAN\tDSAN\tDSAN\tDSAN\tDSAN\tDSAN\tDSAN\tDSAN\tDSAN\tDSAN\tDSAN\tDSAN\tDSAN\tDSAN\tDSAN\tDSAN\tDSAN\tDSAN\tDSAN\tDSAN\tDSAN\tDSAN\tDSAN\tDSAN\tDSAN\tDSAN\tDSAN\tDSAN\tDSAN\tDSAN\tDSAN\tDSAN\tDSAN\tDSAN\tDSAN\tDSAN\tDSAN\tDSAN\tDSAN\tDSAN\tDSAN\tDSAN\tDSAN\tDSAN\tDSAN\tDSAN\tDSAN\tDSAN\tDSAN\tDSAN\tDSAN\tDSAN\tDSAN\tDSAN\tDSAN\tDSAN\tDSAN\tDSAN\tDSAN\tDSAN\tDSAN\tDSAN\tDSAN\tDSAN\tDSAN\tDSAN\tDSAN\tDSAN\tDSAN\tDSAN\tDSAN\tDSAN\tDSAN\tDSAN\tDSAN\tDSAN\tDSAN\tDSAN\tDSAN\tDSAN\tDSAN\tDSAN\tDSAN\tDSAN\tDSAN\tDSAN\tDSAN\tDSAN\tDSAN\tDSAN\tDSAN\tDSAN\tDSAN\tDSAN\tDSAN\tDSAN\tDSAN\tDSAN\tDSAN\tDSAN\tDSAN\tDSAN\tDSAN\tDSAN\tDSAN\tDSAN\tDSAN\tDSAN\tDSAN\tDSAN\tDSAN\tDSAN\tDSAN\tDSAN\tDSAN\tDSAN\tDSAN\tDSAN\tDSAN\tDSAN\tDSAN\tDSAN\tDSAN\tDSAN\tDSAN\tDSAN\tDSAN\tDSAN\tDSAN\tDSAN\tDSAN\tDSAN\tDSAN\tDSAN\tDSAN\tDSAN\tDSAN\tDSAN\tDSAN\tDSAN\tDSAN\tDSAN\tDSAN\tDSAN\tDSAN\tDSAN\tDSAN\tDSAN\tDSAN\tDSAN\tDSAN\tDSAN\tDSAN\tDSAN\tDSAN\tDSAN\tDSAN\tDSAN\tDSAN\tDSAN\tDSAN\tDSAN\tDSAN\tDSAN\tDSAN\tDSAN\tDSAN\tDSAN\tDSAN\tDSAN\tDSAN\tDSAN\tDSAN\tDSAN\tDSAN\tDSAN\tDSAN\tDSAN\tDSAN\tDSAN\tDSAN\tDSAN\tDSAN\tDSAN\tDSAN\tDSAN\tDSAN\tDSAN\tDSAN\tDSAN\tDSAN\tDSAN\tDSAN\tDSAN\tDSAN\tDSAN\tDSAN\tDSAN\tDSAN\tDSAN\tDSAN\tDSAN\tDSAN\tDSAN\tDSAN\tDSAN\tDSAN\tDSAN\tDSAN\tDSAN\tDSAN\tDSAN\tDSAN\tDSAN\tDSAN\tDSAN\tDSAN\tDSAN\tDSAN\tDSAN\tDSAN\tDSAN\tDSAN\tDSAN\tDSAN\tDSAN\tDSAN\tDSAN\tDSAN\tDSAN\tDSAN\tDSAN\tDSAN\tDSAN\tDSAN\tDSAN\tDSAN\tDSAN\tDSAN\tDSAN\tDSAN\tDSAN\tDSAN\tDSAN\tDSAN\tDSAN\tDSAN\tDSAN\tDSAN\tDSAN\tDSAN\tDSAN\tDSAN\tDSAN\tDSAN\tDSAN\tDSAN\tDSAN\tDSAN\tDSAN\tDSAN\tDSAN\tDSAN\tDSAN\tDSAN\tDSAN\tDSAN\tDSAN\tDSAN\tDSAN\tDSAN\tDSAN\tDSAN\tDSAN\tDSAN\tDSAN\tDSAN\tDSAN\tDSAN\tDSAN\tDSAN\tDSAN\tDSAN\tDSAN\tDSAN\tDSAN\tDSAN\tDSAN\tDSAN\tDSAN\tDSAN\tDSAN\tDSAN\tDSAN\tDSAN\tDSAN\tDSAN\tDSAN\tDSAN\tDSAN\tDSAN\tDSAN\tDSAN\tDSAN\tDSAN\tDSAN\tDSAN\tDSAN\tDSAN\tDSAN\tDSAN\tDSAN\tDSAN\tDSAN\tDSAN\tDSAN\tDSAN\tDSAN\tDSAN\tDSAN\tDSAN\tDSAN\tDSAN\tDSAN\tDSAN\tDSAN\tDSAN\tDSAN\tDSAN\tDSAN\tDSAN\tDSAN\tDSAN\tDSAN\tDSAN\tDSAN\tDSAN\tDSAN\tDSAN\tDSAN\tDSAN\tDSAN\tDSAN\tDSAN\tDSAN\tDSAN\tDSAN\tDSAN\tDSAN\tDSAN\tDSAN\tDSAN\tDSAN\tDSAN\tDSAN\tDSAN\tDSAN\tDSAN\tDSAN\tDSAN\tDSAN\tDSAN\tDSAN\tDSAN\tDSAN\tDSAN\tDSAN\tDSAN\tDSAN\tDSAN\tDSAN\tDSAN\tDSAN\tDSAN\tDSAN\tDSAN\tDSAN\tDSAN\tDSAN\tDSAN\tDSAN\tDSAN\tDSAN\tDSAN\tDSAN\tDSAN\tDSAN\tDSAN\tDSAN\tDSAN\tDSAN\tDSAN\tDSAN\tDSAN\tDSAN\tDSAN\tDSAN\tDSAN\tDSAN\tDSAN\tDSAN\tDSAN\tDSAN\tDSAN\tDSAN\tDSAN\tDSAN\tDSAN\tDSAN\tDSAN\tDSAN\tDSAN\tDSAN\tDSAN\tDSAN\tDSAN\tDSAN\tDSAN\tDSAN\tDSAN\tDSAN\tDSAN\tDSAN\tDSAN\tDSAN\tDSAN\tDSAN\tDSAN\tDSAN\tDSAN\tDSAN\tDSAN\tDSAN\tDSAN\tDSAN\tDSAN\tDSAN\tDSAN\tDSAN\tDSAN\tDSAN\tDSAN\tDSAN\tDSAN\tDSAN\tDSAN\tDSAN\tDSAN\tDSAN\tDSAN\tDSAN\tDSAN\tDSAN\tDSAN\tDSAN\tDSAN\tDSAN\tDSAN\tDSAN\tDSAN\tDSAN\tDSAN\tDSAN\tDSAN\tDSAN\tDSAN\tDSAN\tDSAN\tDSAN\tDSAN\tDSAN\tDSAN\tDSAN\tDSAN\tDSAN\tDSAN\tDSAN\tDSAN\tDSAN\tDSAN\tDSAN\tDSAN\tDSAN\tDSAN\tDSAN\tDSAN\tDSAN\tDSAN\tDSAN\tDSAN\tDSAN\tDSAN\tDSAN\tDSAN\tDSAN\tDSAN\tDSAN\tDSAN\tDSAN\tDSAN\tDSAN\tDSAN\tDSAN\tDSAN\tDSAN\tDSAN\tDSAN\tDSAN\tDSAN\tDSAN\tDSAN\tDSAN\tDSAN\tDSAN\tDSAN\tDSAN\tDSAN\tDSAN\tDSAN\tDSAN\tDSAN\tDSAN\tDSAN\tDSAN\tDSAN\tDSAN\tDSAN\tDSAN\tDSAN\tDSAN\tDSAN\tDSAN\tDSAN\tDSAN\tDSAN\tDSAN\tDSAN\tDSAN\tDSAN\tDSAN\tDSAN\tDSAN\tDSAN\tDSAN\tDSAN\tDSAN\tDSAN\tDSAN\tDSAN\tDSAN\tDSAN\tDSAN\tDSAN\tDSAN\tDSAN\tDSAN\tDSAN\tDSAN\tDSAN\tDSAN\tDSAN\tDSAN\tDSAN\tDSAN\tDSAN\tDSAN\tDSAN\tDSAN\tDSAN\tDSAN\tDSAN\tDSAN\tDSAN\tDSAN\tDSAN\tDSAN\tDSAN\tDSAN\tDSAN\tDSAN\tDSAN\tDSAN\tDSAN\tDSAN\tDSAN\tDSAN\tDSAN\tDSAN\tDSAN\tDSAN\tDSAN\tDSAN\tDSAN\tDSAN\tDSAN\tDSAN\tDSAN\tDSAN\tDSAN\tDSAN\tDSAN\tDSAN\tDSAN\tDSAN\tDSAN\tDSAN\tDSAN\tDSAN\tDSAN\tDSAN\tDSAN\tDSAN\tDSAN\tDSAN\tDSAN\tDSAN\tDSAN\tDSAN\tDSAN\tDSAN\tDSAN\tDSAN\tDSAN\tDSAN\tDSAN\tDSAN\tDSAN\tDSAN\tDSAN\tDSAN\tDSAN\tDSAN\tDSAN\tDSAN\tDSAN\tDSAN\tDSAN\tDSAN\tDSAN\tDSAN\tDSAN\tDSAN\tDSAN\tDSAN\tDSAN\tDSAN\tDSAN\tDSAN\tDSAN\tDSAN\tDSAN\tDSAN\tDSAN\tDSAN\tDSAN\tDSAN\tFinished Training\n",
            "<Figure size 640x480 with 1 Axes>\n",
            "  0% 0/10 [00:00<?, ?it/s]\n",
            "There are 1 cluster class centers labeled as 9, sampled separately according to [4] and each sample with label [9, 8, 8, 8]\n",
            "_raw.py:253: VisibleDeprecationWarning: Creating an ndarray from ragged nested sequences (which is a list-or-tuple of lists-or-tuples-or ndarrays with different lengths or shapes) is deprecated. If you meant to do this, you must specify 'dtype=object' when creating the ndarray\n",
            "  np.array(list(self.Sub.keys()))[[_==x for _ in list(self.Sub.values())]]], set(self.Sub.values())))).T.tolist()\n",
            "<Figure size 1800x600 with 2 Axes>\n",
            "/content/utils.py:49: VisibleDeprecationWarning: Creating an ndarray from ragged nested sequences (which is a list-or-tuple of lists-or-tuples-or ndarrays with different lengths or shapes) is deprecated. If you meant to do this, you must specify 'dtype=object' when creating the ndarray\n",
            "  self.img = np.array(self.img)\n",
            "Number: 276\t Target Domain Category: {0, 1, 2, 3, 4, 5, 6, 7, 8, 9}\n",
            "Linear(in_features=256, out_features=10, bias=True) \n",
            "\n",
            "\n",
            "Transfer learning train 50: 100% 50/50 [04:55<00:00,  5.90s/it, AllAccuracy=65.1, MAXSeenAccuracy=65.1]\n",
            "FineTrain 60: 100% 60/60 [03:21<00:00,  3.35s/it, accuracy=98.2, loss=0.00114, minloss=0.00454]\n",
            "DSAN\tDSAN\tDSAN\tDSAN\tDSAN\tDSAN\tDSAN\tDSAN\tDSAN\tDSAN\tDSAN\tDSAN\tDSAN\tDSAN\tDSAN\tDSAN\tDSAN\tDSAN\tDSAN\tDSAN\tDSAN\tDSAN\tDSAN\tDSAN\tDSAN\tDSAN\tDSAN\tDSAN\tDSAN\tDSAN\tDSAN\tDSAN\tDSAN\tDSAN\tDSAN\tDSAN\tDSAN\tDSAN\tDSAN\tDSAN\tDSAN\tDSAN\tDSAN\tDSAN\tDSAN\tDSAN\tDSAN\tDSAN\tDSAN\tDSAN\tDSAN\tDSAN\tDSAN\tDSAN\tDSAN\tDSAN\tDSAN\tDSAN\tDSAN\tDSAN\tDSAN\tDSAN\tDSAN\tDSAN\tDSAN\tDSAN\tDSAN\tDSAN\tDSAN\tDSAN\tDSAN\tDSAN\tDSAN\tDSAN\tDSAN\tDSAN\tDSAN\tDSAN\tDSAN\tDSAN\tDSAN\tDSAN\tDSAN\tDSAN\tDSAN\tDSAN\tDSAN\tDSAN\tDSAN\tDSAN\tDSAN\tDSAN\tDSAN\tDSAN\tDSAN\tDSAN\tDSAN\tDSAN\tDSAN\tDSAN\tDSAN\tDSAN\tDSAN\tDSAN\tDSAN\tDSAN\tDSAN\tDSAN\tDSAN\tDSAN\tDSAN\tDSAN\tDSAN\tDSAN\tDSAN\tDSAN\tDSAN\tDSAN\tDSAN\tDSAN\tDSAN\tDSAN\tDSAN\tDSAN\tDSAN\tDSAN\tDSAN\tDSAN\tDSAN\tDSAN\tDSAN\tDSAN\tDSAN\tDSAN\tDSAN\tDSAN\tDSAN\tDSAN\tDSAN\tDSAN\tDSAN\tDSAN\tDSAN\tDSAN\tDSAN\tDSAN\tDSAN\tDSAN\tDSAN\tDSAN\tDSAN\tDSAN\tDSAN\tDSAN\tDSAN\tDSAN\tDSAN\tDSAN\tDSAN\tDSAN\tDSAN\tDSAN\tDSAN\tDSAN\tDSAN\tDSAN\tDSAN\tDSAN\tDSAN\tDSAN\tDSAN\tDSAN\tDSAN\tDSAN\tDSAN\tDSAN\tDSAN\tDSAN\tDSAN\tDSAN\tDSAN\tDSAN\tDSAN\tDSAN\tDSAN\tDSAN\tDSAN\tDSAN\tDSAN\tDSAN\tDSAN\tDSAN\tDSAN\tDSAN\tDSAN\tDSAN\tDSAN\tDSAN\tDSAN\tDSAN\tDSAN\tDSAN\tDSAN\tDSAN\tDSAN\tDSAN\tDSAN\tDSAN\tDSAN\tDSAN\tDSAN\tDSAN\tDSAN\tDSAN\tDSAN\tDSAN\tDSAN\tDSAN\tDSAN\tDSAN\tDSAN\tDSAN\tDSAN\tDSAN\tDSAN\tDSAN\tDSAN\tDSAN\tDSAN\tDSAN\tDSAN\tDSAN\tDSAN\tDSAN\tDSAN\tDSAN\tDSAN\tDSAN\tDSAN\tDSAN\tDSAN\tDSAN\tDSAN\tDSAN\tDSAN\tDSAN\tDSAN\tDSAN\tDSAN\tDSAN\tDSAN\tDSAN\tDSAN\tDSAN\tDSAN\tDSAN\tDSAN\tDSAN\tDSAN\tDSAN\tDSAN\tDSAN\tDSAN\tDSAN\tDSAN\tDSAN\tDSAN\tDSAN\tDSAN\tDSAN\tDSAN\tDSAN\tDSAN\tDSAN\tDSAN\tDSAN\tDSAN\tDSAN\tDSAN\tDSAN\tDSAN\tDSAN\tDSAN\tDSAN\tDSAN\tDSAN\tDSAN\tDSAN\tDSAN\tDSAN\tDSAN\tDSAN\tDSAN\tDSAN\tDSAN\tDSAN\tDSAN\tDSAN\tDSAN\tDSAN\tDSAN\tDSAN\tDSAN\tDSAN\tDSAN\tDSAN\tDSAN\tDSAN\tDSAN\tDSAN\tDSAN\tDSAN\tDSAN\tDSAN\tDSAN\tDSAN\tDSAN\tDSAN\tDSAN\tDSAN\tDSAN\tDSAN\tDSAN\tDSAN\tDSAN\tDSAN\tDSAN\tDSAN\tDSAN\tDSAN\tDSAN\tDSAN\tDSAN\tDSAN\tDSAN\tDSAN\tDSAN\tDSAN\tDSAN\tDSAN\tDSAN\tDSAN\tDSAN\tDSAN\tDSAN\tDSAN\tDSAN\tDSAN\tDSAN\tDSAN\tDSAN\tDSAN\tDSAN\tDSAN\tDSAN\tDSAN\tDSAN\tDSAN\tDSAN\tDSAN\tDSAN\tDSAN\tDSAN\tDSAN\tDSAN\tDSAN\tDSAN\tDSAN\tDSAN\tDSAN\tDSAN\tDSAN\tDSAN\tDSAN\tDSAN\tDSAN\tDSAN\tDSAN\tDSAN\tDSAN\tDSAN\tDSAN\tDSAN\tDSAN\tDSAN\tDSAN\tDSAN\tDSAN\tDSAN\tDSAN\tDSAN\tDSAN\tDSAN\tDSAN\tDSAN\tDSAN\tDSAN\tDSAN\tDSAN\tDSAN\tDSAN\tDSAN\tDSAN\tDSAN\tDSAN\tDSAN\tDSAN\tDSAN\tDSAN\tDSAN\tDSAN\tDSAN\tDSAN\tDSAN\tDSAN\tDSAN\tDSAN\tDSAN\tDSAN\tDSAN\tDSAN\tDSAN\tDSAN\tDSAN\tDSAN\tDSAN\tDSAN\tDSAN\tDSAN\tDSAN\tDSAN\tDSAN\tDSAN\tDSAN\tDSAN\tDSAN\tDSAN\tDSAN\tDSAN\tDSAN\tDSAN\tDSAN\tDSAN\tDSAN\tDSAN\tDSAN\tDSAN\tDSAN\tDSAN\tDSAN\tDSAN\tDSAN\tDSAN\tDSAN\tDSAN\tDSAN\tDSAN\tDSAN\tDSAN\tDSAN\tDSAN\tDSAN\tDSAN\tDSAN\tDSAN\tDSAN\tDSAN\tDSAN\tDSAN\tDSAN\tDSAN\tDSAN\tDSAN\tDSAN\tDSAN\tDSAN\tDSAN\tDSAN\tDSAN\tDSAN\tDSAN\tDSAN\tDSAN\tDSAN\tDSAN\tDSAN\tDSAN\tDSAN\tDSAN\tDSAN\tDSAN\tDSAN\tDSAN\tDSAN\tDSAN\tDSAN\tDSAN\tDSAN\tDSAN\tDSAN\tDSAN\tDSAN\tDSAN\tDSAN\tDSAN\tDSAN\tDSAN\tDSAN\tDSAN\tDSAN\tDSAN\tDSAN\tDSAN\tDSAN\tDSAN\tDSAN\tDSAN\tDSAN\tDSAN\tDSAN\tDSAN\tDSAN\tDSAN\tDSAN\tDSAN\tDSAN\tDSAN\tDSAN\tDSAN\tDSAN\tDSAN\tDSAN\tDSAN\tDSAN\tDSAN\tDSAN\tDSAN\tDSAN\tDSAN\tDSAN\tDSAN\tDSAN\tDSAN\tDSAN\tDSAN\tDSAN\tDSAN\tDSAN\tDSAN\tDSAN\tDSAN\tDSAN\tDSAN\tDSAN\tDSAN\tDSAN\tDSAN\tDSAN\tDSAN\tDSAN\tDSAN\tDSAN\tDSAN\tDSAN\tDSAN\tDSAN\tDSAN\tDSAN\tDSAN\tDSAN\tDSAN\tDSAN\tDSAN\tDSAN\tDSAN\tDSAN\tDSAN\tDSAN\tDSAN\tDSAN\tDSAN\tDSAN\tDSAN\tDSAN\tDSAN\tDSAN\tDSAN\tDSAN\tDSAN\tDSAN\tDSAN\tDSAN\tDSAN\tDSAN\tDSAN\tDSAN\tDSAN\tDSAN\tDSAN\tDSAN\tDSAN\tDSAN\tDSAN\tDSAN\tDSAN\tDSAN\tDSAN\tDSAN\tDSAN\tDSAN\tDSAN\tDSAN\tDSAN\tDSAN\tDSAN\tDSAN\tDSAN\tDSAN\tDSAN\tDSAN\tDSAN\tDSAN\tDSAN\tDSAN\tDSAN\tDSAN\tDSAN\tDSAN\tDSAN\tDSAN\tDSAN\tDSAN\tDSAN\tDSAN\tDSAN\tDSAN\tDSAN\tDSAN\tDSAN\tDSAN\tDSAN\tDSAN\tDSAN\tDSAN\tDSAN\tDSAN\tDSAN\tDSAN\tDSAN\tDSAN\tDSAN\tDSAN\tDSAN\tDSAN\tDSAN\tDSAN\tDSAN\tDSAN\tDSAN\tDSAN\tDSAN\tDSAN\tDSAN\tDSAN\tDSAN\tDSAN\tDSAN\tDSAN\tDSAN\tDSAN\tDSAN\tDSAN\tDSAN\tDSAN\tDSAN\tDSAN\tDSAN\tDSAN\tDSAN\tDSAN\tDSAN\tDSAN\tDSAN\tDSAN\tDSAN\tDSAN\tDSAN\tDSAN\tDSAN\tDSAN\tDSAN\tDSAN\tDSAN\tDSAN\tDSAN\tDSAN\tDSAN\tDSAN\tDSAN\tDSAN\tDSAN\tDSAN\tDSAN\tDSAN\tDSAN\tDSAN\tDSAN\tDSAN\tDSAN\tDSAN\tDSAN\tDSAN\tDSAN\tDSAN\tDSAN\tDSAN\tDSAN\tDSAN\tDSAN\tDSAN\tDSAN\tDSAN\tDSAN\tDSAN\tDSAN\tDSAN\tDSAN\tDSAN\tDSAN\tDSAN\tDSAN\tDSAN\tDSAN\tDSAN\tDSAN\tDSAN\tDSAN\tDSAN\tDSAN\tDSAN\tDSAN\tDSAN\tDSAN\tDSAN\tDSAN\tDSAN\tDSAN\tDSAN\tDSAN\tDSAN\tDSAN\tDSAN\tDSAN\tDSAN\tDSAN\tDSAN\tDSAN\tDSAN\tDSAN\tDSAN\tDSAN\tDSAN\tDSAN\tDSAN\tDSAN\tDSAN\tDSAN\tDSAN\tDSAN\tDSAN\tDSAN\tDSAN\tDSAN\tDSAN\tDSAN\tDSAN\tDSAN\tDSAN\tDSAN\tDSAN\tDSAN\tDSAN\tDSAN\tDSAN\tDSAN\tDSAN\tDSAN\tDSAN\tDSAN\tDSAN\tDSAN\tDSAN\tDSAN\tDSAN\tDSAN\tDSAN\tDSAN\tDSAN\tDSAN\tDSAN\tFinished Training\n",
            "/usr/local/lib/python3.7/dist-packages/numpy/lib/histograms.py:905: RuntimeWarning: invalid value encountered in true_divide\n",
            "  return n/db/n.sum(), bin_edges\n",
            "<Figure size 640x480 with 1 Axes>\n",
            "  0% 0/10 [00:00<?, ?it/s]/content/clusters.py:143: RuntimeWarning: invalid value encountered in true_divide\n",
            "  center_vec = self.feature_vector / len(list(self.members.keys()))\n",
            "/content/clusters.py:143: RuntimeWarning: divide by zero encountered in true_divide\n",
            "  center_vec = self.feature_vector / len(list(self.members.keys()))\n",
            "  0% 0/10 [00:00<?, ?it/s]\n",
            "Number: 289\t Target Domain Category: {0, 1, 2, 3, 4, 5, 6, 7, 8, 9}\n",
            "Linear(in_features=256, out_features=10, bias=True) \n",
            "\n",
            "\n",
            "Transfer learning train 50: 100% 50/50 [05:07<00:00,  6.16s/it, AllAccuracy=73.2, MAXSeenAccuracy=73.2]\n",
            "DSAN\tDSAN\tDSAN\tDSAN\tDSAN\tDSAN\tDSAN\tDSAN\tDSAN\tDSAN\tDSAN\tDSAN\tDSAN\tDSAN\tDSAN\tDSAN\tDSAN\tDSAN\tDSAN\tDSAN\tDSAN\tDSAN\tDSAN\tDSAN\tDSAN\tDSAN\tDSAN\tDSAN\tDSAN\tDSAN\tDSAN\tDSAN\tDSAN\tDSAN\tDSAN\tDSAN\tDSAN\tDSAN\tDSAN\tDSAN\tDSAN\tDSAN\tDSAN\tDSAN\tDSAN\tDSAN\tDSAN\tDSAN\tDSAN\tDSAN\tDSAN\tDSAN\tDSAN\tDSAN\tDSAN\tDSAN\tDSAN\tDSAN\tDSAN\tDSAN\tDSAN\tDSAN\tDSAN\tDSAN\tDSAN\tDSAN\tDSAN\tDSAN\tDSAN\tDSAN\tDSAN\tDSAN\tDSAN\tDSAN\tDSAN\tDSAN\tDSAN\tDSAN\tDSAN\tDSAN\tDSAN\tDSAN\tDSAN\tDSAN\tDSAN\tDSAN\tDSAN\tDSAN\tDSAN\tDSAN\tDSAN\tDSAN\tDSAN\tDSAN\tDSAN\tDSAN\tDSAN\tDSAN\tDSAN\tDSAN\tDSAN\tDSAN\tDSAN\tDSAN\tDSAN\tDSAN\tDSAN\tDSAN\tDSAN\tDSAN\tDSAN\tDSAN\tDSAN\tDSAN\tDSAN\tDSAN\tDSAN\tDSAN\tDSAN\tDSAN\tDSAN\tDSAN\tDSAN\tDSAN\tDSAN\tDSAN\tDSAN\tDSAN\tDSAN\tDSAN\tDSAN\tDSAN\tDSAN\tDSAN\tDSAN\tDSAN\tDSAN\tDSAN\tDSAN\tDSAN\tDSAN\tDSAN\tDSAN\tDSAN\tDSAN\tDSAN\tDSAN\tDSAN\tDSAN\tDSAN\tDSAN\tDSAN\tDSAN\tDSAN\tDSAN\tDSAN\tDSAN\tDSAN\tDSAN\tDSAN\tDSAN\tDSAN\tDSAN\tDSAN\tDSAN\tDSAN\tDSAN\tDSAN\tDSAN\tDSAN\tDSAN\tDSAN\tDSAN\tDSAN\tDSAN\tDSAN\tDSAN\tDSAN\tDSAN\tDSAN\tDSAN\tDSAN\tDSAN\tDSAN\tDSAN\tDSAN\tDSAN\tDSAN\tDSAN\tDSAN\tDSAN\tDSAN\tDSAN\tDSAN\tDSAN\tDSAN\tDSAN\tDSAN\tDSAN\tDSAN\tDSAN\tDSAN\tDSAN\tDSAN\tDSAN\tDSAN\tDSAN\tDSAN\tDSAN\tDSAN\tDSAN\tDSAN\tDSAN\tDSAN\tDSAN\tDSAN\tDSAN\tDSAN\tDSAN\tDSAN\tDSAN\tDSAN\tDSAN\tDSAN\tDSAN\tDSAN\tDSAN\tDSAN\tDSAN\tDSAN\tDSAN\tDSAN\tDSAN\tDSAN\tDSAN\tDSAN\tDSAN\tDSAN\tDSAN\tDSAN\tDSAN\tDSAN\tDSAN\tDSAN\tDSAN\tDSAN\tDSAN\tDSAN\tDSAN\tDSAN\tDSAN\tDSAN\tDSAN\tDSAN\tDSAN\tDSAN\tDSAN\tDSAN\tDSAN\tDSAN\tDSAN\tDSAN\tDSAN\tDSAN\tDSAN\tDSAN\tDSAN\tDSAN\tDSAN\tDSAN\tDSAN\tDSAN\tDSAN\tDSAN\tDSAN\tDSAN\tDSAN\tDSAN\tDSAN\tDSAN\tDSAN\tDSAN\tDSAN\tDSAN\tDSAN\tDSAN\tDSAN\tDSAN\tDSAN\tDSAN\tDSAN\tDSAN\tDSAN\tDSAN\tDSAN\tDSAN\tDSAN\tDSAN\tDSAN\tDSAN\tDSAN\tDSAN\tDSAN\tDSAN\tDSAN\tDSAN\tDSAN\tDSAN\tDSAN\tDSAN\tDSAN\tDSAN\tDSAN\tDSAN\tDSAN\tDSAN\tDSAN\tDSAN\tDSAN\tDSAN\tDSAN\tDSAN\tDSAN\tDSAN\tDSAN\tDSAN\tDSAN\tDSAN\tDSAN\tDSAN\tDSAN\tDSAN\tDSAN\tDSAN\tDSAN\tDSAN\tDSAN\tDSAN\tDSAN\tDSAN\tDSAN\tDSAN\tDSAN\tDSAN\tDSAN\tDSAN\tDSAN\tDSAN\tDSAN\tDSAN\tDSAN\tDSAN\tDSAN\tDSAN\tDSAN\tDSAN\tDSAN\tDSAN\tDSAN\tDSAN\tDSAN\tDSAN\tDSAN\tDSAN\tDSAN\tDSAN\tDSAN\tDSAN\tDSAN\tDSAN\tDSAN\tDSAN\tDSAN\tDSAN\tDSAN\tDSAN\tDSAN\tDSAN\tDSAN\tDSAN\tDSAN\tDSAN\tDSAN\tDSAN\tDSAN\tDSAN\tDSAN\tDSAN\tDSAN\tDSAN\tDSAN\tDSAN\tDSAN\tDSAN\tDSAN\tDSAN\tDSAN\tDSAN\tDSAN\tDSAN\tDSAN\tDSAN\tDSAN\tDSAN\tDSAN\tDSAN\tDSAN\tDSAN\tDSAN\tDSAN\tDSAN\tDSAN\tDSAN\tDSAN\tDSAN\tDSAN\tDSAN\tDSAN\tDSAN\tDSAN\tDSAN\tDSAN\tDSAN\tDSAN\tDSAN\tDSAN\tDSAN\tDSAN\tDSAN\tDSAN\tDSAN\tDSAN\tDSAN\tDSAN\tDSAN\tDSAN\tDSAN\tDSAN\tDSAN\tDSAN\tDSAN\tDSAN\tDSAN\tDSAN\tDSAN\tDSAN\tDSAN\tDSAN\tDSAN\tDSAN\tDSAN\tDSAN\tDSAN\tDSAN\tDSAN\tDSAN\tDSAN\tDSAN\tDSAN\tDSAN\tDSAN\tDSAN\tDSAN\tDSAN\tDSAN\tDSAN\tDSAN\tDSAN\tDSAN\tDSAN\tDSAN\tDSAN\tDSAN\tDSAN\tDSAN\tDSAN\tDSAN\tDSAN\tDSAN\tDSAN\tDSAN\tDSAN\tDSAN\tDSAN\tDSAN\tDSAN\tDSAN\tDSAN\tDSAN\tDSAN\tDSAN\tDSAN\tDSAN\tDSAN\tDSAN\tDSAN\tDSAN\tDSAN\tDSAN\tDSAN\tDSAN\tDSAN\tDSAN\tDSAN\tDSAN\tDSAN\tDSAN\tDSAN\tDSAN\tDSAN\tDSAN\tDSAN\tDSAN\tDSAN\tDSAN\tDSAN\tDSAN\tDSAN\tDSAN\tDSAN\tDSAN\tDSAN\tDSAN\tDSAN\tDSAN\tDSAN\tDSAN\tDSAN\tDSAN\tDSAN\tDSAN\tDSAN\tDSAN\tDSAN\tDSAN\tDSAN\tDSAN\tDSAN\tDSAN\tDSAN\tDSAN\tDSAN\tDSAN\tDSAN\tDSAN\tDSAN\tDSAN\tDSAN\tDSAN\tDSAN\tDSAN\tDSAN\tDSAN\tDSAN\tDSAN\tDSAN\tDSAN\tDSAN\tDSAN\tDSAN\tDSAN\tDSAN\tDSAN\tDSAN\tDSAN\tDSAN\tDSAN\tDSAN\tDSAN\tDSAN\tDSAN\tDSAN\tDSAN\tDSAN\tDSAN\tDSAN\tDSAN\tDSAN\tDSAN\tDSAN\tDSAN\tDSAN\tDSAN\tDSAN\tDSAN\tDSAN\tDSAN\tDSAN\tDSAN\tDSAN\tDSAN\tDSAN\tDSAN\tDSAN\tDSAN\tDSAN\tDSAN\tDSAN\tDSAN\tDSAN\tDSAN\tDSAN\tDSAN\tDSAN\tDSAN\tDSAN\tDSAN\tDSAN\tDSAN\tDSAN\tDSAN\tDSAN\tDSAN\tDSAN\tDSAN\tDSAN\tDSAN\tDSAN\tDSAN\tDSAN\tDSAN\tDSAN\tDSAN\tDSAN\tDSAN\tDSAN\tDSAN\tDSAN\tDSAN\tDSAN\tDSAN\tDSAN\tDSAN\tDSAN\tDSAN\tDSAN\tDSAN\tDSAN\tDSAN\tDSAN\tDSAN\tDSAN\tDSAN\tDSAN\tDSAN\tDSAN\tDSAN\tDSAN\tDSAN\tDSAN\tDSAN\tDSAN\tDSAN\tDSAN\tDSAN\tDSAN\tDSAN\tDSAN\tDSAN\tDSAN\tDSAN\tDSAN\tDSAN\tDSAN\tDSAN\tDSAN\tDSAN\tDSAN\tDSAN\tDSAN\tDSAN\tDSAN\tDSAN\tDSAN\tDSAN\tDSAN\tDSAN\tDSAN\tDSAN\tDSAN\tDSAN\tDSAN\tDSAN\tDSAN\tDSAN\tDSAN\tDSAN\tDSAN\tDSAN\tDSAN\tDSAN\tDSAN\tDSAN\tDSAN\tDSAN\tDSAN\tDSAN\tDSAN\tDSAN\tDSAN\tDSAN\tDSAN\tDSAN\tDSAN\tDSAN\tDSAN\tDSAN\tDSAN\tDSAN\tDSAN\tDSAN\tDSAN\tDSAN\tDSAN\tDSAN\tDSAN\tDSAN\tDSAN\tDSAN\tDSAN\tDSAN\tDSAN\tDSAN\tDSAN\tDSAN\tDSAN\tDSAN\tDSAN\tDSAN\tDSAN\tDSAN\tDSAN\tDSAN\tDSAN\tDSAN\tDSAN\tDSAN\tDSAN\tDSAN\tDSAN\tDSAN\tDSAN\tDSAN\tDSAN\tDSAN\tDSAN\tDSAN\tDSAN\tDSAN\tDSAN\tDSAN\tDSAN\tDSAN\tDSAN\tDSAN\tDSAN\tDSAN\tDSAN\tDSAN\tDSAN\tDSAN\tDSAN\tDSAN\tDSAN\tDSAN\tDSAN\tDSAN\tDSAN\tDSAN\tDSAN\tDSAN\tDSAN\tDSAN\tDSAN\tDSAN\tDSAN\tDSAN\tDSAN\tDSAN\tDSAN\tDSAN\tDSAN\tDSAN\tDSAN\tDSAN\tDSAN\tDSAN\tDSAN\tDSAN\tDSAN\tDSAN\tDSAN\tDSAN\tDSAN\tDSAN\tDSAN\tDSAN\tDSAN\tDSAN\tDSAN\tDSAN\tDSAN\tDSAN\tDSAN\tDSAN\tDSAN\tDSAN\tDSAN\tDSAN\tDSAN\tDSAN\tDSAN\tDSAN\tDSAN\tDSAN\tDSAN\tDSAN\tDSAN\tDSAN\tDSAN\tDSAN\tDSAN\tDSAN\tDSAN\tDSAN\tDSAN\tDSAN\tDSAN\tDSAN\tDSAN\tDSAN\tDSAN\tDSAN\tDSAN\tDSAN\tDSAN\tDSAN\tDSAN\tDSAN\tDSAN\tDSAN\tDSAN\tDSAN\tDSAN\tDSAN\tDSAN\tDSAN\tDSAN\tDSAN\tDSAN\t[3, 0.0, 1.0, 0.33191489361702126]\n",
            "[8, 0.08936170212765958, 0.6461538461538462, 0.5361702127659574]\n",
            "[9, 0.10638297872340426, 0.6018518518518519, 0.5531914893617021]\n",
            "[10, 0.1276595744680851, 0.6510638297872341, 0.6510638297872341]\n",
            "[10, 0.1829787234042553, 0.7319148936170212, 0.7319148936170212]\n"
          ],
          "name": "stdout"
        }
      ]
    },
    {
      "cell_type": "code",
      "metadata": {
        "colab": {
          "base_uri": "https://localhost:8080/"
        },
        "id": "FV7OTxr_ER48",
        "outputId": "741f9383-8a00-46c5-9b82-b24a59d746d2"
      },
      "source": [
        "!python _raw.py --source 'amazon' --target 'dslr'"
      ],
      "execution_count": null,
      "outputs": [
        {
          "output_type": "stream",
          "text": [
            "/content/utils.py:49: VisibleDeprecationWarning: Creating an ndarray from ragged nested sequences (which is a list-or-tuple of lists-or-tuples-or ndarrays with different lengths or shapes) is deprecated. If you meant to do this, you must specify 'dtype=object' when creating the ndarray\n",
            "  self.img = np.array(self.img)\n",
            "Number: 246\t Source Domain Category: {0, 1, 2}\n",
            "Number: 154\t Target Domain Category: {0, 1, 2, 3, 4, 5, 6, 7, 8, 9}\n",
            "Linear(in_features=256, out_features=3, bias=True) \n",
            "\n",
            "\n",
            "\r  0% 0/10 [00:00<?, ?it/s]\rTransfer learning train 1:   0% 0/10 [00:00<?, ?it/s]/usr/local/lib/python3.7/dist-packages/torch/nn/functional.py:718: UserWarning: Named tensors and all their associated APIs are an experimental feature and subject to change. Please do not use them for anything important until they are released as stable. (Triggered internally at  /pytorch/c10/core/TensorImpl.h:1156.)\n",
            "  return torch.max_pool2d(input, kernel_size, stride, padding, dilation, ceil_mode)\n",
            "Transfer learning train 10: 100% 10/10 [01:12<00:00,  7.25s/it, AllAccuracy=37, MAXSeenAccuracy=100]\n",
            "FineTrain 60: 100% 60/60 [03:02<00:00,  3.04s/it, accuracy=100, loss=0.217, minloss=0.0017]\n",
            "DSAN\tDSAN\tDSAN\tDSAN\tDSAN\tDSAN\tDSAN\tDSAN\tDSAN\tDSAN\tDSAN\tDSAN\tDSAN\tDSAN\tDSAN\tDSAN\tDSAN\tDSAN\tDSAN\tDSAN\tDSAN\tDSAN\tDSAN\tDSAN\tDSAN\tDSAN\tDSAN\tDSAN\tDSAN\tDSAN\tDSAN\tDSAN\tDSAN\tDSAN\tDSAN\tDSAN\tDSAN\tDSAN\tDSAN\tDSAN\tDSAN\tDSAN\tDSAN\tDSAN\tDSAN\tDSAN\tDSAN\tDSAN\tDSAN\tDSAN\tDSAN\tDSAN\tDSAN\tDSAN\tDSAN\tDSAN\tDSAN\tDSAN\tDSAN\tDSAN\tDSAN\tDSAN\tDSAN\tDSAN\tDSAN\tDSAN\tDSAN\tDSAN\tDSAN\tDSAN\tDSAN\tDSAN\tDSAN\tDSAN\tDSAN\tDSAN\tDSAN\tDSAN\tDSAN\tDSAN\tDSAN\tDSAN\tDSAN\tDSAN\tDSAN\tDSAN\tDSAN\tDSAN\tDSAN\tDSAN\tDSAN\tDSAN\tDSAN\tDSAN\tDSAN\tDSAN\tDSAN\tDSAN\tDSAN\tDSAN\tDSAN\tDSAN\tDSAN\tDSAN\tDSAN\tDSAN\tDSAN\tDSAN\tDSAN\tDSAN\tDSAN\tDSAN\tDSAN\tDSAN\tDSAN\tDSAN\tDSAN\tDSAN\tDSAN\tDSAN\tDSAN\tDSAN\tDSAN\tDSAN\tDSAN\tDSAN\tDSAN\tDSAN\tDSAN\tDSAN\tDSAN\tDSAN\tDSAN\tDSAN\tDSAN\tDSAN\tDSAN\tDSAN\tDSAN\tDSAN\tDSAN\tDSAN\tDSAN\tDSAN\tDSAN\tDSAN\tDSAN\tDSAN\tDSAN\tDSAN\tFinished Training\n",
            "<Figure size 640x480 with 1 Axes>\n",
            "  0% 0/10 [00:00<?, ?it/s]\n",
            "There are 1 cluster class centers labeled as 3, sampled separately according to [4] and each sample with label [3, 3, 3, 3]\n",
            "There are 1 cluster class centers labeled as 4, sampled separately according to [4] and each sample with label [4, 4, 4]\n",
            "There are 1 cluster class centers labeled as 5, sampled separately according to [4] and each sample with label [5, 5, 5, 5]\n",
            "There are 1 cluster class centers labeled as 6, sampled separately according to [4] and each sample with label [6, 6, 6, 6]\n",
            "There are 0 cluster class centers labeled as 7, sampled separately according to [4] and each sample with label [7, 6, 6, 7]\n",
            "_raw.py:253: VisibleDeprecationWarning: Creating an ndarray from ragged nested sequences (which is a list-or-tuple of lists-or-tuples-or ndarrays with different lengths or shapes) is deprecated. If you meant to do this, you must specify 'dtype=object' when creating the ndarray\n",
            "  np.array(list(self.Sub.keys()))[[_==x for _ in list(self.Sub.values())]]], set(self.Sub.values())))).T.tolist()\n",
            "<Figure size 1800x600 with 2 Axes>\n",
            "/content/utils.py:49: VisibleDeprecationWarning: Creating an ndarray from ragged nested sequences (which is a list-or-tuple of lists-or-tuples-or ndarrays with different lengths or shapes) is deprecated. If you meant to do this, you must specify 'dtype=object' when creating the ndarray\n",
            "  self.img = np.array(self.img)\n",
            "Number: 267\t Target Domain Category: {0, 1, 2, 3, 4, 5, 6, 7}\n",
            "Linear(in_features=256, out_features=8, bias=True) \n",
            "\n",
            "\n",
            "Transfer learning train 50: 100% 50/50 [05:56<00:00,  7.12s/it, AllAccuracy=61.7, MAXSeenAccuracy=76.6]\n",
            "FineTrain 60: 100% 60/60 [03:19<00:00,  3.32s/it, accuracy=95.9, loss=0.00362, minloss=0.00268]\n",
            "DSAN\tDSAN\tDSAN\tDSAN\tDSAN\tDSAN\tDSAN\tDSAN\tDSAN\tDSAN\tDSAN\tDSAN\tDSAN\tDSAN\tDSAN\tDSAN\tDSAN\tDSAN\tDSAN\tDSAN\tDSAN\tDSAN\tDSAN\tDSAN\tDSAN\tDSAN\tDSAN\tDSAN\tDSAN\tDSAN\tDSAN\tDSAN\tDSAN\tDSAN\tDSAN\tDSAN\tDSAN\tDSAN\tDSAN\tDSAN\tDSAN\tDSAN\tDSAN\tDSAN\tDSAN\tDSAN\tDSAN\tDSAN\tDSAN\tDSAN\tDSAN\tDSAN\tDSAN\tDSAN\tDSAN\tDSAN\tDSAN\tDSAN\tDSAN\tDSAN\tDSAN\tDSAN\tDSAN\tDSAN\tDSAN\tDSAN\tDSAN\tDSAN\tDSAN\tDSAN\tDSAN\tDSAN\tDSAN\tDSAN\tDSAN\tDSAN\tDSAN\tDSAN\tDSAN\tDSAN\tDSAN\tDSAN\tDSAN\tDSAN\tDSAN\tDSAN\tDSAN\tDSAN\tDSAN\tDSAN\tDSAN\tDSAN\tDSAN\tDSAN\tDSAN\tDSAN\tDSAN\tDSAN\tDSAN\tDSAN\tDSAN\tDSAN\tDSAN\tDSAN\tDSAN\tDSAN\tDSAN\tDSAN\tDSAN\tDSAN\tDSAN\tDSAN\tDSAN\tDSAN\tDSAN\tDSAN\tDSAN\tDSAN\tDSAN\tDSAN\tDSAN\tDSAN\tDSAN\tDSAN\tDSAN\tDSAN\tDSAN\tDSAN\tDSAN\tDSAN\tDSAN\tDSAN\tDSAN\tDSAN\tDSAN\tDSAN\tDSAN\tDSAN\tDSAN\tDSAN\tDSAN\tDSAN\tDSAN\tDSAN\tDSAN\tDSAN\tDSAN\tDSAN\tDSAN\tDSAN\tDSAN\tDSAN\tDSAN\tDSAN\tDSAN\tDSAN\tDSAN\tDSAN\tDSAN\tDSAN\tDSAN\tDSAN\tDSAN\tDSAN\tDSAN\tDSAN\tDSAN\tDSAN\tDSAN\tDSAN\tDSAN\tDSAN\tDSAN\tDSAN\tDSAN\tDSAN\tDSAN\tDSAN\tDSAN\tDSAN\tDSAN\tDSAN\tDSAN\tDSAN\tDSAN\tDSAN\tDSAN\tDSAN\tDSAN\tDSAN\tDSAN\tDSAN\tDSAN\tDSAN\tDSAN\tDSAN\tDSAN\tDSAN\tDSAN\tDSAN\tDSAN\tDSAN\tDSAN\tDSAN\tDSAN\tDSAN\tDSAN\tDSAN\tDSAN\tDSAN\tDSAN\tDSAN\tDSAN\tDSAN\tDSAN\tDSAN\tDSAN\tDSAN\tDSAN\tDSAN\tDSAN\tDSAN\tDSAN\tDSAN\tDSAN\tDSAN\tDSAN\tDSAN\tDSAN\tDSAN\tDSAN\tDSAN\tDSAN\tDSAN\tDSAN\tDSAN\tDSAN\tDSAN\tDSAN\tDSAN\tDSAN\tDSAN\tDSAN\tDSAN\tDSAN\tDSAN\tDSAN\tDSAN\tDSAN\tDSAN\tDSAN\tDSAN\tDSAN\tDSAN\tDSAN\tDSAN\tDSAN\tDSAN\tDSAN\tDSAN\tDSAN\tDSAN\tDSAN\tDSAN\tDSAN\tDSAN\tDSAN\tDSAN\tDSAN\tDSAN\tDSAN\tDSAN\tDSAN\tDSAN\tDSAN\tDSAN\tDSAN\tDSAN\tDSAN\tDSAN\tDSAN\tDSAN\tDSAN\tDSAN\tDSAN\tDSAN\tDSAN\tDSAN\tDSAN\tDSAN\tDSAN\tDSAN\tDSAN\tDSAN\tDSAN\tDSAN\tDSAN\tDSAN\tDSAN\tDSAN\tDSAN\tDSAN\tDSAN\tDSAN\tDSAN\tDSAN\tDSAN\tDSAN\tDSAN\tDSAN\tDSAN\tDSAN\tDSAN\tDSAN\tDSAN\tDSAN\tDSAN\tDSAN\tDSAN\tDSAN\tDSAN\tDSAN\tDSAN\tDSAN\tDSAN\tDSAN\tDSAN\tDSAN\tDSAN\tDSAN\tDSAN\tDSAN\tDSAN\tDSAN\tDSAN\tDSAN\tDSAN\tDSAN\tDSAN\tDSAN\tDSAN\tDSAN\tDSAN\tDSAN\tDSAN\tDSAN\tDSAN\tDSAN\tDSAN\tDSAN\tDSAN\tDSAN\tDSAN\tDSAN\tDSAN\tDSAN\tDSAN\tDSAN\tDSAN\tDSAN\tDSAN\tDSAN\tDSAN\tDSAN\tDSAN\tDSAN\tDSAN\tDSAN\tDSAN\tDSAN\tDSAN\tDSAN\tDSAN\tDSAN\tDSAN\tDSAN\tDSAN\tDSAN\tDSAN\tDSAN\tDSAN\tDSAN\tDSAN\tDSAN\tDSAN\tDSAN\tDSAN\tDSAN\tDSAN\tDSAN\tDSAN\tDSAN\tDSAN\tDSAN\tDSAN\tDSAN\tDSAN\tDSAN\tDSAN\tDSAN\tDSAN\tDSAN\tDSAN\tDSAN\tDSAN\tDSAN\tDSAN\tDSAN\tDSAN\tDSAN\tDSAN\tDSAN\tDSAN\tDSAN\tDSAN\tDSAN\tDSAN\tDSAN\tDSAN\tDSAN\tDSAN\tDSAN\tDSAN\tDSAN\tDSAN\tDSAN\tDSAN\tDSAN\tDSAN\tDSAN\tDSAN\tDSAN\tDSAN\tDSAN\tDSAN\tDSAN\tDSAN\tDSAN\tDSAN\tDSAN\tDSAN\tDSAN\tDSAN\tDSAN\tDSAN\tDSAN\tDSAN\tDSAN\tDSAN\tDSAN\tDSAN\tDSAN\tDSAN\tDSAN\tDSAN\tDSAN\tDSAN\tDSAN\tDSAN\tDSAN\tDSAN\tDSAN\tDSAN\tDSAN\tDSAN\tDSAN\tDSAN\tDSAN\tDSAN\tDSAN\tDSAN\tDSAN\tDSAN\tDSAN\tDSAN\tDSAN\tDSAN\tDSAN\tDSAN\tDSAN\tDSAN\tDSAN\tDSAN\tDSAN\tDSAN\tDSAN\tDSAN\tDSAN\tDSAN\tDSAN\tDSAN\tDSAN\tDSAN\tDSAN\tDSAN\tDSAN\tDSAN\tDSAN\tDSAN\tDSAN\tDSAN\tDSAN\tDSAN\tDSAN\tDSAN\tDSAN\tDSAN\tDSAN\tDSAN\tDSAN\tDSAN\tDSAN\tDSAN\tDSAN\tDSAN\tDSAN\tDSAN\tDSAN\tDSAN\tDSAN\tDSAN\tDSAN\tDSAN\tDSAN\tDSAN\tDSAN\tDSAN\tDSAN\tDSAN\tDSAN\tDSAN\tDSAN\tDSAN\tDSAN\tDSAN\tDSAN\tDSAN\tDSAN\tDSAN\tDSAN\tDSAN\tDSAN\tDSAN\tDSAN\tDSAN\tDSAN\tDSAN\tDSAN\tDSAN\tDSAN\tDSAN\tDSAN\tDSAN\tDSAN\tDSAN\tDSAN\tDSAN\tDSAN\tDSAN\tDSAN\tDSAN\tDSAN\tDSAN\tDSAN\tDSAN\tDSAN\tDSAN\tDSAN\tDSAN\tDSAN\tDSAN\tDSAN\tDSAN\tDSAN\tDSAN\tDSAN\tDSAN\tDSAN\tDSAN\tDSAN\tDSAN\tDSAN\tDSAN\tDSAN\tDSAN\tDSAN\tDSAN\tDSAN\tDSAN\tDSAN\tDSAN\tDSAN\tDSAN\tDSAN\tDSAN\tDSAN\tDSAN\tDSAN\tDSAN\tDSAN\tDSAN\tDSAN\tDSAN\tDSAN\tDSAN\tDSAN\tDSAN\tDSAN\tDSAN\tDSAN\tDSAN\tDSAN\tDSAN\tDSAN\tDSAN\tDSAN\tDSAN\tDSAN\tDSAN\tDSAN\tDSAN\tDSAN\tDSAN\tDSAN\tDSAN\tDSAN\tDSAN\tDSAN\tDSAN\tDSAN\tDSAN\tDSAN\tDSAN\tDSAN\tDSAN\tDSAN\tDSAN\tDSAN\tDSAN\tDSAN\tDSAN\tDSAN\tDSAN\tDSAN\tDSAN\tDSAN\tDSAN\tDSAN\tDSAN\tDSAN\tDSAN\tDSAN\tDSAN\tDSAN\tDSAN\tDSAN\tDSAN\tDSAN\tDSAN\tDSAN\tDSAN\tDSAN\tDSAN\tDSAN\tDSAN\tDSAN\tDSAN\tDSAN\tDSAN\tDSAN\tDSAN\tDSAN\tDSAN\tDSAN\tDSAN\tDSAN\tDSAN\tDSAN\tDSAN\tDSAN\tDSAN\tDSAN\tDSAN\tDSAN\tDSAN\tDSAN\tDSAN\tDSAN\tDSAN\tDSAN\tDSAN\tDSAN\tDSAN\tDSAN\tDSAN\tDSAN\tDSAN\tDSAN\tDSAN\tDSAN\tDSAN\tDSAN\tDSAN\tDSAN\tDSAN\tDSAN\tDSAN\tDSAN\tDSAN\tDSAN\tDSAN\tDSAN\tDSAN\tDSAN\tDSAN\tDSAN\tDSAN\tDSAN\tDSAN\tDSAN\tDSAN\tDSAN\tDSAN\tDSAN\tDSAN\tDSAN\tDSAN\tDSAN\tDSAN\tDSAN\tDSAN\tDSAN\tDSAN\tDSAN\tDSAN\tDSAN\tDSAN\tDSAN\tDSAN\tDSAN\tDSAN\tDSAN\tDSAN\tDSAN\tDSAN\tDSAN\tDSAN\tDSAN\tDSAN\tDSAN\tFinished Training\n",
            "<Figure size 640x480 with 1 Axes>\n",
            "  0% 0/10 [00:00<?, ?it/s]\n",
            "There are 1 cluster class centers labeled as 8, sampled separately according to [4] and each sample with label [8, 8, 8, 8]\n",
            "_raw.py:253: VisibleDeprecationWarning: Creating an ndarray from ragged nested sequences (which is a list-or-tuple of lists-or-tuples-or ndarrays with different lengths or shapes) is deprecated. If you meant to do this, you must specify 'dtype=object' when creating the ndarray\n",
            "  np.array(list(self.Sub.keys()))[[_==x for _ in list(self.Sub.values())]]], set(self.Sub.values())))).T.tolist()\n",
            "<Figure size 1800x600 with 2 Axes>\n",
            "/content/utils.py:49: VisibleDeprecationWarning: Creating an ndarray from ragged nested sequences (which is a list-or-tuple of lists-or-tuples-or ndarrays with different lengths or shapes) is deprecated. If you meant to do this, you must specify 'dtype=object' when creating the ndarray\n",
            "  self.img = np.array(self.img)\n",
            "Number: 271\t Target Domain Category: {0, 1, 2, 3, 4, 5, 6, 7, 8}\n",
            "Linear(in_features=256, out_features=9, bias=True) \n",
            "\n",
            "\n",
            "Transfer learning train 50: 100% 50/50 [06:01<00:00,  7.23s/it, AllAccuracy=64.9, MAXSeenAccuracy=71.9]\n",
            "FineTrain 60: 100% 60/60 [03:23<00:00,  3.40s/it, accuracy=94.5, loss=0.00707, minloss=0.00304]\n",
            "DSAN\tDSAN\tDSAN\tDSAN\tDSAN\tDSAN\tDSAN\tDSAN\tDSAN\tDSAN\tDSAN\tDSAN\tDSAN\tDSAN\tDSAN\tDSAN\tDSAN\tDSAN\tDSAN\tDSAN\tDSAN\tDSAN\tDSAN\tDSAN\tDSAN\tDSAN\tDSAN\tDSAN\tDSAN\tDSAN\tDSAN\tDSAN\tDSAN\tDSAN\tDSAN\tDSAN\tDSAN\tDSAN\tDSAN\tDSAN\tDSAN\tDSAN\tDSAN\tDSAN\tDSAN\tDSAN\tDSAN\tDSAN\tDSAN\tDSAN\tDSAN\tDSAN\tDSAN\tDSAN\tDSAN\tDSAN\tDSAN\tDSAN\tDSAN\tDSAN\tDSAN\tDSAN\tDSAN\tDSAN\tDSAN\tDSAN\tDSAN\tDSAN\tDSAN\tDSAN\tDSAN\tDSAN\tDSAN\tDSAN\tDSAN\tDSAN\tDSAN\tDSAN\tDSAN\tDSAN\tDSAN\tDSAN\tDSAN\tDSAN\tDSAN\tDSAN\tDSAN\tDSAN\tDSAN\tDSAN\tDSAN\tDSAN\tDSAN\tDSAN\tDSAN\tDSAN\tDSAN\tDSAN\tDSAN\tDSAN\tDSAN\tDSAN\tDSAN\tDSAN\tDSAN\tDSAN\tDSAN\tDSAN\tDSAN\tDSAN\tDSAN\tDSAN\tDSAN\tDSAN\tDSAN\tDSAN\tDSAN\tDSAN\tDSAN\tDSAN\tDSAN\tDSAN\tDSAN\tDSAN\tDSAN\tDSAN\tDSAN\tDSAN\tDSAN\tDSAN\tDSAN\tDSAN\tDSAN\tDSAN\tDSAN\tDSAN\tDSAN\tDSAN\tDSAN\tDSAN\tDSAN\tDSAN\tDSAN\tDSAN\tDSAN\tDSAN\tDSAN\tDSAN\tDSAN\tDSAN\tDSAN\tDSAN\tDSAN\tDSAN\tDSAN\tDSAN\tDSAN\tDSAN\tDSAN\tDSAN\tDSAN\tDSAN\tDSAN\tDSAN\tDSAN\tDSAN\tDSAN\tDSAN\tDSAN\tDSAN\tDSAN\tDSAN\tDSAN\tDSAN\tDSAN\tDSAN\tDSAN\tDSAN\tDSAN\tDSAN\tDSAN\tDSAN\tDSAN\tDSAN\tDSAN\tDSAN\tDSAN\tDSAN\tDSAN\tDSAN\tDSAN\tDSAN\tDSAN\tDSAN\tDSAN\tDSAN\tDSAN\tDSAN\tDSAN\tDSAN\tDSAN\tDSAN\tDSAN\tDSAN\tDSAN\tDSAN\tDSAN\tDSAN\tDSAN\tDSAN\tDSAN\tDSAN\tDSAN\tDSAN\tDSAN\tDSAN\tDSAN\tDSAN\tDSAN\tDSAN\tDSAN\tDSAN\tDSAN\tDSAN\tDSAN\tDSAN\tDSAN\tDSAN\tDSAN\tDSAN\tDSAN\tDSAN\tDSAN\tDSAN\tDSAN\tDSAN\tDSAN\tDSAN\tDSAN\tDSAN\tDSAN\tDSAN\tDSAN\tDSAN\tDSAN\tDSAN\tDSAN\tDSAN\tDSAN\tDSAN\tDSAN\tDSAN\tDSAN\tDSAN\tDSAN\tDSAN\tDSAN\tDSAN\tDSAN\tDSAN\tDSAN\tDSAN\tDSAN\tDSAN\tDSAN\tDSAN\tDSAN\tDSAN\tDSAN\tDSAN\tDSAN\tDSAN\tDSAN\tDSAN\tDSAN\tDSAN\tDSAN\tDSAN\tDSAN\tDSAN\tDSAN\tDSAN\tDSAN\tDSAN\tDSAN\tDSAN\tDSAN\tDSAN\tDSAN\tDSAN\tDSAN\tDSAN\tDSAN\tDSAN\tDSAN\tDSAN\tDSAN\tDSAN\tDSAN\tDSAN\tDSAN\tDSAN\tDSAN\tDSAN\tDSAN\tDSAN\tDSAN\tDSAN\tDSAN\tDSAN\tDSAN\tDSAN\tDSAN\tDSAN\tDSAN\tDSAN\tDSAN\tDSAN\tDSAN\tDSAN\tDSAN\tDSAN\tDSAN\tDSAN\tDSAN\tDSAN\tDSAN\tDSAN\tDSAN\tDSAN\tDSAN\tDSAN\tDSAN\tDSAN\tDSAN\tDSAN\tDSAN\tDSAN\tDSAN\tDSAN\tDSAN\tDSAN\tDSAN\tDSAN\tDSAN\tDSAN\tDSAN\tDSAN\tDSAN\tDSAN\tDSAN\tDSAN\tDSAN\tDSAN\tDSAN\tDSAN\tDSAN\tDSAN\tDSAN\tDSAN\tDSAN\tDSAN\tDSAN\tDSAN\tDSAN\tDSAN\tDSAN\tDSAN\tDSAN\tDSAN\tDSAN\tDSAN\tDSAN\tDSAN\tDSAN\tDSAN\tDSAN\tDSAN\tDSAN\tDSAN\tDSAN\tDSAN\tDSAN\tDSAN\tDSAN\tDSAN\tDSAN\tDSAN\tDSAN\tDSAN\tDSAN\tDSAN\tDSAN\tDSAN\tDSAN\tDSAN\tDSAN\tDSAN\tDSAN\tDSAN\tDSAN\tDSAN\tDSAN\tDSAN\tDSAN\tDSAN\tDSAN\tDSAN\tDSAN\tDSAN\tDSAN\tDSAN\tDSAN\tDSAN\tDSAN\tDSAN\tDSAN\tDSAN\tDSAN\tDSAN\tDSAN\tDSAN\tDSAN\tDSAN\tDSAN\tDSAN\tDSAN\tDSAN\tDSAN\tDSAN\tDSAN\tDSAN\tDSAN\tDSAN\tDSAN\tDSAN\tDSAN\tDSAN\tDSAN\tDSAN\tDSAN\tDSAN\tDSAN\tDSAN\tDSAN\tDSAN\tDSAN\tDSAN\tDSAN\tDSAN\tDSAN\tDSAN\tDSAN\tDSAN\tDSAN\tDSAN\tDSAN\tDSAN\tDSAN\tDSAN\tDSAN\tDSAN\tDSAN\tDSAN\tDSAN\tDSAN\tDSAN\tDSAN\tDSAN\tDSAN\tDSAN\tDSAN\tDSAN\tDSAN\tDSAN\tDSAN\tDSAN\tDSAN\tDSAN\tDSAN\tDSAN\tDSAN\tDSAN\tDSAN\tDSAN\tDSAN\tDSAN\tDSAN\tDSAN\tDSAN\tDSAN\tDSAN\tDSAN\tDSAN\tDSAN\tDSAN\tDSAN\tDSAN\tDSAN\tDSAN\tDSAN\tDSAN\tDSAN\tDSAN\tDSAN\tDSAN\tDSAN\tDSAN\tDSAN\tDSAN\tDSAN\tDSAN\tDSAN\tDSAN\tDSAN\tDSAN\tDSAN\tDSAN\tDSAN\tDSAN\tDSAN\tDSAN\tDSAN\tDSAN\tDSAN\tDSAN\tDSAN\tDSAN\tDSAN\tDSAN\tDSAN\tDSAN\tDSAN\tDSAN\tDSAN\tDSAN\tDSAN\tDSAN\tDSAN\tDSAN\tDSAN\tDSAN\tDSAN\tDSAN\tDSAN\tDSAN\tDSAN\tDSAN\tDSAN\tDSAN\tDSAN\tDSAN\tDSAN\tDSAN\tDSAN\tDSAN\tDSAN\tDSAN\tDSAN\tDSAN\tDSAN\tDSAN\tDSAN\tDSAN\tDSAN\tDSAN\tDSAN\tDSAN\tDSAN\tDSAN\tDSAN\tDSAN\tDSAN\tDSAN\tDSAN\tDSAN\tDSAN\tDSAN\tDSAN\tDSAN\tDSAN\tDSAN\tDSAN\tDSAN\tDSAN\tDSAN\tDSAN\tDSAN\tDSAN\tDSAN\tDSAN\tDSAN\tDSAN\tDSAN\tDSAN\tDSAN\tDSAN\tDSAN\tDSAN\tDSAN\tDSAN\tDSAN\tDSAN\tDSAN\tDSAN\tDSAN\tDSAN\tDSAN\tDSAN\tDSAN\tDSAN\tDSAN\tDSAN\tDSAN\tDSAN\tDSAN\tDSAN\tDSAN\tDSAN\tDSAN\tDSAN\tDSAN\tDSAN\tDSAN\tDSAN\tDSAN\tDSAN\tDSAN\tDSAN\tDSAN\tDSAN\tDSAN\tDSAN\tDSAN\tDSAN\tDSAN\tDSAN\tDSAN\tDSAN\tDSAN\tDSAN\tDSAN\tDSAN\tDSAN\tDSAN\tDSAN\tDSAN\tDSAN\tDSAN\tDSAN\tDSAN\tDSAN\tDSAN\tDSAN\tDSAN\tDSAN\tDSAN\tDSAN\tDSAN\tDSAN\tDSAN\tDSAN\tDSAN\tDSAN\tDSAN\tDSAN\tDSAN\tDSAN\tDSAN\tDSAN\tDSAN\tDSAN\tDSAN\tDSAN\tDSAN\tDSAN\tDSAN\tDSAN\tDSAN\tDSAN\tDSAN\tDSAN\tDSAN\tDSAN\tDSAN\tDSAN\tDSAN\tDSAN\tDSAN\tDSAN\tDSAN\tDSAN\tDSAN\tDSAN\tDSAN\tDSAN\tDSAN\tDSAN\tDSAN\tDSAN\tDSAN\tDSAN\tDSAN\tDSAN\tDSAN\tDSAN\tDSAN\tDSAN\tDSAN\tDSAN\tDSAN\tDSAN\tDSAN\tDSAN\tDSAN\tDSAN\tDSAN\tDSAN\tDSAN\tDSAN\tDSAN\tDSAN\tDSAN\tDSAN\tDSAN\tDSAN\tDSAN\tDSAN\tDSAN\tDSAN\tDSAN\tDSAN\tDSAN\tDSAN\tDSAN\tDSAN\tDSAN\tDSAN\tDSAN\tDSAN\tDSAN\tDSAN\tDSAN\tDSAN\tDSAN\tDSAN\tDSAN\tDSAN\tDSAN\tDSAN\tFinished Training\n",
            "<Figure size 640x480 with 1 Axes>\n",
            "  0% 0/10 [00:00<?, ?it/s]\n",
            "There are 0 cluster class centers labeled as 9, sampled separately according to [4] and each sample with label [8, 8, 9, 9]\n",
            "_raw.py:253: VisibleDeprecationWarning: Creating an ndarray from ragged nested sequences (which is a list-or-tuple of lists-or-tuples-or ndarrays with different lengths or shapes) is deprecated. If you meant to do this, you must specify 'dtype=object' when creating the ndarray\n",
            "  np.array(list(self.Sub.keys()))[[_==x for _ in list(self.Sub.values())]]], set(self.Sub.values())))).T.tolist()\n",
            "<Figure size 1800x600 with 2 Axes>\n",
            "/content/utils.py:49: VisibleDeprecationWarning: Creating an ndarray from ragged nested sequences (which is a list-or-tuple of lists-or-tuples-or ndarrays with different lengths or shapes) is deprecated. If you meant to do this, you must specify 'dtype=object' when creating the ndarray\n",
            "  self.img = np.array(self.img)\n",
            "Number: 281\t Target Domain Category: {0, 1, 2, 3, 4, 5, 6, 7, 8, 9}\n",
            "Linear(in_features=256, out_features=10, bias=True) \n",
            "\n",
            "\n",
            "Transfer learning train 50: 100% 50/50 [06:15<00:00,  7.50s/it, AllAccuracy=77.3, MAXSeenAccuracy=77.3]\n",
            "FineTrain 60: 100% 60/60 [03:38<00:00,  3.64s/it, accuracy=96.8, loss=0.00619, minloss=0.00527]\n",
            "DSAN\tDSAN\tDSAN\tDSAN\tDSAN\tDSAN\tDSAN\tDSAN\tDSAN\tDSAN\tDSAN\tDSAN\tDSAN\tDSAN\tDSAN\tDSAN\tDSAN\tDSAN\tDSAN\tDSAN\tDSAN\tDSAN\tDSAN\tDSAN\tDSAN\tDSAN\tDSAN\tDSAN\tDSAN\tDSAN\tDSAN\tDSAN\tDSAN\tDSAN\tDSAN\tDSAN\tDSAN\tDSAN\tDSAN\tDSAN\tDSAN\tDSAN\tDSAN\tDSAN\tDSAN\tDSAN\tDSAN\tDSAN\tDSAN\tDSAN\tDSAN\tDSAN\tDSAN\tDSAN\tDSAN\tDSAN\tDSAN\tDSAN\tDSAN\tDSAN\tDSAN\tDSAN\tDSAN\tDSAN\tDSAN\tDSAN\tDSAN\tDSAN\tDSAN\tDSAN\tDSAN\tDSAN\tDSAN\tDSAN\tDSAN\tDSAN\tDSAN\tDSAN\tDSAN\tDSAN\tDSAN\tDSAN\tDSAN\tDSAN\tDSAN\tDSAN\tDSAN\tDSAN\tDSAN\tDSAN\tDSAN\tDSAN\tDSAN\tDSAN\tDSAN\tDSAN\tDSAN\tDSAN\tDSAN\tDSAN\tDSAN\tDSAN\tDSAN\tDSAN\tDSAN\tDSAN\tDSAN\tDSAN\tDSAN\tDSAN\tDSAN\tDSAN\tDSAN\tDSAN\tDSAN\tDSAN\tDSAN\tDSAN\tDSAN\tDSAN\tDSAN\tDSAN\tDSAN\tDSAN\tDSAN\tDSAN\tDSAN\tDSAN\tDSAN\tDSAN\tDSAN\tDSAN\tDSAN\tDSAN\tDSAN\tDSAN\tDSAN\tDSAN\tDSAN\tDSAN\tDSAN\tDSAN\tDSAN\tDSAN\tDSAN\tDSAN\tDSAN\tDSAN\tDSAN\tDSAN\tDSAN\tDSAN\tDSAN\tDSAN\tDSAN\tDSAN\tDSAN\tDSAN\tDSAN\tDSAN\tDSAN\tDSAN\tDSAN\tDSAN\tDSAN\tDSAN\tDSAN\tDSAN\tDSAN\tDSAN\tDSAN\tDSAN\tDSAN\tDSAN\tDSAN\tDSAN\tDSAN\tDSAN\tDSAN\tDSAN\tDSAN\tDSAN\tDSAN\tDSAN\tDSAN\tDSAN\tDSAN\tDSAN\tDSAN\tDSAN\tDSAN\tDSAN\tDSAN\tDSAN\tDSAN\tDSAN\tDSAN\tDSAN\tDSAN\tDSAN\tDSAN\tDSAN\tDSAN\tDSAN\tDSAN\tDSAN\tDSAN\tDSAN\tDSAN\tDSAN\tDSAN\tDSAN\tDSAN\tDSAN\tDSAN\tDSAN\tDSAN\tDSAN\tDSAN\tDSAN\tDSAN\tDSAN\tDSAN\tDSAN\tDSAN\tDSAN\tDSAN\tDSAN\tDSAN\tDSAN\tDSAN\tDSAN\tDSAN\tDSAN\tDSAN\tDSAN\tDSAN\tDSAN\tDSAN\tDSAN\tDSAN\tDSAN\tDSAN\tDSAN\tDSAN\tDSAN\tDSAN\tDSAN\tDSAN\tDSAN\tDSAN\tDSAN\tDSAN\tDSAN\tDSAN\tDSAN\tDSAN\tDSAN\tDSAN\tDSAN\tDSAN\tDSAN\tDSAN\tDSAN\tDSAN\tDSAN\tDSAN\tDSAN\tDSAN\tDSAN\tDSAN\tDSAN\tDSAN\tDSAN\tDSAN\tDSAN\tDSAN\tDSAN\tDSAN\tDSAN\tDSAN\tDSAN\tDSAN\tDSAN\tDSAN\tDSAN\tDSAN\tDSAN\tDSAN\tDSAN\tDSAN\tDSAN\tDSAN\tDSAN\tDSAN\tDSAN\tDSAN\tDSAN\tDSAN\tDSAN\tDSAN\tDSAN\tDSAN\tDSAN\tDSAN\tDSAN\tDSAN\tDSAN\tDSAN\tDSAN\tDSAN\tDSAN\tDSAN\tDSAN\tDSAN\tDSAN\tDSAN\tDSAN\tDSAN\tDSAN\tDSAN\tDSAN\tDSAN\tDSAN\tDSAN\tDSAN\tDSAN\tDSAN\tDSAN\tDSAN\tDSAN\tDSAN\tDSAN\tDSAN\tDSAN\tDSAN\tDSAN\tDSAN\tDSAN\tDSAN\tDSAN\tDSAN\tDSAN\tDSAN\tDSAN\tDSAN\tDSAN\tDSAN\tDSAN\tDSAN\tDSAN\tDSAN\tDSAN\tDSAN\tDSAN\tDSAN\tDSAN\tDSAN\tDSAN\tDSAN\tDSAN\tDSAN\tDSAN\tDSAN\tDSAN\tDSAN\tDSAN\tDSAN\tDSAN\tDSAN\tDSAN\tDSAN\tDSAN\tDSAN\tDSAN\tDSAN\tDSAN\tDSAN\tDSAN\tDSAN\tDSAN\tDSAN\tDSAN\tDSAN\tDSAN\tDSAN\tDSAN\tDSAN\tDSAN\tDSAN\tDSAN\tDSAN\tDSAN\tDSAN\tDSAN\tDSAN\tDSAN\tDSAN\tDSAN\tDSAN\tDSAN\tDSAN\tDSAN\tDSAN\tDSAN\tDSAN\tDSAN\tDSAN\tDSAN\tDSAN\tDSAN\tDSAN\tDSAN\tDSAN\tDSAN\tDSAN\tDSAN\tDSAN\tDSAN\tDSAN\tDSAN\tDSAN\tDSAN\tDSAN\tDSAN\tDSAN\tDSAN\tDSAN\tDSAN\tDSAN\tDSAN\tDSAN\tDSAN\tDSAN\tDSAN\tDSAN\tDSAN\tDSAN\tDSAN\tDSAN\tDSAN\tDSAN\tDSAN\tDSAN\tDSAN\tDSAN\tDSAN\tDSAN\tDSAN\tDSAN\tDSAN\tDSAN\tDSAN\tDSAN\tDSAN\tDSAN\tDSAN\tDSAN\tDSAN\tDSAN\tDSAN\tDSAN\tDSAN\tDSAN\tDSAN\tDSAN\tDSAN\tDSAN\tDSAN\tDSAN\tDSAN\tDSAN\tDSAN\tDSAN\tDSAN\tDSAN\tDSAN\tDSAN\tDSAN\tDSAN\tDSAN\tDSAN\tDSAN\tDSAN\tDSAN\tDSAN\tDSAN\tDSAN\tDSAN\tDSAN\tDSAN\tDSAN\tDSAN\tDSAN\tDSAN\tDSAN\tDSAN\tDSAN\tDSAN\tDSAN\tDSAN\tDSAN\tDSAN\tDSAN\tDSAN\tDSAN\tDSAN\tDSAN\tDSAN\tDSAN\tDSAN\tDSAN\tDSAN\tDSAN\tDSAN\tDSAN\tDSAN\tDSAN\tDSAN\tDSAN\tDSAN\tDSAN\tDSAN\tDSAN\tDSAN\tDSAN\tDSAN\tDSAN\tDSAN\tDSAN\tDSAN\tDSAN\tDSAN\tDSAN\tDSAN\tDSAN\tDSAN\tDSAN\tDSAN\tDSAN\tDSAN\tDSAN\tDSAN\tDSAN\tDSAN\tDSAN\tDSAN\tDSAN\tDSAN\tDSAN\tDSAN\tDSAN\tDSAN\tDSAN\tDSAN\tDSAN\tDSAN\tDSAN\tDSAN\tDSAN\tDSAN\tDSAN\tDSAN\tDSAN\tDSAN\tDSAN\tDSAN\tDSAN\tDSAN\tDSAN\tDSAN\tDSAN\tDSAN\tDSAN\tDSAN\tDSAN\tDSAN\tDSAN\tDSAN\tDSAN\tDSAN\tDSAN\tDSAN\tDSAN\tDSAN\tDSAN\tDSAN\tDSAN\tDSAN\tDSAN\tDSAN\tDSAN\tDSAN\tDSAN\tDSAN\tDSAN\tDSAN\tDSAN\tDSAN\tDSAN\tDSAN\tDSAN\tDSAN\tDSAN\tDSAN\tDSAN\tDSAN\tDSAN\tDSAN\tDSAN\tDSAN\tDSAN\tDSAN\tDSAN\tDSAN\tDSAN\tDSAN\tDSAN\tDSAN\tDSAN\tDSAN\tDSAN\tDSAN\tDSAN\tDSAN\tDSAN\tDSAN\tDSAN\tDSAN\tDSAN\tDSAN\tDSAN\tDSAN\tDSAN\tDSAN\tDSAN\tDSAN\tDSAN\tDSAN\tDSAN\tDSAN\tDSAN\tDSAN\tDSAN\tDSAN\tDSAN\tDSAN\tDSAN\tDSAN\tDSAN\tDSAN\tDSAN\tDSAN\tDSAN\tDSAN\tDSAN\tDSAN\tDSAN\tDSAN\tDSAN\tDSAN\tDSAN\tDSAN\tDSAN\tDSAN\tDSAN\tDSAN\tDSAN\tDSAN\tDSAN\tDSAN\tDSAN\tDSAN\tDSAN\tDSAN\tDSAN\tDSAN\tDSAN\tDSAN\tDSAN\tDSAN\tDSAN\tDSAN\tDSAN\tDSAN\tDSAN\tDSAN\tDSAN\tDSAN\tDSAN\tDSAN\tDSAN\tDSAN\tDSAN\tDSAN\tDSAN\tDSAN\tDSAN\tDSAN\tDSAN\tDSAN\tDSAN\tDSAN\tDSAN\tDSAN\tDSAN\tDSAN\tDSAN\tDSAN\tDSAN\tDSAN\tDSAN\tDSAN\tDSAN\tDSAN\tDSAN\tDSAN\tDSAN\tDSAN\tDSAN\tDSAN\tDSAN\tDSAN\tDSAN\tDSAN\tDSAN\tDSAN\tDSAN\tDSAN\tDSAN\tDSAN\tDSAN\tDSAN\tDSAN\tDSAN\tDSAN\tDSAN\tDSAN\tDSAN\tDSAN\tDSAN\tDSAN\tDSAN\tDSAN\tDSAN\tDSAN\tDSAN\tDSAN\tDSAN\tDSAN\tDSAN\tDSAN\tDSAN\tDSAN\tDSAN\tDSAN\tDSAN\tDSAN\tDSAN\tDSAN\tDSAN\tDSAN\tDSAN\tDSAN\tDSAN\tDSAN\tDSAN\tDSAN\tDSAN\tDSAN\tDSAN\tDSAN\tDSAN\tDSAN\tDSAN\tDSAN\tDSAN\tDSAN\tDSAN\tDSAN\tDSAN\tDSAN\tDSAN\tDSAN\tDSAN\tDSAN\tDSAN\tDSAN\tDSAN\tDSAN\tDSAN\tDSAN\tDSAN\tDSAN\tDSAN\tDSAN\tDSAN\tDSAN\tDSAN\tDSAN\tFinished Training\n",
            "/usr/local/lib/python3.7/dist-packages/numpy/lib/histograms.py:905: RuntimeWarning: invalid value encountered in true_divide\n",
            "  return n/db/n.sum(), bin_edges\n",
            "<Figure size 640x480 with 1 Axes>\n",
            "  0% 0/10 [00:00<?, ?it/s]\n",
            "Number: 288\t Target Domain Category: {0, 1, 2, 3, 4, 5, 6, 7, 8, 9}\n",
            "Linear(in_features=256, out_features=10, bias=True) \n",
            "\n",
            "\n",
            "Transfer learning train 50: 100% 50/50 [06:34<00:00,  7.90s/it, AllAccuracy=83.8, MAXSeenAccuracy=83.8]\n",
            "DSAN\tDSAN\tDSAN\tDSAN\tDSAN\tDSAN\tDSAN\tDSAN\tDSAN\tDSAN\tDSAN\tDSAN\tDSAN\tDSAN\tDSAN\tDSAN\tDSAN\tDSAN\tDSAN\tDSAN\tDSAN\tDSAN\tDSAN\tDSAN\tDSAN\tDSAN\tDSAN\tDSAN\tDSAN\tDSAN\tDSAN\tDSAN\tDSAN\tDSAN\tDSAN\tDSAN\tDSAN\tDSAN\tDSAN\tDSAN\tDSAN\tDSAN\tDSAN\tDSAN\tDSAN\tDSAN\tDSAN\tDSAN\tDSAN\tDSAN\tDSAN\tDSAN\tDSAN\tDSAN\tDSAN\tDSAN\tDSAN\tDSAN\tDSAN\tDSAN\tDSAN\tDSAN\tDSAN\tDSAN\tDSAN\tDSAN\tDSAN\tDSAN\tDSAN\tDSAN\tDSAN\tDSAN\tDSAN\tDSAN\tDSAN\tDSAN\tDSAN\tDSAN\tDSAN\tDSAN\tDSAN\tDSAN\tDSAN\tDSAN\tDSAN\tDSAN\tDSAN\tDSAN\tDSAN\tDSAN\tDSAN\tDSAN\tDSAN\tDSAN\tDSAN\tDSAN\tDSAN\tDSAN\tDSAN\tDSAN\tDSAN\tDSAN\tDSAN\tDSAN\tDSAN\tDSAN\tDSAN\tDSAN\tDSAN\tDSAN\tDSAN\tDSAN\tDSAN\tDSAN\tDSAN\tDSAN\tDSAN\tDSAN\tDSAN\tDSAN\tDSAN\tDSAN\tDSAN\tDSAN\tDSAN\tDSAN\tDSAN\tDSAN\tDSAN\tDSAN\tDSAN\tDSAN\tDSAN\tDSAN\tDSAN\tDSAN\tDSAN\tDSAN\tDSAN\tDSAN\tDSAN\tDSAN\tDSAN\tDSAN\tDSAN\tDSAN\tDSAN\tDSAN\tDSAN\tDSAN\tDSAN\tDSAN\tDSAN\tDSAN\tDSAN\tDSAN\tDSAN\tDSAN\tDSAN\tDSAN\tDSAN\tDSAN\tDSAN\tDSAN\tDSAN\tDSAN\tDSAN\tDSAN\tDSAN\tDSAN\tDSAN\tDSAN\tDSAN\tDSAN\tDSAN\tDSAN\tDSAN\tDSAN\tDSAN\tDSAN\tDSAN\tDSAN\tDSAN\tDSAN\tDSAN\tDSAN\tDSAN\tDSAN\tDSAN\tDSAN\tDSAN\tDSAN\tDSAN\tDSAN\tDSAN\tDSAN\tDSAN\tDSAN\tDSAN\tDSAN\tDSAN\tDSAN\tDSAN\tDSAN\tDSAN\tDSAN\tDSAN\tDSAN\tDSAN\tDSAN\tDSAN\tDSAN\tDSAN\tDSAN\tDSAN\tDSAN\tDSAN\tDSAN\tDSAN\tDSAN\tDSAN\tDSAN\tDSAN\tDSAN\tDSAN\tDSAN\tDSAN\tDSAN\tDSAN\tDSAN\tDSAN\tDSAN\tDSAN\tDSAN\tDSAN\tDSAN\tDSAN\tDSAN\tDSAN\tDSAN\tDSAN\tDSAN\tDSAN\tDSAN\tDSAN\tDSAN\tDSAN\tDSAN\tDSAN\tDSAN\tDSAN\tDSAN\tDSAN\tDSAN\tDSAN\tDSAN\tDSAN\tDSAN\tDSAN\tDSAN\tDSAN\tDSAN\tDSAN\tDSAN\tDSAN\tDSAN\tDSAN\tDSAN\tDSAN\tDSAN\tDSAN\tDSAN\tDSAN\tDSAN\tDSAN\tDSAN\tDSAN\tDSAN\tDSAN\tDSAN\tDSAN\tDSAN\tDSAN\tDSAN\tDSAN\tDSAN\tDSAN\tDSAN\tDSAN\tDSAN\tDSAN\tDSAN\tDSAN\tDSAN\tDSAN\tDSAN\tDSAN\tDSAN\tDSAN\tDSAN\tDSAN\tDSAN\tDSAN\tDSAN\tDSAN\tDSAN\tDSAN\tDSAN\tDSAN\tDSAN\tDSAN\tDSAN\tDSAN\tDSAN\tDSAN\tDSAN\tDSAN\tDSAN\tDSAN\tDSAN\tDSAN\tDSAN\tDSAN\tDSAN\tDSAN\tDSAN\tDSAN\tDSAN\tDSAN\tDSAN\tDSAN\tDSAN\tDSAN\tDSAN\tDSAN\tDSAN\tDSAN\tDSAN\tDSAN\tDSAN\tDSAN\tDSAN\tDSAN\tDSAN\tDSAN\tDSAN\tDSAN\tDSAN\tDSAN\tDSAN\tDSAN\tDSAN\tDSAN\tDSAN\tDSAN\tDSAN\tDSAN\tDSAN\tDSAN\tDSAN\tDSAN\tDSAN\tDSAN\tDSAN\tDSAN\tDSAN\tDSAN\tDSAN\tDSAN\tDSAN\tDSAN\tDSAN\tDSAN\tDSAN\tDSAN\tDSAN\tDSAN\tDSAN\tDSAN\tDSAN\tDSAN\tDSAN\tDSAN\tDSAN\tDSAN\tDSAN\tDSAN\tDSAN\tDSAN\tDSAN\tDSAN\tDSAN\tDSAN\tDSAN\tDSAN\tDSAN\tDSAN\tDSAN\tDSAN\tDSAN\tDSAN\tDSAN\tDSAN\tDSAN\tDSAN\tDSAN\tDSAN\tDSAN\tDSAN\tDSAN\tDSAN\tDSAN\tDSAN\tDSAN\tDSAN\tDSAN\tDSAN\tDSAN\tDSAN\tDSAN\tDSAN\tDSAN\tDSAN\tDSAN\tDSAN\tDSAN\tDSAN\tDSAN\tDSAN\tDSAN\tDSAN\tDSAN\tDSAN\tDSAN\tDSAN\tDSAN\tDSAN\tDSAN\tDSAN\tDSAN\tDSAN\tDSAN\tDSAN\tDSAN\tDSAN\tDSAN\tDSAN\tDSAN\tDSAN\tDSAN\tDSAN\tDSAN\tDSAN\tDSAN\tDSAN\tDSAN\tDSAN\tDSAN\tDSAN\tDSAN\tDSAN\tDSAN\tDSAN\tDSAN\tDSAN\tDSAN\tDSAN\tDSAN\tDSAN\tDSAN\tDSAN\tDSAN\tDSAN\tDSAN\tDSAN\tDSAN\tDSAN\tDSAN\tDSAN\tDSAN\tDSAN\tDSAN\tDSAN\tDSAN\tDSAN\tDSAN\tDSAN\tDSAN\tDSAN\tDSAN\tDSAN\tDSAN\tDSAN\tDSAN\tDSAN\tDSAN\tDSAN\tDSAN\tDSAN\tDSAN\tDSAN\tDSAN\tDSAN\tDSAN\tDSAN\tDSAN\tDSAN\tDSAN\tDSAN\tDSAN\tDSAN\tDSAN\tDSAN\tDSAN\tDSAN\tDSAN\tDSAN\tDSAN\tDSAN\tDSAN\tDSAN\tDSAN\tDSAN\tDSAN\tDSAN\tDSAN\tDSAN\tDSAN\tDSAN\tDSAN\tDSAN\tDSAN\tDSAN\tDSAN\tDSAN\tDSAN\tDSAN\tDSAN\tDSAN\tDSAN\tDSAN\tDSAN\tDSAN\tDSAN\tDSAN\tDSAN\tDSAN\tDSAN\tDSAN\tDSAN\tDSAN\tDSAN\tDSAN\tDSAN\tDSAN\tDSAN\tDSAN\tDSAN\tDSAN\tDSAN\tDSAN\tDSAN\tDSAN\tDSAN\tDSAN\tDSAN\tDSAN\tDSAN\tDSAN\tDSAN\tDSAN\tDSAN\tDSAN\tDSAN\tDSAN\tDSAN\tDSAN\tDSAN\tDSAN\tDSAN\tDSAN\tDSAN\tDSAN\tDSAN\tDSAN\tDSAN\tDSAN\tDSAN\tDSAN\tDSAN\tDSAN\tDSAN\tDSAN\tDSAN\tDSAN\tDSAN\tDSAN\tDSAN\tDSAN\tDSAN\tDSAN\tDSAN\tDSAN\tDSAN\tDSAN\tDSAN\tDSAN\tDSAN\tDSAN\tDSAN\tDSAN\tDSAN\tDSAN\tDSAN\tDSAN\tDSAN\tDSAN\tDSAN\tDSAN\tDSAN\tDSAN\tDSAN\tDSAN\tDSAN\tDSAN\tDSAN\tDSAN\tDSAN\tDSAN\tDSAN\tDSAN\tDSAN\tDSAN\tDSAN\tDSAN\tDSAN\tDSAN\tDSAN\tDSAN\tDSAN\tDSAN\tDSAN\tDSAN\tDSAN\tDSAN\tDSAN\tDSAN\tDSAN\tDSAN\tDSAN\tDSAN\tDSAN\tDSAN\tDSAN\tDSAN\tDSAN\tDSAN\tDSAN\tDSAN\tDSAN\tDSAN\tDSAN\tDSAN\tDSAN\tDSAN\tDSAN\tDSAN\tDSAN\tDSAN\tDSAN\tDSAN\tDSAN\tDSAN\tDSAN\tDSAN\tDSAN\tDSAN\tDSAN\tDSAN\tDSAN\tDSAN\tDSAN\tDSAN\tDSAN\tDSAN\tDSAN\tDSAN\tDSAN\tDSAN\tDSAN\tDSAN\tDSAN\tDSAN\tDSAN\tDSAN\tDSAN\tDSAN\tDSAN\tDSAN\tDSAN\tDSAN\tDSAN\tDSAN\tDSAN\tDSAN\tDSAN\tDSAN\tDSAN\tDSAN\tDSAN\tDSAN\tDSAN\tDSAN\tDSAN\tDSAN\tDSAN\tDSAN\tDSAN\tDSAN\tDSAN\tDSAN\tDSAN\tDSAN\tDSAN\tDSAN\tDSAN\tDSAN\tDSAN\tDSAN\tDSAN\tDSAN\tDSAN\tDSAN\tDSAN\tDSAN\tDSAN\tDSAN\tDSAN\tDSAN\tDSAN\tDSAN\tDSAN\tDSAN\tDSAN\tDSAN\tDSAN\tDSAN\tDSAN\tDSAN\tDSAN\tDSAN\tDSAN\tDSAN\tDSAN\tDSAN\tDSAN\tDSAN\tDSAN\tDSAN\tDSAN\tDSAN\tDSAN\tDSAN\tDSAN\tDSAN\tDSAN\tDSAN\tDSAN\tDSAN\tDSAN\tDSAN\tDSAN\tDSAN\tDSAN\tDSAN\tDSAN\tDSAN\tDSAN\tDSAN\tDSAN\tDSAN\tDSAN\tDSAN\tDSAN\tDSAN\tDSAN\tDSAN\tDSAN\tDSAN\tDSAN\tDSAN\tDSAN\tDSAN\tDSAN\tDSAN\tDSAN\tDSAN\tDSAN\tDSAN\tDSAN\tDSAN\tDSAN\tDSAN\tDSAN\tDSAN\tDSAN\tDSAN\tDSAN\tDSAN\tDSAN\tDSAN\tDSAN\tDSAN\tDSAN\tDSAN\tDSAN\tDSAN\tDSAN\tDSAN\tDSAN\tDSAN\tDSAN\tDSAN\tDSAN\tDSAN\tDSAN\tDSAN\tDSAN\tDSAN\tDSAN\tDSAN\tDSAN\tDSAN\tDSAN\tDSAN\tDSAN\tDSAN\tDSAN\tDSAN\tDSAN\tDSAN\tDSAN\tDSAN\tDSAN\tDSAN\tDSAN\tDSAN\tDSAN\tDSAN\tDSAN\t[3, 0.0, 1.0, 0.37012987012987014]\n",
            "[8, 0.13636363636363635, 0.7661290322580645, 0.6168831168831169]\n",
            "[9, 0.16233766233766234, 0.7194244604316546, 0.6493506493506493]\n",
            "[10, 0.22727272727272727, 0.7727272727272727, 0.7727272727272727]\n",
            "[10, 0.2727272727272727, 0.8376623376623377, 0.8376623376623377]\n"
          ],
          "name": "stdout"
        }
      ]
    },
    {
      "cell_type": "code",
      "metadata": {
        "colab": {
          "background_save": true
        },
        "id": "KnsoAPZ9GtuP",
        "outputId": "211f0631-ff7b-46f3-cdae-81e14d07fb3c"
      },
      "source": [
        "!python _raw.py --source 'webcam' --target 'amazon'"
      ],
      "execution_count": null,
      "outputs": [
        {
          "output_type": "stream",
          "text": [
            "/content/utils.py:49: VisibleDeprecationWarning: Creating an ndarray from ragged nested sequences (which is a list-or-tuple of lists-or-tuples-or ndarrays with different lengths or shapes) is deprecated. If you meant to do this, you must specify 'dtype=object' when creating the ndarray\n",
            "  self.img = np.array(self.img)\n",
            "Number: 78\t Source Domain Category: {0, 1, 2}\n",
            "Number: 824\t Target Domain Category: {0, 1, 2, 3, 4, 5, 6, 7, 8, 9}\n",
            "Linear(in_features=256, out_features=3, bias=True) \n",
            "\n",
            "\n",
            "Transfer learning train 1:   0% 0/10 [00:00<?, ?it/s]/usr/local/lib/python3.7/dist-packages/torch/nn/functional.py:718: UserWarning: Named tensors and all their associated APIs are an experimental feature and subject to change. Please do not use them for anything important until they are released as stable. (Triggered internally at  /pytorch/c10/core/TensorImpl.h:1156.)\n",
            "  return torch.max_pool2d(input, kernel_size, stride, padding, dilation, ceil_mode)\n",
            "Transfer learning train 10: 100% 10/10 [00:52<00:00,  5.23s/it, AllAccuracy=29.6, MAXSeenAccuracy=99.2]\n",
            "FineTrain 60: 100% 60/60 [01:34<00:00,  1.57s/it, accuracy=100, loss=0.00645, minloss=0.00715]\n",
            "DSAN\tDSAN\tDSAN\tDSAN\tDSAN\tDSAN\tDSAN\tDSAN\tDSAN\tDSAN\tDSAN\tDSAN\tDSAN\tDSAN\tDSAN\tDSAN\tDSAN\tDSAN\tDSAN\tDSAN\tDSAN\tDSAN\tDSAN\tDSAN\tDSAN\tDSAN\tDSAN\tDSAN\tDSAN\tDSAN\tDSAN\tDSAN\tDSAN\tDSAN\tDSAN\tDSAN\tDSAN\tDSAN\tDSAN\tDSAN\tFinished Training\n",
            "<Figure size 640x480 with 1 Axes>\n",
            " 30% 3/10 [00:01<00:02,  2.92it/s]\n",
            "There are 0 cluster class centers labeled as 3, sampled separately according to [2, 2] and each sample with label [3, 3, 8, 3]\n",
            "There are 1 cluster class centers labeled as 4, sampled separately according to [4] and each sample with label [4, 0, 4, 0]\n",
            "There are 1 cluster class centers labeled as 5, sampled separately according to [4] and each sample with label [5, 5, 5, 5]\n",
            "There are 1 cluster class centers labeled as 6, sampled separately according to [4] and each sample with label [6, 6, 6, 6]\n",
            "There are 0 cluster class centers labeled as 8, sampled separately according to [4] and each sample with label [8, 8, 8, 8]\n",
            "There are 1 cluster class centers labeled as 9, sampled separately according to [4] and each sample with label [9, 9, 3, 9]\n",
            "_raw.py:253: VisibleDeprecationWarning: Creating an ndarray from ragged nested sequences (which is a list-or-tuple of lists-or-tuples-or ndarrays with different lengths or shapes) is deprecated. If you meant to do this, you must specify 'dtype=object' when creating the ndarray\n",
            "  np.array(list(self.Sub.keys()))[[_==x for _ in list(self.Sub.values())]]], set(self.Sub.values())))).T.tolist()\n",
            "<Figure size 1800x600 with 2 Axes>\n",
            "/content/utils.py:49: VisibleDeprecationWarning: Creating an ndarray from ragged nested sequences (which is a list-or-tuple of lists-or-tuples-or ndarrays with different lengths or shapes) is deprecated. If you meant to do this, you must specify 'dtype=object' when creating the ndarray\n",
            "  self.img = np.array(self.img)\n",
            "Number: 101\t Target Domain Category: {0, 1, 2, 3, 4, 5, 6, 8, 9}\n",
            "Linear(in_features=256, out_features=9, bias=True) \n",
            "\n",
            "\n",
            "Transfer learning train 50: 100% 50/50 [04:34<00:00,  5.49s/it, AllAccuracy=78.2, MAXSeenAccuracy=88.6]\n",
            "FineTrain 60: 100% 60/60 [01:45<00:00,  1.75s/it, accuracy=95, loss=0.0126, minloss=0.0114]\n",
            "DSAN\tDSAN\tDSAN\tDSAN\tDSAN\tDSAN\tDSAN\tDSAN\tDSAN\tDSAN\tDSAN\tDSAN\tDSAN\tDSAN\tDSAN\tDSAN\tDSAN\tDSAN\tDSAN\tDSAN\tDSAN\tDSAN\tDSAN\tDSAN\tDSAN\tDSAN\tDSAN\tDSAN\tDSAN\tDSAN\tDSAN\tDSAN\tDSAN\tDSAN\tDSAN\tDSAN\tDSAN\tDSAN\tDSAN\tDSAN\tDSAN\tDSAN\tDSAN\tDSAN\tDSAN\tDSAN\tDSAN\tDSAN\tDSAN\tDSAN\tDSAN\tDSAN\tDSAN\tDSAN\tDSAN\tDSAN\tDSAN\tDSAN\tDSAN\tDSAN\tDSAN\tDSAN\tDSAN\tDSAN\tDSAN\tDSAN\tDSAN\tDSAN\tDSAN\tDSAN\tDSAN\tDSAN\tDSAN\tDSAN\tDSAN\tDSAN\tDSAN\tDSAN\tDSAN\tDSAN\tDSAN\tDSAN\tDSAN\tDSAN\tDSAN\tDSAN\tDSAN\tDSAN\tDSAN\tDSAN\tDSAN\tDSAN\tDSAN\tDSAN\tDSAN\tDSAN\tDSAN\tDSAN\tDSAN\tDSAN\tDSAN\tDSAN\tDSAN\tDSAN\tDSAN\tDSAN\tDSAN\tDSAN\tDSAN\tDSAN\tDSAN\tDSAN\tDSAN\tDSAN\tDSAN\tDSAN\tDSAN\tDSAN\tDSAN\tDSAN\tDSAN\tDSAN\tDSAN\tDSAN\tDSAN\tDSAN\tDSAN\tDSAN\tDSAN\tDSAN\tDSAN\tDSAN\tDSAN\tDSAN\tDSAN\tDSAN\tDSAN\tDSAN\tDSAN\tDSAN\tDSAN\tDSAN\tDSAN\tDSAN\tDSAN\tDSAN\tDSAN\tDSAN\tDSAN\tDSAN\tDSAN\tDSAN\tDSAN\tDSAN\tDSAN\tDSAN\tDSAN\tDSAN\tDSAN\tDSAN\tDSAN\tDSAN\tDSAN\tDSAN\tDSAN\tDSAN\tDSAN\tDSAN\tDSAN\tDSAN\tDSAN\tDSAN\tDSAN\tDSAN\tDSAN\tDSAN\tDSAN\tDSAN\tDSAN\tDSAN\tDSAN\tDSAN\tDSAN\tDSAN\tDSAN\tDSAN\tDSAN\tDSAN\tDSAN\tDSAN\tDSAN\tDSAN\tDSAN\tDSAN\tDSAN\tDSAN\tDSAN\tDSAN\tDSAN\tDSAN\tDSAN\tDSAN\tDSAN\tDSAN\tDSAN\tDSAN\tDSAN\tDSAN\tDSAN\tDSAN\tDSAN\tDSAN\tDSAN\tDSAN\tDSAN\tDSAN\tDSAN\tDSAN\tDSAN\tDSAN\tDSAN\tDSAN\tDSAN\tDSAN\tDSAN\tDSAN\tDSAN\tDSAN\tDSAN\tDSAN\tDSAN\tDSAN\tDSAN\tDSAN\tDSAN\tDSAN\tDSAN\tDSAN\tDSAN\tDSAN\tDSAN\tDSAN\tDSAN\tDSAN\tDSAN\tDSAN\tDSAN\tDSAN\tDSAN\tDSAN\tFinished Training\n",
            "<Figure size 640x480 with 1 Axes>\n",
            " 20% 2/10 [00:00<00:01,  6.32it/s]\n",
            "There are 2 cluster class centers labeled as 7, sampled separately according to [2, 2] and each sample with label [7, 4, 7, 7]\n",
            "_raw.py:253: VisibleDeprecationWarning: Creating an ndarray from ragged nested sequences (which is a list-or-tuple of lists-or-tuples-or ndarrays with different lengths or shapes) is deprecated. If you meant to do this, you must specify 'dtype=object' when creating the ndarray\n",
            "  np.array(list(self.Sub.keys()))[[_==x for _ in list(self.Sub.values())]]], set(self.Sub.values())))).T.tolist()\n",
            "<Figure size 1800x600 with 2 Axes>\n",
            "/content/utils.py:49: VisibleDeprecationWarning: Creating an ndarray from ragged nested sequences (which is a list-or-tuple of lists-or-tuples-or ndarrays with different lengths or shapes) is deprecated. If you meant to do this, you must specify 'dtype=object' when creating the ndarray\n",
            "  self.img = np.array(self.img)\n",
            "Number: 104\t Target Domain Category: {0, 1, 2, 3, 4, 5, 6, 7, 8, 9}\n",
            "Linear(in_features=256, out_features=10, bias=True) \n",
            "\n",
            "\n",
            "Transfer learning train 50: 100% 50/50 [04:34<00:00,  5.48s/it, AllAccuracy=85.7, MAXSeenAccuracy=85.7]\n",
            "FineTrain 60: 100% 60/60 [01:44<00:00,  1.74s/it, accuracy=92.3, loss=0.16, minloss=0.00667]\n",
            "DSAN\tDSAN\tDSAN\tDSAN\tDSAN\tDSAN\tDSAN\tDSAN\tDSAN\tDSAN\tDSAN\tDSAN\tDSAN\tDSAN\tDSAN\tDSAN\tDSAN\tDSAN\tDSAN\tDSAN\tDSAN\tDSAN\tDSAN\tDSAN\tDSAN\tDSAN\tDSAN\tDSAN\tDSAN\tDSAN\tDSAN\tDSAN\tDSAN\tDSAN\tDSAN\tDSAN\tDSAN\tDSAN\tDSAN\tDSAN\tDSAN\tDSAN\tDSAN\tDSAN\tDSAN\tDSAN\tDSAN\tDSAN\tDSAN\tDSAN\tDSAN\tDSAN\tDSAN\tDSAN\tDSAN\tDSAN\tDSAN\tDSAN\tDSAN\tDSAN\tDSAN\tDSAN\tDSAN\tDSAN\tDSAN\tDSAN\tDSAN\tDSAN\tDSAN\tDSAN\tDSAN\tDSAN\tDSAN\tDSAN\tDSAN\tDSAN\tDSAN\tDSAN\tDSAN\tDSAN\tDSAN\tDSAN\tDSAN\tDSAN\tDSAN\tDSAN\tDSAN\tDSAN\tDSAN\tDSAN\tDSAN\tDSAN\tDSAN\tDSAN\tDSAN\tDSAN\tDSAN\tDSAN\tDSAN\tDSAN\tDSAN\tDSAN\tDSAN\tDSAN\tDSAN\tDSAN\tDSAN\tDSAN\tDSAN\tDSAN\tDSAN\tDSAN\tDSAN\tDSAN\tDSAN\tDSAN\tDSAN\tDSAN\tDSAN\tDSAN\tDSAN\tDSAN\tDSAN\tDSAN\tDSAN\tDSAN\tDSAN\tDSAN\tDSAN\tDSAN\tDSAN\tDSAN\tDSAN\tDSAN\tDSAN\tDSAN\tDSAN\tDSAN\tDSAN\tDSAN\tDSAN\tDSAN\tDSAN\tDSAN\tDSAN\tDSAN\tDSAN\tDSAN\tDSAN\tDSAN\tDSAN\tDSAN\tDSAN\tDSAN\tDSAN\tDSAN\tDSAN\tDSAN\tDSAN\tDSAN\tDSAN\tDSAN\tDSAN\tDSAN\tDSAN\tDSAN\tDSAN\tDSAN\tDSAN\tDSAN\tDSAN\tDSAN\tDSAN\tDSAN\tDSAN\tDSAN\tDSAN\tDSAN\tDSAN\tDSAN\tDSAN\tDSAN\tDSAN\tDSAN\tDSAN\tDSAN\tDSAN\tDSAN\tDSAN\tDSAN\tDSAN\tDSAN\tDSAN\tDSAN\tDSAN\tDSAN\tDSAN\tDSAN\tDSAN\tDSAN\tDSAN\tDSAN\tDSAN\tDSAN\tDSAN\tDSAN\tDSAN\tDSAN\tDSAN\tDSAN\tDSAN\tDSAN\tDSAN\tDSAN\tDSAN\tDSAN\tDSAN\tDSAN\tDSAN\tDSAN\tDSAN\tDSAN\tDSAN\tDSAN\tDSAN\tDSAN\tDSAN\tDSAN\tDSAN\tDSAN\tDSAN\tDSAN\tDSAN\tDSAN\tDSAN\tDSAN\tDSAN\tDSAN\tDSAN\tDSAN\tDSAN\tDSAN\tDSAN\tDSAN\tDSAN\tDSAN\tDSAN\tDSAN\tDSAN\tDSAN\tFinished Training\n",
            "/usr/local/lib/python3.7/dist-packages/numpy/lib/histograms.py:905: RuntimeWarning: invalid value encountered in true_divide\n",
            "  return n/db/n.sum(), bin_edges\n",
            "<Figure size 640x480 with 1 Axes>\n",
            " 40% 4/10 [00:00<00:00,  9.20it/s]\n",
            "Number: 113\t Target Domain Category: {0, 1, 2, 3, 4, 5, 6, 7, 8, 9}\n",
            "Linear(in_features=256, out_features=10, bias=True) \n",
            "\n",
            "\n",
            "Transfer learning train 50: 100% 50/50 [04:44<00:00,  5.70s/it, AllAccuracy=87.6, MAXSeenAccuracy=87.6]\n",
            "DSAN\tDSAN\tDSAN\tDSAN\tDSAN\tDSAN\tDSAN\tDSAN\tDSAN\tDSAN\tDSAN\tDSAN\tDSAN\tDSAN\tDSAN\tDSAN\tDSAN\tDSAN\tDSAN\tDSAN\tDSAN\tDSAN\tDSAN\tDSAN\tDSAN\tDSAN\tDSAN\tDSAN\tDSAN\tDSAN\tDSAN\tDSAN\tDSAN\tDSAN\tDSAN\tDSAN\tDSAN\tDSAN\tDSAN\tDSAN\tDSAN\tDSAN\tDSAN\tDSAN\tDSAN\tDSAN\tDSAN\tDSAN\tDSAN\tDSAN\tDSAN\tDSAN\tDSAN\tDSAN\tDSAN\tDSAN\tDSAN\tDSAN\tDSAN\tDSAN\tDSAN\tDSAN\tDSAN\tDSAN\tDSAN\tDSAN\tDSAN\tDSAN\tDSAN\tDSAN\tDSAN\tDSAN\tDSAN\tDSAN\tDSAN\tDSAN\tDSAN\tDSAN\tDSAN\tDSAN\tDSAN\tDSAN\tDSAN\tDSAN\tDSAN\tDSAN\tDSAN\tDSAN\tDSAN\tDSAN\tDSAN\tDSAN\tDSAN\tDSAN\tDSAN\tDSAN\tDSAN\tDSAN\tDSAN\tDSAN\tDSAN\tDSAN\tDSAN\tDSAN\tDSAN\tDSAN\tDSAN\tDSAN\tDSAN\tDSAN\tDSAN\tDSAN\tDSAN\tDSAN\tDSAN\tDSAN\tDSAN\tDSAN\tDSAN\tDSAN\tDSAN\tDSAN\tDSAN\tDSAN\tDSAN\tDSAN\tDSAN\tDSAN\tDSAN\tDSAN\tDSAN\tDSAN\tDSAN\tDSAN\tDSAN\tDSAN\tDSAN\tDSAN\tDSAN\tDSAN\tDSAN\tDSAN\tDSAN\tDSAN\tDSAN\tDSAN\tDSAN\tDSAN\tDSAN\tDSAN\tDSAN\tDSAN\tDSAN\tDSAN\tDSAN\tDSAN\tDSAN\tDSAN\tDSAN\tDSAN\tDSAN\tDSAN\tDSAN\tDSAN\tDSAN\tDSAN\tDSAN\tDSAN\tDSAN\tDSAN\tDSAN\tDSAN\tDSAN\tDSAN\tDSAN\tDSAN\tDSAN\tDSAN\tDSAN\tDSAN\tDSAN\tDSAN\tDSAN\tDSAN\tDSAN\tDSAN\tDSAN\tDSAN\tDSAN\tDSAN\tDSAN\tDSAN\tDSAN\tDSAN\tDSAN\tDSAN\tDSAN\tDSAN\tDSAN\tDSAN\tDSAN\tDSAN\tDSAN\tDSAN\tDSAN\tDSAN\tDSAN\tDSAN\tDSAN\tDSAN\tDSAN\tDSAN\tDSAN\tDSAN\tDSAN\tDSAN\tDSAN\tDSAN\tDSAN\tDSAN\tDSAN\tDSAN\tDSAN\tDSAN\tDSAN\tDSAN\tDSAN\tDSAN\tDSAN\tDSAN\tDSAN\tDSAN\tDSAN\tDSAN\tDSAN\tDSAN\tDSAN\tDSAN\tDSAN\tDSAN\tDSAN\tDSAN\tDSAN\tDSAN\tDSAN\tDSAN\tDSAN\tDSAN\tDSAN\tDSAN\tDSAN\tDSAN\tDSAN\tDSAN\tDSAN\tDSAN\tDSAN\tDSAN\tDSAN\tDSAN\tDSAN\tDSAN\tDSAN\tDSAN\tDSAN\tDSAN\tDSAN\tDSAN\tDSAN\tDSAN\tDSAN\tDSAN\tDSAN\tDSAN\tDSAN\tDSAN\tDSAN\tDSAN\tDSAN\tDSAN\tDSAN\tDSAN\tDSAN\tDSAN\tDSAN\tDSAN\tDSAN\tDSAN\tDSAN\tDSAN\tDSAN\tDSAN\tDSAN\tDSAN\tDSAN\tDSAN\tDSAN\tDSAN\tDSAN\tDSAN\t[3, 0.0, 0.991869918699187, 0.2961165048543689]\n",
            "[9, 0.027912621359223302, 0.8858321870701513, 0.7815533980582524]\n",
            "[10, 0.03155339805825243, 0.8567961165048543, 0.8567961165048543]\n",
            "[10, 0.04247572815533981, 0.8762135922330098, 0.8762135922330098]\n"
          ],
          "name": "stdout"
        }
      ]
    },
    {
      "cell_type": "code",
      "metadata": {
        "id": "dv_jGck7GuyH"
      },
      "source": [
        ""
      ],
      "execution_count": null,
      "outputs": []
    },
    {
      "cell_type": "code",
      "metadata": {
        "id": "yquG3h-AdddI"
      },
      "source": [
        ""
      ],
      "execution_count": null,
      "outputs": []
    }
  ]
}